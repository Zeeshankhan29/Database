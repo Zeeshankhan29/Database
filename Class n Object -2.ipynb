{
 "cells": [
  {
   "cell_type": "code",
   "execution_count": null,
   "id": "f178672e",
   "metadata": {},
   "outputs": [],
   "source": [
    "5/0"
   ]
  },
  {
   "cell_type": "code",
   "execution_count": 14,
   "id": "e4a73d85",
   "metadata": {},
   "outputs": [
    {
     "name": "stdout",
     "output_type": "stream",
     "text": [
      "0\n",
      "division by zero\n",
      "Except block is called \n"
     ]
    }
   ],
   "source": [
    "try:\n",
    "    a=int(input())\n",
    "    b=5\n",
    "    print('there is no error in the try block',b/a)\n",
    "except Exception as e:\n",
    "    print(e)\n",
    "    print('Except block is called ')\n",
    "except:\n",
    "    print('this is the block')"
   ]
  },
  {
   "cell_type": "code",
   "execution_count": 102,
   "id": "498e99ad",
   "metadata": {},
   "outputs": [],
   "source": [
    "class car:\n",
    "    def __init__(self,a,b,c):\n",
    "        self.a=a\n",
    "        self.b=b\n",
    "        self.c=c\n",
    "    def test(self):\n",
    "        print('this is the test method of car class')\n",
    "class dog:\n",
    "    def __init__(self,p,q,r):\n",
    "        self.p=p\n",
    "        self.q=q\n",
    "        self.r=r\n",
    "    def test(self):\n",
    "        print('this is the test2 method of dog class')\n",
    "        \n",
    "class elephant(car,dog):\n",
    "    def __init__(self,*args,**args1):\n",
    "        car.__init__(self,*args)\n",
    "        dog.__init__(self,**args1)"
   ]
  },
  {
   "cell_type": "code",
   "execution_count": 103,
   "id": "da87a8aa",
   "metadata": {},
   "outputs": [],
   "source": [
    "r=dog(4,5,6)"
   ]
  },
  {
   "cell_type": "code",
   "execution_count": 104,
   "id": "6c6e45da",
   "metadata": {},
   "outputs": [
    {
     "name": "stdout",
     "output_type": "stream",
     "text": [
      "this is the test2 method of dog class\n"
     ]
    }
   ],
   "source": [
    "r.test()"
   ]
  },
  {
   "cell_type": "code",
   "execution_count": 105,
   "id": "d1ccfb64",
   "metadata": {},
   "outputs": [
    {
     "ename": "TypeError",
     "evalue": "__init__() missing 3 required positional arguments: 'p', 'q', and 'r'",
     "output_type": "error",
     "traceback": [
      "\u001b[1;31m---------------------------------------------------------------------------\u001b[0m",
      "\u001b[1;31mTypeError\u001b[0m                                 Traceback (most recent call last)",
      "Input \u001b[1;32mIn [105]\u001b[0m, in \u001b[0;36m<cell line: 1>\u001b[1;34m()\u001b[0m\n\u001b[1;32m----> 1\u001b[0m u\u001b[38;5;241m=\u001b[39m\u001b[43melephant\u001b[49m\u001b[43m(\u001b[49m\u001b[38;5;241;43m1\u001b[39;49m\u001b[43m,\u001b[49m\u001b[38;5;241;43m2\u001b[39;49m\u001b[43m,\u001b[49m\u001b[38;5;241;43m3\u001b[39;49m\u001b[43m)\u001b[49m\n",
      "Input \u001b[1;32mIn [102]\u001b[0m, in \u001b[0;36melephant.__init__\u001b[1;34m(self, *args, **args1)\u001b[0m\n\u001b[0;32m     17\u001b[0m \u001b[38;5;28;01mdef\u001b[39;00m \u001b[38;5;21m__init__\u001b[39m(\u001b[38;5;28mself\u001b[39m,\u001b[38;5;241m*\u001b[39margs,\u001b[38;5;241m*\u001b[39m\u001b[38;5;241m*\u001b[39margs1):\n\u001b[0;32m     18\u001b[0m     car\u001b[38;5;241m.\u001b[39m\u001b[38;5;21m__init__\u001b[39m(\u001b[38;5;28mself\u001b[39m,\u001b[38;5;241m*\u001b[39margs)\n\u001b[1;32m---> 19\u001b[0m     dog\u001b[38;5;241m.\u001b[39m\u001b[38;5;21m__init__\u001b[39m(\u001b[38;5;28mself\u001b[39m,\u001b[38;5;241m*\u001b[39m\u001b[38;5;241m*\u001b[39margs1)\n",
      "\u001b[1;31mTypeError\u001b[0m: __init__() missing 3 required positional arguments: 'p', 'q', and 'r'"
     ]
    }
   ],
   "source": [
    "u=elephant(1,2,3)"
   ]
  },
  {
   "cell_type": "code",
   "execution_count": 100,
   "id": "262a3a06",
   "metadata": {},
   "outputs": [
    {
     "name": "stdout",
     "output_type": "stream",
     "text": [
      "this is the test method of car class\n"
     ]
    }
   ],
   "source": [
    "u.test()"
   ]
  },
  {
   "cell_type": "code",
   "execution_count": 101,
   "id": "dbb066e5",
   "metadata": {},
   "outputs": [
    {
     "data": {
      "text/plain": [
       "1"
      ]
     },
     "execution_count": 101,
     "metadata": {},
     "output_type": "execute_result"
    }
   ],
   "source": [
    "u.a"
   ]
  },
  {
   "cell_type": "code",
   "execution_count": 106,
   "id": "3d6cd328",
   "metadata": {},
   "outputs": [],
   "source": [
    "class check:\n",
    "    def __init__(self,a,b,c):\n",
    "        self.a=a\n",
    "        self._b=b\n",
    "        self.__c=c\n",
    "    def test(self):\n",
    "        print('this is the test class')"
   ]
  },
  {
   "cell_type": "code",
   "execution_count": 108,
   "id": "5546537d",
   "metadata": {},
   "outputs": [],
   "source": [
    "i=check(1,2,3)"
   ]
  },
  {
   "cell_type": "code",
   "execution_count": 109,
   "id": "9b0d932c",
   "metadata": {},
   "outputs": [
    {
     "data": {
      "text/plain": [
       "1"
      ]
     },
     "execution_count": 109,
     "metadata": {},
     "output_type": "execute_result"
    }
   ],
   "source": [
    "i.a"
   ]
  },
  {
   "cell_type": "code",
   "execution_count": 110,
   "id": "d8832bff",
   "metadata": {},
   "outputs": [
    {
     "data": {
      "text/plain": [
       "2"
      ]
     },
     "execution_count": 110,
     "metadata": {},
     "output_type": "execute_result"
    }
   ],
   "source": [
    "i._b"
   ]
  },
  {
   "cell_type": "code",
   "execution_count": 111,
   "id": "03fdf360",
   "metadata": {},
   "outputs": [
    {
     "data": {
      "text/plain": [
       "3"
      ]
     },
     "execution_count": 111,
     "metadata": {},
     "output_type": "execute_result"
    }
   ],
   "source": [
    "i._check__c"
   ]
  },
  {
   "cell_type": "code",
   "execution_count": 112,
   "id": "cc0389f5",
   "metadata": {},
   "outputs": [
    {
     "name": "stdout",
     "output_type": "stream",
     "text": [
      "this is the test class\n"
     ]
    }
   ],
   "source": [
    "i.test()"
   ]
  },
  {
   "cell_type": "code",
   "execution_count": 159,
   "id": "0c6da20e",
   "metadata": {},
   "outputs": [],
   "source": [
    "class bonuscalculator:\n",
    "    def __init__(self,emplyid,Rating):\n",
    "        self.emplyid=emplyid\n",
    "        self.Rating=Rating\n",
    "        self.__bonus_A = '70%'\n",
    "        self.__bonus_B = '60%'\n",
    "        self.__bonus_C = '50%'   \n",
    "    \n",
    "    def Emplybonus(self):\n",
    "        if self.Rating == 'A':\n",
    "            bonus=self.__bonus_A\n",
    "            return bonus\n",
    "        elif self.Rating == 'B':\n",
    "            bonus=self.__bonus_B\n",
    "            return bonus\n",
    "        elif self.Rating == 'C':\n",
    "            bonus=self.__bonus_C\n",
    "            return bonus"
   ]
  },
  {
   "cell_type": "code",
   "execution_count": 160,
   "id": "ead74cc1",
   "metadata": {},
   "outputs": [],
   "source": [
    "p=bonuscalculator(10392,'B')"
   ]
  },
  {
   "cell_type": "code",
   "execution_count": 161,
   "id": "81f0a477",
   "metadata": {},
   "outputs": [
    {
     "data": {
      "text/plain": [
       "'60%'"
      ]
     },
     "execution_count": 161,
     "metadata": {},
     "output_type": "execute_result"
    }
   ],
   "source": [
    "p.Emplybonus()"
   ]
  },
  {
   "cell_type": "code",
   "execution_count": 162,
   "id": "6accf703",
   "metadata": {},
   "outputs": [
    {
     "data": {
      "text/plain": [
       "10392"
      ]
     },
     "execution_count": 162,
     "metadata": {},
     "output_type": "execute_result"
    }
   ],
   "source": [
    "p.emplyid"
   ]
  },
  {
   "cell_type": "code",
   "execution_count": 163,
   "id": "c0e4aae7",
   "metadata": {},
   "outputs": [
    {
     "data": {
      "text/plain": [
       "'B'"
      ]
     },
     "execution_count": 163,
     "metadata": {},
     "output_type": "execute_result"
    }
   ],
   "source": [
    "p.Rating"
   ]
  },
  {
   "cell_type": "code",
   "execution_count": 164,
   "id": "d6df0e81",
   "metadata": {},
   "outputs": [
    {
     "data": {
      "text/plain": [
       "'60%'"
      ]
     },
     "execution_count": 164,
     "metadata": {},
     "output_type": "execute_result"
    }
   ],
   "source": [
    "p.Emplybonus()"
   ]
  },
  {
   "cell_type": "code",
   "execution_count": 167,
   "id": "a44f5ef1",
   "metadata": {},
   "outputs": [
    {
     "data": {
      "text/plain": [
       "'70%'"
      ]
     },
     "execution_count": 167,
     "metadata": {},
     "output_type": "execute_result"
    }
   ],
   "source": [
    "p._bonuscalculator__bonus_A"
   ]
  },
  {
   "cell_type": "code",
   "execution_count": 166,
   "id": "e3a6de61",
   "metadata": {},
   "outputs": [
    {
     "ename": "SyntaxError",
     "evalue": "invalid syntax (1418237445.py, line 1)",
     "output_type": "error",
     "traceback": [
      "\u001b[1;36m  Input \u001b[1;32mIn [166]\u001b[1;36m\u001b[0m\n\u001b[1;33m    p.\u001b[0m\n\u001b[1;37m      ^\u001b[0m\n\u001b[1;31mSyntaxError\u001b[0m\u001b[1;31m:\u001b[0m invalid syntax\n"
     ]
    }
   ],
   "source": [
    "p."
   ]
  },
  {
   "cell_type": "code",
   "execution_count": null,
   "id": "a6090ed0",
   "metadata": {},
   "outputs": [],
   "source": []
  },
  {
   "cell_type": "code",
   "execution_count": 4,
   "id": "6f3132e8",
   "metadata": {},
   "outputs": [],
   "source": [
    "l=[[1,2,3,4],\n",
    " (2,3,4,5,6),\n",
    " (3,4,5,6,7),\n",
    " {'k1':'sudh','k2':'ineuron','k3':'kumar',3:6,7:8},\n",
    " ['ineuron','data science']\n",
    "    \n",
    "    \n",
    "    \n",
    "    \n",
    "    \n",
    "]"
   ]
  },
  {
   "cell_type": "code",
   "execution_count": 5,
   "id": "c19e8335",
   "metadata": {},
   "outputs": [
    {
     "data": {
      "text/plain": [
       "[[1, 2, 3, 4],\n",
       " (2, 3, 4, 5, 6),\n",
       " (3, 4, 5, 6, 7),\n",
       " {'k1': 'sudh', 'k2': 'ineuron', 'k3': 'kumar', 3: 6, 7: 8},\n",
       " ['ineuron', 'data science']]"
      ]
     },
     "execution_count": 5,
     "metadata": {},
     "output_type": "execute_result"
    }
   ],
   "source": [
    "l"
   ]
  },
  {
   "cell_type": "code",
   "execution_count": 14,
   "id": "0969af3f",
   "metadata": {},
   "outputs": [
    {
     "name": "stdout",
     "output_type": "stream",
     "text": [
      "['ineuron', 'ineuron']\n"
     ]
    }
   ],
   "source": [
    "l1=[]\n",
    "for i in l:\n",
    "    if type(i)==dict:\n",
    "        for j in i.values():\n",
    "            if j=='ineuron':\n",
    "                l1.append(j)\n",
    "    elif type(i)==list:\n",
    "        for j in i:\n",
    "            if j=='ineuron':\n",
    "                l1.append(j)\n",
    "print(l1)"
   ]
  },
  {
   "cell_type": "code",
   "execution_count": 13,
   "id": "5fc4bfb5",
   "metadata": {},
   "outputs": [
    {
     "data": {
      "text/plain": [
       "['ineuron', 'ineuron']"
      ]
     },
     "execution_count": 13,
     "metadata": {},
     "output_type": "execute_result"
    }
   ],
   "source": [
    "l1"
   ]
  },
  {
   "cell_type": "code",
   "execution_count": 20,
   "id": "fd0bcea7",
   "metadata": {},
   "outputs": [],
   "source": [
    "import mysql.connector as connec"
   ]
  },
  {
   "cell_type": "code",
   "execution_count": 17,
   "id": "95f22de1",
   "metadata": {},
   "outputs": [
    {
     "name": "stdout",
     "output_type": "stream",
     "text": [
      "Requirement already satisfied: mysql-connector-python in c:\\users\\91986\\appdata\\roaming\\python\\python39\\site-packages (8.0.29)\n",
      "Requirement already satisfied: protobuf>=3.0.0 in c:\\users\\91986\\anaconda3\\lib\\site-packages (from mysql-connector-python) (3.19.1)\n",
      "Note: you may need to restart the kernel to use updated packages.\n"
     ]
    }
   ],
   "source": [
    "pip install mysql-connector-python"
   ]
  },
  {
   "cell_type": "code",
   "execution_count": 1,
   "id": "a3d2f99a",
   "metadata": {},
   "outputs": [],
   "source": [
    "s ='aaaabbccd'"
   ]
  },
  {
   "cell_type": "code",
   "execution_count": 2,
   "id": "ca3cdea7",
   "metadata": {},
   "outputs": [
    {
     "name": "stdout",
     "output_type": "stream",
     "text": [
      "(0, 'a')\n",
      "(1, 'a')\n",
      "(2, 'a')\n",
      "(3, 'a')\n",
      "(4, 'b')\n",
      "(5, 'b')\n",
      "(6, 'c')\n",
      "(7, 'c')\n",
      "(8, 'd')\n"
     ]
    }
   ],
   "source": [
    "for i in s:\n",
    "    "
   ]
  },
  {
   "cell_type": "code",
   "execution_count": null,
   "id": "30cca25c",
   "metadata": {},
   "outputs": [],
   "source": []
  },
  {
   "cell_type": "code",
   "execution_count": null,
   "id": "f4b5faaa",
   "metadata": {},
   "outputs": [],
   "source": []
  },
  {
   "cell_type": "code",
   "execution_count": null,
   "id": "17938db8",
   "metadata": {},
   "outputs": [],
   "source": []
  },
  {
   "cell_type": "code",
   "execution_count": null,
   "id": "10408c80",
   "metadata": {},
   "outputs": [],
   "source": []
  }
 ],
 "metadata": {
  "kernelspec": {
   "display_name": "Python 3 (ipykernel)",
   "language": "python",
   "name": "python3"
  },
  "language_info": {
   "codemirror_mode": {
    "name": "ipython",
    "version": 3
   },
   "file_extension": ".py",
   "mimetype": "text/x-python",
   "name": "python",
   "nbconvert_exporter": "python",
   "pygments_lexer": "ipython3",
   "version": "3.9.12"
  }
 },
 "nbformat": 4,
 "nbformat_minor": 5
}

{
 "cells": [
  {
   "cell_type": "code",
   "execution_count": 6,
   "id": "5f72195a",
   "metadata": {},
   "outputs": [
    {
     "data": {
      "text/plain": [
       "'C:\\\\Users\\\\91986'"
      ]
     },
     "execution_count": 6,
     "metadata": {},
     "output_type": "execute_result"
    }
   ],
   "source": [
    "pwd"
   ]
  },
  {
   "cell_type": "code",
   "execution_count": 7,
   "id": "af9a2adf",
   "metadata": {},
   "outputs": [],
   "source": [
    "import pandas as pd"
   ]
  },
  {
   "cell_type": "code",
   "execution_count": 8,
   "id": "ad7175c6",
   "metadata": {},
   "outputs": [],
   "source": [
    "import numpy as np"
   ]
  },
  {
   "cell_type": "code",
   "execution_count": 9,
   "id": "663f8fbc",
   "metadata": {},
   "outputs": [],
   "source": [
    "class xyz:\n",
    "    def __init__(self,a,b,c):\n",
    "        self.a=a\n",
    "        self.b=b\n",
    "        self.c=c\n",
    "    def test(self):\n",
    "        print('This is my test class')\n",
    "    def test1(self):\n",
    "        print('This is my test1 class')\n",
    "    def test2(self):\n",
    "        print('This is my test2 class')\n",
    "class xyz1:\n",
    "    \n",
    "    def __init__(self,p,q,r):\n",
    "        self.p=p\n",
    "        self.q=q\n",
    "        self.r=r\n",
    "    def test1(self):\n",
    "        print('This is the class xyz1')\n",
    "class child(xyz1,xyz):\n",
    "    def __init__(self,*args,**args1):\n",
    "        xyz.__init__(self,**args1)\n",
    "        xyz1.__init__(self,*args)\n"
   ]
  },
  {
   "cell_type": "code",
   "execution_count": 10,
   "id": "a3ede271",
   "metadata": {},
   "outputs": [
    {
     "ename": "TypeError",
     "evalue": "__init__() missing 3 required positional arguments: 'a', 'b', and 'c'",
     "output_type": "error",
     "traceback": [
      "\u001b[1;31m---------------------------------------------------------------------------\u001b[0m",
      "\u001b[1;31mTypeError\u001b[0m                                 Traceback (most recent call last)",
      "Input \u001b[1;32mIn [10]\u001b[0m, in \u001b[0;36m<cell line: 1>\u001b[1;34m()\u001b[0m\n\u001b[1;32m----> 1\u001b[0m i\u001b[38;5;241m=\u001b[39m\u001b[43mchild\u001b[49m\u001b[43m(\u001b[49m\u001b[38;5;241;43m1\u001b[39;49m\u001b[43m,\u001b[49m\u001b[38;5;241;43m2\u001b[39;49m\u001b[43m,\u001b[49m\u001b[38;5;241;43m3\u001b[39;49m\u001b[43m)\u001b[49m\n",
      "Input \u001b[1;32mIn [9]\u001b[0m, in \u001b[0;36mchild.__init__\u001b[1;34m(self, *args, **args1)\u001b[0m\n\u001b[0;32m     21\u001b[0m \u001b[38;5;28;01mdef\u001b[39;00m \u001b[38;5;21m__init__\u001b[39m(\u001b[38;5;28mself\u001b[39m,\u001b[38;5;241m*\u001b[39margs,\u001b[38;5;241m*\u001b[39m\u001b[38;5;241m*\u001b[39margs1):\n\u001b[1;32m---> 22\u001b[0m     xyz\u001b[38;5;241m.\u001b[39m\u001b[38;5;21m__init__\u001b[39m(\u001b[38;5;28mself\u001b[39m,\u001b[38;5;241m*\u001b[39m\u001b[38;5;241m*\u001b[39margs1)\n\u001b[0;32m     23\u001b[0m     xyz1\u001b[38;5;241m.\u001b[39m\u001b[38;5;21m__init__\u001b[39m(\u001b[38;5;28mself\u001b[39m,\u001b[38;5;241m*\u001b[39margs)\n",
      "\u001b[1;31mTypeError\u001b[0m: __init__() missing 3 required positional arguments: 'a', 'b', and 'c'"
     ]
    }
   ],
   "source": [
    "i=child(1,2,3)\n",
    "    "
   ]
  },
  {
   "cell_type": "code",
   "execution_count": 11,
   "id": "cc5229d2",
   "metadata": {},
   "outputs": [
    {
     "ename": "NameError",
     "evalue": "name 'i' is not defined",
     "output_type": "error",
     "traceback": [
      "\u001b[1;31m---------------------------------------------------------------------------\u001b[0m",
      "\u001b[1;31mNameError\u001b[0m                                 Traceback (most recent call last)",
      "Input \u001b[1;32mIn [11]\u001b[0m, in \u001b[0;36m<cell line: 1>\u001b[1;34m()\u001b[0m\n\u001b[1;32m----> 1\u001b[0m \u001b[43mi\u001b[49m\u001b[38;5;241m.\u001b[39mr\n",
      "\u001b[1;31mNameError\u001b[0m: name 'i' is not defined"
     ]
    }
   ],
   "source": [
    "i.r"
   ]
  },
  {
   "cell_type": "code",
   "execution_count": 12,
   "id": "b036ae9a",
   "metadata": {},
   "outputs": [
    {
     "ename": "NameError",
     "evalue": "name 'i' is not defined",
     "output_type": "error",
     "traceback": [
      "\u001b[1;31m---------------------------------------------------------------------------\u001b[0m",
      "\u001b[1;31mNameError\u001b[0m                                 Traceback (most recent call last)",
      "Input \u001b[1;32mIn [12]\u001b[0m, in \u001b[0;36m<cell line: 1>\u001b[1;34m()\u001b[0m\n\u001b[1;32m----> 1\u001b[0m \u001b[43mi\u001b[49m\u001b[38;5;241m.\u001b[39mtest()\n",
      "\u001b[1;31mNameError\u001b[0m: name 'i' is not defined"
     ]
    }
   ],
   "source": [
    "i.test()"
   ]
  },
  {
   "cell_type": "code",
   "execution_count": 13,
   "id": "bbc4975d",
   "metadata": {},
   "outputs": [],
   "source": [
    "class xyz:\n",
    "    def __init__(self,a,b,c):\n",
    "        self.a=a\n",
    "        self.b=b\n",
    "        self.c=c\n",
    "    def test(self):\n",
    "        print('This is my test class')\n",
    "class xyz1(xyz):\n",
    "\n",
    "    def test1(self):\n",
    "        print('This is the class xyz1')\n",
    "class xyz2(xyz1):\n",
    "    def test2(self):\n",
    "        print('This is the class xyz2')\n",
    "class xyz3(xyz2):\n",
    "    def test3(self):\n",
    "        print('This is method from  the class xyz3')\n"
   ]
  },
  {
   "cell_type": "code",
   "execution_count": 14,
   "id": "05e211fa",
   "metadata": {},
   "outputs": [],
   "source": [
    "o=xyz3(1,2,3)"
   ]
  },
  {
   "cell_type": "code",
   "execution_count": 15,
   "id": "a408d469",
   "metadata": {},
   "outputs": [
    {
     "data": {
      "text/plain": [
       "1"
      ]
     },
     "execution_count": 15,
     "metadata": {},
     "output_type": "execute_result"
    }
   ],
   "source": [
    "o.a"
   ]
  },
  {
   "cell_type": "code",
   "execution_count": 16,
   "id": "9806dcfd",
   "metadata": {},
   "outputs": [
    {
     "name": "stdout",
     "output_type": "stream",
     "text": [
      "This is the class xyz2\n"
     ]
    }
   ],
   "source": [
    "o.test2()"
   ]
  },
  {
   "cell_type": "code",
   "execution_count": 17,
   "id": "e6baec0d",
   "metadata": {},
   "outputs": [
    {
     "data": {
      "text/plain": [
       "1"
      ]
     },
     "execution_count": 17,
     "metadata": {},
     "output_type": "execute_result"
    }
   ],
   "source": [
    "o.a"
   ]
  },
  {
   "cell_type": "code",
   "execution_count": 18,
   "id": "4ce5dcc4",
   "metadata": {},
   "outputs": [],
   "source": [
    "class test:\n",
    "    syr='cl'\n",
    "    def __init__(self,a,b,c):\n",
    "        self.__a=a\n",
    "        self.b=b\n",
    "        self.c=c\n",
    "class test1(test):\n",
    "    pass\n"
   ]
  },
  {
   "cell_type": "code",
   "execution_count": 19,
   "id": "32e8027e",
   "metadata": {},
   "outputs": [],
   "source": [
    "a=test1(1,2,3)"
   ]
  },
  {
   "cell_type": "code",
   "execution_count": 20,
   "id": "e3840185",
   "metadata": {},
   "outputs": [
    {
     "data": {
      "text/plain": [
       "2"
      ]
     },
     "execution_count": 20,
     "metadata": {},
     "output_type": "execute_result"
    }
   ],
   "source": [
    "a.b"
   ]
  },
  {
   "cell_type": "code",
   "execution_count": 21,
   "id": "4f127ef8",
   "metadata": {},
   "outputs": [],
   "source": [
    "p=test(4,5,6)"
   ]
  },
  {
   "cell_type": "code",
   "execution_count": 22,
   "id": "fa915eb4",
   "metadata": {},
   "outputs": [
    {
     "data": {
      "text/plain": [
       "5"
      ]
     },
     "execution_count": 22,
     "metadata": {},
     "output_type": "execute_result"
    }
   ],
   "source": [
    "p.b"
   ]
  },
  {
   "cell_type": "code",
   "execution_count": 23,
   "id": "6092612b",
   "metadata": {},
   "outputs": [],
   "source": [
    "class test:\n",
    "    syr='cl'\n",
    "    def __init__(self):\n",
    "        self._a=4\n",
    "        self.b=6\n",
    "        self.c=9\n",
    "    \n",
    "        \n",
    "class test1(test):\n",
    "    def __init__(self):\n",
    "        test.__init__(self)\n",
    "        self.a=7\n",
    "#         self.a=7\n",
    "    \n"
   ]
  },
  {
   "cell_type": "code",
   "execution_count": 24,
   "id": "e3ced35b",
   "metadata": {},
   "outputs": [],
   "source": [
    "v=test1()"
   ]
  },
  {
   "cell_type": "code",
   "execution_count": 25,
   "id": "e6afcd23",
   "metadata": {},
   "outputs": [],
   "source": [
    "p=test()"
   ]
  },
  {
   "cell_type": "code",
   "execution_count": 26,
   "id": "d9bfe08f",
   "metadata": {},
   "outputs": [
    {
     "data": {
      "text/plain": [
       "4"
      ]
     },
     "execution_count": 26,
     "metadata": {},
     "output_type": "execute_result"
    }
   ],
   "source": [
    "v._a"
   ]
  },
  {
   "cell_type": "code",
   "execution_count": 27,
   "id": "6783fa82",
   "metadata": {},
   "outputs": [],
   "source": [
    "class test:\n",
    "    def __init__(self,a,b,c):\n",
    "        self._a=a\n",
    "        self.__b=b\n",
    "        self.c=c\n",
    "        \n",
    "class test1(test):\n",
    "    pass\n",
    "        "
   ]
  },
  {
   "cell_type": "code",
   "execution_count": 28,
   "id": "6d7edf8c",
   "metadata": {},
   "outputs": [],
   "source": [
    "v=test(5,6,7)"
   ]
  },
  {
   "cell_type": "code",
   "execution_count": 29,
   "id": "189d34aa",
   "metadata": {},
   "outputs": [
    {
     "data": {
      "text/plain": [
       "5"
      ]
     },
     "execution_count": 29,
     "metadata": {},
     "output_type": "execute_result"
    }
   ],
   "source": [
    "v._a"
   ]
  },
  {
   "cell_type": "code",
   "execution_count": 30,
   "id": "dda5ce83",
   "metadata": {},
   "outputs": [
    {
     "data": {
      "text/plain": [
       "6"
      ]
     },
     "execution_count": 30,
     "metadata": {},
     "output_type": "execute_result"
    }
   ],
   "source": [
    "v._test__b"
   ]
  },
  {
   "cell_type": "code",
   "execution_count": 31,
   "id": "2f50eb6d",
   "metadata": {},
   "outputs": [
    {
     "data": {
      "text/plain": [
       "7"
      ]
     },
     "execution_count": 31,
     "metadata": {},
     "output_type": "execute_result"
    }
   ],
   "source": [
    "\n",
    "\n",
    "\n",
    "\n",
    "\n",
    "\n",
    "\n",
    "\n",
    "\n",
    "\n",
    "\n",
    "\n",
    "\n",
    "v.c"
   ]
  },
  {
   "cell_type": "code",
   "execution_count": 32,
   "id": "c238da9e",
   "metadata": {},
   "outputs": [],
   "source": [
    "u=test1(5,6,7)"
   ]
  },
  {
   "cell_type": "code",
   "execution_count": 33,
   "id": "62e3e4db",
   "metadata": {},
   "outputs": [
    {
     "data": {
      "text/plain": [
       "6"
      ]
     },
     "execution_count": 33,
     "metadata": {},
     "output_type": "execute_result"
    }
   ],
   "source": [
    "u._test__b"
   ]
  },
  {
   "cell_type": "code",
   "execution_count": 34,
   "id": "1bd3afbd",
   "metadata": {},
   "outputs": [],
   "source": [
    "class bonuscalculator:\n",
    "    def __init__(self,empid,empidrating):\n",
    "        self.empid=empid\n",
    "        self.empidrating=empidrating\n",
    "        self.__bonousforratingA='70%'\n",
    "        self.__bonousforratingB='60%'\n",
    "        self.__bonousforratingC='40%'\n",
    "\n",
    "    def bonusclculator(self):\n",
    "        if self.empidrating=='A':\n",
    "            bonus = self.__bonousforratingA\n",
    "            return bonus\n",
    "        elif self.empidrating =='B':\n",
    "            bonus= self.__bonousforratingB\n",
    "            return bonus\n",
    "        else:\n",
    "            bonus =self.__bonousforratingC\n",
    "            return bonus"
   ]
  },
  {
   "cell_type": "code",
   "execution_count": 35,
   "id": "4a9bc352",
   "metadata": {},
   "outputs": [],
   "source": [
    "emp1=bonuscalculator(101,'A')\n",
    "emp2=bonuscalculator(11,'B')\n",
    "emp3=bonuscalculator(1251,'C')"
   ]
  },
  {
   "cell_type": "code",
   "execution_count": 36,
   "id": "81bbb419",
   "metadata": {},
   "outputs": [
    {
     "data": {
      "text/plain": [
       "'70%'"
      ]
     },
     "execution_count": 36,
     "metadata": {},
     "output_type": "execute_result"
    }
   ],
   "source": [
    "emp1.bonusclculator()"
   ]
  },
  {
   "cell_type": "code",
   "execution_count": 37,
   "id": "7b75b6b3",
   "metadata": {},
   "outputs": [
    {
     "data": {
      "text/plain": [
       "'60%'"
      ]
     },
     "execution_count": 37,
     "metadata": {},
     "output_type": "execute_result"
    }
   ],
   "source": [
    "emp2.bonusclculator()"
   ]
  },
  {
   "cell_type": "code",
   "execution_count": 38,
   "id": "a6ded201",
   "metadata": {},
   "outputs": [
    {
     "data": {
      "text/plain": [
       "'40%'"
      ]
     },
     "execution_count": 38,
     "metadata": {},
     "output_type": "execute_result"
    }
   ],
   "source": [
    "emp3.bonusclculator()"
   ]
  },
  {
   "cell_type": "code",
   "execution_count": 39,
   "id": "44519acd",
   "metadata": {},
   "outputs": [],
   "source": [
    "class test:\n",
    "    def __init__(self,a,b,c):\n",
    "        self._a=a\n",
    "        self.__b=b\n",
    "        self.c=c\n",
    "        \n",
    "        \n",
    "class test1(test):\n",
    "    pass\n",
    "        "
   ]
  },
  {
   "cell_type": "code",
   "execution_count": 40,
   "id": "58c3faaa",
   "metadata": {},
   "outputs": [],
   "source": [
    "u=test(1,2,3\n",
    "      )"
   ]
  },
  {
   "cell_type": "code",
   "execution_count": 41,
   "id": "a0d6d339",
   "metadata": {},
   "outputs": [],
   "source": [
    "u.c=555"
   ]
  },
  {
   "cell_type": "code",
   "execution_count": 42,
   "id": "319fe9a7",
   "metadata": {},
   "outputs": [
    {
     "data": {
      "text/plain": [
       "2"
      ]
     },
     "execution_count": 42,
     "metadata": {},
     "output_type": "execute_result"
    }
   ],
   "source": [
    "u._test__b"
   ]
  },
  {
   "cell_type": "code",
   "execution_count": 43,
   "id": "8278ded8",
   "metadata": {},
   "outputs": [],
   "source": [
    "v=test1(1,2,3)"
   ]
  },
  {
   "cell_type": "code",
   "execution_count": 44,
   "id": "fdc76514",
   "metadata": {},
   "outputs": [],
   "source": [
    "v.c=666"
   ]
  },
  {
   "cell_type": "code",
   "execution_count": 45,
   "id": "d9866c29",
   "metadata": {},
   "outputs": [
    {
     "data": {
      "text/plain": [
       "666"
      ]
     },
     "execution_count": 45,
     "metadata": {},
     "output_type": "execute_result"
    }
   ],
   "source": [
    "v.c"
   ]
  },
  {
   "cell_type": "code",
   "execution_count": 46,
   "id": "5e9ca5d6",
   "metadata": {},
   "outputs": [],
   "source": [
    "v._a=5555555"
   ]
  },
  {
   "cell_type": "code",
   "execution_count": 47,
   "id": "1afd6d8f",
   "metadata": {},
   "outputs": [
    {
     "data": {
      "text/plain": [
       "5555555"
      ]
     },
     "execution_count": 47,
     "metadata": {},
     "output_type": "execute_result"
    }
   ],
   "source": [
    "v._a"
   ]
  },
  {
   "cell_type": "code",
   "execution_count": 48,
   "id": "85951b43",
   "metadata": {},
   "outputs": [],
   "source": [
    "v._test__b=200000"
   ]
  },
  {
   "cell_type": "code",
   "execution_count": 49,
   "id": "4b8e741c",
   "metadata": {},
   "outputs": [
    {
     "data": {
      "text/plain": [
       "200000"
      ]
     },
     "execution_count": 49,
     "metadata": {},
     "output_type": "execute_result"
    }
   ],
   "source": [
    "v._test__b\n"
   ]
  },
  {
   "cell_type": "code",
   "execution_count": 50,
   "id": "584a209c",
   "metadata": {},
   "outputs": [],
   "source": [
    "v._a=88888888"
   ]
  },
  {
   "cell_type": "code",
   "execution_count": 51,
   "id": "053b5ecd",
   "metadata": {},
   "outputs": [
    {
     "data": {
      "text/plain": [
       "88888888"
      ]
     },
     "execution_count": 51,
     "metadata": {},
     "output_type": "execute_result"
    }
   ],
   "source": [
    "v._a"
   ]
  },
  {
   "cell_type": "code",
   "execution_count": 52,
   "id": "4c60ddb1",
   "metadata": {},
   "outputs": [],
   "source": [
    "import array as arr"
   ]
  },
  {
   "cell_type": "code",
   "execution_count": 53,
   "id": "dda5d10a",
   "metadata": {},
   "outputs": [],
   "source": [
    "a=arr.array('q',[1,23,4,6])"
   ]
  },
  {
   "cell_type": "code",
   "execution_count": 54,
   "id": "c1a0f8ab",
   "metadata": {},
   "outputs": [
    {
     "data": {
      "text/plain": [
       "array('q', [1, 23, 4, 6])"
      ]
     },
     "execution_count": 54,
     "metadata": {},
     "output_type": "execute_result"
    }
   ],
   "source": [
    "a"
   ]
  },
  {
   "cell_type": "code",
   "execution_count": 55,
   "id": "ee7321cf",
   "metadata": {},
   "outputs": [
    {
     "name": "stdout",
     "output_type": "stream",
     "text": [
      "1\n",
      "23\n",
      "4\n",
      "6\n"
     ]
    }
   ],
   "source": [
    "for i in a:\n",
    "    print(i)"
   ]
  },
  {
   "cell_type": "code",
   "execution_count": 56,
   "id": "a08ef845",
   "metadata": {},
   "outputs": [],
   "source": [
    "import numpy as np"
   ]
  },
  {
   "cell_type": "code",
   "execution_count": 57,
   "id": "9cb77579",
   "metadata": {},
   "outputs": [
    {
     "data": {
      "text/plain": [
       "numpy.ndarray"
      ]
     },
     "execution_count": 57,
     "metadata": {},
     "output_type": "execute_result"
    }
   ],
   "source": [
    "type((np.array([1,2,3,4,5])))"
   ]
  },
  {
   "cell_type": "code",
   "execution_count": 58,
   "id": "f9d526da",
   "metadata": {},
   "outputs": [
    {
     "data": {
      "text/plain": [
       "numpy.ndarray"
      ]
     },
     "execution_count": 58,
     "metadata": {},
     "output_type": "execute_result"
    }
   ],
   "source": [
    "type(np.asarray([1,2,3]))"
   ]
  },
  {
   "cell_type": "code",
   "execution_count": 59,
   "id": "dbd5ff70",
   "metadata": {},
   "outputs": [
    {
     "data": {
      "text/plain": [
       "numpy.ndarray"
      ]
     },
     "execution_count": 59,
     "metadata": {},
     "output_type": "execute_result"
    }
   ],
   "source": [
    "type(np.asanyarray([1,23,4,5]))"
   ]
  },
  {
   "cell_type": "code",
   "execution_count": 60,
   "id": "5a223738",
   "metadata": {},
   "outputs": [],
   "source": [
    "a={1,23,4,56}"
   ]
  },
  {
   "cell_type": "code",
   "execution_count": 61,
   "id": "f39cb109",
   "metadata": {},
   "outputs": [],
   "source": [
    "b='ald'"
   ]
  },
  {
   "cell_type": "code",
   "execution_count": 62,
   "id": "fc0a9ae5",
   "metadata": {},
   "outputs": [],
   "source": [
    "c=[1,23,4]"
   ]
  },
  {
   "cell_type": "code",
   "execution_count": 63,
   "id": "3863f651",
   "metadata": {},
   "outputs": [],
   "source": [
    "d={'key':544}"
   ]
  },
  {
   "cell_type": "code",
   "execution_count": 64,
   "id": "79b8b8ae",
   "metadata": {},
   "outputs": [],
   "source": [
    "d['key']='ddd'\n"
   ]
  },
  {
   "cell_type": "code",
   "execution_count": null,
   "id": "d30eeb48",
   "metadata": {},
   "outputs": [],
   "source": [
    "d"
   ]
  },
  {
   "cell_type": "code",
   "execution_count": null,
   "id": "49995ce7",
   "metadata": {},
   "outputs": [],
   "source": [
    "def test(a,b):\n",
    "    return a+b"
   ]
  },
  {
   "cell_type": "code",
   "execution_count": null,
   "id": "ab113bd9",
   "metadata": {},
   "outputs": [],
   "source": [
    "test('{1,2,3}','{4,5,6}')"
   ]
  },
  {
   "cell_type": "code",
   "execution_count": null,
   "id": "b8b31b8c",
   "metadata": {},
   "outputs": [],
   "source": [
    "class insta:\n",
    "    def share_stories(self):\n",
    "        print('Please print my instagram stories')\n",
    "class facebook:\n",
    "    def share_stories(self):\n",
    "        print('Please print my facebook stories')"
   ]
  },
  {
   "cell_type": "code",
   "execution_count": null,
   "id": "4893d5d4",
   "metadata": {},
   "outputs": [],
   "source": [
    "i=insta()"
   ]
  },
  {
   "cell_type": "code",
   "execution_count": null,
   "id": "3f554331",
   "metadata": {},
   "outputs": [],
   "source": [
    "def sharestories(app):\n",
    "    app.share_stories()"
   ]
  },
  {
   "cell_type": "code",
   "execution_count": null,
   "id": "1af6000f",
   "metadata": {},
   "outputs": [],
   "source": [
    "f=facebook()"
   ]
  },
  {
   "cell_type": "code",
   "execution_count": null,
   "id": "1bed0c2f",
   "metadata": {},
   "outputs": [],
   "source": [
    "sharestories(i)"
   ]
  },
  {
   "cell_type": "code",
   "execution_count": null,
   "id": "b6560a5c",
   "metadata": {},
   "outputs": [],
   "source": [
    "i.share_stories()"
   ]
  },
  {
   "cell_type": "code",
   "execution_count": null,
   "id": "2ce95641",
   "metadata": {},
   "outputs": [],
   "source": [
    "i.share_stories()"
   ]
  },
  {
   "cell_type": "code",
   "execution_count": null,
   "id": "eeb78a85",
   "metadata": {},
   "outputs": [],
   "source": [
    "sharestories(f)"
   ]
  },
  {
   "cell_type": "code",
   "execution_count": null,
   "id": "9b7a5acf",
   "metadata": {},
   "outputs": [],
   "source": [
    "class social_medi:\n",
    "    def share_stories(self):\n",
    "        print('Share a stories')\n",
    "    def upload_pic(self):\n",
    "        print('this will update my picture')\n",
    "class facebook(social_medi):\n",
    "    def share_stories(self):\n",
    "        print('this will share stories of facebook')\n",
    "class insta(social_medi):\n",
    "    def share_stories(self):\n",
    "        print('This will share stories of insta')"
   ]
  },
  {
   "cell_type": "code",
   "execution_count": null,
   "id": "35b80992",
   "metadata": {},
   "outputs": [],
   "source": [
    "i=facebook()"
   ]
  },
  {
   "cell_type": "code",
   "execution_count": null,
   "id": "1f98436e",
   "metadata": {},
   "outputs": [],
   "source": [
    "i.share_stories()"
   ]
  },
  {
   "cell_type": "code",
   "execution_count": null,
   "id": "543574fb",
   "metadata": {},
   "outputs": [],
   "source": [
    "i.upload_pic()"
   ]
  },
  {
   "cell_type": "code",
   "execution_count": null,
   "id": "1120b764",
   "metadata": {},
   "outputs": [],
   "source": []
  },
  {
   "cell_type": "code",
   "execution_count": null,
   "id": "9194d625",
   "metadata": {},
   "outputs": [],
   "source": [
    "class test(Exception):\n",
    "    def __init__(self,msg,myvalue):\n",
    "        self.msg=msg\n",
    "        self.myvalue=myvalue"
   ]
  },
  {
   "cell_type": "code",
   "execution_count": null,
   "id": "d1a2ce80",
   "metadata": {},
   "outputs": [],
   "source": [
    "try:\n",
    "    raise(test('This is my own exception class',5))\n",
    "except test as t:\n",
    "    print(t)"
   ]
  },
  {
   "cell_type": "code",
   "execution_count": null,
   "id": "1eb5767c",
   "metadata": {},
   "outputs": [],
   "source": [
    "try:\n",
    "    raise(test('This is my own Exception class',5554)) \n",
    "    5/0\n",
    "except test as t:\n",
    "    print(t)"
   ]
  },
  {
   "cell_type": "code",
   "execution_count": null,
   "id": "95aefbdd",
   "metadata": {},
   "outputs": [],
   "source": [
    "i=Exception()"
   ]
  },
  {
   "cell_type": "code",
   "execution_count": null,
   "id": "46b91744",
   "metadata": {},
   "outputs": [],
   "source": [
    "type(\"\"\"dlfkjd\"\"\")"
   ]
  },
  {
   "cell_type": "code",
   "execution_count": null,
   "id": "bd53dae1",
   "metadata": {},
   "outputs": [],
   "source": [
    "type('''dfdf''')"
   ]
  },
  {
   "cell_type": "code",
   "execution_count": null,
   "id": "c21ef036",
   "metadata": {},
   "outputs": [],
   "source": [
    "class course:\n",
    "    company=\"INeuron\"\n",
    "    def __init__(self,a,b,c):\n",
    "        self.a=a\n",
    "        self.b=b\n",
    "        self.c=c\n",
    "    @staticmethod\n",
    "    def test():\n",
    "        print('This is the class variable')\n",
    "    def test1(self):\n",
    "        print('This is the object variable')"
   ]
  },
  {
   "cell_type": "code",
   "execution_count": null,
   "id": "b475c537",
   "metadata": {},
   "outputs": [],
   "source": [
    "c=course(1,2,3)"
   ]
  },
  {
   "cell_type": "code",
   "execution_count": null,
   "id": "d96be759",
   "metadata": {},
   "outputs": [],
   "source": [
    "c.test()"
   ]
  },
  {
   "cell_type": "code",
   "execution_count": null,
   "id": "b1ef1739",
   "metadata": {},
   "outputs": [],
   "source": [
    "c.company='add'"
   ]
  },
  {
   "cell_type": "code",
   "execution_count": null,
   "id": "50d83c26",
   "metadata": {},
   "outputs": [],
   "source": [
    "c.company"
   ]
  },
  {
   "cell_type": "code",
   "execution_count": null,
   "id": "69c6e758",
   "metadata": {},
   "outputs": [],
   "source": [
    "d=course(1,2,3)"
   ]
  },
  {
   "cell_type": "code",
   "execution_count": null,
   "id": "21e3012f",
   "metadata": {},
   "outputs": [],
   "source": [
    "d.company"
   ]
  },
  {
   "cell_type": "code",
   "execution_count": null,
   "id": "e38b9bf0",
   "metadata": {},
   "outputs": [],
   "source": [
    "course.company='INeuron'"
   ]
  },
  {
   "cell_type": "code",
   "execution_count": null,
   "id": "db5b1299",
   "metadata": {},
   "outputs": [],
   "source": [
    "course.test()"
   ]
  },
  {
   "cell_type": "code",
   "execution_count": null,
   "id": "56d62a30",
   "metadata": {},
   "outputs": [],
   "source": [
    "course.test1()"
   ]
  },
  {
   "cell_type": "code",
   "execution_count": null,
   "id": "6e72efc4",
   "metadata": {},
   "outputs": [],
   "source": [
    "class accountdetails:\n",
    "    account_no='556245846'\n",
    "    def __init__(self,amount):\n",
    "        self.amount=amount\n",
    "    def show_balance(self,deduction):\n",
    "        self.amount=self.amount-deduction\n",
    "        return 'The remaining balance',self.amount,'Account no',self.account_no"
   ]
  },
  {
   "cell_type": "code",
   "execution_count": null,
   "id": "3d187272",
   "metadata": {},
   "outputs": [],
   "source": [
    "p=accountdetails(5000)"
   ]
  },
  {
   "cell_type": "code",
   "execution_count": null,
   "id": "9c06c9df",
   "metadata": {},
   "outputs": [],
   "source": [
    "p.show_balance(654)"
   ]
  },
  {
   "cell_type": "code",
   "execution_count": null,
   "id": "a4f887de",
   "metadata": {},
   "outputs": [],
   "source": [
    "5000-654"
   ]
  },
  {
   "cell_type": "code",
   "execution_count": null,
   "id": "1618b785",
   "metadata": {},
   "outputs": [],
   "source": [
    "class abc:\n",
    "    pass"
   ]
  },
  {
   "cell_type": "code",
   "execution_count": null,
   "id": "0338019f",
   "metadata": {},
   "outputs": [],
   "source": [
    "class data_project:\n",
    "    \n",
    "    def read_file(self):\n",
    "        pass\n",
    "    def validate(self):\n",
    "        pass\n",
    "    def validate_datatype(self):\n",
    "        pass\n",
    "    def validate_db_connection(self):\n",
    "        pass\n",
    "    def create_connection_db(self):\n",
    "        pass\n",
    "    def insert_data(self):\n",
    "        pass\n",
    "    def delete_data(self):\n",
    "        pass\n",
    "    def update_data(self):\n",
    "        pass\n",
    "    def perform_static(self):\n",
    "        pass\n",
    "    def eda(self):\n",
    "        pass\n",
    "    \n",
    "    \n",
    "    "
   ]
  },
  {
   "cell_type": "code",
   "execution_count": null,
   "id": "f3928a9c",
   "metadata": {},
   "outputs": [],
   "source": [
    "d=data_project()"
   ]
  },
  {
   "cell_type": "code",
   "execution_count": null,
   "id": "29981b09",
   "metadata": {},
   "outputs": [],
   "source": [
    "class db(data_project):\n",
    "    pass"
   ]
  },
  {
   "cell_type": "code",
   "execution_count": null,
   "id": "1ef3ccc9",
   "metadata": {},
   "outputs": [],
   "source": [
    "p=db()"
   ]
  },
  {
   "cell_type": "code",
   "execution_count": null,
   "id": "7db3ea2b",
   "metadata": {},
   "outputs": [],
   "source": [
    "class test:\n",
    "    def func(self):\n",
    "        print('this is the func')\n",
    "    \n",
    "    def __str__(self):\n",
    "        return str('This is the function called at the time of object print')\n",
    "    "
   ]
  },
  {
   "cell_type": "code",
   "execution_count": null,
   "id": "15467b4c",
   "metadata": {},
   "outputs": [],
   "source": [
    "p=test()\n",
    "\n"
   ]
  },
  {
   "cell_type": "code",
   "execution_count": null,
   "id": "cf121928",
   "metadata": {},
   "outputs": [],
   "source": [
    "print(p)"
   ]
  },
  {
   "cell_type": "code",
   "execution_count": null,
   "id": "88909c3f",
   "metadata": {},
   "outputs": [],
   "source": [
    "p"
   ]
  },
  {
   "cell_type": "code",
   "execution_count": null,
   "id": "220cec83",
   "metadata": {},
   "outputs": [],
   "source": [
    "class test:\n",
    "    def __init__(self,a,b,c):\n",
    "        self.a=a\n",
    "        self.b=b\n",
    "        self.c=c\n",
    "    def __str__(self):\n",
    "        return('The message is overwritten')"
   ]
  },
  {
   "cell_type": "code",
   "execution_count": null,
   "id": "fc825c9a",
   "metadata": {},
   "outputs": [],
   "source": [
    "t=test(1,23,5)"
   ]
  },
  {
   "cell_type": "code",
   "execution_count": null,
   "id": "92d71e70",
   "metadata": {},
   "outputs": [],
   "source": [
    "t"
   ]
  },
  {
   "cell_type": "code",
   "execution_count": null,
   "id": "e6d71904",
   "metadata": {},
   "outputs": [],
   "source": [
    "print(t)"
   ]
  },
  {
   "cell_type": "code",
   "execution_count": null,
   "id": "21d873cc",
   "metadata": {},
   "outputs": [],
   "source": [
    "def xyx(*args):\n",
    "    return args"
   ]
  },
  {
   "cell_type": "code",
   "execution_count": null,
   "id": "9d5e82b7",
   "metadata": {},
   "outputs": [],
   "source": [
    "xyx(45,66,75,)"
   ]
  },
  {
   "cell_type": "code",
   "execution_count": null,
   "id": "0460bf1a",
   "metadata": {},
   "outputs": [],
   "source": [
    "xyx('dfd','dfdf')"
   ]
  },
  {
   "cell_type": "code",
   "execution_count": null,
   "id": "fa4e874f",
   "metadata": {},
   "outputs": [],
   "source": [
    "class test:\n",
    "    def __init__(self,a,b,c):\n",
    "        self.a=a\n",
    "        self.b=b\n",
    "        self.c=c\n",
    "    def __str__(self):\n",
    "        return('The message is overwritten')\n",
    "    def class_fun(self):\n",
    "        print('fasd')\n",
    "    \n",
    "class test1(test):\n",
    "    def class_fun(self):\n",
    "        print('This is overriding')"
   ]
  },
  {
   "cell_type": "code",
   "execution_count": null,
   "id": "f0656b6d",
   "metadata": {},
   "outputs": [],
   "source": [
    "l=test1(1,23,2)"
   ]
  },
  {
   "cell_type": "code",
   "execution_count": null,
   "id": "8d6c9fdb",
   "metadata": {},
   "outputs": [],
   "source": [
    "l.class_fun()"
   ]
  },
  {
   "cell_type": "code",
   "execution_count": null,
   "id": "5a1a884f",
   "metadata": {},
   "outputs": [],
   "source": [
    "p=test(1,2,3)"
   ]
  },
  {
   "cell_type": "code",
   "execution_count": null,
   "id": "762ce24f",
   "metadata": {},
   "outputs": [],
   "source": [
    "p.class_fun()"
   ]
  },
  {
   "cell_type": "code",
   "execution_count": null,
   "id": "47f51c26",
   "metadata": {},
   "outputs": [],
   "source": [
    "l=[1,2,3,4,5,6]"
   ]
  },
  {
   "cell_type": "code",
   "execution_count": null,
   "id": "4fcfbbf3",
   "metadata": {},
   "outputs": [],
   "source": [
    "def even(a):\n",
    "    l1=[]\n",
    "    for i in a:\n",
    "        if i%2==0:\n",
    "            l1.append(i)\n",
    "    return l1"
   ]
  },
  {
   "cell_type": "code",
   "execution_count": null,
   "id": "6d97b682",
   "metadata": {},
   "outputs": [],
   "source": [
    "list(map(even,l))"
   ]
  },
  {
   "cell_type": "code",
   "execution_count": null,
   "id": "c52f21bc",
   "metadata": {},
   "outputs": [],
   "source": [
    "even([1,2,3,4,5,6,7,8,9,0])"
   ]
  },
  {
   "cell_type": "code",
   "execution_count": null,
   "id": "e9733d4b",
   "metadata": {},
   "outputs": [],
   "source": [
    "def even1(a):\n",
    "    l1=[]\n",
    "    if a%2==0:\n",
    "        l1.append(a)\n",
    "    return l1"
   ]
  },
  {
   "cell_type": "code",
   "execution_count": null,
   "id": "ef39888e",
   "metadata": {},
   "outputs": [],
   "source": [
    "tuple(map(even1,l))"
   ]
  },
  {
   "cell_type": "code",
   "execution_count": null,
   "id": "d5801fc5",
   "metadata": {},
   "outputs": [],
   "source": [
    "tuple(filter(even1,l))"
   ]
  },
  {
   "cell_type": "code",
   "execution_count": null,
   "id": "bf0b2685",
   "metadata": {},
   "outputs": [],
   "source": [
    "l=[1,2,3,45,5]"
   ]
  },
  {
   "cell_type": "code",
   "execution_count": null,
   "id": "f585b475",
   "metadata": {},
   "outputs": [],
   "source": [
    "list(enumerate(l))"
   ]
  },
  {
   "cell_type": "code",
   "execution_count": null,
   "id": "e2276db3",
   "metadata": {},
   "outputs": [],
   "source": [
    "tuple(enumerate(l))"
   ]
  },
  {
   "cell_type": "code",
   "execution_count": null,
   "id": "7b8bb78c",
   "metadata": {},
   "outputs": [],
   "source": [
    "l1=[]\n",
    "for i in range(len(l)):\n",
    "    l1.append([i,l[i]])\n",
    "print(l1)"
   ]
  },
  {
   "cell_type": "code",
   "execution_count": null,
   "id": "dec0ba57",
   "metadata": {},
   "outputs": [],
   "source": [
    "l=(1,23,4)"
   ]
  },
  {
   "cell_type": "code",
   "execution_count": null,
   "id": "542aba67",
   "metadata": {},
   "outputs": [],
   "source": [
    "pwd"
   ]
  },
  {
   "cell_type": "code",
   "execution_count": null,
   "id": "bab59483",
   "metadata": {},
   "outputs": [],
   "source": [
    "#logging and debuggging\n"
   ]
  },
  {
   "cell_type": "code",
   "execution_count": null,
   "id": "a27d68f0",
   "metadata": {},
   "outputs": [],
   "source": [
    "import logging as lg"
   ]
  },
  {
   "cell_type": "code",
   "execution_count": null,
   "id": "5485c424",
   "metadata": {},
   "outputs": [],
   "source": [
    "lg."
   ]
  },
  {
   "cell_type": "code",
   "execution_count": null,
   "id": "a41e2705",
   "metadata": {},
   "outputs": [],
   "source": [
    "class test:\n",
    "    def __init__(self,emplyid,Avgratings):\n",
    "        self.emplyid=emplyid\n",
    "        self.Avgratings=Avgratings\n",
    "        self._ratingsA='70%'\n",
    "        self._ratingsB='60%'\n",
    "        self._ratingsC='50%'\n",
    "    def bonuscalculator(self):\n",
    "        if self.Avgratings=='A':\n",
    "            return self._ratingsA\n",
    "        elif self.Avgratings=='B':\n",
    "            return self._ratingsB\n",
    "        else:\n",
    "            return self._ratingsC\n",
    "class test1(test):\n",
    "    pass\n",
    "        "
   ]
  },
  {
   "cell_type": "code",
   "execution_count": null,
   "id": "33d2afb2",
   "metadata": {},
   "outputs": [],
   "source": [
    "emp1=test(101,'C')"
   ]
  },
  {
   "cell_type": "code",
   "execution_count": null,
   "id": "63b70c89",
   "metadata": {},
   "outputs": [],
   "source": [
    "emp1.bonuscalculator()"
   ]
  },
  {
   "cell_type": "code",
   "execution_count": null,
   "id": "25ae9ba2",
   "metadata": {},
   "outputs": [],
   "source": [
    "emp1._test__ratingsA='60%'\n",
    "    \n",
    "            \n",
    "        "
   ]
  },
  {
   "cell_type": "code",
   "execution_count": null,
   "id": "2d266c79",
   "metadata": {},
   "outputs": [],
   "source": [
    "emp1._test__ratingsA"
   ]
  },
  {
   "cell_type": "code",
   "execution_count": null,
   "id": "471337e2",
   "metadata": {},
   "outputs": [],
   "source": [
    "bonuscalculator()"
   ]
  },
  {
   "cell_type": "code",
   "execution_count": null,
   "id": "059fb07d",
   "metadata": {},
   "outputs": [],
   "source": [
    "emp=test1(101,'c')"
   ]
  },
  {
   "cell_type": "code",
   "execution_count": null,
   "id": "9b915800",
   "metadata": {},
   "outputs": [],
   "source": [
    "emp._test__ratingsA"
   ]
  },
  {
   "cell_type": "code",
   "execution_count": null,
   "id": "60f47a15",
   "metadata": {},
   "outputs": [],
   "source": [
    "class xyz:\n",
    "    def __init__(self,a,b,c):\n",
    "        self.a=a\n",
    "        self.b=b\n",
    "        self.c=c\n",
    "    def test(self):\n",
    "        print('This is the test class')\n",
    "        \n",
    "\n",
    "    "
   ]
  },
  {
   "cell_type": "code",
   "execution_count": null,
   "id": "14e6cdff",
   "metadata": {},
   "outputs": [],
   "source": [
    "o=xyz(1,2,3)"
   ]
  },
  {
   "cell_type": "code",
   "execution_count": null,
   "id": "08130bd4",
   "metadata": {},
   "outputs": [],
   "source": [
    "o.test()"
   ]
  },
  {
   "cell_type": "code",
   "execution_count": null,
   "id": "31dd5e81",
   "metadata": {},
   "outputs": [],
   "source": [
    "p=xyz1(1,2,a=8,b=4,c=5)"
   ]
  },
  {
   "cell_type": "code",
   "execution_count": null,
   "id": "f9f7f52d",
   "metadata": {},
   "outputs": [],
   "source": [
    "p.test()"
   ]
  },
  {
   "cell_type": "code",
   "execution_count": null,
   "id": "6e80e74b",
   "metadata": {},
   "outputs": [],
   "source": [
    "p."
   ]
  },
  {
   "cell_type": "code",
   "execution_count": null,
   "id": "a0eb17d4",
   "metadata": {},
   "outputs": [],
   "source": [
    "class xyz:\n",
    "    company='Ineueron'\n",
    "    def __init__(self,a,b,c):\n",
    "        self.a=a\n",
    "        self.b=b\n",
    "        self.c=c\n",
    "    def test(self):\n",
    "        print('shsddlfh')"
   ]
  },
  {
   "cell_type": "code",
   "execution_count": null,
   "id": "18363a87",
   "metadata": {},
   "outputs": [],
   "source": [
    "p=xyz(1,2,3)"
   ]
  },
  {
   "cell_type": "code",
   "execution_count": null,
   "id": "63c4f022",
   "metadata": {},
   "outputs": [],
   "source": [
    "class xyz:\n",
    "    def __init__(self,a,b,c):\n",
    "        self.a=a\n",
    "        self.b=b\n",
    "        self.c=c\n",
    "    def test():\n",
    "        print('this is the test class')\n",
    "    def test1(self):\n",
    "        print('this is the test1 class')\n",
    "    def test2(self):\n",
    "        print('this is the test2 class')"
   ]
  },
  {
   "cell_type": "code",
   "execution_count": null,
   "id": "03318e6a",
   "metadata": {},
   "outputs": [],
   "source": [
    "p=xyz(1,23,5)"
   ]
  },
  {
   "cell_type": "code",
   "execution_count": null,
   "id": "003eaef0",
   "metadata": {},
   "outputs": [],
   "source": [
    "xyz.test()"
   ]
  },
  {
   "cell_type": "code",
   "execution_count": null,
   "id": "226b164c",
   "metadata": {},
   "outputs": [],
   "source": []
  },
  {
   "cell_type": "code",
   "execution_count": null,
   "id": "cba742db",
   "metadata": {},
   "outputs": [],
   "source": []
  },
  {
   "cell_type": "code",
   "execution_count": null,
   "id": "2f2c8303",
   "metadata": {},
   "outputs": [],
   "source": [
    "p=xyz(1,2,3)"
   ]
  },
  {
   "cell_type": "code",
   "execution_count": null,
   "id": "c656c46c",
   "metadata": {},
   "outputs": [],
   "source": [
    "p.test()"
   ]
  },
  {
   "cell_type": "code",
   "execution_count": null,
   "id": "50a4dc29",
   "metadata": {},
   "outputs": [],
   "source": [
    "class xyz1(xyz):\n",
    "    pass"
   ]
  },
  {
   "cell_type": "code",
   "execution_count": null,
   "id": "8ca59515",
   "metadata": {},
   "outputs": [],
   "source": [
    "o=xyz1(4,56,8)"
   ]
  },
  {
   "cell_type": "code",
   "execution_count": null,
   "id": "ce84a154",
   "metadata": {},
   "outputs": [],
   "source": [
    "o.a"
   ]
  },
  {
   "cell_type": "code",
   "execution_count": null,
   "id": "dca91d16",
   "metadata": {},
   "outputs": [],
   "source": [
    "xyz.test(55)"
   ]
  },
  {
   "cell_type": "code",
   "execution_count": null,
   "id": "c9f8642e",
   "metadata": {},
   "outputs": [],
   "source": [
    "class xyz:\n",
    "    def __init__(self,a,b,c):\n",
    "        self.a=a\n",
    "        self.b=b\n",
    "        self.c=c\n",
    "    def test(self):\n",
    "        print('this is the method of xyz class')\n",
    "    def test1(self):\n",
    "        print('this is the method')\n",
    "\n",
    "class xyz1:\n",
    "    def __init__(self,p,q,r):\n",
    "        self.p=p\n",
    "        self.q=q\n",
    "        self.r=r\n",
    "    def test(self):\n",
    "        print('this is the method of xyz1 class')\n",
    "        \n",
    "class child(xyz1,xyz):\n",
    "    def __init__(self,*args,**kwargs):\n",
    "        xyz.__init__(self,*args)\n",
    "        xyz1.__init__(self,**kwargs)\n",
    "    "
   ]
  },
  {
   "cell_type": "code",
   "execution_count": null,
   "id": "d8616066",
   "metadata": {},
   "outputs": [],
   "source": [
    "o=child(1,2,3,p=4,q=5,r=6)"
   ]
  },
  {
   "cell_type": "code",
   "execution_count": null,
   "id": "b044fb68",
   "metadata": {},
   "outputs": [],
   "source": [
    "class xyz:\n",
    "    def __init__(self,a,b,c):\n",
    "        self.a=a\n",
    "        self.b=b\n",
    "        self.c=c\n",
    "    def test(self):\n",
    "        print('this is the method of test class')\n",
    "\n",
    "        \n",
    "        \n",
    "class xyz1(xyz):\n",
    "    def test1(self):\n",
    "        print('this is the method test1 of xyz1')\n",
    "        \n",
    "class xyz2(xyz1):\n",
    "    def test2(self):\n",
    "        print('This is the method test2 of xyz2')\n",
    "\n",
    "class xyz3(xyz2):\n",
    "    def test(self):\n",
    "        print('this is the method test3 of xyz3')"
   ]
  },
  {
   "cell_type": "code",
   "execution_count": null,
   "id": "7e760449",
   "metadata": {},
   "outputs": [],
   "source": [
    "a=xyz3(1,2,3)"
   ]
  },
  {
   "cell_type": "code",
   "execution_count": null,
   "id": "3b6770fc",
   "metadata": {},
   "outputs": [],
   "source": [
    "a.test()"
   ]
  },
  {
   "cell_type": "code",
   "execution_count": null,
   "id": "1550b40d",
   "metadata": {},
   "outputs": [],
   "source": []
  },
  {
   "cell_type": "code",
   "execution_count": null,
   "id": "2b025af3",
   "metadata": {},
   "outputs": [],
   "source": []
  },
  {
   "cell_type": "code",
   "execution_count": null,
   "id": "7b2c4a1b",
   "metadata": {},
   "outputs": [],
   "source": []
  },
  {
   "cell_type": "code",
   "execution_count": null,
   "id": "54b5c20b",
   "metadata": {},
   "outputs": [],
   "source": []
  },
  {
   "cell_type": "code",
   "execution_count": null,
   "id": "7cb7618b",
   "metadata": {},
   "outputs": [],
   "source": []
  },
  {
   "cell_type": "code",
   "execution_count": null,
   "id": "c9cfb9d4",
   "metadata": {},
   "outputs": [],
   "source": [
    "xyz.test(5)"
   ]
  },
  {
   "cell_type": "code",
   "execution_count": null,
   "id": "bd242af1",
   "metadata": {},
   "outputs": [],
   "source": [
    "xyz.mro"
   ]
  },
  {
   "cell_type": "code",
   "execution_count": null,
   "id": "9fa0a580",
   "metadata": {},
   "outputs": [],
   "source": [
    "class xyz:\n",
    "    def __init__(self,a,b,c):\n",
    "        self.a=a\n",
    "        self._b=b\n",
    "        self.__c=c\n",
    "    def test(self):\n",
    "        print('this is the test class')"
   ]
  },
  {
   "cell_type": "code",
   "execution_count": null,
   "id": "fa9f4c56",
   "metadata": {},
   "outputs": [],
   "source": [
    "o=xyz(1,2,3)"
   ]
  },
  {
   "cell_type": "code",
   "execution_count": null,
   "id": "f7553023",
   "metadata": {},
   "outputs": [],
   "source": [
    "o.test()"
   ]
  },
  {
   "cell_type": "code",
   "execution_count": null,
   "id": "fe5ec107",
   "metadata": {},
   "outputs": [],
   "source": [
    "xyz.test(55)"
   ]
  },
  {
   "cell_type": "code",
   "execution_count": null,
   "id": "a0c0ae68",
   "metadata": {},
   "outputs": [],
   "source": [
    "o=xyz(5,6,4)"
   ]
  },
  {
   "cell_type": "code",
   "execution_count": null,
   "id": "17340814",
   "metadata": {},
   "outputs": [],
   "source": [
    "def bonus"
   ]
  },
  {
   "cell_type": "code",
   "execution_count": null,
   "id": "e74e4aff",
   "metadata": {},
   "outputs": [],
   "source": [
    "n = 5\n",
    "for i in range(0,5):\n",
    "    for j in range(n-i):\n",
    "        print(\" \",end = \"\")\n",
    "    for j in range(i):\n",
    "        print(\"*\",end= \"\")\n",
    "    for j in range(i+1):\n",
    "        print(\"*\",end = \"\")\n",
    "    for j in range(n-i-1):\n",
    "        print(\" \",end=\"\")\n",
    "    for j in range(n-i-1):\n",
    "        print(\" \",end = \"\")\n",
    "    for j in range(i):\n",
    "        print(\"*\",end= \"\")\n",
    "    for j in range(i+1):\n",
    "        print(\"*\",end = \"\")\n",
    "    print()\n"
   ]
  },
  {
   "cell_type": "code",
   "execution_count": null,
   "id": "5c2707cc",
   "metadata": {},
   "outputs": [],
   "source": [
    "class Emp:\n",
    "    def __init__(self,empid,Avgrating):\n",
    "        self.empid=empid\n",
    "        self.Avgrating=Avgrating\n",
    "        self.__ratingA=\"70%\"\n",
    "        self.__ratingB='60%'\n",
    "        self.__ratingC='50%'\n",
    "    \n",
    "    def bonuscal(self):\n",
    "        if self.Avgrating=='A':\n",
    "            bonus=self.__ratingA\n",
    "            return bonus\n",
    "        \n",
    "        elif self.Avgrating=='B':\n",
    "            bonus=self.__ratingB\n",
    "            return bonus\n",
    "        \n",
    "        else:\n",
    "            bonus=self.__ratingC\n",
    "            return bonus\n",
    "        \n",
    "        \n",
    "        "
   ]
  },
  {
   "cell_type": "code",
   "execution_count": null,
   "id": "e7bca1e3",
   "metadata": {},
   "outputs": [],
   "source": [
    "x=Emp(101,'A')\n",
    "y=Emp(201,'B')\n",
    "z=Emp(23,'C')"
   ]
  },
  {
   "cell_type": "code",
   "execution_count": null,
   "id": "84fc0aa1",
   "metadata": {},
   "outputs": [],
   "source": [
    "x.bonuscal()"
   ]
  },
  {
   "cell_type": "code",
   "execution_count": null,
   "id": "8dd5dafc",
   "metadata": {},
   "outputs": [],
   "source": [
    "y.bonuscal()"
   ]
  },
  {
   "cell_type": "code",
   "execution_count": null,
   "id": "b734be7b",
   "metadata": {},
   "outputs": [],
   "source": [
    "z.bonuscal()"
   ]
  },
  {
   "cell_type": "code",
   "execution_count": null,
   "id": "fb6cba28",
   "metadata": {},
   "outputs": [],
   "source": [
    "Emp.bonuscal(55)"
   ]
  },
  {
   "cell_type": "code",
   "execution_count": 3,
   "id": "cc343422",
   "metadata": {},
   "outputs": [],
   "source": [
    "class xyz:\n",
    "    def __init__(self,a,b,c):\n",
    "        self.a=a\n",
    "        self._b=b\n",
    "        self.__c=c\n",
    "        \n",
    "    @staticmethod\n",
    "    def test():\n",
    "        print('p')\n",
    "        \n",
    "class xyz1(xyz):\n",
    "    pass"
   ]
  },
  {
   "cell_type": "code",
   "execution_count": 4,
   "id": "4e7775da",
   "metadata": {},
   "outputs": [],
   "source": [
    "a=xyz1(1,2,3)"
   ]
  },
  {
   "cell_type": "code",
   "execution_count": 5,
   "id": "5966ac4e",
   "metadata": {},
   "outputs": [
    {
     "name": "stdout",
     "output_type": "stream",
     "text": [
      "p\n"
     ]
    }
   ],
   "source": [
    "a.test()"
   ]
  },
  {
   "cell_type": "code",
   "execution_count": 6,
   "id": "43be0db5",
   "metadata": {},
   "outputs": [
    {
     "name": "stdout",
     "output_type": "stream",
     "text": [
      "p\n"
     ]
    }
   ],
   "source": [
    "xyz.test()"
   ]
  },
  {
   "cell_type": "code",
   "execution_count": 7,
   "id": "90ad4c05",
   "metadata": {},
   "outputs": [
    {
     "data": {
      "text/plain": [
       "2"
      ]
     },
     "execution_count": 7,
     "metadata": {},
     "output_type": "execute_result"
    }
   ],
   "source": [
    "a._b"
   ]
  },
  {
   "cell_type": "code",
   "execution_count": 10,
   "id": "d930f942",
   "metadata": {},
   "outputs": [
    {
     "data": {
      "text/plain": [
       "3"
      ]
     },
     "execution_count": 10,
     "metadata": {},
     "output_type": "execute_result"
    }
   ],
   "source": [
    "a._xyz__c"
   ]
  },
  {
   "cell_type": "code",
   "execution_count": 14,
   "id": "9c2cf9cc",
   "metadata": {},
   "outputs": [],
   "source": [
    "class xyz:\n",
    "    class xxy(xyz):\n",
    "        def __init__(self,a,b,c):\n",
    "            self.a=a\n",
    "            self.b=b\n",
    "            self.__c=c\n",
    "        def test(self):\n",
    "            print('this is the method test of class xyz')\n",
    "        \n",
    "        \n",
    "        def test1(self):\n",
    "            print('this is the method test1 of xxy class')"
   ]
  },
  {
   "cell_type": "code",
   "execution_count": 15,
   "id": "0d8fff33",
   "metadata": {},
   "outputs": [
    {
     "ename": "NameError",
     "evalue": "name 'xxy' is not defined",
     "output_type": "error",
     "traceback": [
      "\u001b[1;31m---------------------------------------------------------------------------\u001b[0m",
      "\u001b[1;31mNameError\u001b[0m                                 Traceback (most recent call last)",
      "Input \u001b[1;32mIn [15]\u001b[0m, in \u001b[0;36m<cell line: 1>\u001b[1;34m()\u001b[0m\n\u001b[1;32m----> 1\u001b[0m u\u001b[38;5;241m=\u001b[39m\u001b[43mxxy\u001b[49m(\u001b[38;5;241m4\u001b[39m,\u001b[38;5;241m5\u001b[39m,\u001b[38;5;241m6\u001b[39m)\n",
      "\u001b[1;31mNameError\u001b[0m: name 'xxy' is not defined"
     ]
    }
   ],
   "source": [
    "u=xxy(4,5,6)"
   ]
  },
  {
   "cell_type": "code",
   "execution_count": null,
   "id": "d0034878",
   "metadata": {},
   "outputs": [],
   "source": [
    "class xyz:\n",
    "    def __init__(self,a,b,c):\n",
    "        self.a=a\n",
    "        self.b=b\n",
    "        self.c=c\n",
    "    def test(self):\n",
    "        print(self.a)\n",
    "class xyz1(xyz):\n",
    "    def __init__(self,p,q,r):\n",
    "        self.p=p\n",
    "        self.q=q\n",
    "        self.r=r\n",
    "    def test1(self):\n",
    "        print('djfh')\n",
    "\n",
    "class xyz2(xyz1):\n",
    "    def test2(self):\n",
    "        print('dffff')\n",
    "        \n",
    "        \n",
    "class child(xyz,xyz1):\n",
    "    pass"
   ]
  },
  {
   "cell_type": "code",
   "execution_count": null,
   "id": "95f3146c",
   "metadata": {},
   "outputs": [],
   "source": [
    "p=xyz2(1,2,3)\n"
   ]
  },
  {
   "cell_type": "code",
   "execution_count": null,
   "id": "9d43ead5",
   "metadata": {},
   "outputs": [],
   "source": [
    "p.p"
   ]
  },
  {
   "cell_type": "code",
   "execution_count": null,
   "id": "ea48fd51",
   "metadata": {},
   "outputs": [],
   "source": [
    "class xyz:\n",
    "    def __init__(self,a,b,c):\n",
    "        self.a=a\n",
    "        self.b=b\n",
    "        self.c=c\n",
    "    def test(self):\n",
    "        print(self.a)\n",
    "class xyz1:\n",
    "    def __init__(self,p,q,r):\n",
    "        self.p=p\n",
    "        self.q=q\n",
    "        self.r=r\n",
    "    def test1(self):\n",
    "        print('djfh')        \n",
    "        \n",
    "class child(xyz1,xyz):\n",
    "    def __init__(self,*args,**kwargs):\n",
    "        xyz.__init__(self,*args)\n",
    "        xyz1.__init__(self,**kwargs)\n",
    "        \n",
    "        "
   ]
  },
  {
   "cell_type": "code",
   "execution_count": null,
   "id": "6b7ca1ce",
   "metadata": {},
   "outputs": [],
   "source": [
    "p=child(1,2,3)"
   ]
  },
  {
   "cell_type": "code",
   "execution_count": null,
   "id": "9114e6ad",
   "metadata": {},
   "outputs": [],
   "source": [
    "class xyz:\n",
    "    def test(self):\n",
    "        print('this is the class xyz')\n",
    "        \n",
    "class xyz1(xyz):\n",
    "    def test(self):\n",
    "        print('this is the class xyz1')"
   ]
  },
  {
   "cell_type": "code",
   "execution_count": null,
   "id": "1e51d235",
   "metadata": {},
   "outputs": [],
   "source": [
    "p=xyz1()"
   ]
  },
  {
   "cell_type": "code",
   "execution_count": null,
   "id": "613965ed",
   "metadata": {},
   "outputs": [],
   "source": [
    "p.test()"
   ]
  },
  {
   "cell_type": "code",
   "execution_count": null,
   "id": "60b940b9",
   "metadata": {},
   "outputs": [],
   "source": [
    "def abc(a,b):\n",
    "    return a+b"
   ]
  },
  {
   "cell_type": "code",
   "execution_count": null,
   "id": "88a23d49",
   "metadata": {},
   "outputs": [],
   "source": [
    "abc(7,5)"
   ]
  },
  {
   "cell_type": "code",
   "execution_count": null,
   "id": "232239c8",
   "metadata": {},
   "outputs": [],
   "source": [
    "abc('kdk','dd')"
   ]
  },
  {
   "cell_type": "code",
   "execution_count": null,
   "id": "423b6cd5",
   "metadata": {},
   "outputs": [],
   "source": [
    "class deduc:\n",
    "    account_no='894545'\n",
    "    def __init__(self,amount):\n",
    "        self.amount=amount\n",
    "        \n",
    "    def deduction(self,deduction):\n",
    "        final_amount=self.amount-deduction\n",
    "        return final_amount,deduc.account_no"
   ]
  },
  {
   "cell_type": "code",
   "execution_count": null,
   "id": "f895304a",
   "metadata": {},
   "outputs": [],
   "source": [
    "p=deduc(5000)"
   ]
  },
  {
   "cell_type": "code",
   "execution_count": null,
   "id": "c9323820",
   "metadata": {},
   "outputs": [],
   "source": [
    "p.deduction(500)"
   ]
  },
  {
   "cell_type": "code",
   "execution_count": 271,
   "id": "a7994d18",
   "metadata": {},
   "outputs": [],
   "source": [
    "class xyz:\n",
    "    def __init__(self,a,b,c):\n",
    "        self.a=a\n",
    "        self.b=b\n",
    "        self.c=c\n",
    "    def test(self):\n",
    "        return 'this is the test method of class xyz'\n",
    "class xyz1(xyz):\n",
    "    def __init__(self,p,q,r,a,b,c):\n",
    "        xyz.__init__(self,a,b,c)\n",
    "#         super(xyz1,self).__init__(a,b,c)\n",
    "        self.p=p\n",
    "        self.q=q\n",
    "        self.r=r\n",
    "        \n",
    "    def test2(self):\n",
    "        return 'this is my test1 method of class xyz1'"
   ]
  },
  {
   "cell_type": "code",
   "execution_count": 273,
   "id": "d18132e0",
   "metadata": {},
   "outputs": [],
   "source": [
    "a=xyz1(125,23,50,500,9000,5000)"
   ]
  },
  {
   "cell_type": "code",
   "execution_count": null,
   "id": "6ae13e8a",
   "metadata": {},
   "outputs": [],
   "source": []
  },
  {
   "cell_type": "code",
   "execution_count": 309,
   "id": "81677471",
   "metadata": {},
   "outputs": [],
   "source": [
    "class xyz:\n",
    "    def __init__(self,a,b,c):\n",
    "        self.a=a\n",
    "        self.b=b\n",
    "        self.c=c\n",
    "    def test(self):\n",
    "        return 'this is the test method of class xyz'\n",
    "class xyz1(xyz):\n",
    "    def __init__(self,p,q,r,*args):\n",
    "        super(xyz1,self).__init__(*args)\n",
    "        self.p=p\n",
    "        self.q=q\n",
    "        self.r=r\n",
    "        \n",
    "    def test2(self):\n",
    "        return 'this is my test1 method of class xyz1'\n",
    "class xyz2(xyz1):\n",
    "    def __init__(self,l,m,n,*args):\n",
    "        super(xyz2,self).__init__(*args)\n",
    "        self.m=m\n",
    "        self.n=n\n",
    "        self.l=l\n",
    "        \n",
    "    def test3(self):\n",
    "        return 'this is the test2 method of class xyz2'"
   ]
  },
  {
   "cell_type": "code",
   "execution_count": 316,
   "id": "07b5a51a",
   "metadata": {},
   "outputs": [],
   "source": [
    "o=xyz2(1,23,5,4,5,6,70,80,90)"
   ]
  },
  {
   "cell_type": "code",
   "execution_count": 320,
   "id": "449689fc",
   "metadata": {},
   "outputs": [
    {
     "data": {
      "text/plain": [
       "[int, object]"
      ]
     },
     "execution_count": 320,
     "metadata": {},
     "output_type": "execute_result"
    }
   ],
   "source": [
    "int.mro()"
   ]
  },
  {
   "cell_type": "code",
   "execution_count": 363,
   "id": "fe2b16b7",
   "metadata": {},
   "outputs": [],
   "source": [
    "class obj(tuple):\n",
    "    def __init__(self,*args):\n",
    "        super(obj,self).__init__(*args)\n",
    "#         self.k=k"
   ]
  },
  {
   "cell_type": "code",
   "execution_count": 364,
   "id": "b5e0251e",
   "metadata": {},
   "outputs": [
    {
     "ename": "TypeError",
     "evalue": "'int' object is not iterable",
     "output_type": "error",
     "traceback": [
      "\u001b[1;31m---------------------------------------------------------------------------\u001b[0m",
      "\u001b[1;31mTypeError\u001b[0m                                 Traceback (most recent call last)",
      "Input \u001b[1;32mIn [364]\u001b[0m, in \u001b[0;36m<cell line: 1>\u001b[1;34m()\u001b[0m\n\u001b[1;32m----> 1\u001b[0m o\u001b[38;5;241m=\u001b[39m\u001b[43mobj\u001b[49m\u001b[43m(\u001b[49m\u001b[38;5;241;43m5\u001b[39;49m\u001b[43m)\u001b[49m\n",
      "\u001b[1;31mTypeError\u001b[0m: 'int' object is not iterable"
     ]
    }
   ],
   "source": [
    "o=obj(5)"
   ]
  },
  {
   "cell_type": "code",
   "execution_count": 368,
   "id": "77b510d2",
   "metadata": {},
   "outputs": [],
   "source": [
    "class ppp(xyz):\n",
    "    def __init__(self,um,*args):\n",
    "        \n",
    "        super(ppp,self).__init__(*args)\n",
    "        self.um=um"
   ]
  },
  {
   "cell_type": "code",
   "execution_count": 372,
   "id": "3ed7ef04",
   "metadata": {},
   "outputs": [],
   "source": [
    "a=ppp(25,25,60,50)"
   ]
  },
  {
   "cell_type": "code",
   "execution_count": 442,
   "id": "c21dc210",
   "metadata": {},
   "outputs": [],
   "source": [
    "class test:\n",
    "    def __init__(self,a,b,c):\n",
    "        self.a=a\n",
    "        self.b=b\n",
    "        self.c=c\n",
    "    def check(self):\n",
    "        return 'this is the check method from test class'\n",
    "    \n",
    "    def check1(self):\n",
    "        return self.a\n",
    "    \n",
    "    def check2(self):\n",
    "        return self.a"
   ]
  },
  {
   "cell_type": "code",
   "execution_count": 443,
   "id": "2cf0fed0",
   "metadata": {},
   "outputs": [],
   "source": [
    "ob=test(2000,200,100)"
   ]
  },
  {
   "cell_type": "code",
   "execution_count": 444,
   "id": "4ec0d00c",
   "metadata": {},
   "outputs": [
    {
     "data": {
      "text/plain": [
       "2000"
      ]
     },
     "execution_count": 444,
     "metadata": {},
     "output_type": "execute_result"
    }
   ],
   "source": [
    "ob.check1()"
   ]
  }
 ],
 "metadata": {
  "kernelspec": {
   "display_name": "Python 3 (ipykernel)",
   "language": "python",
   "name": "python3"
  },
  "language_info": {
   "codemirror_mode": {
    "name": "ipython",
    "version": 3
   },
   "file_extension": ".py",
   "mimetype": "text/x-python",
   "name": "python",
   "nbconvert_exporter": "python",
   "pygments_lexer": "ipython3",
   "version": "3.9.12"
  }
 },
 "nbformat": 4,
 "nbformat_minor": 5
}

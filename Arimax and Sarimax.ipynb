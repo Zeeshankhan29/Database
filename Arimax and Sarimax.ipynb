{
 "cells": [
  {
   "cell_type": "code",
   "execution_count": 65,
   "id": "7f11b8f8",
   "metadata": {},
   "outputs": [],
   "source": [
    "import pandas as pd\n",
    "import matplotlib.pyplot as plt\n",
    "import seaborn as sn\n",
    "import datetime\n",
    "%matplotlib inline"
   ]
  },
  {
   "cell_type": "code",
   "execution_count": 66,
   "id": "9d1a3526",
   "metadata": {},
   "outputs": [],
   "source": [
    "df = pd.read_csv('https://raw.githubusercontent.com/krishnaik06/Live-Time-Series/main/airline_passengers.csv')"
   ]
  },
  {
   "cell_type": "code",
   "execution_count": 67,
   "id": "f14a287c",
   "metadata": {},
   "outputs": [
    {
     "data": {
      "text/plain": [
       "Month                       object\n",
       "Thousands of Passengers    float64\n",
       "dtype: object"
      ]
     },
     "execution_count": 67,
     "metadata": {},
     "output_type": "execute_result"
    }
   ],
   "source": [
    "df.dtypes"
   ]
  },
  {
   "cell_type": "code",
   "execution_count": 68,
   "id": "746b55e6",
   "metadata": {},
   "outputs": [
    {
     "data": {
      "text/html": [
       "<div>\n",
       "<style scoped>\n",
       "    .dataframe tbody tr th:only-of-type {\n",
       "        vertical-align: middle;\n",
       "    }\n",
       "\n",
       "    .dataframe tbody tr th {\n",
       "        vertical-align: top;\n",
       "    }\n",
       "\n",
       "    .dataframe thead th {\n",
       "        text-align: right;\n",
       "    }\n",
       "</style>\n",
       "<table border=\"1\" class=\"dataframe\">\n",
       "  <thead>\n",
       "    <tr style=\"text-align: right;\">\n",
       "      <th></th>\n",
       "      <th>Month</th>\n",
       "      <th>Thousands of Passengers</th>\n",
       "    </tr>\n",
       "  </thead>\n",
       "  <tbody>\n",
       "    <tr>\n",
       "      <th>0</th>\n",
       "      <td>1949-01</td>\n",
       "      <td>112.0</td>\n",
       "    </tr>\n",
       "    <tr>\n",
       "      <th>1</th>\n",
       "      <td>1949-02</td>\n",
       "      <td>118.0</td>\n",
       "    </tr>\n",
       "    <tr>\n",
       "      <th>2</th>\n",
       "      <td>1949-03</td>\n",
       "      <td>132.0</td>\n",
       "    </tr>\n",
       "    <tr>\n",
       "      <th>3</th>\n",
       "      <td>1949-04</td>\n",
       "      <td>129.0</td>\n",
       "    </tr>\n",
       "    <tr>\n",
       "      <th>4</th>\n",
       "      <td>1949-05</td>\n",
       "      <td>121.0</td>\n",
       "    </tr>\n",
       "    <tr>\n",
       "      <th>...</th>\n",
       "      <td>...</td>\n",
       "      <td>...</td>\n",
       "    </tr>\n",
       "    <tr>\n",
       "      <th>140</th>\n",
       "      <td>1960-09</td>\n",
       "      <td>508.0</td>\n",
       "    </tr>\n",
       "    <tr>\n",
       "      <th>141</th>\n",
       "      <td>1960-10</td>\n",
       "      <td>461.0</td>\n",
       "    </tr>\n",
       "    <tr>\n",
       "      <th>142</th>\n",
       "      <td>1960-11</td>\n",
       "      <td>390.0</td>\n",
       "    </tr>\n",
       "    <tr>\n",
       "      <th>143</th>\n",
       "      <td>1960-12</td>\n",
       "      <td>432.0</td>\n",
       "    </tr>\n",
       "    <tr>\n",
       "      <th>144</th>\n",
       "      <td>International airline passengers: monthly tota...</td>\n",
       "      <td>NaN</td>\n",
       "    </tr>\n",
       "  </tbody>\n",
       "</table>\n",
       "<p>145 rows × 2 columns</p>\n",
       "</div>"
      ],
      "text/plain": [
       "                                                 Month  \\\n",
       "0                                              1949-01   \n",
       "1                                              1949-02   \n",
       "2                                              1949-03   \n",
       "3                                              1949-04   \n",
       "4                                              1949-05   \n",
       "..                                                 ...   \n",
       "140                                            1960-09   \n",
       "141                                            1960-10   \n",
       "142                                            1960-11   \n",
       "143                                            1960-12   \n",
       "144  International airline passengers: monthly tota...   \n",
       "\n",
       "     Thousands of Passengers  \n",
       "0                      112.0  \n",
       "1                      118.0  \n",
       "2                      132.0  \n",
       "3                      129.0  \n",
       "4                      121.0  \n",
       "..                       ...  \n",
       "140                    508.0  \n",
       "141                    461.0  \n",
       "142                    390.0  \n",
       "143                    432.0  \n",
       "144                      NaN  \n",
       "\n",
       "[145 rows x 2 columns]"
      ]
     },
     "execution_count": 68,
     "metadata": {},
     "output_type": "execute_result"
    }
   ],
   "source": [
    "df"
   ]
  },
  {
   "cell_type": "code",
   "execution_count": 69,
   "id": "647f6175",
   "metadata": {},
   "outputs": [],
   "source": [
    "df.dropna(inplace=True)"
   ]
  },
  {
   "cell_type": "code",
   "execution_count": 70,
   "id": "d597b449",
   "metadata": {},
   "outputs": [
    {
     "data": {
      "text/html": [
       "<div>\n",
       "<style scoped>\n",
       "    .dataframe tbody tr th:only-of-type {\n",
       "        vertical-align: middle;\n",
       "    }\n",
       "\n",
       "    .dataframe tbody tr th {\n",
       "        vertical-align: top;\n",
       "    }\n",
       "\n",
       "    .dataframe thead th {\n",
       "        text-align: right;\n",
       "    }\n",
       "</style>\n",
       "<table border=\"1\" class=\"dataframe\">\n",
       "  <thead>\n",
       "    <tr style=\"text-align: right;\">\n",
       "      <th></th>\n",
       "      <th>Month</th>\n",
       "      <th>Thousands of Passengers</th>\n",
       "    </tr>\n",
       "  </thead>\n",
       "  <tbody>\n",
       "    <tr>\n",
       "      <th>0</th>\n",
       "      <td>1949-01</td>\n",
       "      <td>112.0</td>\n",
       "    </tr>\n",
       "    <tr>\n",
       "      <th>1</th>\n",
       "      <td>1949-02</td>\n",
       "      <td>118.0</td>\n",
       "    </tr>\n",
       "    <tr>\n",
       "      <th>2</th>\n",
       "      <td>1949-03</td>\n",
       "      <td>132.0</td>\n",
       "    </tr>\n",
       "    <tr>\n",
       "      <th>3</th>\n",
       "      <td>1949-04</td>\n",
       "      <td>129.0</td>\n",
       "    </tr>\n",
       "    <tr>\n",
       "      <th>4</th>\n",
       "      <td>1949-05</td>\n",
       "      <td>121.0</td>\n",
       "    </tr>\n",
       "    <tr>\n",
       "      <th>...</th>\n",
       "      <td>...</td>\n",
       "      <td>...</td>\n",
       "    </tr>\n",
       "    <tr>\n",
       "      <th>139</th>\n",
       "      <td>1960-08</td>\n",
       "      <td>606.0</td>\n",
       "    </tr>\n",
       "    <tr>\n",
       "      <th>140</th>\n",
       "      <td>1960-09</td>\n",
       "      <td>508.0</td>\n",
       "    </tr>\n",
       "    <tr>\n",
       "      <th>141</th>\n",
       "      <td>1960-10</td>\n",
       "      <td>461.0</td>\n",
       "    </tr>\n",
       "    <tr>\n",
       "      <th>142</th>\n",
       "      <td>1960-11</td>\n",
       "      <td>390.0</td>\n",
       "    </tr>\n",
       "    <tr>\n",
       "      <th>143</th>\n",
       "      <td>1960-12</td>\n",
       "      <td>432.0</td>\n",
       "    </tr>\n",
       "  </tbody>\n",
       "</table>\n",
       "<p>144 rows × 2 columns</p>\n",
       "</div>"
      ],
      "text/plain": [
       "       Month  Thousands of Passengers\n",
       "0    1949-01                    112.0\n",
       "1    1949-02                    118.0\n",
       "2    1949-03                    132.0\n",
       "3    1949-04                    129.0\n",
       "4    1949-05                    121.0\n",
       "..       ...                      ...\n",
       "139  1960-08                    606.0\n",
       "140  1960-09                    508.0\n",
       "141  1960-10                    461.0\n",
       "142  1960-11                    390.0\n",
       "143  1960-12                    432.0\n",
       "\n",
       "[144 rows x 2 columns]"
      ]
     },
     "execution_count": 70,
     "metadata": {},
     "output_type": "execute_result"
    }
   ],
   "source": [
    "df"
   ]
  },
  {
   "cell_type": "code",
   "execution_count": 71,
   "id": "83cc437d",
   "metadata": {},
   "outputs": [
    {
     "data": {
      "text/plain": [
       "Month                      0\n",
       "Thousands of Passengers    0\n",
       "dtype: int64"
      ]
     },
     "execution_count": 71,
     "metadata": {},
     "output_type": "execute_result"
    }
   ],
   "source": [
    "df.isnull().sum()"
   ]
  },
  {
   "cell_type": "code",
   "execution_count": 72,
   "id": "7b6df78a",
   "metadata": {},
   "outputs": [
    {
     "name": "stdout",
     "output_type": "stream",
     "text": [
      "<class 'pandas.core.frame.DataFrame'>\n",
      "Int64Index: 144 entries, 0 to 143\n",
      "Data columns (total 2 columns):\n",
      " #   Column                   Non-Null Count  Dtype  \n",
      "---  ------                   --------------  -----  \n",
      " 0   Month                    144 non-null    object \n",
      " 1   Thousands of Passengers  144 non-null    float64\n",
      "dtypes: float64(1), object(1)\n",
      "memory usage: 3.4+ KB\n"
     ]
    }
   ],
   "source": [
    "df.info()"
   ]
  },
  {
   "cell_type": "code",
   "execution_count": 73,
   "id": "dd40677c",
   "metadata": {},
   "outputs": [],
   "source": [
    "df['Month']=pd.to_datetime(df['Month'])"
   ]
  },
  {
   "cell_type": "code",
   "execution_count": 76,
   "id": "ab917aab",
   "metadata": {},
   "outputs": [
    {
     "name": "stdout",
     "output_type": "stream",
     "text": [
      "<class 'pandas.core.frame.DataFrame'>\n",
      "Int64Index: 144 entries, 0 to 143\n",
      "Data columns (total 2 columns):\n",
      " #   Column                   Non-Null Count  Dtype         \n",
      "---  ------                   --------------  -----         \n",
      " 0   Month                    144 non-null    datetime64[ns]\n",
      " 1   Thousands of Passengers  144 non-null    float64       \n",
      "dtypes: datetime64[ns](1), float64(1)\n",
      "memory usage: 3.4 KB\n"
     ]
    }
   ],
   "source": [
    "#change the datatype of month column to datetime\n",
    "df.info()"
   ]
  },
  {
   "cell_type": "code",
   "execution_count": 77,
   "id": "62c72190",
   "metadata": {},
   "outputs": [
    {
     "data": {
      "text/html": [
       "<div>\n",
       "<style scoped>\n",
       "    .dataframe tbody tr th:only-of-type {\n",
       "        vertical-align: middle;\n",
       "    }\n",
       "\n",
       "    .dataframe tbody tr th {\n",
       "        vertical-align: top;\n",
       "    }\n",
       "\n",
       "    .dataframe thead th {\n",
       "        text-align: right;\n",
       "    }\n",
       "</style>\n",
       "<table border=\"1\" class=\"dataframe\">\n",
       "  <thead>\n",
       "    <tr style=\"text-align: right;\">\n",
       "      <th></th>\n",
       "      <th>Month</th>\n",
       "      <th>Thousands of Passengers</th>\n",
       "    </tr>\n",
       "  </thead>\n",
       "  <tbody>\n",
       "    <tr>\n",
       "      <th>0</th>\n",
       "      <td>1949-01-01</td>\n",
       "      <td>112.0</td>\n",
       "    </tr>\n",
       "    <tr>\n",
       "      <th>1</th>\n",
       "      <td>1949-02-01</td>\n",
       "      <td>118.0</td>\n",
       "    </tr>\n",
       "    <tr>\n",
       "      <th>2</th>\n",
       "      <td>1949-03-01</td>\n",
       "      <td>132.0</td>\n",
       "    </tr>\n",
       "    <tr>\n",
       "      <th>3</th>\n",
       "      <td>1949-04-01</td>\n",
       "      <td>129.0</td>\n",
       "    </tr>\n",
       "    <tr>\n",
       "      <th>4</th>\n",
       "      <td>1949-05-01</td>\n",
       "      <td>121.0</td>\n",
       "    </tr>\n",
       "  </tbody>\n",
       "</table>\n",
       "</div>"
      ],
      "text/plain": [
       "       Month  Thousands of Passengers\n",
       "0 1949-01-01                    112.0\n",
       "1 1949-02-01                    118.0\n",
       "2 1949-03-01                    132.0\n",
       "3 1949-04-01                    129.0\n",
       "4 1949-05-01                    121.0"
      ]
     },
     "execution_count": 77,
     "metadata": {},
     "output_type": "execute_result"
    }
   ],
   "source": [
    "df.head()"
   ]
  },
  {
   "cell_type": "code",
   "execution_count": 78,
   "id": "0fdd1121",
   "metadata": {},
   "outputs": [
    {
     "data": {
      "text/html": [
       "<div>\n",
       "<style scoped>\n",
       "    .dataframe tbody tr th:only-of-type {\n",
       "        vertical-align: middle;\n",
       "    }\n",
       "\n",
       "    .dataframe tbody tr th {\n",
       "        vertical-align: top;\n",
       "    }\n",
       "\n",
       "    .dataframe thead th {\n",
       "        text-align: right;\n",
       "    }\n",
       "</style>\n",
       "<table border=\"1\" class=\"dataframe\">\n",
       "  <thead>\n",
       "    <tr style=\"text-align: right;\">\n",
       "      <th></th>\n",
       "      <th>Month</th>\n",
       "      <th>Thousands of Passengers</th>\n",
       "    </tr>\n",
       "  </thead>\n",
       "  <tbody>\n",
       "    <tr>\n",
       "      <th>139</th>\n",
       "      <td>1960-08-01</td>\n",
       "      <td>606.0</td>\n",
       "    </tr>\n",
       "    <tr>\n",
       "      <th>140</th>\n",
       "      <td>1960-09-01</td>\n",
       "      <td>508.0</td>\n",
       "    </tr>\n",
       "    <tr>\n",
       "      <th>141</th>\n",
       "      <td>1960-10-01</td>\n",
       "      <td>461.0</td>\n",
       "    </tr>\n",
       "    <tr>\n",
       "      <th>142</th>\n",
       "      <td>1960-11-01</td>\n",
       "      <td>390.0</td>\n",
       "    </tr>\n",
       "    <tr>\n",
       "      <th>143</th>\n",
       "      <td>1960-12-01</td>\n",
       "      <td>432.0</td>\n",
       "    </tr>\n",
       "  </tbody>\n",
       "</table>\n",
       "</div>"
      ],
      "text/plain": [
       "         Month  Thousands of Passengers\n",
       "139 1960-08-01                    606.0\n",
       "140 1960-09-01                    508.0\n",
       "141 1960-10-01                    461.0\n",
       "142 1960-11-01                    390.0\n",
       "143 1960-12-01                    432.0"
      ]
     },
     "execution_count": 78,
     "metadata": {},
     "output_type": "execute_result"
    }
   ],
   "source": [
    "df.tail()"
   ]
  },
  {
   "cell_type": "code",
   "execution_count": 79,
   "id": "1a07a220",
   "metadata": {},
   "outputs": [],
   "source": [
    "#change month column to index \n",
    "df.set_index('Month',inplace=True)"
   ]
  },
  {
   "cell_type": "code",
   "execution_count": 80,
   "id": "dda2c522",
   "metadata": {},
   "outputs": [
    {
     "data": {
      "text/html": [
       "<div>\n",
       "<style scoped>\n",
       "    .dataframe tbody tr th:only-of-type {\n",
       "        vertical-align: middle;\n",
       "    }\n",
       "\n",
       "    .dataframe tbody tr th {\n",
       "        vertical-align: top;\n",
       "    }\n",
       "\n",
       "    .dataframe thead th {\n",
       "        text-align: right;\n",
       "    }\n",
       "</style>\n",
       "<table border=\"1\" class=\"dataframe\">\n",
       "  <thead>\n",
       "    <tr style=\"text-align: right;\">\n",
       "      <th></th>\n",
       "      <th>Thousands of Passengers</th>\n",
       "    </tr>\n",
       "    <tr>\n",
       "      <th>Month</th>\n",
       "      <th></th>\n",
       "    </tr>\n",
       "  </thead>\n",
       "  <tbody>\n",
       "    <tr>\n",
       "      <th>1949-01-01</th>\n",
       "      <td>112.0</td>\n",
       "    </tr>\n",
       "    <tr>\n",
       "      <th>1949-02-01</th>\n",
       "      <td>118.0</td>\n",
       "    </tr>\n",
       "    <tr>\n",
       "      <th>1949-03-01</th>\n",
       "      <td>132.0</td>\n",
       "    </tr>\n",
       "    <tr>\n",
       "      <th>1949-04-01</th>\n",
       "      <td>129.0</td>\n",
       "    </tr>\n",
       "    <tr>\n",
       "      <th>1949-05-01</th>\n",
       "      <td>121.0</td>\n",
       "    </tr>\n",
       "  </tbody>\n",
       "</table>\n",
       "</div>"
      ],
      "text/plain": [
       "            Thousands of Passengers\n",
       "Month                              \n",
       "1949-01-01                    112.0\n",
       "1949-02-01                    118.0\n",
       "1949-03-01                    132.0\n",
       "1949-04-01                    129.0\n",
       "1949-05-01                    121.0"
      ]
     },
     "execution_count": 80,
     "metadata": {},
     "output_type": "execute_result"
    }
   ],
   "source": [
    "df.head()"
   ]
  },
  {
   "cell_type": "code",
   "execution_count": 81,
   "id": "a4c50456",
   "metadata": {},
   "outputs": [
    {
     "data": {
      "text/plain": [
       "<AxesSubplot:xlabel='Month'>"
      ]
     },
     "execution_count": 81,
     "metadata": {},
     "output_type": "execute_result"
    },
    {
     "data": {
      "image/png": "[encoded data removed]",
      "text/plain": [
       "<Figure size 864x432 with 1 Axes>"
      ]
     },
     "metadata": {
      "needs_background": "light"
     },
     "output_type": "display_data"
    }
   ],
   "source": [
    "df.plot(xlim=['1948-01-01','1963-12-01'],ylim=[50,700],figsize=(12,6))"
   ]
  },
  {
   "cell_type": "code",
   "execution_count": 82,
   "id": "cf3da937",
   "metadata": {},
   "outputs": [],
   "source": [
    "from statsmodels.tsa.stattools import adfuller"
   ]
  },
  {
   "cell_type": "code",
   "execution_count": 84,
   "id": "4382f590",
   "metadata": {},
   "outputs": [],
   "source": [
    "#We need to convert the data to stationary for arimax or sarimax model can be checked using dickey-fuller test when p<=0.05\n",
    "def find_p(series):\n",
    "    result  = adfuller(series)\n",
    "    print(f'ADF statistics :{result[0]}')\n",
    "    print(f'p - value :{result[1]}')\n",
    "    if result[1]<=0.05:\n",
    "        print('Strong evidence in null hypothesis, rejected null hypothesis and data is stationary')\n",
    "    else:\n",
    "        print('Weak evidence in null hypothesis, Accepted null hypothesis and data is not stationary')"
   ]
  },
  {
   "cell_type": "code",
   "execution_count": 85,
   "id": "242e9872",
   "metadata": {},
   "outputs": [
    {
     "name": "stdout",
     "output_type": "stream",
     "text": [
      "ADF statistics :0.8153688792060543\n",
      "p - value :0.9918802434376411\n",
      "Weak evidence in null hypothesis, Accepted null hypothesis and data is not stationary\n"
     ]
    }
   ],
   "source": [
    "find_p(df['Thousands of Passengers'])"
   ]
  },
  {
   "cell_type": "code",
   "execution_count": 86,
   "id": "17958bff",
   "metadata": {},
   "outputs": [],
   "source": [
    "#first difference\n",
    "df['first difference'] = df['Thousands of Passengers']-df['Thousands of Passengers'].shift(1)"
   ]
  },
  {
   "cell_type": "code",
   "execution_count": 87,
   "id": "d8fd04cd",
   "metadata": {},
   "outputs": [
    {
     "name": "stdout",
     "output_type": "stream",
     "text": [
      "ADF statistics :-2.8292668241700034\n",
      "p - value :0.054213290283824954\n",
      "Weak evidence in null hypothesis, Accepted null hypothesis and data is not stationary\n"
     ]
    }
   ],
   "source": [
    "find_p(df['first difference'].dropna())"
   ]
  },
  {
   "cell_type": "code",
   "execution_count": 88,
   "id": "b1c6d010",
   "metadata": {},
   "outputs": [],
   "source": [
    "#second difference\n",
    "df['second difference'] = df['first difference']-df['first difference'].shift(1)"
   ]
  },
  {
   "cell_type": "code",
   "execution_count": 90,
   "id": "7766576a",
   "metadata": {},
   "outputs": [
    {
     "name": "stdout",
     "output_type": "stream",
     "text": [
      "ADF statistics :-16.384231542468488\n",
      "p - value :2.7328918500143186e-29\n",
      "Strong evidence in null hypothesis, rejected null hypothesis and data is stationary\n"
     ]
    }
   ],
   "source": [
    "find_p(df['second difference'].dropna())"
   ]
  },
  {
   "cell_type": "code",
   "execution_count": 91,
   "id": "64330237",
   "metadata": {},
   "outputs": [],
   "source": [
    "#seasonal data \n",
    "df['12 difference'] = df['Thousands of Passengers']-df['Thousands of Passengers'].shift(12)"
   ]
  },
  {
   "cell_type": "code",
   "execution_count": 93,
   "id": "2c7aea5e",
   "metadata": {},
   "outputs": [
    {
     "name": "stdout",
     "output_type": "stream",
     "text": [
      "ADF statistics :-3.3830207264924805\n",
      "p - value :0.011551493085514982\n",
      "Strong evidence in null hypothesis, rejected null hypothesis and data is stationary\n"
     ]
    }
   ],
   "source": [
    "find_p(df['12 difference'].dropna())"
   ]
  },
  {
   "cell_type": "code",
   "execution_count": 96,
   "id": "c2a48a92",
   "metadata": {},
   "outputs": [
    {
     "data": {
      "text/plain": [
       "<AxesSubplot:xlabel='Month'>"
      ]
     },
     "execution_count": 96,
     "metadata": {},
     "output_type": "execute_result"
    },
    {
     "data": {
      "image/png": "[encoded data removed]",
      "text/plain": [
       "<Figure size 432x288 with 1 Axes>"
      ]
     },
     "metadata": {
      "needs_background": "light"
     },
     "output_type": "display_data"
    }
   ],
   "source": [
    "#p value for second difference is <=0.05 which means data is stationary\n",
    "df['second difference'].dropna().plot()"
   ]
  },
  {
   "cell_type": "code",
   "execution_count": 97,
   "id": "6d5954d0",
   "metadata": {},
   "outputs": [
    {
     "data": {
      "text/html": [
       "<div>\n",
       "<style scoped>\n",
       "    .dataframe tbody tr th:only-of-type {\n",
       "        vertical-align: middle;\n",
       "    }\n",
       "\n",
       "    .dataframe tbody tr th {\n",
       "        vertical-align: top;\n",
       "    }\n",
       "\n",
       "    .dataframe thead th {\n",
       "        text-align: right;\n",
       "    }\n",
       "</style>\n",
       "<table border=\"1\" class=\"dataframe\">\n",
       "  <thead>\n",
       "    <tr style=\"text-align: right;\">\n",
       "      <th></th>\n",
       "      <th>Thousands of Passengers</th>\n",
       "      <th>first difference</th>\n",
       "      <th>second difference</th>\n",
       "      <th>12 difference</th>\n",
       "    </tr>\n",
       "    <tr>\n",
       "      <th>Month</th>\n",
       "      <th></th>\n",
       "      <th></th>\n",
       "      <th></th>\n",
       "      <th></th>\n",
       "    </tr>\n",
       "  </thead>\n",
       "  <tbody>\n",
       "    <tr>\n",
       "      <th>1949-01-01</th>\n",
       "      <td>112.0</td>\n",
       "      <td>NaN</td>\n",
       "      <td>NaN</td>\n",
       "      <td>NaN</td>\n",
       "    </tr>\n",
       "    <tr>\n",
       "      <th>1949-02-01</th>\n",
       "      <td>118.0</td>\n",
       "      <td>6.0</td>\n",
       "      <td>NaN</td>\n",
       "      <td>NaN</td>\n",
       "    </tr>\n",
       "    <tr>\n",
       "      <th>1949-03-01</th>\n",
       "      <td>132.0</td>\n",
       "      <td>14.0</td>\n",
       "      <td>8.0</td>\n",
       "      <td>NaN</td>\n",
       "    </tr>\n",
       "    <tr>\n",
       "      <th>1949-04-01</th>\n",
       "      <td>129.0</td>\n",
       "      <td>-3.0</td>\n",
       "      <td>-17.0</td>\n",
       "      <td>NaN</td>\n",
       "    </tr>\n",
       "    <tr>\n",
       "      <th>1949-05-01</th>\n",
       "      <td>121.0</td>\n",
       "      <td>-8.0</td>\n",
       "      <td>-5.0</td>\n",
       "      <td>NaN</td>\n",
       "    </tr>\n",
       "    <tr>\n",
       "      <th>...</th>\n",
       "      <td>...</td>\n",
       "      <td>...</td>\n",
       "      <td>...</td>\n",
       "      <td>...</td>\n",
       "    </tr>\n",
       "    <tr>\n",
       "      <th>1960-08-01</th>\n",
       "      <td>606.0</td>\n",
       "      <td>-16.0</td>\n",
       "      <td>-103.0</td>\n",
       "      <td>47.0</td>\n",
       "    </tr>\n",
       "    <tr>\n",
       "      <th>1960-09-01</th>\n",
       "      <td>508.0</td>\n",
       "      <td>-98.0</td>\n",
       "      <td>-82.0</td>\n",
       "      <td>45.0</td>\n",
       "    </tr>\n",
       "    <tr>\n",
       "      <th>1960-10-01</th>\n",
       "      <td>461.0</td>\n",
       "      <td>-47.0</td>\n",
       "      <td>51.0</td>\n",
       "      <td>54.0</td>\n",
       "    </tr>\n",
       "    <tr>\n",
       "      <th>1960-11-01</th>\n",
       "      <td>390.0</td>\n",
       "      <td>-71.0</td>\n",
       "      <td>-24.0</td>\n",
       "      <td>28.0</td>\n",
       "    </tr>\n",
       "    <tr>\n",
       "      <th>1960-12-01</th>\n",
       "      <td>432.0</td>\n",
       "      <td>42.0</td>\n",
       "      <td>113.0</td>\n",
       "      <td>27.0</td>\n",
       "    </tr>\n",
       "  </tbody>\n",
       "</table>\n",
       "<p>144 rows × 4 columns</p>\n",
       "</div>"
      ],
      "text/plain": [
       "            Thousands of Passengers  first difference  second difference  \\\n",
       "Month                                                                      \n",
       "1949-01-01                    112.0               NaN                NaN   \n",
       "1949-02-01                    118.0               6.0                NaN   \n",
       "1949-03-01                    132.0              14.0                8.0   \n",
       "1949-04-01                    129.0              -3.0              -17.0   \n",
       "1949-05-01                    121.0              -8.0               -5.0   \n",
       "...                             ...               ...                ...   \n",
       "1960-08-01                    606.0             -16.0             -103.0   \n",
       "1960-09-01                    508.0             -98.0              -82.0   \n",
       "1960-10-01                    461.0             -47.0               51.0   \n",
       "1960-11-01                    390.0             -71.0              -24.0   \n",
       "1960-12-01                    432.0              42.0              113.0   \n",
       "\n",
       "            12 difference  \n",
       "Month                      \n",
       "1949-01-01            NaN  \n",
       "1949-02-01            NaN  \n",
       "1949-03-01            NaN  \n",
       "1949-04-01            NaN  \n",
       "1949-05-01            NaN  \n",
       "...                   ...  \n",
       "1960-08-01           47.0  \n",
       "1960-09-01           45.0  \n",
       "1960-10-01           54.0  \n",
       "1960-11-01           28.0  \n",
       "1960-12-01           27.0  \n",
       "\n",
       "[144 rows x 4 columns]"
      ]
     },
     "execution_count": 97,
     "metadata": {},
     "output_type": "execute_result"
    }
   ],
   "source": [
    "df"
   ]
  },
  {
   "cell_type": "code",
   "execution_count": 98,
   "id": "95d511f2",
   "metadata": {},
   "outputs": [],
   "source": [
    "from statsmodels.graphics.tsaplots import plot_acf, plot_pacf"
   ]
  },
  {
   "cell_type": "code",
   "execution_count": 99,
   "id": "52557955",
   "metadata": {},
   "outputs": [
    {
     "data": {
      "image/png": "[encoded data removed]",
      "text/plain": [
       "<Figure size 432x288 with 1 Axes>"
      ]
     },
     "execution_count": 99,
     "metadata": {},
     "output_type": "execute_result"
    },
    {
     "data": {
      "image/png": "[encoded data removed]",
      "text/plain": [
       "<Figure size 432x288 with 1 Axes>"
      ]
     },
     "metadata": {
      "needs_background": "light"
     },
     "output_type": "display_data"
    }
   ],
   "source": [
    "#acf grap to find out the q values(moving average) for Arimax model\n",
    "acf = plot_acf(df['second difference'].dropna())\n",
    "acf"
   ]
  },
  {
   "cell_type": "code",
   "execution_count": 100,
   "id": "5946740b",
   "metadata": {},
   "outputs": [
    {
     "data": {
      "image/png": "[encoded data removed]",
      "text/plain": [
       "<Figure size 432x288 with 1 Axes>"
      ]
     },
     "execution_count": 100,
     "metadata": {},
     "output_type": "execute_result"
    },
    {
     "data": {
      "image/png": "[encoded data removed]",
      "text/plain": [
       "<Figure size 432x288 with 1 Axes>"
      ]
     },
     "metadata": {
      "needs_background": "light"
     },
     "output_type": "display_data"
    }
   ],
   "source": [
    "#acf grap to find out the q values(moving average) for Arimax model\n",
    "acf = plot_acf(df['12 difference'].dropna())\n",
    "acf"
   ]
  },
  {
   "cell_type": "code",
   "execution_count": 101,
   "id": "8b286945",
   "metadata": {},
   "outputs": [
    {
     "name": "stderr",
     "output_type": "stream",
     "text": [
      "C:\\Users\\91986\\anaconda3\\lib\\site-packages\\statsmodels\\graphics\\tsaplots.py:348: FutureWarning: The default method 'yw' can produce PACF values outside of the [-1,1] interval. After 0.13, the default will change tounadjusted Yule-Walker ('ywm'). You can use this method now by setting method='ywm'.\n",
      "  warnings.warn(\n"
     ]
    },
    {
     "data": {
      "image/png": "[encoded data removed]",
      "text/plain": [
       "<Figure size 432x288 with 1 Axes>"
      ]
     },
     "execution_count": 101,
     "metadata": {},
     "output_type": "execute_result"
    },
    {
     "data": {
      "image/png": "[encoded data removed]",
      "text/plain": [
       "<Figure size 432x288 with 1 Axes>"
      ]
     },
     "metadata": {
      "needs_background": "light"
     },
     "output_type": "display_data"
    }
   ],
   "source": [
    "#pacf grap to find out the p values for Arimax model\n",
    "pacf = plot_pacf(df['second difference'].dropna())\n",
    "pacf"
   ]
  },
  {
   "cell_type": "code",
   "execution_count": 102,
   "id": "1ed96d3c",
   "metadata": {},
   "outputs": [
    {
     "name": "stderr",
     "output_type": "stream",
     "text": [
      "C:\\Users\\91986\\anaconda3\\lib\\site-packages\\statsmodels\\graphics\\tsaplots.py:348: FutureWarning: The default method 'yw' can produce PACF values outside of the [-1,1] interval. After 0.13, the default will change tounadjusted Yule-Walker ('ywm'). You can use this method now by setting method='ywm'.\n",
      "  warnings.warn(\n"
     ]
    },
    {
     "data": {
      "image/png": "[encoded data removed]",
      "text/plain": [
       "<Figure size 432x288 with 1 Axes>"
      ]
     },
     "execution_count": 102,
     "metadata": {},
     "output_type": "execute_result"
    },
    {
     "data": {
      "image/png": "[encoded data removed]",
      "text/plain": [
       "<Figure size 432x288 with 1 Axes>"
      ]
     },
     "metadata": {
      "needs_background": "light"
     },
     "output_type": "display_data"
    }
   ],
   "source": [
    "#pacf grap to find out the p values for Arimax model\n",
    "pacf = plot_pacf(df['12 difference'].dropna())\n",
    "pacf"
   ]
  },
  {
   "cell_type": "code",
   "execution_count": 103,
   "id": "814921b4",
   "metadata": {},
   "outputs": [],
   "source": [
    "from datetime import datetime , timedelta\n",
    "train_dataset_end = datetime(1955,12,1)\n",
    "test_dataset_end = datetime(1960,12,1)"
   ]
  },
  {
   "cell_type": "code",
   "execution_count": 104,
   "id": "83c04dc0",
   "metadata": {},
   "outputs": [],
   "source": [
    "train_data = df[:train_dataset_end]\n",
    "test_data = df[train_dataset_end+timedelta(days=1):test_dataset_end]"
   ]
  },
  {
   "cell_type": "code",
   "execution_count": 105,
   "id": "edac6e1a",
   "metadata": {},
   "outputs": [
    {
     "data": {
      "text/html": [
       "<div>\n",
       "<style scoped>\n",
       "    .dataframe tbody tr th:only-of-type {\n",
       "        vertical-align: middle;\n",
       "    }\n",
       "\n",
       "    .dataframe tbody tr th {\n",
       "        vertical-align: top;\n",
       "    }\n",
       "\n",
       "    .dataframe thead th {\n",
       "        text-align: right;\n",
       "    }\n",
       "</style>\n",
       "<table border=\"1\" class=\"dataframe\">\n",
       "  <thead>\n",
       "    <tr style=\"text-align: right;\">\n",
       "      <th></th>\n",
       "      <th>Thousands of Passengers</th>\n",
       "      <th>first difference</th>\n",
       "      <th>second difference</th>\n",
       "      <th>12 difference</th>\n",
       "    </tr>\n",
       "    <tr>\n",
       "      <th>Month</th>\n",
       "      <th></th>\n",
       "      <th></th>\n",
       "      <th></th>\n",
       "      <th></th>\n",
       "    </tr>\n",
       "  </thead>\n",
       "  <tbody>\n",
       "    <tr>\n",
       "      <th>1949-01-01</th>\n",
       "      <td>112.0</td>\n",
       "      <td>NaN</td>\n",
       "      <td>NaN</td>\n",
       "      <td>NaN</td>\n",
       "    </tr>\n",
       "    <tr>\n",
       "      <th>1949-02-01</th>\n",
       "      <td>118.0</td>\n",
       "      <td>6.0</td>\n",
       "      <td>NaN</td>\n",
       "      <td>NaN</td>\n",
       "    </tr>\n",
       "    <tr>\n",
       "      <th>1949-03-01</th>\n",
       "      <td>132.0</td>\n",
       "      <td>14.0</td>\n",
       "      <td>8.0</td>\n",
       "      <td>NaN</td>\n",
       "    </tr>\n",
       "    <tr>\n",
       "      <th>1949-04-01</th>\n",
       "      <td>129.0</td>\n",
       "      <td>-3.0</td>\n",
       "      <td>-17.0</td>\n",
       "      <td>NaN</td>\n",
       "    </tr>\n",
       "    <tr>\n",
       "      <th>1949-05-01</th>\n",
       "      <td>121.0</td>\n",
       "      <td>-8.0</td>\n",
       "      <td>-5.0</td>\n",
       "      <td>NaN</td>\n",
       "    </tr>\n",
       "    <tr>\n",
       "      <th>...</th>\n",
       "      <td>...</td>\n",
       "      <td>...</td>\n",
       "      <td>...</td>\n",
       "      <td>...</td>\n",
       "    </tr>\n",
       "    <tr>\n",
       "      <th>1955-08-01</th>\n",
       "      <td>347.0</td>\n",
       "      <td>-17.0</td>\n",
       "      <td>-66.0</td>\n",
       "      <td>54.0</td>\n",
       "    </tr>\n",
       "    <tr>\n",
       "      <th>1955-09-01</th>\n",
       "      <td>312.0</td>\n",
       "      <td>-35.0</td>\n",
       "      <td>-18.0</td>\n",
       "      <td>53.0</td>\n",
       "    </tr>\n",
       "    <tr>\n",
       "      <th>1955-10-01</th>\n",
       "      <td>274.0</td>\n",
       "      <td>-38.0</td>\n",
       "      <td>-3.0</td>\n",
       "      <td>45.0</td>\n",
       "    </tr>\n",
       "    <tr>\n",
       "      <th>1955-11-01</th>\n",
       "      <td>237.0</td>\n",
       "      <td>-37.0</td>\n",
       "      <td>1.0</td>\n",
       "      <td>34.0</td>\n",
       "    </tr>\n",
       "    <tr>\n",
       "      <th>1955-12-01</th>\n",
       "      <td>278.0</td>\n",
       "      <td>41.0</td>\n",
       "      <td>78.0</td>\n",
       "      <td>49.0</td>\n",
       "    </tr>\n",
       "  </tbody>\n",
       "</table>\n",
       "<p>84 rows × 4 columns</p>\n",
       "</div>"
      ],
      "text/plain": [
       "            Thousands of Passengers  first difference  second difference  \\\n",
       "Month                                                                      \n",
       "1949-01-01                    112.0               NaN                NaN   \n",
       "1949-02-01                    118.0               6.0                NaN   \n",
       "1949-03-01                    132.0              14.0                8.0   \n",
       "1949-04-01                    129.0              -3.0              -17.0   \n",
       "1949-05-01                    121.0              -8.0               -5.0   \n",
       "...                             ...               ...                ...   \n",
       "1955-08-01                    347.0             -17.0              -66.0   \n",
       "1955-09-01                    312.0             -35.0              -18.0   \n",
       "1955-10-01                    274.0             -38.0               -3.0   \n",
       "1955-11-01                    237.0             -37.0                1.0   \n",
       "1955-12-01                    278.0              41.0               78.0   \n",
       "\n",
       "            12 difference  \n",
       "Month                      \n",
       "1949-01-01            NaN  \n",
       "1949-02-01            NaN  \n",
       "1949-03-01            NaN  \n",
       "1949-04-01            NaN  \n",
       "1949-05-01            NaN  \n",
       "...                   ...  \n",
       "1955-08-01           54.0  \n",
       "1955-09-01           53.0  \n",
       "1955-10-01           45.0  \n",
       "1955-11-01           34.0  \n",
       "1955-12-01           49.0  \n",
       "\n",
       "[84 rows x 4 columns]"
      ]
     },
     "execution_count": 105,
     "metadata": {},
     "output_type": "execute_result"
    }
   ],
   "source": [
    "train_data"
   ]
  },
  {
   "cell_type": "code",
   "execution_count": 106,
   "id": "a5b4d0b2",
   "metadata": {},
   "outputs": [
    {
     "data": {
      "text/html": [
       "<div>\n",
       "<style scoped>\n",
       "    .dataframe tbody tr th:only-of-type {\n",
       "        vertical-align: middle;\n",
       "    }\n",
       "\n",
       "    .dataframe tbody tr th {\n",
       "        vertical-align: top;\n",
       "    }\n",
       "\n",
       "    .dataframe thead th {\n",
       "        text-align: right;\n",
       "    }\n",
       "</style>\n",
       "<table border=\"1\" class=\"dataframe\">\n",
       "  <thead>\n",
       "    <tr style=\"text-align: right;\">\n",
       "      <th></th>\n",
       "      <th>Thousands of Passengers</th>\n",
       "      <th>first difference</th>\n",
       "      <th>second difference</th>\n",
       "      <th>12 difference</th>\n",
       "    </tr>\n",
       "    <tr>\n",
       "      <th>Month</th>\n",
       "      <th></th>\n",
       "      <th></th>\n",
       "      <th></th>\n",
       "      <th></th>\n",
       "    </tr>\n",
       "  </thead>\n",
       "  <tbody>\n",
       "    <tr>\n",
       "      <th>1956-01-01</th>\n",
       "      <td>284.0</td>\n",
       "      <td>6.0</td>\n",
       "      <td>-35.0</td>\n",
       "      <td>42.0</td>\n",
       "    </tr>\n",
       "    <tr>\n",
       "      <th>1956-02-01</th>\n",
       "      <td>277.0</td>\n",
       "      <td>-7.0</td>\n",
       "      <td>-13.0</td>\n",
       "      <td>44.0</td>\n",
       "    </tr>\n",
       "    <tr>\n",
       "      <th>1956-03-01</th>\n",
       "      <td>317.0</td>\n",
       "      <td>40.0</td>\n",
       "      <td>47.0</td>\n",
       "      <td>50.0</td>\n",
       "    </tr>\n",
       "    <tr>\n",
       "      <th>1956-04-01</th>\n",
       "      <td>313.0</td>\n",
       "      <td>-4.0</td>\n",
       "      <td>-44.0</td>\n",
       "      <td>44.0</td>\n",
       "    </tr>\n",
       "    <tr>\n",
       "      <th>1956-05-01</th>\n",
       "      <td>318.0</td>\n",
       "      <td>5.0</td>\n",
       "      <td>9.0</td>\n",
       "      <td>48.0</td>\n",
       "    </tr>\n",
       "    <tr>\n",
       "      <th>1956-06-01</th>\n",
       "      <td>374.0</td>\n",
       "      <td>56.0</td>\n",
       "      <td>51.0</td>\n",
       "      <td>59.0</td>\n",
       "    </tr>\n",
       "    <tr>\n",
       "      <th>1956-07-01</th>\n",
       "      <td>413.0</td>\n",
       "      <td>39.0</td>\n",
       "      <td>-17.0</td>\n",
       "      <td>49.0</td>\n",
       "    </tr>\n",
       "    <tr>\n",
       "      <th>1956-08-01</th>\n",
       "      <td>405.0</td>\n",
       "      <td>-8.0</td>\n",
       "      <td>-47.0</td>\n",
       "      <td>58.0</td>\n",
       "    </tr>\n",
       "    <tr>\n",
       "      <th>1956-09-01</th>\n",
       "      <td>355.0</td>\n",
       "      <td>-50.0</td>\n",
       "      <td>-42.0</td>\n",
       "      <td>43.0</td>\n",
       "    </tr>\n",
       "    <tr>\n",
       "      <th>1956-10-01</th>\n",
       "      <td>306.0</td>\n",
       "      <td>-49.0</td>\n",
       "      <td>1.0</td>\n",
       "      <td>32.0</td>\n",
       "    </tr>\n",
       "    <tr>\n",
       "      <th>1956-11-01</th>\n",
       "      <td>271.0</td>\n",
       "      <td>-35.0</td>\n",
       "      <td>14.0</td>\n",
       "      <td>34.0</td>\n",
       "    </tr>\n",
       "    <tr>\n",
       "      <th>1956-12-01</th>\n",
       "      <td>306.0</td>\n",
       "      <td>35.0</td>\n",
       "      <td>70.0</td>\n",
       "      <td>28.0</td>\n",
       "    </tr>\n",
       "    <tr>\n",
       "      <th>1957-01-01</th>\n",
       "      <td>315.0</td>\n",
       "      <td>9.0</td>\n",
       "      <td>-26.0</td>\n",
       "      <td>31.0</td>\n",
       "    </tr>\n",
       "    <tr>\n",
       "      <th>1957-02-01</th>\n",
       "      <td>301.0</td>\n",
       "      <td>-14.0</td>\n",
       "      <td>-23.0</td>\n",
       "      <td>24.0</td>\n",
       "    </tr>\n",
       "    <tr>\n",
       "      <th>1957-03-01</th>\n",
       "      <td>356.0</td>\n",
       "      <td>55.0</td>\n",
       "      <td>69.0</td>\n",
       "      <td>39.0</td>\n",
       "    </tr>\n",
       "    <tr>\n",
       "      <th>1957-04-01</th>\n",
       "      <td>348.0</td>\n",
       "      <td>-8.0</td>\n",
       "      <td>-63.0</td>\n",
       "      <td>35.0</td>\n",
       "    </tr>\n",
       "    <tr>\n",
       "      <th>1957-05-01</th>\n",
       "      <td>355.0</td>\n",
       "      <td>7.0</td>\n",
       "      <td>15.0</td>\n",
       "      <td>37.0</td>\n",
       "    </tr>\n",
       "    <tr>\n",
       "      <th>1957-06-01</th>\n",
       "      <td>422.0</td>\n",
       "      <td>67.0</td>\n",
       "      <td>60.0</td>\n",
       "      <td>48.0</td>\n",
       "    </tr>\n",
       "    <tr>\n",
       "      <th>1957-07-01</th>\n",
       "      <td>465.0</td>\n",
       "      <td>43.0</td>\n",
       "      <td>-24.0</td>\n",
       "      <td>52.0</td>\n",
       "    </tr>\n",
       "    <tr>\n",
       "      <th>1957-08-01</th>\n",
       "      <td>467.0</td>\n",
       "      <td>2.0</td>\n",
       "      <td>-41.0</td>\n",
       "      <td>62.0</td>\n",
       "    </tr>\n",
       "    <tr>\n",
       "      <th>1957-09-01</th>\n",
       "      <td>404.0</td>\n",
       "      <td>-63.0</td>\n",
       "      <td>-65.0</td>\n",
       "      <td>49.0</td>\n",
       "    </tr>\n",
       "    <tr>\n",
       "      <th>1957-10-01</th>\n",
       "      <td>347.0</td>\n",
       "      <td>-57.0</td>\n",
       "      <td>6.0</td>\n",
       "      <td>41.0</td>\n",
       "    </tr>\n",
       "    <tr>\n",
       "      <th>1957-11-01</th>\n",
       "      <td>305.0</td>\n",
       "      <td>-42.0</td>\n",
       "      <td>15.0</td>\n",
       "      <td>34.0</td>\n",
       "    </tr>\n",
       "    <tr>\n",
       "      <th>1957-12-01</th>\n",
       "      <td>336.0</td>\n",
       "      <td>31.0</td>\n",
       "      <td>73.0</td>\n",
       "      <td>30.0</td>\n",
       "    </tr>\n",
       "    <tr>\n",
       "      <th>1958-01-01</th>\n",
       "      <td>340.0</td>\n",
       "      <td>4.0</td>\n",
       "      <td>-27.0</td>\n",
       "      <td>25.0</td>\n",
       "    </tr>\n",
       "    <tr>\n",
       "      <th>1958-02-01</th>\n",
       "      <td>318.0</td>\n",
       "      <td>-22.0</td>\n",
       "      <td>-26.0</td>\n",
       "      <td>17.0</td>\n",
       "    </tr>\n",
       "    <tr>\n",
       "      <th>1958-03-01</th>\n",
       "      <td>362.0</td>\n",
       "      <td>44.0</td>\n",
       "      <td>66.0</td>\n",
       "      <td>6.0</td>\n",
       "    </tr>\n",
       "    <tr>\n",
       "      <th>1958-04-01</th>\n",
       "      <td>348.0</td>\n",
       "      <td>-14.0</td>\n",
       "      <td>-58.0</td>\n",
       "      <td>0.0</td>\n",
       "    </tr>\n",
       "    <tr>\n",
       "      <th>1958-05-01</th>\n",
       "      <td>363.0</td>\n",
       "      <td>15.0</td>\n",
       "      <td>29.0</td>\n",
       "      <td>8.0</td>\n",
       "    </tr>\n",
       "    <tr>\n",
       "      <th>1958-06-01</th>\n",
       "      <td>435.0</td>\n",
       "      <td>72.0</td>\n",
       "      <td>57.0</td>\n",
       "      <td>13.0</td>\n",
       "    </tr>\n",
       "    <tr>\n",
       "      <th>1958-07-01</th>\n",
       "      <td>491.0</td>\n",
       "      <td>56.0</td>\n",
       "      <td>-16.0</td>\n",
       "      <td>26.0</td>\n",
       "    </tr>\n",
       "    <tr>\n",
       "      <th>1958-08-01</th>\n",
       "      <td>505.0</td>\n",
       "      <td>14.0</td>\n",
       "      <td>-42.0</td>\n",
       "      <td>38.0</td>\n",
       "    </tr>\n",
       "    <tr>\n",
       "      <th>1958-09-01</th>\n",
       "      <td>404.0</td>\n",
       "      <td>-101.0</td>\n",
       "      <td>-115.0</td>\n",
       "      <td>0.0</td>\n",
       "    </tr>\n",
       "    <tr>\n",
       "      <th>1958-10-01</th>\n",
       "      <td>359.0</td>\n",
       "      <td>-45.0</td>\n",
       "      <td>56.0</td>\n",
       "      <td>12.0</td>\n",
       "    </tr>\n",
       "    <tr>\n",
       "      <th>1958-11-01</th>\n",
       "      <td>310.0</td>\n",
       "      <td>-49.0</td>\n",
       "      <td>-4.0</td>\n",
       "      <td>5.0</td>\n",
       "    </tr>\n",
       "    <tr>\n",
       "      <th>1958-12-01</th>\n",
       "      <td>337.0</td>\n",
       "      <td>27.0</td>\n",
       "      <td>76.0</td>\n",
       "      <td>1.0</td>\n",
       "    </tr>\n",
       "    <tr>\n",
       "      <th>1959-01-01</th>\n",
       "      <td>360.0</td>\n",
       "      <td>23.0</td>\n",
       "      <td>-4.0</td>\n",
       "      <td>20.0</td>\n",
       "    </tr>\n",
       "    <tr>\n",
       "      <th>1959-02-01</th>\n",
       "      <td>342.0</td>\n",
       "      <td>-18.0</td>\n",
       "      <td>-41.0</td>\n",
       "      <td>24.0</td>\n",
       "    </tr>\n",
       "    <tr>\n",
       "      <th>1959-03-01</th>\n",
       "      <td>406.0</td>\n",
       "      <td>64.0</td>\n",
       "      <td>82.0</td>\n",
       "      <td>44.0</td>\n",
       "    </tr>\n",
       "    <tr>\n",
       "      <th>1959-04-01</th>\n",
       "      <td>396.0</td>\n",
       "      <td>-10.0</td>\n",
       "      <td>-74.0</td>\n",
       "      <td>48.0</td>\n",
       "    </tr>\n",
       "    <tr>\n",
       "      <th>1959-05-01</th>\n",
       "      <td>420.0</td>\n",
       "      <td>24.0</td>\n",
       "      <td>34.0</td>\n",
       "      <td>57.0</td>\n",
       "    </tr>\n",
       "    <tr>\n",
       "      <th>1959-06-01</th>\n",
       "      <td>472.0</td>\n",
       "      <td>52.0</td>\n",
       "      <td>28.0</td>\n",
       "      <td>37.0</td>\n",
       "    </tr>\n",
       "    <tr>\n",
       "      <th>1959-07-01</th>\n",
       "      <td>548.0</td>\n",
       "      <td>76.0</td>\n",
       "      <td>24.0</td>\n",
       "      <td>57.0</td>\n",
       "    </tr>\n",
       "    <tr>\n",
       "      <th>1959-08-01</th>\n",
       "      <td>559.0</td>\n",
       "      <td>11.0</td>\n",
       "      <td>-65.0</td>\n",
       "      <td>54.0</td>\n",
       "    </tr>\n",
       "    <tr>\n",
       "      <th>1959-09-01</th>\n",
       "      <td>463.0</td>\n",
       "      <td>-96.0</td>\n",
       "      <td>-107.0</td>\n",
       "      <td>59.0</td>\n",
       "    </tr>\n",
       "    <tr>\n",
       "      <th>1959-10-01</th>\n",
       "      <td>407.0</td>\n",
       "      <td>-56.0</td>\n",
       "      <td>40.0</td>\n",
       "      <td>48.0</td>\n",
       "    </tr>\n",
       "    <tr>\n",
       "      <th>1959-11-01</th>\n",
       "      <td>362.0</td>\n",
       "      <td>-45.0</td>\n",
       "      <td>11.0</td>\n",
       "      <td>52.0</td>\n",
       "    </tr>\n",
       "    <tr>\n",
       "      <th>1959-12-01</th>\n",
       "      <td>405.0</td>\n",
       "      <td>43.0</td>\n",
       "      <td>88.0</td>\n",
       "      <td>68.0</td>\n",
       "    </tr>\n",
       "    <tr>\n",
       "      <th>1960-01-01</th>\n",
       "      <td>417.0</td>\n",
       "      <td>12.0</td>\n",
       "      <td>-31.0</td>\n",
       "      <td>57.0</td>\n",
       "    </tr>\n",
       "    <tr>\n",
       "      <th>1960-02-01</th>\n",
       "      <td>391.0</td>\n",
       "      <td>-26.0</td>\n",
       "      <td>-38.0</td>\n",
       "      <td>49.0</td>\n",
       "    </tr>\n",
       "    <tr>\n",
       "      <th>1960-03-01</th>\n",
       "      <td>419.0</td>\n",
       "      <td>28.0</td>\n",
       "      <td>54.0</td>\n",
       "      <td>13.0</td>\n",
       "    </tr>\n",
       "    <tr>\n",
       "      <th>1960-04-01</th>\n",
       "      <td>461.0</td>\n",
       "      <td>42.0</td>\n",
       "      <td>14.0</td>\n",
       "      <td>65.0</td>\n",
       "    </tr>\n",
       "    <tr>\n",
       "      <th>1960-05-01</th>\n",
       "      <td>472.0</td>\n",
       "      <td>11.0</td>\n",
       "      <td>-31.0</td>\n",
       "      <td>52.0</td>\n",
       "    </tr>\n",
       "    <tr>\n",
       "      <th>1960-06-01</th>\n",
       "      <td>535.0</td>\n",
       "      <td>63.0</td>\n",
       "      <td>52.0</td>\n",
       "      <td>63.0</td>\n",
       "    </tr>\n",
       "    <tr>\n",
       "      <th>1960-07-01</th>\n",
       "      <td>622.0</td>\n",
       "      <td>87.0</td>\n",
       "      <td>24.0</td>\n",
       "      <td>74.0</td>\n",
       "    </tr>\n",
       "    <tr>\n",
       "      <th>1960-08-01</th>\n",
       "      <td>606.0</td>\n",
       "      <td>-16.0</td>\n",
       "      <td>-103.0</td>\n",
       "      <td>47.0</td>\n",
       "    </tr>\n",
       "    <tr>\n",
       "      <th>1960-09-01</th>\n",
       "      <td>508.0</td>\n",
       "      <td>-98.0</td>\n",
       "      <td>-82.0</td>\n",
       "      <td>45.0</td>\n",
       "    </tr>\n",
       "    <tr>\n",
       "      <th>1960-10-01</th>\n",
       "      <td>461.0</td>\n",
       "      <td>-47.0</td>\n",
       "      <td>51.0</td>\n",
       "      <td>54.0</td>\n",
       "    </tr>\n",
       "    <tr>\n",
       "      <th>1960-11-01</th>\n",
       "      <td>390.0</td>\n",
       "      <td>-71.0</td>\n",
       "      <td>-24.0</td>\n",
       "      <td>28.0</td>\n",
       "    </tr>\n",
       "    <tr>\n",
       "      <th>1960-12-01</th>\n",
       "      <td>432.0</td>\n",
       "      <td>42.0</td>\n",
       "      <td>113.0</td>\n",
       "      <td>27.0</td>\n",
       "    </tr>\n",
       "  </tbody>\n",
       "</table>\n",
       "</div>"
      ],
      "text/plain": [
       "            Thousands of Passengers  first difference  second difference  \\\n",
       "Month                                                                      \n",
       "1956-01-01                    284.0               6.0              -35.0   \n",
       "1956-02-01                    277.0              -7.0              -13.0   \n",
       "1956-03-01                    317.0              40.0               47.0   \n",
       "1956-04-01                    313.0              -4.0              -44.0   \n",
       "1956-05-01                    318.0               5.0                9.0   \n",
       "1956-06-01                    374.0              56.0               51.0   \n",
       "1956-07-01                    413.0              39.0              -17.0   \n",
       "1956-08-01                    405.0              -8.0              -47.0   \n",
       "1956-09-01                    355.0             -50.0              -42.0   \n",
       "1956-10-01                    306.0             -49.0                1.0   \n",
       "1956-11-01                    271.0             -35.0               14.0   \n",
       "1956-12-01                    306.0              35.0               70.0   \n",
       "1957-01-01                    315.0               9.0              -26.0   \n",
       "1957-02-01                    301.0             -14.0              -23.0   \n",
       "1957-03-01                    356.0              55.0               69.0   \n",
       "1957-04-01                    348.0              -8.0              -63.0   \n",
       "1957-05-01                    355.0               7.0               15.0   \n",
       "1957-06-01                    422.0              67.0               60.0   \n",
       "1957-07-01                    465.0              43.0              -24.0   \n",
       "1957-08-01                    467.0               2.0              -41.0   \n",
       "1957-09-01                    404.0             -63.0              -65.0   \n",
       "1957-10-01                    347.0             -57.0                6.0   \n",
       "1957-11-01                    305.0             -42.0               15.0   \n",
       "1957-12-01                    336.0              31.0               73.0   \n",
       "1958-01-01                    340.0               4.0              -27.0   \n",
       "1958-02-01                    318.0             -22.0              -26.0   \n",
       "1958-03-01                    362.0              44.0               66.0   \n",
       "1958-04-01                    348.0             -14.0              -58.0   \n",
       "1958-05-01                    363.0              15.0               29.0   \n",
       "1958-06-01                    435.0              72.0               57.0   \n",
       "1958-07-01                    491.0              56.0              -16.0   \n",
       "1958-08-01                    505.0              14.0              -42.0   \n",
       "1958-09-01                    404.0            -101.0             -115.0   \n",
       "1958-10-01                    359.0             -45.0               56.0   \n",
       "1958-11-01                    310.0             -49.0               -4.0   \n",
       "1958-12-01                    337.0              27.0               76.0   \n",
       "1959-01-01                    360.0              23.0               -4.0   \n",
       "1959-02-01                    342.0             -18.0              -41.0   \n",
       "1959-03-01                    406.0              64.0               82.0   \n",
       "1959-04-01                    396.0             -10.0              -74.0   \n",
       "1959-05-01                    420.0              24.0               34.0   \n",
       "1959-06-01                    472.0              52.0               28.0   \n",
       "1959-07-01                    548.0              76.0               24.0   \n",
       "1959-08-01                    559.0              11.0              -65.0   \n",
       "1959-09-01                    463.0             -96.0             -107.0   \n",
       "1959-10-01                    407.0             -56.0               40.0   \n",
       "1959-11-01                    362.0             -45.0               11.0   \n",
       "1959-12-01                    405.0              43.0               88.0   \n",
       "1960-01-01                    417.0              12.0              -31.0   \n",
       "1960-02-01                    391.0             -26.0              -38.0   \n",
       "1960-03-01                    419.0              28.0               54.0   \n",
       "1960-04-01                    461.0              42.0               14.0   \n",
       "1960-05-01                    472.0              11.0              -31.0   \n",
       "1960-06-01                    535.0              63.0               52.0   \n",
       "1960-07-01                    622.0              87.0               24.0   \n",
       "1960-08-01                    606.0             -16.0             -103.0   \n",
       "1960-09-01                    508.0             -98.0              -82.0   \n",
       "1960-10-01                    461.0             -47.0               51.0   \n",
       "1960-11-01                    390.0             -71.0              -24.0   \n",
       "1960-12-01                    432.0              42.0              113.0   \n",
       "\n",
       "            12 difference  \n",
       "Month                      \n",
       "1956-01-01           42.0  \n",
       "1956-02-01           44.0  \n",
       "1956-03-01           50.0  \n",
       "1956-04-01           44.0  \n",
       "1956-05-01           48.0  \n",
       "1956-06-01           59.0  \n",
       "1956-07-01           49.0  \n",
       "1956-08-01           58.0  \n",
       "1956-09-01           43.0  \n",
       "1956-10-01           32.0  \n",
       "1956-11-01           34.0  \n",
       "1956-12-01           28.0  \n",
       "1957-01-01           31.0  \n",
       "1957-02-01           24.0  \n",
       "1957-03-01           39.0  \n",
       "1957-04-01           35.0  \n",
       "1957-05-01           37.0  \n",
       "1957-06-01           48.0  \n",
       "1957-07-01           52.0  \n",
       "1957-08-01           62.0  \n",
       "1957-09-01           49.0  \n",
       "1957-10-01           41.0  \n",
       "1957-11-01           34.0  \n",
       "1957-12-01           30.0  \n",
       "1958-01-01           25.0  \n",
       "1958-02-01           17.0  \n",
       "1958-03-01            6.0  \n",
       "1958-04-01            0.0  \n",
       "1958-05-01            8.0  \n",
       "1958-06-01           13.0  \n",
       "1958-07-01           26.0  \n",
       "1958-08-01           38.0  \n",
       "1958-09-01            0.0  \n",
       "1958-10-01           12.0  \n",
       "1958-11-01            5.0  \n",
       "1958-12-01            1.0  \n",
       "1959-01-01           20.0  \n",
       "1959-02-01           24.0  \n",
       "1959-03-01           44.0  \n",
       "1959-04-01           48.0  \n",
       "1959-05-01           57.0  \n",
       "1959-06-01           37.0  \n",
       "1959-07-01           57.0  \n",
       "1959-08-01           54.0  \n",
       "1959-09-01           59.0  \n",
       "1959-10-01           48.0  \n",
       "1959-11-01           52.0  \n",
       "1959-12-01           68.0  \n",
       "1960-01-01           57.0  \n",
       "1960-02-01           49.0  \n",
       "1960-03-01           13.0  \n",
       "1960-04-01           65.0  \n",
       "1960-05-01           52.0  \n",
       "1960-06-01           63.0  \n",
       "1960-07-01           74.0  \n",
       "1960-08-01           47.0  \n",
       "1960-09-01           45.0  \n",
       "1960-10-01           54.0  \n",
       "1960-11-01           28.0  \n",
       "1960-12-01           27.0  "
      ]
     },
     "execution_count": 106,
     "metadata": {},
     "output_type": "execute_result"
    }
   ],
   "source": [
    "test_data"
   ]
  },
  {
   "cell_type": "code",
   "execution_count": 107,
   "id": "23151787",
   "metadata": {},
   "outputs": [],
   "source": [
    "pred_start_date = test_data.index[0]\n",
    "pred_end_date = test_data.index[-1]"
   ]
  },
  {
   "cell_type": "code",
   "execution_count": 108,
   "id": "9b19a152",
   "metadata": {},
   "outputs": [
    {
     "name": "stderr",
     "output_type": "stream",
     "text": [
      "C:\\Users\\91986\\anaconda3\\lib\\site-packages\\statsmodels\\graphics\\tsaplots.py:348: FutureWarning: The default method 'yw' can produce PACF values outside of the [-1,1] interval. After 0.13, the default will change tounadjusted Yule-Walker ('ywm'). You can use this method now by setting method='ywm'.\n",
      "  warnings.warn(\n"
     ]
    },
    {
     "data": {
      "image/png": "[encoded data removed]",
      "text/plain": [
       "<Figure size 432x288 with 1 Axes>"
      ]
     },
     "metadata": {
      "needs_background": "light"
     },
     "output_type": "display_data"
    },
    {
     "data": {
      "image/png": "[encoded data removed]",
      "text/plain": [
       "<Figure size 432x288 with 1 Axes>"
      ]
     },
     "metadata": {
      "needs_background": "light"
     },
     "output_type": "display_data"
    }
   ],
   "source": [
    "#pacf grap to find out the p values for Arimax model\n",
    "pacf = plot_pacf(df['12 difference'].dropna())\n",
    "acf = plot_acf(df['12 difference'].dropna())"
   ]
  },
  {
   "cell_type": "code",
   "execution_count": 109,
   "id": "62b0a5d1",
   "metadata": {},
   "outputs": [],
   "source": [
    "from statsmodels.tsa.statespace.sarimax import SARIMAX"
   ]
  },
  {
   "cell_type": "code",
   "execution_count": 110,
   "id": "9b1ee35b",
   "metadata": {},
   "outputs": [
    {
     "name": "stderr",
     "output_type": "stream",
     "text": [
      "C:\\Users\\91986\\anaconda3\\lib\\site-packages\\statsmodels\\tsa\\base\\tsa_model.py:471: ValueWarning: No frequency information was provided, so inferred frequency MS will be used.\n",
      "  self._init_dates(dates, freq)\n",
      "C:\\Users\\91986\\anaconda3\\lib\\site-packages\\statsmodels\\tsa\\base\\tsa_model.py:471: ValueWarning: No frequency information was provided, so inferred frequency MS will be used.\n",
      "  self._init_dates(dates, freq)\n",
      "C:\\Users\\91986\\anaconda3\\lib\\site-packages\\statsmodels\\base\\model.py:604: ConvergenceWarning: Maximum Likelihood optimization failed to converge. Check mle_retvals\n",
      "  warnings.warn(\"Maximum Likelihood optimization failed to \"\n"
     ]
    }
   ],
   "source": [
    "model = SARIMAX(train_data['Thousands of Passengers'], order=(3, 0, 5), seasonal_order=(0, 1, 0, 12))\n",
    "model_fit = model.fit()"
   ]
  },
  {
   "cell_type": "code",
   "execution_count": 111,
   "id": "f4e63bc9",
   "metadata": {},
   "outputs": [],
   "source": [
    "pred = model_fit.predict(start=datetime(1949,12,1),end=datetime(1960,12,1))\n",
    "residuals = test_data['Thousands of Passengers']-pred"
   ]
  },
  {
   "cell_type": "code",
   "execution_count": 112,
   "id": "1f976f6f",
   "metadata": {},
   "outputs": [
    {
     "data": {
      "text/plain": [
       "1949-12-01           NaN\n",
       "1950-01-01           NaN\n",
       "1950-02-01           NaN\n",
       "1950-03-01           NaN\n",
       "1950-04-01           NaN\n",
       "                 ...    \n",
       "1960-08-01    145.754411\n",
       "1960-09-01     85.167128\n",
       "1960-10-01     79.354588\n",
       "1960-11-01     47.723706\n",
       "1960-12-01     51.698564\n",
       "Length: 133, dtype: float64"
      ]
     },
     "execution_count": 112,
     "metadata": {},
     "output_type": "execute_result"
    }
   ],
   "source": [
    "residuals"
   ]
  },
  {
   "cell_type": "code",
   "execution_count": 113,
   "id": "2806e9a7",
   "metadata": {},
   "outputs": [
    {
     "data": {
      "text/plain": [
       "1949-12-01      1.126295\n",
       "1950-01-01    113.205601\n",
       "1950-02-01    120.873461\n",
       "1950-03-01    138.590689\n",
       "1950-04-01    137.562629\n",
       "                 ...    \n",
       "1960-08-01    460.245589\n",
       "1960-09-01    422.832872\n",
       "1960-10-01    381.645412\n",
       "1960-11-01    342.276294\n",
       "1960-12-01    380.301436\n",
       "Freq: MS, Name: predicted_mean, Length: 133, dtype: float64"
      ]
     },
     "execution_count": 113,
     "metadata": {},
     "output_type": "execute_result"
    }
   ],
   "source": [
    "pred"
   ]
  },
  {
   "cell_type": "code",
   "execution_count": 114,
   "id": "459efec9",
   "metadata": {},
   "outputs": [
    {
     "data": {
      "text/plain": [
       "Month\n",
       "1949-01-01    112.0\n",
       "1949-02-01    118.0\n",
       "1949-03-01    132.0\n",
       "1949-04-01    129.0\n",
       "1949-05-01    121.0\n",
       "              ...  \n",
       "1960-08-01    606.0\n",
       "1960-09-01    508.0\n",
       "1960-10-01    461.0\n",
       "1960-11-01    390.0\n",
       "1960-12-01    432.0\n",
       "Name: Thousands of Passengers, Length: 144, dtype: float64"
      ]
     },
     "execution_count": 114,
     "metadata": {},
     "output_type": "execute_result"
    }
   ],
   "source": [
    "df['Thousands of Passengers']"
   ]
  },
  {
   "cell_type": "code",
   "execution_count": 115,
   "id": "e76777bd",
   "metadata": {},
   "outputs": [
    {
     "data": {
      "text/html": [
       "<table class=\"simpletable\">\n",
       "<caption>SARIMAX Results</caption>\n",
       "<tr>\n",
       "  <th>Dep. Variable:</th>       <td>Thousands of Passengers</td>     <th>  No. Observations:  </th>    <td>84</td>   \n",
       "</tr>\n",
       "<tr>\n",
       "  <th>Model:</th>           <td>SARIMAX(3, 0, 5)x(0, 1, [], 12)</td> <th>  Log Likelihood     </th> <td>-265.240</td>\n",
       "</tr>\n",
       "<tr>\n",
       "  <th>Date:</th>                   <td>Mon, 09 Jan 2023</td>         <th>  AIC                </th>  <td>548.481</td>\n",
       "</tr>\n",
       "<tr>\n",
       "  <th>Time:</th>                       <td>11:03:14</td>             <th>  BIC                </th>  <td>568.971</td>\n",
       "</tr>\n",
       "<tr>\n",
       "  <th>Sample:</th>                    <td>01-01-1949</td>            <th>  HQIC               </th>  <td>556.638</td>\n",
       "</tr>\n",
       "<tr>\n",
       "  <th></th>                          <td>- 12-01-1955</td>           <th>                     </th>     <td> </td>   \n",
       "</tr>\n",
       "<tr>\n",
       "  <th>Covariance Type:</th>               <td>opg</td>               <th>                     </th>     <td> </td>   \n",
       "</tr>\n",
       "</table>\n",
       "<table class=\"simpletable\">\n",
       "<tr>\n",
       "     <td></td>       <th>coef</th>     <th>std err</th>      <th>z</th>      <th>P>|z|</th>  <th>[0.025</th>    <th>0.975]</th>  \n",
       "</tr>\n",
       "<tr>\n",
       "  <th>ar.L1</th>  <td>    0.5984</td> <td>    0.937</td> <td>    0.638</td> <td> 0.523</td> <td>   -1.239</td> <td>    2.436</td>\n",
       "</tr>\n",
       "<tr>\n",
       "  <th>ar.L2</th>  <td>    0.8311</td> <td>    0.232</td> <td>    3.581</td> <td> 0.000</td> <td>    0.376</td> <td>    1.286</td>\n",
       "</tr>\n",
       "<tr>\n",
       "  <th>ar.L3</th>  <td>   -0.4526</td> <td>    0.894</td> <td>   -0.507</td> <td> 0.613</td> <td>   -2.204</td> <td>    1.299</td>\n",
       "</tr>\n",
       "<tr>\n",
       "  <th>ma.L1</th>  <td>    0.1837</td> <td>    1.164</td> <td>    0.158</td> <td> 0.875</td> <td>   -2.097</td> <td>    2.465</td>\n",
       "</tr>\n",
       "<tr>\n",
       "  <th>ma.L2</th>  <td>   -0.5342</td> <td>    1.262</td> <td>   -0.423</td> <td> 0.672</td> <td>   -3.007</td> <td>    1.938</td>\n",
       "</tr>\n",
       "<tr>\n",
       "  <th>ma.L3</th>  <td>   -0.0986</td> <td>    0.384</td> <td>   -0.257</td> <td> 0.797</td> <td>   -0.851</td> <td>    0.654</td>\n",
       "</tr>\n",
       "<tr>\n",
       "  <th>ma.L4</th>  <td>   -0.1272</td> <td>    0.337</td> <td>   -0.377</td> <td> 0.706</td> <td>   -0.788</td> <td>    0.534</td>\n",
       "</tr>\n",
       "<tr>\n",
       "  <th>ma.L5</th>  <td>    0.2471</td> <td>    0.357</td> <td>    0.693</td> <td> 0.488</td> <td>   -0.452</td> <td>    0.946</td>\n",
       "</tr>\n",
       "<tr>\n",
       "  <th>sigma2</th> <td>   87.7321</td> <td>   81.097</td> <td>    1.082</td> <td> 0.279</td> <td>  -71.214</td> <td>  246.679</td>\n",
       "</tr>\n",
       "</table>\n",
       "<table class=\"simpletable\">\n",
       "<tr>\n",
       "  <th>Ljung-Box (L1) (Q):</th>     <td>0.02</td> <th>  Jarque-Bera (JB):  </th> <td>2.68</td>\n",
       "</tr>\n",
       "<tr>\n",
       "  <th>Prob(Q):</th>                <td>0.88</td> <th>  Prob(JB):          </th> <td>0.26</td>\n",
       "</tr>\n",
       "<tr>\n",
       "  <th>Heteroskedasticity (H):</th> <td>2.05</td> <th>  Skew:              </th> <td>0.46</td>\n",
       "</tr>\n",
       "<tr>\n",
       "  <th>Prob(H) (two-sided):</th>    <td>0.09</td> <th>  Kurtosis:          </th> <td>2.77</td>\n",
       "</tr>\n",
       "</table><br/><br/>Warnings:<br/>[1] Covariance matrix calculated using the outer product of gradients (complex-step)."
      ],
      "text/plain": [
       "<class 'statsmodels.iolib.summary.Summary'>\n",
       "\"\"\"\n",
       "                                      SARIMAX Results                                      \n",
       "===========================================================================================\n",
       "Dep. Variable:             Thousands of Passengers   No. Observations:                   84\n",
       "Model:             SARIMAX(3, 0, 5)x(0, 1, [], 12)   Log Likelihood                -265.240\n",
       "Date:                             Mon, 09 Jan 2023   AIC                            548.481\n",
       "Time:                                     11:03:14   BIC                            568.971\n",
       "Sample:                                 01-01-1949   HQIC                           556.638\n",
       "                                      - 12-01-1955                                         \n",
       "Covariance Type:                               opg                                         \n",
       "==============================================================================\n",
       "                 coef    std err          z      P>|z|      [0.025      0.975]\n",
       "------------------------------------------------------------------------------\n",
       "ar.L1          0.5984      0.937      0.638      0.523      -1.239       2.436\n",
       "ar.L2          0.8311      0.232      3.581      0.000       0.376       1.286\n",
       "ar.L3         -0.4526      0.894     -0.507      0.613      -2.204       1.299\n",
       "ma.L1          0.1837      1.164      0.158      0.875      -2.097       2.465\n",
       "ma.L2         -0.5342      1.262     -0.423      0.672      -3.007       1.938\n",
       "ma.L3         -0.0986      0.384     -0.257      0.797      -0.851       0.654\n",
       "ma.L4         -0.1272      0.337     -0.377      0.706      -0.788       0.534\n",
       "ma.L5          0.2471      0.357      0.693      0.488      -0.452       0.946\n",
       "sigma2        87.7321     81.097      1.082      0.279     -71.214     246.679\n",
       "===================================================================================\n",
       "Ljung-Box (L1) (Q):                   0.02   Jarque-Bera (JB):                 2.68\n",
       "Prob(Q):                              0.88   Prob(JB):                         0.26\n",
       "Heteroskedasticity (H):               2.05   Skew:                             0.46\n",
       "Prob(H) (two-sided):                  0.09   Kurtosis:                         2.77\n",
       "===================================================================================\n",
       "\n",
       "Warnings:\n",
       "[1] Covariance matrix calculated using the outer product of gradients (complex-step).\n",
       "\"\"\""
      ]
     },
     "execution_count": 115,
     "metadata": {},
     "output_type": "execute_result"
    }
   ],
   "source": [
    "model_fit.summary()"
   ]
  },
  {
   "cell_type": "code",
   "execution_count": 116,
   "id": "334df87b",
   "metadata": {},
   "outputs": [
    {
     "data": {
      "text/html": [
       "<div>\n",
       "<style scoped>\n",
       "    .dataframe tbody tr th:only-of-type {\n",
       "        vertical-align: middle;\n",
       "    }\n",
       "\n",
       "    .dataframe tbody tr th {\n",
       "        vertical-align: top;\n",
       "    }\n",
       "\n",
       "    .dataframe thead th {\n",
       "        text-align: right;\n",
       "    }\n",
       "</style>\n",
       "<table border=\"1\" class=\"dataframe\">\n",
       "  <thead>\n",
       "    <tr style=\"text-align: right;\">\n",
       "      <th></th>\n",
       "      <th>Thousands of Passengers</th>\n",
       "      <th>first difference</th>\n",
       "      <th>second difference</th>\n",
       "      <th>12 difference</th>\n",
       "    </tr>\n",
       "    <tr>\n",
       "      <th>Month</th>\n",
       "      <th></th>\n",
       "      <th></th>\n",
       "      <th></th>\n",
       "      <th></th>\n",
       "    </tr>\n",
       "  </thead>\n",
       "  <tbody>\n",
       "    <tr>\n",
       "      <th>1960-08-01</th>\n",
       "      <td>606.0</td>\n",
       "      <td>-16.0</td>\n",
       "      <td>-103.0</td>\n",
       "      <td>47.0</td>\n",
       "    </tr>\n",
       "    <tr>\n",
       "      <th>1960-09-01</th>\n",
       "      <td>508.0</td>\n",
       "      <td>-98.0</td>\n",
       "      <td>-82.0</td>\n",
       "      <td>45.0</td>\n",
       "    </tr>\n",
       "    <tr>\n",
       "      <th>1960-10-01</th>\n",
       "      <td>461.0</td>\n",
       "      <td>-47.0</td>\n",
       "      <td>51.0</td>\n",
       "      <td>54.0</td>\n",
       "    </tr>\n",
       "    <tr>\n",
       "      <th>1960-11-01</th>\n",
       "      <td>390.0</td>\n",
       "      <td>-71.0</td>\n",
       "      <td>-24.0</td>\n",
       "      <td>28.0</td>\n",
       "    </tr>\n",
       "    <tr>\n",
       "      <th>1960-12-01</th>\n",
       "      <td>432.0</td>\n",
       "      <td>42.0</td>\n",
       "      <td>113.0</td>\n",
       "      <td>27.0</td>\n",
       "    </tr>\n",
       "  </tbody>\n",
       "</table>\n",
       "</div>"
      ],
      "text/plain": [
       "            Thousands of Passengers  first difference  second difference  \\\n",
       "Month                                                                      \n",
       "1960-08-01                    606.0             -16.0             -103.0   \n",
       "1960-09-01                    508.0             -98.0              -82.0   \n",
       "1960-10-01                    461.0             -47.0               51.0   \n",
       "1960-11-01                    390.0             -71.0              -24.0   \n",
       "1960-12-01                    432.0              42.0              113.0   \n",
       "\n",
       "            12 difference  \n",
       "Month                      \n",
       "1960-08-01           47.0  \n",
       "1960-09-01           45.0  \n",
       "1960-10-01           54.0  \n",
       "1960-11-01           28.0  \n",
       "1960-12-01           27.0  "
      ]
     },
     "execution_count": 116,
     "metadata": {},
     "output_type": "execute_result"
    }
   ],
   "source": [
    "test_data.tail()"
   ]
  },
  {
   "cell_type": "code",
   "execution_count": 117,
   "id": "8760469c",
   "metadata": {},
   "outputs": [],
   "source": [
    "df['predicted_sarima']=pred"
   ]
  },
  {
   "cell_type": "code",
   "execution_count": 118,
   "id": "dd4bd72f",
   "metadata": {},
   "outputs": [
    {
     "data": {
      "text/html": [
       "<div>\n",
       "<style scoped>\n",
       "    .dataframe tbody tr th:only-of-type {\n",
       "        vertical-align: middle;\n",
       "    }\n",
       "\n",
       "    .dataframe tbody tr th {\n",
       "        vertical-align: top;\n",
       "    }\n",
       "\n",
       "    .dataframe thead th {\n",
       "        text-align: right;\n",
       "    }\n",
       "</style>\n",
       "<table border=\"1\" class=\"dataframe\">\n",
       "  <thead>\n",
       "    <tr style=\"text-align: right;\">\n",
       "      <th></th>\n",
       "      <th>Thousands of Passengers</th>\n",
       "      <th>first difference</th>\n",
       "      <th>second difference</th>\n",
       "      <th>12 difference</th>\n",
       "      <th>predicted_sarima</th>\n",
       "    </tr>\n",
       "    <tr>\n",
       "      <th>Month</th>\n",
       "      <th></th>\n",
       "      <th></th>\n",
       "      <th></th>\n",
       "      <th></th>\n",
       "      <th></th>\n",
       "    </tr>\n",
       "  </thead>\n",
       "  <tbody>\n",
       "    <tr>\n",
       "      <th>1949-01-01</th>\n",
       "      <td>112.0</td>\n",
       "      <td>NaN</td>\n",
       "      <td>NaN</td>\n",
       "      <td>NaN</td>\n",
       "      <td>NaN</td>\n",
       "    </tr>\n",
       "    <tr>\n",
       "      <th>1949-02-01</th>\n",
       "      <td>118.0</td>\n",
       "      <td>6.0</td>\n",
       "      <td>NaN</td>\n",
       "      <td>NaN</td>\n",
       "      <td>NaN</td>\n",
       "    </tr>\n",
       "    <tr>\n",
       "      <th>1949-03-01</th>\n",
       "      <td>132.0</td>\n",
       "      <td>14.0</td>\n",
       "      <td>8.0</td>\n",
       "      <td>NaN</td>\n",
       "      <td>NaN</td>\n",
       "    </tr>\n",
       "    <tr>\n",
       "      <th>1949-04-01</th>\n",
       "      <td>129.0</td>\n",
       "      <td>-3.0</td>\n",
       "      <td>-17.0</td>\n",
       "      <td>NaN</td>\n",
       "      <td>NaN</td>\n",
       "    </tr>\n",
       "    <tr>\n",
       "      <th>1949-05-01</th>\n",
       "      <td>121.0</td>\n",
       "      <td>-8.0</td>\n",
       "      <td>-5.0</td>\n",
       "      <td>NaN</td>\n",
       "      <td>NaN</td>\n",
       "    </tr>\n",
       "    <tr>\n",
       "      <th>...</th>\n",
       "      <td>...</td>\n",
       "      <td>...</td>\n",
       "      <td>...</td>\n",
       "      <td>...</td>\n",
       "      <td>...</td>\n",
       "    </tr>\n",
       "    <tr>\n",
       "      <th>1960-08-01</th>\n",
       "      <td>606.0</td>\n",
       "      <td>-16.0</td>\n",
       "      <td>-103.0</td>\n",
       "      <td>47.0</td>\n",
       "      <td>460.245589</td>\n",
       "    </tr>\n",
       "    <tr>\n",
       "      <th>1960-09-01</th>\n",
       "      <td>508.0</td>\n",
       "      <td>-98.0</td>\n",
       "      <td>-82.0</td>\n",
       "      <td>45.0</td>\n",
       "      <td>422.832872</td>\n",
       "    </tr>\n",
       "    <tr>\n",
       "      <th>1960-10-01</th>\n",
       "      <td>461.0</td>\n",
       "      <td>-47.0</td>\n",
       "      <td>51.0</td>\n",
       "      <td>54.0</td>\n",
       "      <td>381.645412</td>\n",
       "    </tr>\n",
       "    <tr>\n",
       "      <th>1960-11-01</th>\n",
       "      <td>390.0</td>\n",
       "      <td>-71.0</td>\n",
       "      <td>-24.0</td>\n",
       "      <td>28.0</td>\n",
       "      <td>342.276294</td>\n",
       "    </tr>\n",
       "    <tr>\n",
       "      <th>1960-12-01</th>\n",
       "      <td>432.0</td>\n",
       "      <td>42.0</td>\n",
       "      <td>113.0</td>\n",
       "      <td>27.0</td>\n",
       "      <td>380.301436</td>\n",
       "    </tr>\n",
       "  </tbody>\n",
       "</table>\n",
       "<p>144 rows × 5 columns</p>\n",
       "</div>"
      ],
      "text/plain": [
       "            Thousands of Passengers  first difference  second difference  \\\n",
       "Month                                                                      \n",
       "1949-01-01                    112.0               NaN                NaN   \n",
       "1949-02-01                    118.0               6.0                NaN   \n",
       "1949-03-01                    132.0              14.0                8.0   \n",
       "1949-04-01                    129.0              -3.0              -17.0   \n",
       "1949-05-01                    121.0              -8.0               -5.0   \n",
       "...                             ...               ...                ...   \n",
       "1960-08-01                    606.0             -16.0             -103.0   \n",
       "1960-09-01                    508.0             -98.0              -82.0   \n",
       "1960-10-01                    461.0             -47.0               51.0   \n",
       "1960-11-01                    390.0             -71.0              -24.0   \n",
       "1960-12-01                    432.0              42.0              113.0   \n",
       "\n",
       "            12 difference  predicted_sarima  \n",
       "Month                                        \n",
       "1949-01-01            NaN               NaN  \n",
       "1949-02-01            NaN               NaN  \n",
       "1949-03-01            NaN               NaN  \n",
       "1949-04-01            NaN               NaN  \n",
       "1949-05-01            NaN               NaN  \n",
       "...                   ...               ...  \n",
       "1960-08-01           47.0        460.245589  \n",
       "1960-09-01           45.0        422.832872  \n",
       "1960-10-01           54.0        381.645412  \n",
       "1960-11-01           28.0        342.276294  \n",
       "1960-12-01           27.0        380.301436  \n",
       "\n",
       "[144 rows x 5 columns]"
      ]
     },
     "execution_count": 118,
     "metadata": {},
     "output_type": "execute_result"
    }
   ],
   "source": [
    "df"
   ]
  },
  {
   "cell_type": "code",
   "execution_count": 119,
   "id": "5e3f0bdb",
   "metadata": {},
   "outputs": [
    {
     "data": {
      "text/plain": [
       "<AxesSubplot:xlabel='Month'>"
      ]
     },
     "execution_count": 119,
     "metadata": {},
     "output_type": "execute_result"
    },
    {
     "data": {
      "image/png": "[encoded data removed]",
      "text/plain": [
       "<Figure size 432x288 with 1 Axes>"
      ]
     },
     "metadata": {
      "needs_background": "light"
     },
     "output_type": "display_data"
    }
   ],
   "source": [
    "df[['Thousands of Passengers','predicted_sarima']].plot()"
   ]
  },
  {
   "cell_type": "code",
   "execution_count": null,
   "id": "6ac5d63b",
   "metadata": {},
   "outputs": [],
   "source": []
  }
 ],
 "metadata": {
  "kernelspec": {
   "display_name": "Python 3 (ipykernel)",
   "language": "python",
   "name": "python3"
  },
  "language_info": {
   "codemirror_mode": {
    "name": "ipython",
    "version": 3
   },
   "file_extension": ".py",
   "mimetype": "text/x-python",
   "name": "python",
   "nbconvert_exporter": "python",
   "pygments_lexer": "ipython3",
   "version": "3.9.12"
  }
 },
 "nbformat": 4,
 "nbformat_minor": 5
}

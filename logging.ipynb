{
 "cells": [
  {
   "cell_type": "code",
   "execution_count": 9,
   "id": "c8d41a6c",
   "metadata": {},
   "outputs": [
    {
     "name": "stdout",
     "output_type": "stream",
     "text": [
      "[3, 6, 9]\n"
     ]
    }
   ],
   "source": [
    "#  l=[111,222,333]\n",
    "# output =[3,6,9]\n",
    "\n",
    "\n",
    "l=[111,222,333]\n",
    "j=[]\n",
    "for i in l:\n",
    "    j.append(str(i))\n",
    "\n",
    "q=[]\n",
    "for k in range(1):\n",
    "    q.append(len(j[k]))\n",
    "    q.append(len(j[k]+j[k+1]))\n",
    "    q.append(len(j[k]+j[k+1]+j[k+2]))\n",
    "print(q)"
   ]
  },
  {
   "cell_type": "code",
   "execution_count": 1,
   "id": "6f1949ed",
   "metadata": {},
   "outputs": [],
   "source": [
    "import logging as lg"
   ]
  },
  {
   "cell_type": "code",
   "execution_count": 2,
   "id": "e716f4e5",
   "metadata": {},
   "outputs": [],
   "source": [
    "import os"
   ]
  },
  {
   "cell_type": "code",
   "execution_count": 3,
   "id": "9b04b8a5",
   "metadata": {},
   "outputs": [
    {
     "data": {
      "text/plain": [
       "'C:\\\\Users\\\\91986'"
      ]
     },
     "execution_count": 3,
     "metadata": {},
     "output_type": "execute_result"
    }
   ],
   "source": [
    "os.getcwd()"
   ]
  },
  {
   "cell_type": "code",
   "execution_count": 4,
   "id": "4cfaa750",
   "metadata": {},
   "outputs": [
    {
     "ename": "FileExistsError",
     "evalue": "[WinError 183] Cannot create a file when that file already exists: 'C:/Users/91986/logging'",
     "output_type": "error",
     "traceback": [
      "\u001b[1;31m---------------------------------------------------------------------------\u001b[0m",
      "\u001b[1;31mFileExistsError\u001b[0m                           Traceback (most recent call last)",
      "Input \u001b[1;32mIn [4]\u001b[0m, in \u001b[0;36m<cell line: 1>\u001b[1;34m()\u001b[0m\n\u001b[1;32m----> 1\u001b[0m \u001b[43mos\u001b[49m\u001b[38;5;241;43m.\u001b[39;49m\u001b[43mmkdir\u001b[49m\u001b[43m(\u001b[49m\u001b[38;5;124;43m'\u001b[39;49m\u001b[38;5;124;43mC:/Users/91986/logging\u001b[39;49m\u001b[38;5;124;43m'\u001b[39;49m\u001b[43m)\u001b[49m\n",
      "\u001b[1;31mFileExistsError\u001b[0m: [WinError 183] Cannot create a file when that file already exists: 'C:/Users/91986/logging'"
     ]
    }
   ],
   "source": [
    "os.mkdir('C:/Users/91986/logging')"
   ]
  },
  {
   "cell_type": "code",
   "execution_count": 5,
   "id": "28cfc998",
   "metadata": {},
   "outputs": [],
   "source": [
    "os.chdir(os.getcwd()+\"/\"+\"logging\")"
   ]
  },
  {
   "cell_type": "code",
   "execution_count": 6,
   "id": "5be91405",
   "metadata": {},
   "outputs": [
    {
     "data": {
      "text/plain": [
       "'C:\\\\Users\\\\91986\\\\logging'"
      ]
     },
     "execution_count": 6,
     "metadata": {},
     "output_type": "execute_result"
    }
   ],
   "source": [
    "os.getcwd()"
   ]
  },
  {
   "cell_type": "code",
   "execution_count": null,
   "id": "175feb80",
   "metadata": {},
   "outputs": [],
   "source": [
    "lg.basicConfig(filename = 'test1.log1', level = lg.INFO,format = '%(asctime)s %(message)s' )"
   ]
  },
  {
   "cell_type": "code",
   "execution_count": null,
   "id": "908bdbd0",
   "metadata": {},
   "outputs": [],
   "source": [
    "lg.info('this is the first logging directory')"
   ]
  },
  {
   "cell_type": "code",
   "execution_count": null,
   "id": "2424da07",
   "metadata": {},
   "outputs": [],
   "source": [
    "lg.warning('this is a first warning of my program to modiffy')"
   ]
  },
  {
   "cell_type": "code",
   "execution_count": null,
   "id": "b9a54d8c",
   "metadata": {},
   "outputs": [],
   "source": [
    "lg.error('this is the message for error')"
   ]
  },
  {
   "cell_type": "code",
   "execution_count": null,
   "id": "71cd10ee",
   "metadata": {},
   "outputs": [],
   "source": [
    "def test(a,b):\n",
    "    try:\n",
    "        lg.info(str(a),str(b))\n",
    "        return a/b\n",
    "    except Exception as e:\n",
    "        print('you can check your log for correction')\n",
    "        lg.error('this is the error')\n",
    "        lg.exception(str(e))"
   ]
  },
  {
   "cell_type": "code",
   "execution_count": null,
   "id": "0e3bd4c1",
   "metadata": {},
   "outputs": [],
   "source": [
    "test(4,0)"
   ]
  },
  {
   "cell_type": "code",
   "execution_count": null,
   "id": "4bed5f83",
   "metadata": {},
   "outputs": [],
   "source": [
    "import os\n",
    "import logging as lg\n"
   ]
  },
  {
   "cell_type": "code",
   "execution_count": null,
   "id": "bf09e245",
   "metadata": {},
   "outputs": [],
   "source": [
    "os.getcwd()"
   ]
  },
  {
   "cell_type": "code",
   "execution_count": null,
   "id": "2a775ef0",
   "metadata": {},
   "outputs": [],
   "source": [
    "lg.basicConfig(filename='newfile.log',level= lg.INFO,format ='%(asctime)s %(message)s')"
   ]
  },
  {
   "cell_type": "code",
   "execution_count": null,
   "id": "5ecdcc4b",
   "metadata": {},
   "outputs": [],
   "source": [
    "def test(a,b):\n",
    "    lg.info('the function test is started')\n",
    "    return a+b"
   ]
  },
  {
   "cell_type": "code",
   "execution_count": null,
   "id": "76c25b84",
   "metadata": {},
   "outputs": [],
   "source": [
    "test(4,5)"
   ]
  },
  {
   "cell_type": "code",
   "execution_count": null,
   "id": "0dc4eff6",
   "metadata": {},
   "outputs": [],
   "source": [
    "try:\n",
    "    l=[12,23,5]\n",
    "    j=[2,56]\n",
    "    for i in range(len(l),-1,-1):\n",
    "        print(l[i])\n",
    "    \n",
    "    for k in j:\n",
    "        print(k/0)\n",
    "except Exception as e:\n",
    "    raise Exception(e)\n",
    "    \n"
   ]
  },
  {
   "cell_type": "code",
   "execution_count": null,
   "id": "557cf4dc",
   "metadata": {},
   "outputs": [],
   "source": [
    "    l=[12,23,5]\n",
    "    j=[2,56]\n",
    "    for i in range(len(l),-1,-1):\n",
    "        print(l[i])\n",
    "    "
   ]
  },
  {
   "cell_type": "code",
   "execution_count": null,
   "id": "f4cf230a",
   "metadata": {},
   "outputs": [],
   "source": [
    "j=[1,23]\n",
    "for k in j:\n",
    "    print(k/0)"
   ]
  },
  {
   "cell_type": "code",
   "execution_count": null,
   "id": "7c85bcf4",
   "metadata": {},
   "outputs": [],
   "source": [
    "try:\n",
    "    d={'key1':'sudh','key2':[1,23,4,5],'key3':(4,5,66,5)}\n",
    "    d['key4']=int(input())\n",
    "    c=int(input())\n",
    "    a=88/c\n",
    "\n",
    "except ZeroDivisionError as e:#the first mentioned class will be called following the hierarchy\n",
    "    print(e)\n",
    "except FileNotFoundError as e:\n",
    "    print(e)\n",
    "except Exception as e:#Ultimately Exception class will handle this error by following the hiereachy from the top\n",
    "    print('this  is my exception class',e)"
   ]
  },
  {
   "cell_type": "code",
   "execution_count": null,
   "id": "a81c3f31",
   "metadata": {},
   "outputs": [],
   "source": [
    "d"
   ]
  },
  {
   "cell_type": "code",
   "execution_count": null,
   "id": "00e22a00",
   "metadata": {},
   "outputs": [],
   "source": [
    "#creating your own custom message by overriding the systems message\n",
    "try:\n",
    "    d={'key1':'sudh','key2':[1,23,4,5],'key3':(4,5,66,5)}\n",
    "    d['key4']=int(input())#two error you can see here one is value error and one is your own custom message \n",
    "    f=open('test2','r')#My own custom message\n",
    "except:\n",
    "    raise Exception('there is no file found with test2 name')"
   ]
  },
  {
   "cell_type": "code",
   "execution_count": null,
   "id": "23149699",
   "metadata": {},
   "outputs": [],
   "source": [
    "l =[1,23,56,4]\n",
    "for i in l:\n",
    "    print(i)\n",
    "    if i ==4:\n",
    "        raise Exception('this is not good')"
   ]
  },
  {
   "cell_type": "code",
   "execution_count": null,
   "id": "d33e8e59",
   "metadata": {},
   "outputs": [],
   "source": [
    "try:\n",
    "    l=[1,23,45,6]\n",
    "    for i in l:\n",
    "        print(s[i])\n",
    "        lg.info('this is the first error')\n",
    "        print(l[i]/0)\n",
    "except ZeroDivisionError as e:\n",
    "    print(e)"
   ]
  },
  {
   "cell_type": "code",
   "execution_count": null,
   "id": "2c2a554e",
   "metadata": {},
   "outputs": [],
   "source": [
    "#creating your own custom message by overriding the systems message\n",
    "try:\n",
    "    d={'key1':'sudh','key2':[1,23,4,5],'key3':(4,5,66,5)}\n",
    "    d['key4']=int(input())#two error you can see here one is value error and one is your own custom message \n",
    "    f=open('test2','r')#My own custom message\n",
    "except Exception as e:\n",
    "    raise Exception(e)"
   ]
  },
  {
   "cell_type": "code",
   "execution_count": null,
   "id": "77d183f3",
   "metadata": {},
   "outputs": [],
   "source": [
    "#creating your own custom message by overriding the systems message\n",
    "try:\n",
    "    d={'key1':'sudh','key2':[1,23,4,5],'key3':(4,5,66,5)}\n",
    "    d['key4']=int(input())#two error you can see here one is value error and one is your own custom message \n",
    "    f=open('test2','r')#My own custom message\n",
    "except Exception as e:\n",
    "    print(e)"
   ]
  },
  {
   "cell_type": "code",
   "execution_count": null,
   "id": "cadd84ce",
   "metadata": {},
   "outputs": [],
   "source": [
    "import logging as lg\n",
    "lg.basicConfig(filename='newfile2.log',level= lg.INFO,format ='[%(asctime)s]  [%(message)s]')\n",
    "try:\n",
    "    lg.info('code started')\n",
    "    l=[1,23,45,6]\n",
    "    for i in l:\n",
    "        print(s[i])\n",
    "#         print(l[i]/0)\n",
    "except Exception as e:\n",
    "    lg.info(f\"you have any error at {e}\")\n",
    "    print('please check the log')"
   ]
  },
  {
   "cell_type": "code",
   "execution_count": null,
   "id": "e2e10361",
   "metadata": {},
   "outputs": [],
   "source": [
    "lg.debug('this is for debugging')\n",
    "lg.info('this is th info log')\n",
    "lg.warning('this is my warning log')\n",
    "lg.error('this is the error log')\n",
    "lg.exception('this is the exception log')\n",
    "lg.critical('this is the critical log')"
   ]
  },
  {
   "cell_type": "code",
   "execution_count": null,
   "id": "38249945",
   "metadata": {},
   "outputs": [],
   "source": [
    "import logging as lg\n",
    "lg.basicConfig(filename='newfile3.log',level= lg.INFO,format ='[%(asctime)s]  [%(message)s]')"
   ]
  },
  {
   "cell_type": "code",
   "execution_count": null,
   "id": "fbb33e21",
   "metadata": {},
   "outputs": [],
   "source": [
    "def test(*args):\n",
    "    try:\n",
    "        lg.info('this is the start of the code')\n",
    "        count = 0\n",
    "        for i in args:\n",
    "            count+= i\n",
    "            lg.info(f'this is the input passed {i}')\n",
    "            \n",
    "        return lg.info(f'the sum of the value is {count}')\n",
    "    \n",
    "    \n",
    "    except Exception as e:\n",
    "        lg.info(e)\n",
    "    "
   ]
  },
  {
   "cell_type": "code",
   "execution_count": null,
   "id": "ca1198c7",
   "metadata": {},
   "outputs": [],
   "source": [
    "test(1,23,5,56)\n",
    "f = open('newfile3.log','r')\n",
    "print(f.read())"
   ]
  },
  {
   "cell_type": "code",
   "execution_count": null,
   "id": "e6af9911",
   "metadata": {},
   "outputs": [],
   "source": [
    "f = open('test.log','r')\n",
    "print(f.read())"
   ]
  },
  {
   "cell_type": "code",
   "execution_count": 10,
   "id": "d15c3880",
   "metadata": {},
   "outputs": [
    {
     "name": "stderr",
     "output_type": "stream",
     "text": [
      "[%(asctime)s] [%(name)s] [%(levelname)s] [%(message)s] \n",
      "[%(asctime)s] [%(name)s] [%(levelname)s] [%(message)s] \n",
      "[%(asctime)s] [%(name)s] [%(levelname)s] [%(message)s] \n",
      "[%(asctime)s] [%(name)s] [%(levelname)s] [%(message)s] \n",
      "[%(asctime)s] [%(name)s] [%(levelname)s] [%(message)s] \n",
      "[%(asctime)s] [%(name)s] [%(levelname)s] [%(message)s] \n"
     ]
    }
   ],
   "source": [
    "import logging as lg\n",
    "lg.basicConfig(filename='my.log',level=lg.INFO ,format = \"[%(asctime)s] [%(name)s] [%(levelname)s] [%(message)s] \",filemode='w')\n",
    "#Create handler\n",
    "format = \"[%(asctime)s] [%(name)s] [%(levelname)s] [%(message)s] \"\n",
    "stream = lg.StreamHandler()\n",
    "stream.setLevel(lg.INFO)\n",
    "stream.setFormatter(format)\n",
    "#Create a custom logger\n",
    "lg.getLogger().addHandler(stream)\n",
    "lg.info('this is the first code for log')\n",
    "logger1 =lg.getLogger('user1')\n",
    "logger2 =lg.getLogger('user2')\n",
    "logger1.info('this is the info from user1')\n",
    "logger2.warning('this is the info from user2')\n",
    "logger2.debug('this is the info from user2')"
   ]
  },
  {
   "cell_type": "code",
   "execution_count": 2,
   "id": "1baa9c0c",
   "metadata": {},
   "outputs": [],
   "source": [
    "def testdebug():\n",
    "    db.set_trace()\n",
    "    l =[]\n",
    "    for i in range(10):\n",
    "        l.append(i)\n",
    "        print('append successful')\n",
    "    return l"
   ]
  },
  {
   "cell_type": "code",
   "execution_count": null,
   "id": "a6694382",
   "metadata": {},
   "outputs": [
    {
     "name": "stdout",
     "output_type": "stream",
     "text": [
      "> \u001b[1;32mc:\\users\\91986\\appdata\\local\\temp\\ipykernel_16456\\1223041555.py\u001b[0m(3)\u001b[0;36mtestdebug\u001b[1;34m()\u001b[0m\n",
      "\n",
      "ipdb> h\n",
      "\n",
      "Documented commands (type help <topic>):\n",
      "========================================\n",
      "EOF    commands   enable    ll        pp       s                until \n",
      "a      condition  exit      longlist  psource  skip_hidden      up    \n",
      "alias  cont       h         n         q        skip_predicates  w     \n",
      "args   context    help      next      quit     source           whatis\n",
      "b      continue   ignore    p         r        step             where \n",
      "break  d          interact  pdef      restart  tbreak         \n",
      "bt     debug      j         pdoc      return   u              \n",
      "c      disable    jump      pfile     retval   unalias        \n",
      "cl     display    l         pinfo     run      undisplay      \n",
      "clear  down       list      pinfo2    rv       unt            \n",
      "\n",
      "Miscellaneous help topics:\n",
      "==========================\n",
      "exec  pdb\n",
      "\n",
      "ipdb> next\n",
      "> \u001b[1;32mc:\\users\\91986\\appdata\\local\\temp\\ipykernel_16456\\1223041555.py\u001b[0m(4)\u001b[0;36mtestdebug\u001b[1;34m()\u001b[0m\n",
      "\n",
      "ipdb> next\n",
      "> \u001b[1;32mc:\\users\\91986\\appdata\\local\\temp\\ipykernel_16456\\1223041555.py\u001b[0m(5)\u001b[0;36mtestdebug\u001b[1;34m()\u001b[0m\n",
      "\n",
      "ipdb> next\n",
      "> \u001b[1;32mc:\\users\\91986\\appdata\\local\\temp\\ipykernel_16456\\1223041555.py\u001b[0m(6)\u001b[0;36mtestdebug\u001b[1;34m()\u001b[0m\n",
      "\n",
      "ipdb> next\n",
      "append successful\n",
      "> \u001b[1;32mc:\\users\\91986\\appdata\\local\\temp\\ipykernel_16456\\1223041555.py\u001b[0m(4)\u001b[0;36mtestdebug\u001b[1;34m()\u001b[0m\n",
      "\n",
      "ipdb> next\n",
      "> \u001b[1;32mc:\\users\\91986\\appdata\\local\\temp\\ipykernel_16456\\1223041555.py\u001b[0m(5)\u001b[0;36mtestdebug\u001b[1;34m()\u001b[0m\n",
      "\n",
      "ipdb> next\n",
      "> \u001b[1;32mc:\\users\\91986\\appdata\\local\\temp\\ipykernel_16456\\1223041555.py\u001b[0m(6)\u001b[0;36mtestdebug\u001b[1;34m()\u001b[0m\n",
      "\n",
      "ipdb> i\n",
      "1\n",
      "ipdb> i=5\n",
      "ipdb> next\n",
      "append successful\n",
      "> \u001b[1;32mc:\\users\\91986\\appdata\\local\\temp\\ipykernel_16456\\1223041555.py\u001b[0m(4)\u001b[0;36mtestdebug\u001b[1;34m()\u001b[0m\n",
      "\n",
      "ipdb> j=8\n",
      "*** The 'jump' command requires a line number\n",
      "ipdb> help(j)\n",
      "*** No help for '(j)'\n",
      "ipdb> j help\n",
      "*** The 'jump' command requires a line number\n",
      "ipdb> i\n",
      "5\n",
      "ipdb> next\n",
      "> \u001b[1;32mc:\\users\\91986\\appdata\\local\\temp\\ipykernel_16456\\1223041555.py\u001b[0m(5)\u001b[0;36mtestdebug\u001b[1;34m()\u001b[0m\n",
      "\n",
      "ipdb> next\n",
      "> \u001b[1;32mc:\\users\\91986\\appdata\\local\\temp\\ipykernel_16456\\1223041555.py\u001b[0m(6)\u001b[0;36mtestdebug\u001b[1;34m()\u001b[0m\n",
      "\n",
      "ipdb> next\n",
      "append successful\n",
      "> \u001b[1;32mc:\\users\\91986\\appdata\\local\\temp\\ipykernel_16456\\1223041555.py\u001b[0m(4)\u001b[0;36mtestdebug\u001b[1;34m()\u001b[0m\n",
      "\n",
      "ipdb> i\n",
      "2\n",
      "ipdb> h\n",
      "\n",
      "Documented commands (type help <topic>):\n",
      "========================================\n",
      "EOF    commands   enable    ll        pp       s                until \n",
      "a      condition  exit      longlist  psource  skip_hidden      up    \n",
      "alias  cont       h         n         q        skip_predicates  w     \n",
      "args   context    help      next      quit     source           whatis\n",
      "b      continue   ignore    p         r        step             where \n",
      "break  d          interact  pdef      restart  tbreak         \n",
      "bt     debug      j         pdoc      return   u              \n",
      "c      disable    jump      pfile     retval   unalias        \n",
      "cl     display    l         pinfo     run      undisplay      \n",
      "clear  down       list      pinfo2    rv       unt            \n",
      "\n",
      "Miscellaneous help topics:\n",
      "==========================\n",
      "exec  pdb\n",
      "\n",
      "ipdb> help jump\n",
      "j(ump) lineno\n",
      "        Set the next line that will be executed.  Only available in\n",
      "        the bottom-most frame.  This lets you jump back and execute\n",
      "        code again, or jump forward to skip code that you don't want\n",
      "        to run.\n",
      "\n",
      "        It should be noted that not all jumps are allowed -- for\n",
      "        instance it is not possible to jump into the middle of a\n",
      "        for loop or out of a finally clause.\n",
      "ipdb> help down\n",
      "d(own) [count]\n",
      "        Move the current frame count (default one) levels down in the\n",
      "        stack trace (to a newer frame).\n",
      "\n",
      "        Will skip hidden frames.\n",
      "ipdb> d\n",
      "*** Newest frame\n",
      "ipdb> n\n",
      "> \u001b[1;32mc:\\users\\91986\\appdata\\local\\temp\\ipykernel_16456\\1223041555.py\u001b[0m(5)\u001b[0;36mtestdebug\u001b[1;34m()\u001b[0m\n",
      "\n",
      "ipdb> n\n",
      "> \u001b[1;32mc:\\users\\91986\\appdata\\local\\temp\\ipykernel_16456\\1223041555.py\u001b[0m(6)\u001b[0;36mtestdebug\u001b[1;34m()\u001b[0m\n",
      "\n",
      "ipdb> \n",
      "append successful\n",
      "> \u001b[1;32mc:\\users\\91986\\appdata\\local\\temp\\ipykernel_16456\\1223041555.py\u001b[0m(4)\u001b[0;36mtestdebug\u001b[1;34m()\u001b[0m\n",
      "\n",
      "ipdb> \n",
      "> \u001b[1;32mc:\\users\\91986\\appdata\\local\\temp\\ipykernel_16456\\1223041555.py\u001b[0m(5)\u001b[0;36mtestdebug\u001b[1;34m()\u001b[0m\n",
      "\n",
      "ipdb> \n",
      "> \u001b[1;32mc:\\users\\91986\\appdata\\local\\temp\\ipykernel_16456\\1223041555.py\u001b[0m(6)\u001b[0;36mtestdebug\u001b[1;34m()\u001b[0m\n",
      "\n",
      "ipdb> \n",
      "append successful\n",
      "> \u001b[1;32mc:\\users\\91986\\appdata\\local\\temp\\ipykernel_16456\\1223041555.py\u001b[0m(4)\u001b[0;36mtestdebug\u001b[1;34m()\u001b[0m\n",
      "\n",
      "ipdb> \n",
      "> \u001b[1;32mc:\\users\\91986\\appdata\\local\\temp\\ipykernel_16456\\1223041555.py\u001b[0m(5)\u001b[0;36mtestdebug\u001b[1;34m()\u001b[0m\n",
      "\n",
      "ipdb> \n",
      "> \u001b[1;32mc:\\users\\91986\\appdata\\local\\temp\\ipykernel_16456\\1223041555.py\u001b[0m(6)\u001b[0;36mtestdebug\u001b[1;34m()\u001b[0m\n",
      "\n",
      "ipdb> \n",
      "append successful\n",
      "> \u001b[1;32mc:\\users\\91986\\appdata\\local\\temp\\ipykernel_16456\\1223041555.py\u001b[0m(4)\u001b[0;36mtestdebug\u001b[1;34m()\u001b[0m\n",
      "\n",
      "ipdb> \n",
      "> \u001b[1;32mc:\\users\\91986\\appdata\\local\\temp\\ipykernel_16456\\1223041555.py\u001b[0m(5)\u001b[0;36mtestdebug\u001b[1;34m()\u001b[0m\n",
      "\n",
      "ipdb> \n",
      "> \u001b[1;32mc:\\users\\91986\\appdata\\local\\temp\\ipykernel_16456\\1223041555.py\u001b[0m(6)\u001b[0;36mtestdebug\u001b[1;34m()\u001b[0m\n",
      "\n",
      "ipdb> \n",
      "append successful\n",
      "> \u001b[1;32mc:\\users\\91986\\appdata\\local\\temp\\ipykernel_16456\\1223041555.py\u001b[0m(4)\u001b[0;36mtestdebug\u001b[1;34m()\u001b[0m\n",
      "\n",
      "ipdb> \n",
      "> \u001b[1;32mc:\\users\\91986\\appdata\\local\\temp\\ipykernel_16456\\1223041555.py\u001b[0m(5)\u001b[0;36mtestdebug\u001b[1;34m()\u001b[0m\n",
      "\n",
      "ipdb> \n",
      "> \u001b[1;32mc:\\users\\91986\\appdata\\local\\temp\\ipykernel_16456\\1223041555.py\u001b[0m(6)\u001b[0;36mtestdebug\u001b[1;34m()\u001b[0m\n",
      "\n",
      "ipdb> \n",
      "append successful\n",
      "> \u001b[1;32mc:\\users\\91986\\appdata\\local\\temp\\ipykernel_16456\\1223041555.py\u001b[0m(4)\u001b[0;36mtestdebug\u001b[1;34m()\u001b[0m\n",
      "\n",
      "ipdb> \n",
      "> \u001b[1;32mc:\\users\\91986\\appdata\\local\\temp\\ipykernel_16456\\1223041555.py\u001b[0m(5)\u001b[0;36mtestdebug\u001b[1;34m()\u001b[0m\n",
      "\n",
      "ipdb> \n",
      "> \u001b[1;32mc:\\users\\91986\\appdata\\local\\temp\\ipykernel_16456\\1223041555.py\u001b[0m(6)\u001b[0;36mtestdebug\u001b[1;34m()\u001b[0m\n",
      "\n",
      "ipdb> i\n",
      "8\n",
      "ipdb> n\n",
      "append successful\n",
      "> \u001b[1;32mc:\\users\\91986\\appdata\\local\\temp\\ipykernel_16456\\1223041555.py\u001b[0m(4)\u001b[0;36mtestdebug\u001b[1;34m()\u001b[0m\n",
      "\n",
      "ipdb> \n",
      "> \u001b[1;32mc:\\users\\91986\\appdata\\local\\temp\\ipykernel_16456\\1223041555.py\u001b[0m(5)\u001b[0;36mtestdebug\u001b[1;34m()\u001b[0m\n",
      "\n",
      "ipdb> \n",
      "> \u001b[1;32mc:\\users\\91986\\appdata\\local\\temp\\ipykernel_16456\\1223041555.py\u001b[0m(6)\u001b[0;36mtestdebug\u001b[1;34m()\u001b[0m\n",
      "\n",
      "ipdb> \n",
      "append successful\n",
      "> \u001b[1;32mc:\\users\\91986\\appdata\\local\\temp\\ipykernel_16456\\1223041555.py\u001b[0m(4)\u001b[0;36mtestdebug\u001b[1;34m()\u001b[0m\n",
      "\n",
      "ipdb> \n",
      "> \u001b[1;32mc:\\users\\91986\\appdata\\local\\temp\\ipykernel_16456\\1223041555.py\u001b[0m(7)\u001b[0;36mtestdebug\u001b[1;34m()\u001b[0m\n",
      "\n",
      "ipdb> \n",
      "--Return--\n",
      "[0, 1, 2, 3, 4, 5, ...]\n",
      "> \u001b[1;32mc:\\users\\91986\\appdata\\local\\temp\\ipykernel_16456\\1223041555.py\u001b[0m(7)\u001b[0;36mtestdebug\u001b[1;34m()\u001b[0m\n",
      "\n",
      "ipdb> \n",
      "--Call--\n",
      "> \u001b[1;32mc:\\users\\91986\\anaconda3\\lib\\site-packages\\ipython\\core\\displayhook.py\u001b[0m(252)\u001b[0;36m__call__\u001b[1;34m()\u001b[0m\n",
      "\u001b[1;32m    251 \u001b[1;33m\u001b[1;33m\u001b[0m\u001b[0m\n",
      "\u001b[0m\u001b[1;32m--> 252 \u001b[1;33m    \u001b[1;32mdef\u001b[0m \u001b[0m__call__\u001b[0m\u001b[1;33m(\u001b[0m\u001b[0mself\u001b[0m\u001b[1;33m,\u001b[0m \u001b[0mresult\u001b[0m\u001b[1;33m=\u001b[0m\u001b[1;32mNone\u001b[0m\u001b[1;33m)\u001b[0m\u001b[1;33m:\u001b[0m\u001b[1;33m\u001b[0m\u001b[1;33m\u001b[0m\u001b[0m\n",
      "\u001b[0m\u001b[1;32m    253 \u001b[1;33m        \"\"\"Printing with history cache management.\n",
      "\u001b[0m\n",
      "ipdb> \n",
      "> \u001b[1;32mc:\\users\\91986\\anaconda3\\lib\\site-packages\\ipython\\core\\displayhook.py\u001b[0m(258)\u001b[0;36m__call__\u001b[1;34m()\u001b[0m\n",
      "\u001b[1;32m    257 \u001b[1;33m        \"\"\"\n",
      "\u001b[0m\u001b[1;32m--> 258 \u001b[1;33m        \u001b[0mself\u001b[0m\u001b[1;33m.\u001b[0m\u001b[0mcheck_for_underscore\u001b[0m\u001b[1;33m(\u001b[0m\u001b[1;33m)\u001b[0m\u001b[1;33m\u001b[0m\u001b[1;33m\u001b[0m\u001b[0m\n",
      "\u001b[0m\u001b[1;32m    259 \u001b[1;33m        \u001b[1;32mif\u001b[0m \u001b[0mresult\u001b[0m \u001b[1;32mis\u001b[0m \u001b[1;32mnot\u001b[0m \u001b[1;32mNone\u001b[0m \u001b[1;32mand\u001b[0m \u001b[1;32mnot\u001b[0m \u001b[0mself\u001b[0m\u001b[1;33m.\u001b[0m\u001b[0mquiet\u001b[0m\u001b[1;33m(\u001b[0m\u001b[1;33m)\u001b[0m\u001b[1;33m:\u001b[0m\u001b[1;33m\u001b[0m\u001b[1;33m\u001b[0m\u001b[0m\n",
      "\u001b[0m\n",
      "ipdb> \n",
      "> \u001b[1;32mc:\\users\\91986\\anaconda3\\lib\\site-packages\\ipython\\core\\displayhook.py\u001b[0m(259)\u001b[0;36m__call__\u001b[1;34m()\u001b[0m\n",
      "\u001b[1;32m    258 \u001b[1;33m        \u001b[0mself\u001b[0m\u001b[1;33m.\u001b[0m\u001b[0mcheck_for_underscore\u001b[0m\u001b[1;33m(\u001b[0m\u001b[1;33m)\u001b[0m\u001b[1;33m\u001b[0m\u001b[1;33m\u001b[0m\u001b[0m\n",
      "\u001b[0m\u001b[1;32m--> 259 \u001b[1;33m        \u001b[1;32mif\u001b[0m \u001b[0mresult\u001b[0m \u001b[1;32mis\u001b[0m \u001b[1;32mnot\u001b[0m \u001b[1;32mNone\u001b[0m \u001b[1;32mand\u001b[0m \u001b[1;32mnot\u001b[0m \u001b[0mself\u001b[0m\u001b[1;33m.\u001b[0m\u001b[0mquiet\u001b[0m\u001b[1;33m(\u001b[0m\u001b[1;33m)\u001b[0m\u001b[1;33m:\u001b[0m\u001b[1;33m\u001b[0m\u001b[1;33m\u001b[0m\u001b[0m\n",
      "\u001b[0m\u001b[1;32m    260 \u001b[1;33m            \u001b[0mself\u001b[0m\u001b[1;33m.\u001b[0m\u001b[0mstart_displayhook\u001b[0m\u001b[1;33m(\u001b[0m\u001b[1;33m)\u001b[0m\u001b[1;33m\u001b[0m\u001b[1;33m\u001b[0m\u001b[0m\n",
      "\u001b[0m\n"
     ]
    },
    {
     "name": "stdout",
     "output_type": "stream",
     "text": [
      "ipdb> n\n",
      "> \u001b[1;32mc:\\users\\91986\\anaconda3\\lib\\site-packages\\ipython\\core\\displayhook.py\u001b[0m(260)\u001b[0;36m__call__\u001b[1;34m()\u001b[0m\n",
      "\u001b[1;32m    259 \u001b[1;33m        \u001b[1;32mif\u001b[0m \u001b[0mresult\u001b[0m \u001b[1;32mis\u001b[0m \u001b[1;32mnot\u001b[0m \u001b[1;32mNone\u001b[0m \u001b[1;32mand\u001b[0m \u001b[1;32mnot\u001b[0m \u001b[0mself\u001b[0m\u001b[1;33m.\u001b[0m\u001b[0mquiet\u001b[0m\u001b[1;33m(\u001b[0m\u001b[1;33m)\u001b[0m\u001b[1;33m:\u001b[0m\u001b[1;33m\u001b[0m\u001b[1;33m\u001b[0m\u001b[0m\n",
      "\u001b[0m\u001b[1;32m--> 260 \u001b[1;33m            \u001b[0mself\u001b[0m\u001b[1;33m.\u001b[0m\u001b[0mstart_displayhook\u001b[0m\u001b[1;33m(\u001b[0m\u001b[1;33m)\u001b[0m\u001b[1;33m\u001b[0m\u001b[1;33m\u001b[0m\u001b[0m\n",
      "\u001b[0m\u001b[1;32m    261 \u001b[1;33m            \u001b[0mself\u001b[0m\u001b[1;33m.\u001b[0m\u001b[0mwrite_output_prompt\u001b[0m\u001b[1;33m(\u001b[0m\u001b[1;33m)\u001b[0m\u001b[1;33m\u001b[0m\u001b[1;33m\u001b[0m\u001b[0m\n",
      "\u001b[0m\n",
      "ipdb> i\n",
      "*** NameError: name 'i' is not defined\n"
     ]
    }
   ],
   "source": [
    "testdebug()"
   ]
  },
  {
   "cell_type": "code",
   "execution_count": 3,
   "id": "6547c972",
   "metadata": {},
   "outputs": [
    {
     "name": "stdout",
     "output_type": "stream",
     "text": [
      "Requirement already satisfied: ipdb in c:\\users\\91986\\anaconda3\\lib\\site-packages (0.13.11)\n",
      "Requirement already satisfied: tomli in c:\\users\\91986\\anaconda3\\lib\\site-packages (from ipdb) (1.2.2)\n",
      "Requirement already satisfied: decorator in c:\\users\\91986\\anaconda3\\lib\\site-packages (from ipdb) (5.1.1)\n",
      "Requirement already satisfied: ipython>=7.31.1 in c:\\users\\91986\\anaconda3\\lib\\site-packages (from ipdb) (8.2.0)\n",
      "Requirement already satisfied: backcall in c:\\users\\91986\\anaconda3\\lib\\site-packages (from ipython>=7.31.1->ipdb) (0.2.0)\n",
      "Requirement already satisfied: setuptools>=18.5 in c:\\users\\91986\\anaconda3\\lib\\site-packages (from ipython>=7.31.1->ipdb) (60.10.0)\n",
      "Requirement already satisfied: stack-data in c:\\users\\91986\\anaconda3\\lib\\site-packages (from ipython>=7.31.1->ipdb) (0.2.0)\n",
      "Requirement already satisfied: pygments>=2.4.0 in c:\\users\\91986\\anaconda3\\lib\\site-packages (from ipython>=7.31.1->ipdb) (2.11.2)\n",
      "Requirement already satisfied: matplotlib-inline in c:\\users\\91986\\anaconda3\\lib\\site-packages (from ipython>=7.31.1->ipdb) (0.1.2)\n",
      "Requirement already satisfied: traitlets>=5 in c:\\users\\91986\\anaconda3\\lib\\site-packages (from ipython>=7.31.1->ipdb) (5.1.1)\n",
      "Requirement already satisfied: prompt-toolkit!=3.0.0,!=3.0.1,<3.1.0,>=2.0.0 in c:\\users\\91986\\anaconda3\\lib\\site-packages (from ipython>=7.31.1->ipdb) (3.0.20)\n",
      "Requirement already satisfied: colorama in c:\\users\\91986\\anaconda3\\lib\\site-packages (from ipython>=7.31.1->ipdb) (0.4.4)\n",
      "Requirement already satisfied: pickleshare in c:\\users\\91986\\anaconda3\\lib\\site-packages (from ipython>=7.31.1->ipdb) (0.7.5)\n",
      "Requirement already satisfied: jedi>=0.16 in c:\\users\\91986\\anaconda3\\lib\\site-packages (from ipython>=7.31.1->ipdb) (0.18.1)\n",
      "Requirement already satisfied: parso<0.9.0,>=0.8.0 in c:\\users\\91986\\anaconda3\\lib\\site-packages (from jedi>=0.16->ipython>=7.31.1->ipdb) (0.8.3)\n",
      "Requirement already satisfied: wcwidth in c:\\users\\91986\\anaconda3\\lib\\site-packages (from prompt-toolkit!=3.0.0,!=3.0.1,<3.1.0,>=2.0.0->ipython>=7.31.1->ipdb) (0.2.5)\n",
      "Requirement already satisfied: asttokens in c:\\users\\91986\\anaconda3\\lib\\site-packages (from stack-data->ipython>=7.31.1->ipdb) (2.0.5)\n",
      "Requirement already satisfied: executing in c:\\users\\91986\\anaconda3\\lib\\site-packages (from stack-data->ipython>=7.31.1->ipdb) (0.8.3)\n",
      "Requirement already satisfied: pure-eval in c:\\users\\91986\\anaconda3\\lib\\site-packages (from stack-data->ipython>=7.31.1->ipdb) (0.2.2)\n",
      "Requirement already satisfied: six in c:\\users\\91986\\anaconda3\\lib\\site-packages (from asttokens->stack-data->ipython>=7.31.1->ipdb) (1.15.0)\n"
     ]
    }
   ],
   "source": [
    "!pip install ipdb"
   ]
  },
  {
   "cell_type": "code",
   "execution_count": 1,
   "id": "f02ff01f",
   "metadata": {},
   "outputs": [],
   "source": [
    "import ipdb as db"
   ]
  }
 ],
 "metadata": {
  "kernelspec": {
   "display_name": "Python 3 (ipykernel)",
   "language": "python",
   "name": "python3"
  },
  "language_info": {
   "codemirror_mode": {
    "name": "ipython",
    "version": 3
   },
   "file_extension": ".py",
   "mimetype": "text/x-python",
   "name": "python",
   "nbconvert_exporter": "python",
   "pygments_lexer": "ipython3",
   "version": "3.9.12"
  }
 },
 "nbformat": 4,
 "nbformat_minor": 5
}

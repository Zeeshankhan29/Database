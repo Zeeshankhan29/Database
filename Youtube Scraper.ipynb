{
 "cells": [
  {
   "cell_type": "code",
   "execution_count": 99,
   "id": "dc1a8768",
   "metadata": {},
   "outputs": [],
   "source": [
    "import requests\n",
    "from bs4 import BeautifulSoup as bs\n",
    "import pandas as pd\n",
    "from urllib.request import urlopen as uReq"
   ]
  },
  {
   "cell_type": "code",
   "execution_count": 100,
   "id": "7e3f3931",
   "metadata": {},
   "outputs": [],
   "source": [
    "Search='krish naik'\n",
    "search=Search.replace(' ','')"
   ]
  },
  {
   "cell_type": "code",
   "execution_count": 101,
   "id": "bb5a60cc",
   "metadata": {},
   "outputs": [],
   "source": [
    "link='https://www.youtube.com/results?search_query='+search"
   ]
  },
  {
   "cell_type": "code",
   "execution_count": 102,
   "id": "e805ba2c",
   "metadata": {},
   "outputs": [
    {
     "data": {
      "text/plain": [
       "'https://www.youtube.com/results?search_query=krishnaik'"
      ]
     },
     "execution_count": 102,
     "metadata": {},
     "output_type": "execute_result"
    }
   ],
   "source": [
    "link"
   ]
  },
  {
   "cell_type": "code",
   "execution_count": 103,
   "id": "ee550034",
   "metadata": {},
   "outputs": [],
   "source": [
    "uClient=uReq(link)"
   ]
  },
  {
   "cell_type": "code",
   "execution_count": 104,
   "id": "eb5a1db8",
   "metadata": {},
   "outputs": [],
   "source": [
    "youtube_page=uClient.read()"
   ]
  },
  {
   "cell_type": "code",
   "execution_count": 105,
   "id": "1403378c",
   "metadata": {},
   "outputs": [],
   "source": [
    "youtube_html=bs(youtube_page,'html.parser')"
   ]
  },
  {
   "cell_type": "code",
   "execution_count": 106,
   "id": "4ba69926",
   "metadata": {},
   "outputs": [
    {
     "data": {
      "text/plain": [
       "[]"
      ]
     },
     "execution_count": 106,
     "metadata": {},
     "output_type": "execute_result"
    }
   ],
   "source": [
    "youtube_html.find_all('div',{'class':\"text-wrapper style-scope ytd-video-renderer\"})"
   ]
  },
  {
   "cell_type": "code",
   "execution_count": null,
   "id": "095aa2be",
   "metadata": {},
   "outputs": [],
   "source": []
  },
  {
   "cell_type": "code",
   "execution_count": null,
   "id": "6e466220",
   "metadata": {},
   "outputs": [],
   "source": []
  },
  {
   "cell_type": "code",
   "execution_count": null,
   "id": "99cc9daa",
   "metadata": {},
   "outputs": [],
   "source": []
  }
 ],
 "metadata": {
  "kernelspec": {
   "display_name": "Python 3 (ipykernel)",
   "language": "python",
   "name": "python3"
  },
  "language_info": {
   "codemirror_mode": {
    "name": "ipython",
    "version": 3
   },
   "file_extension": ".py",
   "mimetype": "text/x-python",
   "name": "python",
   "nbconvert_exporter": "python",
   "pygments_lexer": "ipython3",
   "version": "3.9.12"
  }
 },
 "nbformat": 4,
 "nbformat_minor": 5
}

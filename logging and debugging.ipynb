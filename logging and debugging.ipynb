{
 "cells": [
  {
   "cell_type": "code",
   "execution_count": 1,
   "id": "4faf296c",
   "metadata": {},
   "outputs": [],
   "source": [
    "import logging as lg"
   ]
  },
  {
   "cell_type": "code",
   "execution_count": null,
   "id": "7dbc071f",
   "metadata": {},
   "outputs": [],
   "source": [
    "lg.basicConfig(filename='test.log',)"
   ]
  },
  {
   "cell_type": "code",
   "execution_count": 1,
   "id": "0f89917e",
   "metadata": {},
   "outputs": [],
   "source": [
    "s = 'I can help'"
   ]
  },
  {
   "cell_type": "code",
   "execution_count": 12,
   "id": "ea85e585",
   "metadata": {},
   "outputs": [
    {
     "name": "stdout",
     "output_type": "stream",
     "text": [
      "3\n"
     ]
    }
   ],
   "source": [
    "vowel='aeiou'\n",
    "count=0\n",
    "for i in s.casefold().split(' '):\n",
    "    for j in i:\n",
    "        if j in vowel:\n",
    "            count+=1\n",
    "print(count)\n",
    "            "
   ]
  },
  {
   "cell_type": "code",
   "execution_count": 14,
   "id": "c599c891",
   "metadata": {},
   "outputs": [
    {
     "name": "stdout",
     "output_type": "stream",
     "text": [
      "['Obvious', 'Functionality', 'directory', 'application']\n"
     ]
    }
   ],
   "source": [
    "import re\n",
    "rx = r\"\\b(?:\\w*[aeiyouAEIYOU]){3}\\w*\"\n",
    "text = \"And words with at least 3 vowels are: Obvious, Functionality, looking, directory, application\"\n",
    "print( re.findall(rx, text) )\n",
    "# => ['Obvious', 'Functionality', 'looking', 'directory', 'application']"
   ]
  },
  {
   "cell_type": "code",
   "execution_count": 110,
   "id": "f9876bcb",
   "metadata": {},
   "outputs": [],
   "source": [
    "class car:\n",
    "    def __init__(self,a,b,c):\n",
    "        self.a=a\n",
    "        self.b=b\n",
    "        self.c=c\n",
    "        \n",
    "        \n",
    "    def test(self):\n",
    "        print('this is the test method of car00000 class')\n",
    "        \n",
    "    def test22(self):\n",
    "        return self.test()\n",
    "        \n",
    "        \n",
    "        \n",
    "class bike(car):\n",
    "    def __init__(self,p,q,r,*args):\n",
    "        car.__init__(self,*args)\n",
    "        self.p=p\n",
    "        self.q=q\n",
    "        self.r=r\n",
    "        \n",
    "        \n",
    "    def test1(self):\n",
    "        return self.test()\n",
    "        \n",
    "        \n"
   ]
  },
  {
   "cell_type": "code",
   "execution_count": 112,
   "id": "9ee9ca13",
   "metadata": {},
   "outputs": [],
   "source": [
    "o=bike(1,2,3,4,8,800)"
   ]
  },
  {
   "cell_type": "code",
   "execution_count": 114,
   "id": "a04b7c13",
   "metadata": {},
   "outputs": [
    {
     "data": {
      "text/plain": [
       "8"
      ]
     },
     "execution_count": 114,
     "metadata": {},
     "output_type": "execute_result"
    }
   ],
   "source": [
    "o.b"
   ]
  },
  {
   "cell_type": "code",
   "execution_count": null,
   "id": "681f43ec",
   "metadata": {},
   "outputs": [],
   "source": []
  },
  {
   "cell_type": "code",
   "execution_count": 53,
   "id": "36ad6d44",
   "metadata": {},
   "outputs": [],
   "source": [
    "o=child(1,2,3,a=4,b=5,c=6)"
   ]
  },
  {
   "cell_type": "code",
   "execution_count": 54,
   "id": "0cc94eb9",
   "metadata": {},
   "outputs": [
    {
     "data": {
      "text/plain": [
       "4"
      ]
     },
     "execution_count": 54,
     "metadata": {},
     "output_type": "execute_result"
    }
   ],
   "source": [
    "o.a"
   ]
  },
  {
   "cell_type": "code",
   "execution_count": 89,
   "id": "92223c9d",
   "metadata": {},
   "outputs": [
    {
     "ename": "TypeError",
     "evalue": "test22() takes 1 positional argument but 2 were given",
     "output_type": "error",
     "traceback": [
      "\u001b[1;31m---------------------------------------------------------------------------\u001b[0m",
      "\u001b[1;31mTypeError\u001b[0m                                 Traceback (most recent call last)",
      "Input \u001b[1;32mIn [89]\u001b[0m, in \u001b[0;36m<cell line: 1>\u001b[1;34m()\u001b[0m\n\u001b[1;32m----> 1\u001b[0m \u001b[43mcar\u001b[49m\u001b[38;5;241;43m.\u001b[39;49m\u001b[43mtest22\u001b[49m\u001b[43m(\u001b[49m\u001b[38;5;241;43m5\u001b[39;49m\u001b[43m,\u001b[49m\u001b[38;5;241;43m5\u001b[39;49m\u001b[43m)\u001b[49m\n",
      "\u001b[1;31mTypeError\u001b[0m: test22() takes 1 positional argument but 2 were given"
     ]
    }
   ],
   "source": [
    "car.test22(5,5)"
   ]
  },
  {
   "cell_type": "code",
   "execution_count": 133,
   "id": "e805f20b",
   "metadata": {},
   "outputs": [],
   "source": [
    "class bus:\n",
    "    def __init__(self,a,b,c):\n",
    "        self.a=a\n",
    "        self._b=b\n",
    "        self.__c=c"
   ]
  },
  {
   "cell_type": "code",
   "execution_count": 134,
   "id": "e9f5cd65",
   "metadata": {},
   "outputs": [],
   "source": [
    "y=bus(1,23,2)"
   ]
  },
  {
   "cell_type": "code",
   "execution_count": 135,
   "id": "4b1d8600",
   "metadata": {},
   "outputs": [
    {
     "data": {
      "text/plain": [
       "2"
      ]
     },
     "execution_count": 135,
     "metadata": {},
     "output_type": "execute_result"
    }
   ],
   "source": [
    "y._bus__c"
   ]
  },
  {
   "cell_type": "code",
   "execution_count": 136,
   "id": "03e09e08",
   "metadata": {},
   "outputs": [],
   "source": [
    "class car:\n",
    "    def __init__(self,a,b,c):\n",
    "        self.a=a\n",
    "        self._b=b\n",
    "        self.__c=c\n",
    "        \n",
    "        \n",
    "    def test(self):\n",
    "        print('this is the test method of car00000 class')\n",
    "        \n",
    "    def test22(self):\n",
    "        return self.test()\n",
    "        \n",
    "        \n",
    "        \n",
    "class bike(car):\n",
    "    def __init__(self,p,q,r,*args):\n",
    "        car.__init__(self,*args)\n",
    "        self.p=p\n",
    "        self.q=q\n",
    "        self.r=r\n",
    "        \n",
    "        \n",
    "    def test1(self):\n",
    "        return self.test()"
   ]
  },
  {
   "cell_type": "code",
   "execution_count": 138,
   "id": "ec31a553",
   "metadata": {},
   "outputs": [],
   "source": [
    "p=bike(1,2,3,50,6,0)"
   ]
  },
  {
   "cell_type": "code",
   "execution_count": 140,
   "id": "625925bb",
   "metadata": {},
   "outputs": [
    {
     "data": {
      "text/plain": [
       "6"
      ]
     },
     "execution_count": 140,
     "metadata": {},
     "output_type": "execute_result"
    }
   ],
   "source": [
    "p._b"
   ]
  },
  {
   "cell_type": "code",
   "execution_count": 141,
   "id": "a547e04d",
   "metadata": {},
   "outputs": [
    {
     "data": {
      "text/plain": [
       "True"
      ]
     },
     "execution_count": 141,
     "metadata": {},
     "output_type": "execute_result"
    }
   ],
   "source": [
    "'dlkjflkd'.endswith('d')"
   ]
  },
  {
   "cell_type": "code",
   "execution_count": 142,
   "id": "fe0a10ff",
   "metadata": {},
   "outputs": [
    {
     "data": {
      "text/plain": [
       "False"
      ]
     },
     "execution_count": 142,
     "metadata": {},
     "output_type": "execute_result"
    }
   ],
   "source": [
    "'dlfjjdlkf8'.endswith('5')"
   ]
  },
  {
   "cell_type": "code",
   "execution_count": 1,
   "id": "8b592e8d",
   "metadata": {},
   "outputs": [],
   "source": [
    "l=[33,33,3,33,33]"
   ]
  },
  {
   "cell_type": "code",
   "execution_count": 2,
   "id": "24086536",
   "metadata": {},
   "outputs": [
    {
     "name": "stdout",
     "output_type": "stream",
     "text": [
      "33\n",
      "33\n",
      "3\n",
      "33\n",
      "33\n"
     ]
    }
   ],
   "source": [
    "for i in l:\n",
    "    print(i)"
   ]
  },
  {
   "cell_type": "code",
   "execution_count": 7,
   "id": "48180f7b",
   "metadata": {},
   "outputs": [
    {
     "name": "stdout",
     "output_type": "stream",
     "text": [
      "this is the correct input\n",
      "this is the correct input\n",
      "0\n",
      "this is the correct input\n",
      "this is the correct input\n",
      "this is the correct input\n",
      "this is the correct input\n",
      "1\n",
      "this is the correct input\n",
      "this is the correct input\n",
      "2\n",
      "2\n",
      "this is the correct input\n",
      "2\n",
      "2\n",
      "this is the correct input\n",
      "this is the correct input\n",
      "3\n",
      "this is the correct input\n",
      "this is the correct input\n",
      "this is the correct input\n",
      "this is the correct input\n",
      "4\n",
      "this is the correct input\n",
      "this is the correct input\n"
     ]
    }
   ],
   "source": [
    "for i in range(len(l)):\n",
    "    for j in range(len(l)):\n",
    "        if l[i]==l[j]:\n",
    "            print('this is the correct input')\n",
    "        else:\n",
    "            print(i)"
   ]
  },
  {
   "cell_type": "code",
   "execution_count": 9,
   "id": "c9e571c4",
   "metadata": {},
   "outputs": [
    {
     "ename": "SyntaxError",
     "evalue": "Missing parentheses in call to 'print'. Did you mean print(x)? (1572717703.py, line 13)",
     "output_type": "error",
     "traceback": [
      "\u001b[1;36m  Input \u001b[1;32mIn [9]\u001b[1;36m\u001b[0m\n\u001b[1;33m    print x\u001b[0m\n\u001b[1;37m          ^\u001b[0m\n\u001b[1;31mSyntaxError\u001b[0m\u001b[1;31m:\u001b[0m Missing parentheses in call to 'print'. Did you mean print(x)?\n"
     ]
    }
   ],
   "source": [
    "\n",
    "def unique(list1):\n",
    " \n",
    "    # initialize a null list\n",
    "    unique_list = []\n",
    " \n",
    "    # traverse for all elements\n",
    "    for x in list1:\n",
    "        # check if exists in unique_list or not\n",
    "        if x not in unique_list:\n",
    "            unique_list.append(x)\n",
    "    # print list\n",
    "    for x in unique_list:\n",
    "        print x\n",
    " \n",
    " \n",
    "# driver code\n",
    "list1 = [10, 20, 10, 30, 40, 40]\n",
    "print(\"the unique values from 1st list is\")\n",
    "unique(list1)\n",
    " \n",
    " \n",
    "list2 = [1, 2, 1, 1, 3, 4, 3, 3, 5]\n",
    "print(\"\\nthe unique values from 2nd list is\")\n",
    "unique(list2)"
   ]
  },
  {
   "cell_type": "code",
   "execution_count": 11,
   "id": "64802698",
   "metadata": {},
   "outputs": [],
   "source": [
    "\n",
    "def unique(list1):\n",
    " \n",
    "    # initialize a null list\n",
    "    unique_list = []\n",
    " \n",
    "    # traverse for all elements\n",
    "    for x in list1:\n",
    "        # check if exists in unique_list or not\n",
    "        if x not in unique_list:\n",
    "            unique_list.append(x)\n",
    "    # print list\n",
    "    for x in unique_list:\n",
    "        print (x)\n",
    " "
   ]
  },
  {
   "cell_type": "code",
   "execution_count": 12,
   "id": "b5376b9d",
   "metadata": {},
   "outputs": [
    {
     "name": "stdout",
     "output_type": "stream",
     "text": [
      "3\n",
      "7\n"
     ]
    }
   ],
   "source": [
    "unique([3,3,3,7,3,3])"
   ]
  },
  {
   "cell_type": "code",
   "execution_count": 13,
   "id": "3c97a27b",
   "metadata": {},
   "outputs": [
    {
     "data": {
      "text/plain": [
       "set[3, 3, 3, 7, 3, 3]"
      ]
     },
     "execution_count": 13,
     "metadata": {},
     "output_type": "execute_result"
    }
   ],
   "source": [
    "set[3,3,3,7,3,3]"
   ]
  },
  {
   "cell_type": "code",
   "execution_count": 55,
   "id": "cbec64a2",
   "metadata": {},
   "outputs": [
    {
     "data": {
      "text/plain": [
       "[33, 33, 3, 33, 33]"
      ]
     },
     "execution_count": 55,
     "metadata": {},
     "output_type": "execute_result"
    }
   ],
   "source": [
    "l"
   ]
  },
  {
   "cell_type": "code",
   "execution_count": 52,
   "id": "b5670f53",
   "metadata": {},
   "outputs": [
    {
     "data": {
      "text/plain": [
       "[33, 33, 3, 33, 33]"
      ]
     },
     "execution_count": 52,
     "metadata": {},
     "output_type": "execute_result"
    }
   ],
   "source": [
    "l"
   ]
  },
  {
   "cell_type": "code",
   "execution_count": 57,
   "id": "10cdcd3d",
   "metadata": {},
   "outputs": [],
   "source": [
    "l1=[]\n",
    "for i in l:\n",
    "    if i not in l1:\n",
    "        l1.append(i)"
   ]
  },
  {
   "cell_type": "code",
   "execution_count": 58,
   "id": "be304537",
   "metadata": {},
   "outputs": [
    {
     "data": {
      "text/plain": [
       "[33, 3]"
      ]
     },
     "execution_count": 58,
     "metadata": {},
     "output_type": "execute_result"
    }
   ],
   "source": [
    "l1"
   ]
  },
  {
   "cell_type": "code",
   "execution_count": 60,
   "id": "bd6bda1d",
   "metadata": {},
   "outputs": [
    {
     "data": {
      "text/plain": [
       "[33, 33, 3, 33, 33]"
      ]
     },
     "execution_count": 60,
     "metadata": {},
     "output_type": "execute_result"
    }
   ],
   "source": [
    "l"
   ]
  },
  {
   "cell_type": "code",
   "execution_count": 61,
   "id": "3e3780d9",
   "metadata": {},
   "outputs": [
    {
     "data": {
      "text/plain": [
       "[33, 33, 3, 33, 33]"
      ]
     },
     "execution_count": 61,
     "metadata": {},
     "output_type": "execute_result"
    }
   ],
   "source": [
    "l"
   ]
  },
  {
   "cell_type": "code",
   "execution_count": 64,
   "id": "b6cc499d",
   "metadata": {},
   "outputs": [
    {
     "data": {
      "text/plain": [
       "[33, 33, 3, 33, 33]"
      ]
     },
     "execution_count": 64,
     "metadata": {},
     "output_type": "execute_result"
    }
   ],
   "source": [
    "l"
   ]
  },
  {
   "cell_type": "code",
   "execution_count": null,
   "id": "62cca386",
   "metadata": {},
   "outputs": [],
   "source": []
  },
  {
   "cell_type": "code",
   "execution_count": null,
   "id": "cb8e1bae",
   "metadata": {},
   "outputs": [],
   "source": []
  },
  {
   "cell_type": "code",
   "execution_count": 46,
   "id": "5c80bc56",
   "metadata": {},
   "outputs": [
    {
     "data": {
      "text/plain": [
       "[33, 3]"
      ]
     },
     "execution_count": 46,
     "metadata": {},
     "output_type": "execute_result"
    }
   ],
   "source": [
    "l1"
   ]
  },
  {
   "cell_type": "code",
   "execution_count": 40,
   "id": "6f263040",
   "metadata": {},
   "outputs": [],
   "source": [
    "l2=[]\n",
    "for i in l1:\n",
    "    if i not in l:\n",
    "        l2.append(i)"
   ]
  },
  {
   "cell_type": "code",
   "execution_count": null,
   "id": "bba7508e",
   "metadata": {},
   "outputs": [],
   "source": []
  },
  {
   "cell_type": "code",
   "execution_count": 43,
   "id": "5c64a501",
   "metadata": {},
   "outputs": [
    {
     "name": "stdout",
     "output_type": "stream",
     "text": [
      "33\n",
      "33\n",
      "3\n",
      "33\n",
      "33\n"
     ]
    }
   ],
   "source": [
    "for i in l:\n",
    "    print(i)"
   ]
  },
  {
   "cell_type": "code",
   "execution_count": 68,
   "id": "290c4cb2",
   "metadata": {},
   "outputs": [
    {
     "data": {
      "text/plain": [
       "{3, 33}"
      ]
     },
     "execution_count": 68,
     "metadata": {},
     "output_type": "execute_result"
    }
   ],
   "source": [
    "l"
   ]
  },
  {
   "cell_type": "code",
   "execution_count": 69,
   "id": "f77e4e35",
   "metadata": {},
   "outputs": [],
   "source": [
    "l1=set(l)"
   ]
  },
  {
   "cell_type": "code",
   "execution_count": 71,
   "id": "7ea9c800",
   "metadata": {},
   "outputs": [],
   "source": [
    "l=[3,3,2,3,3,3]"
   ]
  },
  {
   "cell_type": "code",
   "execution_count": 73,
   "id": "c61cdcb6",
   "metadata": {},
   "outputs": [],
   "source": [
    "l1=set(l)"
   ]
  },
  {
   "cell_type": "code",
   "execution_count": 75,
   "id": "7e52f1b3",
   "metadata": {},
   "outputs": [],
   "source": [
    "for i in l1:\n",
    "    if i not in set(l):\n",
    "        print(i)"
   ]
  },
  {
   "cell_type": "code",
   "execution_count": 76,
   "id": "fbc9e27b",
   "metadata": {},
   "outputs": [
    {
     "data": {
      "text/plain": [
       "[3, 3, 2, 3, 3, 3]"
      ]
     },
     "execution_count": 76,
     "metadata": {},
     "output_type": "execute_result"
    }
   ],
   "source": [
    "l"
   ]
  },
  {
   "cell_type": "code",
   "execution_count": 84,
   "id": "40b431de",
   "metadata": {},
   "outputs": [
    {
     "name": "stdout",
     "output_type": "stream",
     "text": [
      "3\n",
      "3\n",
      "2\n",
      "3\n",
      "3\n",
      "3\n"
     ]
    }
   ],
   "source": [
    "lenght= len(l)\n",
    "for i in range(len(l)):\n",
    "    for j in range(i,lenght):\n",
    "        if l[i]==l[j]:\n",
    "            print(l[i])\n",
    "            break\n",
    "            "
   ]
  },
  {
   "cell_type": "code",
   "execution_count": 86,
   "id": "d09f4543",
   "metadata": {},
   "outputs": [
    {
     "data": {
      "text/plain": [
       "{2, 3}"
      ]
     },
     "execution_count": 86,
     "metadata": {},
     "output_type": "execute_result"
    }
   ],
   "source": [
    "set(l)"
   ]
  },
  {
   "cell_type": "code",
   "execution_count": 87,
   "id": "99ad0794",
   "metadata": {},
   "outputs": [
    {
     "data": {
      "text/plain": [
       "[3, 3, 2, 3, 3, 3]"
      ]
     },
     "execution_count": 87,
     "metadata": {},
     "output_type": "execute_result"
    }
   ],
   "source": [
    "l"
   ]
  },
  {
   "cell_type": "code",
   "execution_count": 88,
   "id": "4a32fd1a",
   "metadata": {},
   "outputs": [],
   "source": [
    "l=[2,3,3,3,3]"
   ]
  },
  {
   "cell_type": "code",
   "execution_count": 89,
   "id": "bc47b2b6",
   "metadata": {},
   "outputs": [
    {
     "data": {
      "text/plain": [
       "{2, 3}"
      ]
     },
     "execution_count": 89,
     "metadata": {},
     "output_type": "execute_result"
    }
   ],
   "source": [
    "set(l)"
   ]
  },
  {
   "cell_type": "code",
   "execution_count": 1,
   "id": "34294835",
   "metadata": {},
   "outputs": [],
   "source": [
    "import pandas as pd"
   ]
  },
  {
   "cell_type": "code",
   "execution_count": 2,
   "id": "d6cb3d34",
   "metadata": {},
   "outputs": [],
   "source": [
    "import seaborn as sn"
   ]
  }
 ],
 "metadata": {
  "kernelspec": {
   "display_name": "Python 3 (ipykernel)",
   "language": "python",
   "name": "python3"
  },
  "language_info": {
   "codemirror_mode": {
    "name": "ipython",
    "version": 3
   },
   "file_extension": ".py",
   "mimetype": "text/x-python",
   "name": "python",
   "nbconvert_exporter": "python",
   "pygments_lexer": "ipython3",
   "version": "3.9.12"
  }
 },
 "nbformat": 4,
 "nbformat_minor": 5
}

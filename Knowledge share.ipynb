{
 "cells": [
  {
   "cell_type": "code",
   "execution_count": 142,
   "id": "3c9c17a2",
   "metadata": {},
   "outputs": [],
   "source": [
    "#Python is both compile and interpreter language first it interpreter the code written and at the back\n",
    "#compile the entire code"
   ]
  },
  {
   "cell_type": "code",
   "execution_count": 2,
   "id": "a23b7ad9",
   "metadata": {},
   "outputs": [],
   "source": [
    "#How to use Git Sparse-Checkout command \n",
    "# git init\n",
    "# git remote add -f origin [GIT URL]\n",
    "# git config core.sparseCheckout true\n",
    "# git sparse-checkout set [folder required]\n",
    "# git pull from origin [branch name] // just for one time"
   ]
  },
  {
   "cell_type": "code",
   "execution_count": 2,
   "id": "fa5efd1e",
   "metadata": {},
   "outputs": [
    {
     "name": "stdout",
     "output_type": "stream",
     "text": [
      "The average of the numbers given in the list 3.5\n"
     ]
    }
   ],
   "source": [
    "#q2 To print the average of the numbers given in the list without using built in functions like max and len\n",
    "a=0\n",
    "b=0\n",
    "l=[1,2,3,4,5,6]\n",
    "for i in l:\n",
    "    a=a+i # to find the sum like max\n",
    "    b=b+1 # to find the count like len\n",
    "    average=a/b\n",
    "print('The average of the numbers given in the list',average)"
   ]
  },
  {
   "cell_type": "code",
   "execution_count": 1,
   "id": "c15b8e57",
   "metadata": {},
   "outputs": [
    {
     "name": "stdout",
     "output_type": "stream",
     "text": [
      "100\n",
      "100\n"
     ]
    }
   ],
   "source": [
    "#q1 to print max number in a list without using max in-built function\n",
    "l=[1,2,3,4,5,6,4,5,6,100]\n",
    "for i in l:\n",
    "    num=l[0]\n",
    "    if i>num:\n",
    "        num=i\n",
    "print(num)\n",
    "print(max(l))"
   ]
  },
  {
   "cell_type": "code",
   "execution_count": 3,
   "id": "a8f76d52",
   "metadata": {},
   "outputs": [],
   "source": [
    "avg=(sum(l)/len(l))"
   ]
  },
  {
   "cell_type": "code",
   "execution_count": 4,
   "id": "997f7fad",
   "metadata": {},
   "outputs": [
    {
     "data": {
      "text/plain": [
       "3.5"
      ]
     },
     "execution_count": 4,
     "metadata": {},
     "output_type": "execute_result"
    }
   ],
   "source": [
    "avg"
   ]
  },
  {
   "cell_type": "code",
   "execution_count": 1,
   "id": "4e183f0b",
   "metadata": {},
   "outputs": [
    {
     "name": "stdout",
     "output_type": "stream",
     "text": [
      "    January 2011\n",
      "Mo Tu We Th Fr Sa Su\n",
      "                1  2\n",
      " 3  4  5  6  7  8  9\n",
      "10 11 12 13 14 15 16\n",
      "17 18 19 20 21 22 23\n",
      "24 25 26 27 28 29 30\n",
      "31\n",
      "\n",
      "   February 2011\n",
      "Mo Tu We Th Fr Sa Su\n",
      "    1  2  3  4  5  6\n",
      " 7  8  9 10 11 12 13\n",
      "14 15 16 17 18 19 20\n",
      "21 22 23 24 25 26 27\n",
      "28\n",
      "\n",
      "     March 2011\n",
      "Mo Tu We Th Fr Sa Su\n",
      "    1  2  3  4  5  6\n",
      " 7  8  9 10 11 12 13\n",
      "14 15 16 17 18 19 20\n",
      "21 22 23 24 25 26 27\n",
      "28 29 30 31\n",
      "\n",
      "     April 2011\n",
      "Mo Tu We Th Fr Sa Su\n",
      "             1  2  3\n",
      " 4  5  6  7  8  9 10\n",
      "11 12 13 14 15 16 17\n",
      "18 19 20 21 22 23 24\n",
      "25 26 27 28 29 30\n",
      "\n",
      "      May 2011\n",
      "Mo Tu We Th Fr Sa Su\n",
      "                   1\n",
      " 2  3  4  5  6  7  8\n",
      " 9 10 11 12 13 14 15\n",
      "16 17 18 19 20 21 22\n",
      "23 24 25 26 27 28 29\n",
      "30 31\n",
      "\n",
      "     June 2011\n",
      "Mo Tu We Th Fr Sa Su\n",
      "       1  2  3  4  5\n",
      " 6  7  8  9 10 11 12\n",
      "13 14 15 16 17 18 19\n",
      "20 21 22 23 24 25 26\n",
      "27 28 29 30\n",
      "\n",
      "     July 2011\n",
      "Mo Tu We Th Fr Sa Su\n",
      "             1  2  3\n",
      " 4  5  6  7  8  9 10\n",
      "11 12 13 14 15 16 17\n",
      "18 19 20 21 22 23 24\n",
      "25 26 27 28 29 30 31\n",
      "\n",
      "    August 2011\n",
      "Mo Tu We Th Fr Sa Su\n",
      " 1  2  3  4  5  6  7\n",
      " 8  9 10 11 12 13 14\n",
      "15 16 17 18 19 20 21\n",
      "22 23 24 25 26 27 28\n",
      "29 30 31\n",
      "\n",
      "   September 2011\n",
      "Mo Tu We Th Fr Sa Su\n",
      "          1  2  3  4\n",
      " 5  6  7  8  9 10 11\n",
      "12 13 14 15 16 17 18\n",
      "19 20 21 22 23 24 25\n",
      "26 27 28 29 30\n",
      "\n",
      "    October 2011\n",
      "Mo Tu We Th Fr Sa Su\n",
      "                1  2\n",
      " 3  4  5  6  7  8  9\n",
      "10 11 12 13 14 15 16\n",
      "17 18 19 20 21 22 23\n",
      "24 25 26 27 28 29 30\n",
      "31\n",
      "\n",
      "   November 2011\n",
      "Mo Tu We Th Fr Sa Su\n",
      "    1  2  3  4  5  6\n",
      " 7  8  9 10 11 12 13\n",
      "14 15 16 17 18 19 20\n",
      "21 22 23 24 25 26 27\n",
      "28 29 30\n",
      "\n",
      "   December 2011\n",
      "Mo Tu We Th Fr Sa Su\n",
      "          1  2  3  4\n",
      " 5  6  7  8  9 10 11\n",
      "12 13 14 15 16 17 18\n",
      "19 20 21 22 23 24 25\n",
      "26 27 28 29 30 31\n",
      "\n",
      "    January 2012\n",
      "Mo Tu We Th Fr Sa Su\n",
      "                   1\n",
      " 2  3  4  5  6  7  8\n",
      " 9 10 11 12 13 14 15\n",
      "16 17 18 19 20 21 22\n",
      "23 24 25 26 27 28 29\n",
      "30 31\n",
      "\n",
      "   February 2012\n",
      "Mo Tu We Th Fr Sa Su\n",
      "       1  2  3  4  5\n",
      " 6  7  8  9 10 11 12\n",
      "13 14 15 16 17 18 19\n",
      "20 21 22 23 24 25 26\n",
      "27 28 29\n",
      "\n",
      "     March 2012\n",
      "Mo Tu We Th Fr Sa Su\n",
      "          1  2  3  4\n",
      " 5  6  7  8  9 10 11\n",
      "12 13 14 15 16 17 18\n",
      "19 20 21 22 23 24 25\n",
      "26 27 28 29 30 31\n",
      "\n",
      "     April 2012\n",
      "Mo Tu We Th Fr Sa Su\n",
      "                   1\n",
      " 2  3  4  5  6  7  8\n",
      " 9 10 11 12 13 14 15\n",
      "16 17 18 19 20 21 22\n",
      "23 24 25 26 27 28 29\n",
      "30\n",
      "\n",
      "      May 2012\n",
      "Mo Tu We Th Fr Sa Su\n",
      "    1  2  3  4  5  6\n",
      " 7  8  9 10 11 12 13\n",
      "14 15 16 17 18 19 20\n",
      "21 22 23 24 25 26 27\n",
      "28 29 30 31\n",
      "\n",
      "     June 2012\n",
      "Mo Tu We Th Fr Sa Su\n",
      "             1  2  3\n",
      " 4  5  6  7  8  9 10\n",
      "11 12 13 14 15 16 17\n",
      "18 19 20 21 22 23 24\n",
      "25 26 27 28 29 30\n",
      "\n",
      "     July 2012\n",
      "Mo Tu We Th Fr Sa Su\n",
      "                   1\n",
      " 2  3  4  5  6  7  8\n",
      " 9 10 11 12 13 14 15\n",
      "16 17 18 19 20 21 22\n",
      "23 24 25 26 27 28 29\n",
      "30 31\n",
      "\n",
      "    August 2012\n",
      "Mo Tu We Th Fr Sa Su\n",
      "       1  2  3  4  5\n",
      " 6  7  8  9 10 11 12\n",
      "13 14 15 16 17 18 19\n",
      "20 21 22 23 24 25 26\n",
      "27 28 29 30 31\n",
      "\n",
      "   September 2012\n",
      "Mo Tu We Th Fr Sa Su\n",
      "                1  2\n",
      " 3  4  5  6  7  8  9\n",
      "10 11 12 13 14 15 16\n",
      "17 18 19 20 21 22 23\n",
      "24 25 26 27 28 29 30\n",
      "\n",
      "    October 2012\n",
      "Mo Tu We Th Fr Sa Su\n",
      " 1  2  3  4  5  6  7\n",
      " 8  9 10 11 12 13 14\n",
      "15 16 17 18 19 20 21\n",
      "22 23 24 25 26 27 28\n",
      "29 30 31\n",
      "\n",
      "   November 2012\n",
      "Mo Tu We Th Fr Sa Su\n",
      "          1  2  3  4\n",
      " 5  6  7  8  9 10 11\n",
      "12 13 14 15 16 17 18\n",
      "19 20 21 22 23 24 25\n",
      "26 27 28 29 30\n",
      "\n",
      "   December 2012\n",
      "Mo Tu We Th Fr Sa Su\n",
      "                1  2\n",
      " 3  4  5  6  7  8  9\n",
      "10 11 12 13 14 15 16\n",
      "17 18 19 20 21 22 23\n",
      "24 25 26 27 28 29 30\n",
      "31\n",
      "\n",
      "    January 2013\n",
      "Mo Tu We Th Fr Sa Su\n",
      "    1  2  3  4  5  6\n",
      " 7  8  9 10 11 12 13\n",
      "14 15 16 17 18 19 20\n",
      "21 22 23 24 25 26 27\n",
      "28 29 30 31\n",
      "\n",
      "   February 2013\n",
      "Mo Tu We Th Fr Sa Su\n",
      "             1  2  3\n",
      " 4  5  6  7  8  9 10\n",
      "11 12 13 14 15 16 17\n",
      "18 19 20 21 22 23 24\n",
      "25 26 27 28\n",
      "\n",
      "     March 2013\n",
      "Mo Tu We Th Fr Sa Su\n",
      "             1  2  3\n",
      " 4  5  6  7  8  9 10\n",
      "11 12 13 14 15 16 17\n",
      "18 19 20 21 22 23 24\n",
      "25 26 27 28 29 30 31\n",
      "\n",
      "     April 2013\n",
      "Mo Tu We Th Fr Sa Su\n",
      " 1  2  3  4  5  6  7\n",
      " 8  9 10 11 12 13 14\n",
      "15 16 17 18 19 20 21\n",
      "22 23 24 25 26 27 28\n",
      "29 30\n",
      "\n",
      "      May 2013\n",
      "Mo Tu We Th Fr Sa Su\n",
      "       1  2  3  4  5\n",
      " 6  7  8  9 10 11 12\n",
      "13 14 15 16 17 18 19\n",
      "20 21 22 23 24 25 26\n",
      "27 28 29 30 31\n",
      "\n",
      "     June 2013\n",
      "Mo Tu We Th Fr Sa Su\n",
      "                1  2\n",
      " 3  4  5  6  7  8  9\n",
      "10 11 12 13 14 15 16\n",
      "17 18 19 20 21 22 23\n",
      "24 25 26 27 28 29 30\n",
      "\n",
      "     July 2013\n",
      "Mo Tu We Th Fr Sa Su\n",
      " 1  2  3  4  5  6  7\n",
      " 8  9 10 11 12 13 14\n",
      "15 16 17 18 19 20 21\n",
      "22 23 24 25 26 27 28\n",
      "29 30 31\n",
      "\n",
      "    August 2013\n",
      "Mo Tu We Th Fr Sa Su\n",
      "          1  2  3  4\n",
      " 5  6  7  8  9 10 11\n",
      "12 13 14 15 16 17 18\n",
      "19 20 21 22 23 24 25\n",
      "26 27 28 29 30 31\n",
      "\n",
      "   September 2013\n",
      "Mo Tu We Th Fr Sa Su\n",
      "                   1\n",
      " 2  3  4  5  6  7  8\n",
      " 9 10 11 12 13 14 15\n",
      "16 17 18 19 20 21 22\n",
      "23 24 25 26 27 28 29\n",
      "30\n",
      "\n",
      "    October 2013\n",
      "Mo Tu We Th Fr Sa Su\n",
      "    1  2  3  4  5  6\n",
      " 7  8  9 10 11 12 13\n",
      "14 15 16 17 18 19 20\n",
      "21 22 23 24 25 26 27\n",
      "28 29 30 31\n",
      "\n",
      "   November 2013\n",
      "Mo Tu We Th Fr Sa Su\n",
      "             1  2  3\n",
      " 4  5  6  7  8  9 10\n",
      "11 12 13 14 15 16 17\n",
      "18 19 20 21 22 23 24\n",
      "25 26 27 28 29 30\n",
      "\n",
      "   December 2013\n",
      "Mo Tu We Th Fr Sa Su\n",
      "                   1\n",
      " 2  3  4  5  6  7  8\n",
      " 9 10 11 12 13 14 15\n",
      "16 17 18 19 20 21 22\n",
      "23 24 25 26 27 28 29\n",
      "30 31\n",
      "\n",
      "    January 2014\n",
      "Mo Tu We Th Fr Sa Su\n",
      "       1  2  3  4  5\n",
      " 6  7  8  9 10 11 12\n",
      "13 14 15 16 17 18 19\n",
      "20 21 22 23 24 25 26\n",
      "27 28 29 30 31\n",
      "\n",
      "   February 2014\n",
      "Mo Tu We Th Fr Sa Su\n",
      "                1  2\n",
      " 3  4  5  6  7  8  9\n",
      "10 11 12 13 14 15 16\n",
      "17 18 19 20 21 22 23\n",
      "24 25 26 27 28\n",
      "\n",
      "     March 2014\n",
      "Mo Tu We Th Fr Sa Su\n",
      "                1  2\n",
      " 3  4  5  6  7  8  9\n",
      "10 11 12 13 14 15 16\n",
      "17 18 19 20 21 22 23\n",
      "24 25 26 27 28 29 30\n",
      "31\n",
      "\n",
      "     April 2014\n",
      "Mo Tu We Th Fr Sa Su\n",
      "    1  2  3  4  5  6\n",
      " 7  8  9 10 11 12 13\n",
      "14 15 16 17 18 19 20\n",
      "21 22 23 24 25 26 27\n",
      "28 29 30\n",
      "\n",
      "      May 2014\n",
      "Mo Tu We Th Fr Sa Su\n",
      "          1  2  3  4\n",
      " 5  6  7  8  9 10 11\n",
      "12 13 14 15 16 17 18\n",
      "19 20 21 22 23 24 25\n",
      "26 27 28 29 30 31\n",
      "\n",
      "     June 2014\n",
      "Mo Tu We Th Fr Sa Su\n",
      "                   1\n",
      " 2  3  4  5  6  7  8\n",
      " 9 10 11 12 13 14 15\n",
      "16 17 18 19 20 21 22\n",
      "23 24 25 26 27 28 29\n",
      "30\n",
      "\n",
      "     July 2014\n",
      "Mo Tu We Th Fr Sa Su\n",
      "    1  2  3  4  5  6\n",
      " 7  8  9 10 11 12 13\n",
      "14 15 16 17 18 19 20\n",
      "21 22 23 24 25 26 27\n",
      "28 29 30 31\n",
      "\n",
      "    August 2014\n",
      "Mo Tu We Th Fr Sa Su\n",
      "             1  2  3\n",
      " 4  5  6  7  8  9 10\n",
      "11 12 13 14 15 16 17\n",
      "18 19 20 21 22 23 24\n",
      "25 26 27 28 29 30 31\n",
      "\n",
      "   September 2014\n",
      "Mo Tu We Th Fr Sa Su\n",
      " 1  2  3  4  5  6  7\n",
      " 8  9 10 11 12 13 14\n",
      "15 16 17 18 19 20 21\n",
      "22 23 24 25 26 27 28\n",
      "29 30\n",
      "\n",
      "    October 2014\n",
      "Mo Tu We Th Fr Sa Su\n",
      "       1  2  3  4  5\n",
      " 6  7  8  9 10 11 12\n",
      "13 14 15 16 17 18 19\n",
      "20 21 22 23 24 25 26\n",
      "27 28 29 30 31\n",
      "\n",
      "   November 2014\n",
      "Mo Tu We Th Fr Sa Su\n",
      "                1  2\n",
      " 3  4  5  6  7  8  9\n",
      "10 11 12 13 14 15 16\n",
      "17 18 19 20 21 22 23\n",
      "24 25 26 27 28 29 30\n",
      "\n",
      "   December 2014\n",
      "Mo Tu We Th Fr Sa Su\n",
      " 1  2  3  4  5  6  7\n",
      " 8  9 10 11 12 13 14\n",
      "15 16 17 18 19 20 21\n",
      "22 23 24 25 26 27 28\n",
      "29 30 31\n",
      "\n"
     ]
    }
   ],
   "source": [
    "#Calendar\n",
    "import calendar\n",
    "   \n",
    "for i in range(2011,2015,1):\n",
    "    for j in range(1,13,1):\n",
    "        print(calendar.month(i,j))"
   ]
  },
  {
   "cell_type": "code",
   "execution_count": 9,
   "id": "bbad6bcc",
   "metadata": {},
   "outputs": [
    {
     "name": "stdout",
     "output_type": "stream",
     "text": [
      "Requirement already satisfied: cufflinks in c:\\users\\91986\\anaconda3\\lib\\site-packages (0.17.3)\n",
      "Requirement already satisfied: ipywidgets>=7.0.0 in c:\\users\\91986\\anaconda3\\lib\\site-packages (from cufflinks) (7.6.5)\n",
      "Requirement already satisfied: setuptools>=34.4.1 in c:\\users\\91986\\anaconda3\\lib\\site-packages (from cufflinks) (61.2.0)\n",
      "Requirement already satisfied: pandas>=0.19.2 in c:\\users\\91986\\anaconda3\\lib\\site-packages (from cufflinks) (1.4.2)\n",
      "Requirement already satisfied: numpy>=1.9.2 in c:\\users\\91986\\anaconda3\\lib\\site-packages (from cufflinks) (1.21.5)\n",
      "Requirement already satisfied: plotly>=4.1.1 in c:\\users\\91986\\anaconda3\\lib\\site-packages (from cufflinks) (5.6.0)\n",
      "Requirement already satisfied: six>=1.9.0 in c:\\users\\91986\\anaconda3\\lib\\site-packages (from cufflinks) (1.15.0)\n",
      "Requirement already satisfied: ipython>=5.3.0 in c:\\users\\91986\\anaconda3\\lib\\site-packages (from cufflinks) (8.2.0)\n",
      "Requirement already satisfied: colorlover>=0.2.1 in c:\\users\\91986\\anaconda3\\lib\\site-packages (from cufflinks) (0.3.0)\n",
      "Requirement already satisfied: backcall in c:\\users\\91986\\anaconda3\\lib\\site-packages (from ipython>=5.3.0->cufflinks) (0.2.0)\n",
      "Requirement already satisfied: traitlets>=5 in c:\\users\\91986\\anaconda3\\lib\\site-packages (from ipython>=5.3.0->cufflinks) (5.1.1)\n",
      "Requirement already satisfied: matplotlib-inline in c:\\users\\91986\\anaconda3\\lib\\site-packages (from ipython>=5.3.0->cufflinks) (0.1.2)\n",
      "Requirement already satisfied: stack-data in c:\\users\\91986\\anaconda3\\lib\\site-packages (from ipython>=5.3.0->cufflinks) (0.2.0)\n",
      "Requirement already satisfied: pygments>=2.4.0 in c:\\users\\91986\\anaconda3\\lib\\site-packages (from ipython>=5.3.0->cufflinks) (2.11.2)\n",
      "Requirement already satisfied: prompt-toolkit!=3.0.0,!=3.0.1,<3.1.0,>=2.0.0 in c:\\users\\91986\\anaconda3\\lib\\site-packages (from ipython>=5.3.0->cufflinks) (3.0.20)\n",
      "Requirement already satisfied: jedi>=0.16 in c:\\users\\91986\\anaconda3\\lib\\site-packages (from ipython>=5.3.0->cufflinks) (0.18.1)\n",
      "Requirement already satisfied: colorama in c:\\users\\91986\\anaconda3\\lib\\site-packages (from ipython>=5.3.0->cufflinks) (0.4.4)\n",
      "Requirement already satisfied: pickleshare in c:\\users\\91986\\anaconda3\\lib\\site-packages (from ipython>=5.3.0->cufflinks) (0.7.5)\n",
      "Requirement already satisfied: decorator in c:\\users\\91986\\anaconda3\\lib\\site-packages (from ipython>=5.3.0->cufflinks) (5.1.1)\n",
      "Requirement already satisfied: ipykernel>=4.5.1 in c:\\users\\91986\\anaconda3\\lib\\site-packages (from ipywidgets>=7.0.0->cufflinks) (6.9.1)\n",
      "Requirement already satisfied: ipython-genutils~=0.2.0 in c:\\users\\91986\\anaconda3\\lib\\site-packages (from ipywidgets>=7.0.0->cufflinks) (0.2.0)\n",
      "Requirement already satisfied: jupyterlab-widgets>=1.0.0 in c:\\users\\91986\\anaconda3\\lib\\site-packages (from ipywidgets>=7.0.0->cufflinks) (1.0.0)\n",
      "Requirement already satisfied: nbformat>=4.2.0 in c:\\users\\91986\\anaconda3\\lib\\site-packages (from ipywidgets>=7.0.0->cufflinks) (5.3.0)\n",
      "Requirement already satisfied: widgetsnbextension~=3.5.0 in c:\\users\\91986\\anaconda3\\lib\\site-packages (from ipywidgets>=7.0.0->cufflinks) (3.5.2)\n",
      "Requirement already satisfied: tornado<7.0,>=4.2 in c:\\users\\91986\\anaconda3\\lib\\site-packages (from ipykernel>=4.5.1->ipywidgets>=7.0.0->cufflinks) (6.1)\n",
      "Requirement already satisfied: jupyter-client<8.0 in c:\\users\\91986\\anaconda3\\lib\\site-packages (from ipykernel>=4.5.1->ipywidgets>=7.0.0->cufflinks) (6.1.12)\n",
      "Requirement already satisfied: debugpy<2.0,>=1.0.0 in c:\\users\\91986\\anaconda3\\lib\\site-packages (from ipykernel>=4.5.1->ipywidgets>=7.0.0->cufflinks) (1.5.1)\n",
      "Requirement already satisfied: nest-asyncio in c:\\users\\91986\\anaconda3\\lib\\site-packages (from ipykernel>=4.5.1->ipywidgets>=7.0.0->cufflinks) (1.5.5)\n",
      "Requirement already satisfied: parso<0.9.0,>=0.8.0 in c:\\users\\91986\\anaconda3\\lib\\site-packages (from jedi>=0.16->ipython>=5.3.0->cufflinks) (0.8.3)\n",
      "Requirement already satisfied: jupyter-core>=4.6.0 in c:\\users\\91986\\anaconda3\\lib\\site-packages (from jupyter-client<8.0->ipykernel>=4.5.1->ipywidgets>=7.0.0->cufflinks) (4.9.2)\n",
      "Requirement already satisfied: pyzmq>=13 in c:\\users\\91986\\anaconda3\\lib\\site-packages (from jupyter-client<8.0->ipykernel>=4.5.1->ipywidgets>=7.0.0->cufflinks) (22.3.0)\n",
      "Requirement already satisfied: python-dateutil>=2.1 in c:\\users\\91986\\anaconda3\\lib\\site-packages (from jupyter-client<8.0->ipykernel>=4.5.1->ipywidgets>=7.0.0->cufflinks) (2.8.2)\n",
      "Requirement already satisfied: pywin32>=1.0 in c:\\users\\91986\\anaconda3\\lib\\site-packages (from jupyter-core>=4.6.0->jupyter-client<8.0->ipykernel>=4.5.1->ipywidgets>=7.0.0->cufflinks) (302)\n",
      "Requirement already satisfied: jsonschema>=2.6 in c:\\users\\91986\\anaconda3\\lib\\site-packages (from nbformat>=4.2.0->ipywidgets>=7.0.0->cufflinks) (4.4.0)\n",
      "Requirement already satisfied: fastjsonschema in c:\\users\\91986\\anaconda3\\lib\\site-packages (from nbformat>=4.2.0->ipywidgets>=7.0.0->cufflinks) (2.15.1)\n",
      "Requirement already satisfied: attrs>=17.4.0 in c:\\users\\91986\\anaconda3\\lib\\site-packages (from jsonschema>=2.6->nbformat>=4.2.0->ipywidgets>=7.0.0->cufflinks) (21.4.0)\n",
      "Requirement already satisfied: pyrsistent!=0.17.0,!=0.17.1,!=0.17.2,>=0.14.0 in c:\\users\\91986\\anaconda3\\lib\\site-packages (from jsonschema>=2.6->nbformat>=4.2.0->ipywidgets>=7.0.0->cufflinks) (0.18.0)\n",
      "Requirement already satisfied: pytz>=2020.1 in c:\\users\\91986\\anaconda3\\lib\\site-packages (from pandas>=0.19.2->cufflinks) (2021.3)\n",
      "Requirement already satisfied: tenacity>=6.2.0 in c:\\users\\91986\\anaconda3\\lib\\site-packages (from plotly>=4.1.1->cufflinks) (8.0.1)\n",
      "Requirement already satisfied: wcwidth in c:\\users\\91986\\anaconda3\\lib\\site-packages (from prompt-toolkit!=3.0.0,!=3.0.1,<3.1.0,>=2.0.0->ipython>=5.3.0->cufflinks) (0.2.5)\n",
      "Requirement already satisfied: notebook>=4.4.1 in c:\\users\\91986\\anaconda3\\lib\\site-packages (from widgetsnbextension~=3.5.0->ipywidgets>=7.0.0->cufflinks) (6.4.8)\n",
      "Requirement already satisfied: nbconvert in c:\\users\\91986\\anaconda3\\lib\\site-packages (from notebook>=4.4.1->widgetsnbextension~=3.5.0->ipywidgets>=7.0.0->cufflinks) (6.4.4)\n",
      "Requirement already satisfied: argon2-cffi in c:\\users\\91986\\anaconda3\\lib\\site-packages (from notebook>=4.4.1->widgetsnbextension~=3.5.0->ipywidgets>=7.0.0->cufflinks) (21.3.0)\n",
      "Requirement already satisfied: prometheus-client in c:\\users\\91986\\anaconda3\\lib\\site-packages (from notebook>=4.4.1->widgetsnbextension~=3.5.0->ipywidgets>=7.0.0->cufflinks) (0.13.1)\n",
      "Requirement already satisfied: jinja2 in c:\\users\\91986\\anaconda3\\lib\\site-packages (from notebook>=4.4.1->widgetsnbextension~=3.5.0->ipywidgets>=7.0.0->cufflinks) (2.11.2)\n",
      "Requirement already satisfied: Send2Trash>=1.8.0 in c:\\users\\91986\\anaconda3\\lib\\site-packages (from notebook>=4.4.1->widgetsnbextension~=3.5.0->ipywidgets>=7.0.0->cufflinks) (1.8.0)\n",
      "Requirement already satisfied: terminado>=0.8.3 in c:\\users\\91986\\anaconda3\\lib\\site-packages (from notebook>=4.4.1->widgetsnbextension~=3.5.0->ipywidgets>=7.0.0->cufflinks) (0.13.1)\n",
      "Requirement already satisfied: pywinpty>=1.1.0 in c:\\users\\91986\\anaconda3\\lib\\site-packages (from terminado>=0.8.3->notebook>=4.4.1->widgetsnbextension~=3.5.0->ipywidgets>=7.0.0->cufflinks) (2.0.2)\n",
      "Requirement already satisfied: argon2-cffi-bindings in c:\\users\\91986\\anaconda3\\lib\\site-packages (from argon2-cffi->notebook>=4.4.1->widgetsnbextension~=3.5.0->ipywidgets>=7.0.0->cufflinks) (21.2.0)\n",
      "Requirement already satisfied: cffi>=1.0.1 in c:\\users\\91986\\anaconda3\\lib\\site-packages (from argon2-cffi-bindings->argon2-cffi->notebook>=4.4.1->widgetsnbextension~=3.5.0->ipywidgets>=7.0.0->cufflinks) (1.15.0)\n",
      "Requirement already satisfied: pycparser in c:\\users\\91986\\anaconda3\\lib\\site-packages (from cffi>=1.0.1->argon2-cffi-bindings->argon2-cffi->notebook>=4.4.1->widgetsnbextension~=3.5.0->ipywidgets>=7.0.0->cufflinks) (2.21)\n",
      "Requirement already satisfied: MarkupSafe>=0.23 in c:\\users\\91986\\anaconda3\\lib\\site-packages (from jinja2->notebook>=4.4.1->widgetsnbextension~=3.5.0->ipywidgets>=7.0.0->cufflinks) (1.1.1)\n",
      "Requirement already satisfied: bleach in c:\\users\\91986\\anaconda3\\lib\\site-packages (from nbconvert->notebook>=4.4.1->widgetsnbextension~=3.5.0->ipywidgets>=7.0.0->cufflinks) (4.1.0)\n",
      "Requirement already satisfied: mistune<2,>=0.8.1 in c:\\users\\91986\\anaconda3\\lib\\site-packages (from nbconvert->notebook>=4.4.1->widgetsnbextension~=3.5.0->ipywidgets>=7.0.0->cufflinks) (0.8.4)\n",
      "Requirement already satisfied: jupyterlab-pygments in c:\\users\\91986\\anaconda3\\lib\\site-packages (from nbconvert->notebook>=4.4.1->widgetsnbextension~=3.5.0->ipywidgets>=7.0.0->cufflinks) (0.1.2)\n",
      "Requirement already satisfied: beautifulsoup4 in c:\\users\\91986\\anaconda3\\lib\\site-packages (from nbconvert->notebook>=4.4.1->widgetsnbextension~=3.5.0->ipywidgets>=7.0.0->cufflinks) (4.9.1)\n",
      "Requirement already satisfied: pandocfilters>=1.4.1 in c:\\users\\91986\\anaconda3\\lib\\site-packages (from nbconvert->notebook>=4.4.1->widgetsnbextension~=3.5.0->ipywidgets>=7.0.0->cufflinks) (1.5.0)\n",
      "Requirement already satisfied: defusedxml in c:\\users\\91986\\anaconda3\\lib\\site-packages (from nbconvert->notebook>=4.4.1->widgetsnbextension~=3.5.0->ipywidgets>=7.0.0->cufflinks) (0.7.1)\n",
      "Requirement already satisfied: entrypoints>=0.2.2 in c:\\users\\91986\\anaconda3\\lib\\site-packages (from nbconvert->notebook>=4.4.1->widgetsnbextension~=3.5.0->ipywidgets>=7.0.0->cufflinks) (0.4)\n",
      "Requirement already satisfied: testpath in c:\\users\\91986\\anaconda3\\lib\\site-packages (from nbconvert->notebook>=4.4.1->widgetsnbextension~=3.5.0->ipywidgets>=7.0.0->cufflinks) (0.5.0)\n",
      "Requirement already satisfied: nbclient<0.6.0,>=0.5.0 in c:\\users\\91986\\anaconda3\\lib\\site-packages (from nbconvert->notebook>=4.4.1->widgetsnbextension~=3.5.0->ipywidgets>=7.0.0->cufflinks) (0.5.13)\n",
      "Requirement already satisfied: soupsieve>1.2 in c:\\users\\91986\\anaconda3\\lib\\site-packages (from beautifulsoup4->nbconvert->notebook>=4.4.1->widgetsnbextension~=3.5.0->ipywidgets>=7.0.0->cufflinks) (2.0.1)\n",
      "Requirement already satisfied: packaging in c:\\users\\91986\\anaconda3\\lib\\site-packages (from bleach->nbconvert->notebook>=4.4.1->widgetsnbextension~=3.5.0->ipywidgets>=7.0.0->cufflinks) (21.3)\n",
      "Requirement already satisfied: webencodings in c:\\users\\91986\\anaconda3\\lib\\site-packages (from bleach->nbconvert->notebook>=4.4.1->widgetsnbextension~=3.5.0->ipywidgets>=7.0.0->cufflinks) (0.5.1)\n",
      "Requirement already satisfied: pyparsing!=3.0.5,>=2.0.2 in c:\\users\\91986\\anaconda3\\lib\\site-packages (from packaging->bleach->nbconvert->notebook>=4.4.1->widgetsnbextension~=3.5.0->ipywidgets>=7.0.0->cufflinks) (3.0.4)\n",
      "Requirement already satisfied: pure-eval in c:\\users\\91986\\anaconda3\\lib\\site-packages (from stack-data->ipython>=5.3.0->cufflinks) (0.2.2)\n",
      "Requirement already satisfied: executing in c:\\users\\91986\\anaconda3\\lib\\site-packages (from stack-data->ipython>=5.3.0->cufflinks) (0.8.3)\n",
      "Requirement already satisfied: asttokens in c:\\users\\91986\\anaconda3\\lib\\site-packages (from stack-data->ipython>=5.3.0->cufflinks) (2.0.5)\n"
     ]
    },
    {
     "name": "stderr",
     "output_type": "stream",
     "text": [
      "WARNING: Ignoring invalid distribution -ymongo (c:\\users\\91986\\anaconda3\\lib\\site-packages)\n",
      "WARNING: Ignoring invalid distribution -ymongo (c:\\users\\91986\\anaconda3\\lib\\site-packages)\n",
      "WARNING: Ignoring invalid distribution -ymongo (c:\\users\\91986\\anaconda3\\lib\\site-packages)\n",
      "WARNING: Ignoring invalid distribution -ymongo (c:\\users\\91986\\anaconda3\\lib\\site-packages)\n",
      "WARNING: Ignoring invalid distribution -ymongo (c:\\users\\91986\\anaconda3\\lib\\site-packages)\n",
      "WARNING: Ignoring invalid distribution -ymongo (c:\\users\\91986\\anaconda3\\lib\\site-packages)\n"
     ]
    },
    {
     "name": "stdout",
     "output_type": "stream",
     "text": [
      "Requirement already satisfied: plotly in c:\\users\\91986\\anaconda3\\lib\\site-packages (5.6.0)\n",
      "Requirement already satisfied: six in c:\\users\\91986\\anaconda3\\lib\\site-packages (from plotly) (1.15.0)\n",
      "Requirement already satisfied: tenacity>=6.2.0 in c:\\users\\91986\\anaconda3\\lib\\site-packages (from plotly) (8.0.1)\n"
     ]
    },
    {
     "name": "stderr",
     "output_type": "stream",
     "text": [
      "WARNING: Ignoring invalid distribution -ymongo (c:\\users\\91986\\anaconda3\\lib\\site-packages)\n",
      "WARNING: Ignoring invalid distribution -ymongo (c:\\users\\91986\\anaconda3\\lib\\site-packages)\n",
      "WARNING: Ignoring invalid distribution -ymongo (c:\\users\\91986\\anaconda3\\lib\\site-packages)\n",
      "WARNING: Ignoring invalid distribution -ymongo (c:\\users\\91986\\anaconda3\\lib\\site-packages)\n",
      "WARNING: Ignoring invalid distribution -ymongo (c:\\users\\91986\\anaconda3\\lib\\site-packages)\n",
      "WARNING: Ignoring invalid distribution -ymongo (c:\\users\\91986\\anaconda3\\lib\\site-packages)\n"
     ]
    }
   ],
   "source": [
    "#commands to execute for plotly\n",
    "!pip install cufflinks\n",
    "!pip install plotly\n",
    "import plotly as py\n",
    "import plotly.express as px\n",
    "from plotly.offline import iplot\n",
    "import plotly.tools as tl\n",
    "import cufflinks as cf"
   ]
  },
  {
   "cell_type": "code",
   "execution_count": 6,
   "id": "78769a9a",
   "metadata": {},
   "outputs": [
    {
     "data": {
      "text/html": [
       "        <script type=\"text/javascript\">\n",
       "        window.PlotlyConfig = {MathJaxConfig: 'local'};\n",
       "        if (window.MathJax) {MathJax.Hub.Config({SVG: {font: \"STIX-Web\"}});}\n",
       "        if (typeof require !== 'undefined') {\n",
       "        require.undef(\"plotly\");\n",
       "        requirejs.config({\n",
       "            paths: {\n",
       "                'plotly': ['https://cdn.plot.ly/plotly-2.9.0.min']\n",
       "            }\n",
       "        });\n",
       "        require(['plotly'], function(Plotly) {\n",
       "            window._Plotly = Plotly;\n",
       "        });\n",
       "        }\n",
       "        </script>\n",
       "        "
      ]
     },
     "metadata": {},
     "output_type": "display_data"
    },
    {
     "data": {
      "text/html": [
       "        <script type=\"text/javascript\">\n",
       "        window.PlotlyConfig = {MathJaxConfig: 'local'};\n",
       "        if (window.MathJax) {MathJax.Hub.Config({SVG: {font: \"STIX-Web\"}});}\n",
       "        if (typeof require !== 'undefined') {\n",
       "        require.undef(\"plotly\");\n",
       "        requirejs.config({\n",
       "            paths: {\n",
       "                'plotly': ['https://cdn.plot.ly/plotly-2.9.0.min']\n",
       "            }\n",
       "        });\n",
       "        require(['plotly'], function(Plotly) {\n",
       "            window._Plotly = Plotly;\n",
       "        });\n",
       "        }\n",
       "        </script>\n",
       "        "
      ]
     },
     "metadata": {},
     "output_type": "display_data"
    },
    {
     "data": {
      "application/vnd.plotly.v1+json": {
       "config": {
        "linkText": "Export to plot.ly",
        "plotlyServerURL": "https://plot.ly",
        "showLink": true
       },
       "data": [
        {
         "line": {
          "color": "rgba(0, 128, 240, 1.0)",
          "dash": "solid",
          "shape": "linear",
          "width": 1.3
         },
         "mode": "lines",
         "name": "sepal_length",
         "text": "",
         "type": "scatter",
         "x": [
          0,
          1,
          2,
          3,
          4,
          5,
          6,
          7,
          8,
          9,
          10,
          11,
          12,
          13,
          14,
          15,
          16,
          17,
          18,
          19,
          20,
          21,
          22,
          23,
          24,
          25,
          26,
          27,
          28,
          29,
          30,
          31,
          32,
          33,
          34,
          35,
          36,
          37,
          38,
          39,
          40,
          41,
          42,
          43,
          44,
          45,
          46,
          47,
          48,
          49,
          50,
          51,
          52,
          53,
          54,
          55,
          56,
          57,
          58,
          59,
          60,
          61,
          62,
          63,
          64,
          65,
          66,
          67,
          68,
          69,
          70,
          71,
          72,
          73,
          74,
          75,
          76,
          77,
          78,
          79,
          80,
          81,
          82,
          83,
          84,
          85,
          86,
          87,
          88,
          89,
          90,
          91,
          92,
          93,
          94,
          95,
          96,
          97,
          98,
          99,
          100,
          101,
          102,
          103,
          104,
          105,
          106,
          107,
          108,
          109,
          110,
          111,
          112,
          113,
          114,
          115,
          116,
          117,
          118,
          119,
          120,
          121,
          122,
          123,
          124,
          125,
          126,
          127,
          128,
          129,
          130,
          131,
          132,
          133,
          134,
          135,
          136,
          137,
          138,
          139,
          140,
          141,
          142,
          143,
          144,
          145,
          146,
          147,
          148,
          149
         ],
         "y": [
          5.1,
          4.9,
          4.7,
          4.6,
          5,
          5.4,
          4.6,
          5,
          4.4,
          4.9,
          5.4,
          4.8,
          4.8,
          4.3,
          5.8,
          5.7,
          5.4,
          5.1,
          5.7,
          5.1,
          5.4,
          5.1,
          4.6,
          5.1,
          4.8,
          5,
          5,
          5.2,
          5.2,
          4.7,
          4.8,
          5.4,
          5.2,
          5.5,
          4.9,
          5,
          5.5,
          4.9,
          4.4,
          5.1,
          5,
          4.5,
          4.4,
          5,
          5.1,
          4.8,
          5.1,
          4.6,
          5.3,
          5,
          7,
          6.4,
          6.9,
          5.5,
          6.5,
          5.7,
          6.3,
          4.9,
          6.6,
          5.2,
          5,
          5.9,
          6,
          6.1,
          5.6,
          6.7,
          5.6,
          5.8,
          6.2,
          5.6,
          5.9,
          6.1,
          6.3,
          6.1,
          6.4,
          6.6,
          6.8,
          6.7,
          6,
          5.7,
          5.5,
          5.5,
          5.8,
          6,
          5.4,
          6,
          6.7,
          6.3,
          5.6,
          5.5,
          5.5,
          6.1,
          5.8,
          5,
          5.6,
          5.7,
          5.7,
          6.2,
          5.1,
          5.7,
          6.3,
          5.8,
          7.1,
          6.3,
          6.5,
          7.6,
          4.9,
          7.3,
          6.7,
          7.2,
          6.5,
          6.4,
          6.8,
          5.7,
          5.8,
          6.4,
          6.5,
          7.7,
          7.7,
          6,
          6.9,
          5.6,
          7.7,
          6.3,
          6.7,
          7.2,
          6.2,
          6.1,
          6.4,
          7.2,
          7.4,
          7.9,
          6.4,
          6.3,
          6.1,
          7.7,
          6.3,
          6.4,
          6,
          6.9,
          6.7,
          6.9,
          5.8,
          6.8,
          6.7,
          6.7,
          6.3,
          6.5,
          6.2,
          5.9
         ]
        },
        {
         "line": {
          "color": "rgba(238, 118, 0, 1.0)",
          "dash": "solid",
          "shape": "linear",
          "width": 1.3
         },
         "mode": "lines",
         "name": "sepal_width",
         "text": "",
         "type": "scatter",
         "x": [
          0,
          1,
          2,
          3,
          4,
          5,
          6,
          7,
          8,
          9,
          10,
          11,
          12,
          13,
          14,
          15,
          16,
          17,
          18,
          19,
          20,
          21,
          22,
          23,
          24,
          25,
          26,
          27,
          28,
          29,
          30,
          31,
          32,
          33,
          34,
          35,
          36,
          37,
          38,
          39,
          40,
          41,
          42,
          43,
          44,
          45,
          46,
          47,
          48,
          49,
          50,
          51,
          52,
          53,
          54,
          55,
          56,
          57,
          58,
          59,
          60,
          61,
          62,
          63,
          64,
          65,
          66,
          67,
          68,
          69,
          70,
          71,
          72,
          73,
          74,
          75,
          76,
          77,
          78,
          79,
          80,
          81,
          82,
          83,
          84,
          85,
          86,
          87,
          88,
          89,
          90,
          91,
          92,
          93,
          94,
          95,
          96,
          97,
          98,
          99,
          100,
          101,
          102,
          103,
          104,
          105,
          106,
          107,
          108,
          109,
          110,
          111,
          112,
          113,
          114,
          115,
          116,
          117,
          118,
          119,
          120,
          121,
          122,
          123,
          124,
          125,
          126,
          127,
          128,
          129,
          130,
          131,
          132,
          133,
          134,
          135,
          136,
          137,
          138,
          139,
          140,
          141,
          142,
          143,
          144,
          145,
          146,
          147,
          148,
          149
         ],
         "y": [
          3.5,
          3,
          3.2,
          3.1,
          3.6,
          3.9,
          3.4,
          3.4,
          2.9,
          3.1,
          3.7,
          3.4,
          3,
          3,
          4,
          4.4,
          3.9,
          3.5,
          3.8,
          3.8,
          3.4,
          3.7,
          3.6,
          3.3,
          3.4,
          3,
          3.4,
          3.5,
          3.4,
          3.2,
          3.1,
          3.4,
          4.1,
          4.2,
          3.1,
          3.2,
          3.5,
          3.6,
          3,
          3.4,
          3.5,
          2.3,
          3.2,
          3.5,
          3.8,
          3,
          3.8,
          3.2,
          3.7,
          3.3,
          3.2,
          3.2,
          3.1,
          2.3,
          2.8,
          2.8,
          3.3,
          2.4,
          2.9,
          2.7,
          2,
          3,
          2.2,
          2.9,
          2.9,
          3.1,
          3,
          2.7,
          2.2,
          2.5,
          3.2,
          2.8,
          2.5,
          2.8,
          2.9,
          3,
          2.8,
          3,
          2.9,
          2.6,
          2.4,
          2.4,
          2.7,
          2.7,
          3,
          3.4,
          3.1,
          2.3,
          3,
          2.5,
          2.6,
          3,
          2.6,
          2.3,
          2.7,
          3,
          2.9,
          2.9,
          2.5,
          2.8,
          3.3,
          2.7,
          3,
          2.9,
          3,
          3,
          2.5,
          2.9,
          2.5,
          3.6,
          3.2,
          2.7,
          3,
          2.5,
          2.8,
          3.2,
          3,
          3.8,
          2.6,
          2.2,
          3.2,
          2.8,
          2.8,
          2.7,
          3.3,
          3.2,
          2.8,
          3,
          2.8,
          3,
          2.8,
          3.8,
          2.8,
          2.8,
          2.6,
          3,
          3.4,
          3.1,
          3,
          3.1,
          3.1,
          3.1,
          2.7,
          3.2,
          3.3,
          3,
          2.5,
          3,
          3.4,
          3
         ]
        },
        {
         "line": {
          "color": "rgba(48, 144, 84, 1.0)",
          "dash": "solid",
          "shape": "linear",
          "width": 1.3
         },
         "mode": "lines",
         "name": "petal_length",
         "text": "",
         "type": "scatter",
         "x": [
          0,
          1,
          2,
          3,
          4,
          5,
          6,
          7,
          8,
          9,
          10,
          11,
          12,
          13,
          14,
          15,
          16,
          17,
          18,
          19,
          20,
          21,
          22,
          23,
          24,
          25,
          26,
          27,
          28,
          29,
          30,
          31,
          32,
          33,
          34,
          35,
          36,
          37,
          38,
          39,
          40,
          41,
          42,
          43,
          44,
          45,
          46,
          47,
          48,
          49,
          50,
          51,
          52,
          53,
          54,
          55,
          56,
          57,
          58,
          59,
          60,
          61,
          62,
          63,
          64,
          65,
          66,
          67,
          68,
          69,
          70,
          71,
          72,
          73,
          74,
          75,
          76,
          77,
          78,
          79,
          80,
          81,
          82,
          83,
          84,
          85,
          86,
          87,
          88,
          89,
          90,
          91,
          92,
          93,
          94,
          95,
          96,
          97,
          98,
          99,
          100,
          101,
          102,
          103,
          104,
          105,
          106,
          107,
          108,
          109,
          110,
          111,
          112,
          113,
          114,
          115,
          116,
          117,
          118,
          119,
          120,
          121,
          122,
          123,
          124,
          125,
          126,
          127,
          128,
          129,
          130,
          131,
          132,
          133,
          134,
          135,
          136,
          137,
          138,
          139,
          140,
          141,
          142,
          143,
          144,
          145,
          146,
          147,
          148,
          149
         ],
         "y": [
          1.4,
          1.4,
          1.3,
          1.5,
          1.4,
          1.7,
          1.4,
          1.5,
          1.4,
          1.5,
          1.5,
          1.6,
          1.4,
          1.1,
          1.2,
          1.5,
          1.3,
          1.4,
          1.7,
          1.5,
          1.7,
          1.5,
          1,
          1.7,
          1.9,
          1.6,
          1.6,
          1.5,
          1.4,
          1.6,
          1.6,
          1.5,
          1.5,
          1.4,
          1.5,
          1.2,
          1.3,
          1.4,
          1.3,
          1.5,
          1.3,
          1.3,
          1.3,
          1.6,
          1.9,
          1.4,
          1.6,
          1.4,
          1.5,
          1.4,
          4.7,
          4.5,
          4.9,
          4,
          4.6,
          4.5,
          4.7,
          3.3,
          4.6,
          3.9,
          3.5,
          4.2,
          4,
          4.7,
          3.6,
          4.4,
          4.5,
          4.1,
          4.5,
          3.9,
          4.8,
          4,
          4.9,
          4.7,
          4.3,
          4.4,
          4.8,
          5,
          4.5,
          3.5,
          3.8,
          3.7,
          3.9,
          5.1,
          4.5,
          4.5,
          4.7,
          4.4,
          4.1,
          4,
          4.4,
          4.6,
          4,
          3.3,
          4.2,
          4.2,
          4.2,
          4.3,
          3,
          4.1,
          6,
          5.1,
          5.9,
          5.6,
          5.8,
          6.6,
          4.5,
          6.3,
          5.8,
          6.1,
          5.1,
          5.3,
          5.5,
          5,
          5.1,
          5.3,
          5.5,
          6.7,
          6.9,
          5,
          5.7,
          4.9,
          6.7,
          4.9,
          5.7,
          6,
          4.8,
          4.9,
          5.6,
          5.8,
          6.1,
          6.4,
          5.6,
          5.1,
          5.6,
          6.1,
          5.6,
          5.5,
          4.8,
          5.4,
          5.6,
          5.1,
          5.1,
          5.9,
          5.7,
          5.2,
          5,
          5.2,
          5.4,
          5.1
         ]
        },
        {
         "line": {
          "color": "rgba(98, 98, 222, 1.0)",
          "dash": "solid",
          "shape": "linear",
          "width": 1.3
         },
         "mode": "lines",
         "name": "petal_width",
         "text": "",
         "type": "scatter",
         "x": [
          0,
          1,
          2,
          3,
          4,
          5,
          6,
          7,
          8,
          9,
          10,
          11,
          12,
          13,
          14,
          15,
          16,
          17,
          18,
          19,
          20,
          21,
          22,
          23,
          24,
          25,
          26,
          27,
          28,
          29,
          30,
          31,
          32,
          33,
          34,
          35,
          36,
          37,
          38,
          39,
          40,
          41,
          42,
          43,
          44,
          45,
          46,
          47,
          48,
          49,
          50,
          51,
          52,
          53,
          54,
          55,
          56,
          57,
          58,
          59,
          60,
          61,
          62,
          63,
          64,
          65,
          66,
          67,
          68,
          69,
          70,
          71,
          72,
          73,
          74,
          75,
          76,
          77,
          78,
          79,
          80,
          81,
          82,
          83,
          84,
          85,
          86,
          87,
          88,
          89,
          90,
          91,
          92,
          93,
          94,
          95,
          96,
          97,
          98,
          99,
          100,
          101,
          102,
          103,
          104,
          105,
          106,
          107,
          108,
          109,
          110,
          111,
          112,
          113,
          114,
          115,
          116,
          117,
          118,
          119,
          120,
          121,
          122,
          123,
          124,
          125,
          126,
          127,
          128,
          129,
          130,
          131,
          132,
          133,
          134,
          135,
          136,
          137,
          138,
          139,
          140,
          141,
          142,
          143,
          144,
          145,
          146,
          147,
          148,
          149
         ],
         "y": [
          0.2,
          0.2,
          0.2,
          0.2,
          0.2,
          0.4,
          0.3,
          0.2,
          0.2,
          0.1,
          0.2,
          0.2,
          0.1,
          0.1,
          0.2,
          0.4,
          0.4,
          0.3,
          0.3,
          0.3,
          0.2,
          0.4,
          0.2,
          0.5,
          0.2,
          0.2,
          0.4,
          0.2,
          0.2,
          0.2,
          0.2,
          0.4,
          0.1,
          0.2,
          0.2,
          0.2,
          0.2,
          0.1,
          0.2,
          0.2,
          0.3,
          0.3,
          0.2,
          0.6,
          0.4,
          0.3,
          0.2,
          0.2,
          0.2,
          0.2,
          1.4,
          1.5,
          1.5,
          1.3,
          1.5,
          1.3,
          1.6,
          1,
          1.3,
          1.4,
          1,
          1.5,
          1,
          1.4,
          1.3,
          1.4,
          1.5,
          1,
          1.5,
          1.1,
          1.8,
          1.3,
          1.5,
          1.2,
          1.3,
          1.4,
          1.4,
          1.7,
          1.5,
          1,
          1.1,
          1,
          1.2,
          1.6,
          1.5,
          1.6,
          1.5,
          1.3,
          1.3,
          1.3,
          1.2,
          1.4,
          1.2,
          1,
          1.3,
          1.2,
          1.3,
          1.3,
          1.1,
          1.3,
          2.5,
          1.9,
          2.1,
          1.8,
          2.2,
          2.1,
          1.7,
          1.8,
          1.8,
          2.5,
          2,
          1.9,
          2.1,
          2,
          2.4,
          2.3,
          1.8,
          2.2,
          2.3,
          1.5,
          2.3,
          2,
          2,
          1.8,
          2.1,
          1.8,
          1.8,
          1.8,
          2.1,
          1.6,
          1.9,
          2,
          2.2,
          1.5,
          1.4,
          2.3,
          2.4,
          1.8,
          1.8,
          2.1,
          2.4,
          2.3,
          1.9,
          2.3,
          2.5,
          2.3,
          1.9,
          2,
          2.3,
          1.8
         ]
        },
        {
         "line": {
          "color": "rgba(217, 66, 85, 1.0)",
          "dash": "solid",
          "shape": "linear",
          "width": 1.3
         },
         "mode": "lines",
         "name": "species",
         "text": "",
         "type": "scatter",
         "x": [
          0,
          1,
          2,
          3,
          4,
          5,
          6,
          7,
          8,
          9,
          10,
          11,
          12,
          13,
          14,
          15,
          16,
          17,
          18,
          19,
          20,
          21,
          22,
          23,
          24,
          25,
          26,
          27,
          28,
          29,
          30,
          31,
          32,
          33,
          34,
          35,
          36,
          37,
          38,
          39,
          40,
          41,
          42,
          43,
          44,
          45,
          46,
          47,
          48,
          49,
          50,
          51,
          52,
          53,
          54,
          55,
          56,
          57,
          58,
          59,
          60,
          61,
          62,
          63,
          64,
          65,
          66,
          67,
          68,
          69,
          70,
          71,
          72,
          73,
          74,
          75,
          76,
          77,
          78,
          79,
          80,
          81,
          82,
          83,
          84,
          85,
          86,
          87,
          88,
          89,
          90,
          91,
          92,
          93,
          94,
          95,
          96,
          97,
          98,
          99,
          100,
          101,
          102,
          103,
          104,
          105,
          106,
          107,
          108,
          109,
          110,
          111,
          112,
          113,
          114,
          115,
          116,
          117,
          118,
          119,
          120,
          121,
          122,
          123,
          124,
          125,
          126,
          127,
          128,
          129,
          130,
          131,
          132,
          133,
          134,
          135,
          136,
          137,
          138,
          139,
          140,
          141,
          142,
          143,
          144,
          145,
          146,
          147,
          148,
          149
         ],
         "y": [
          "setosa",
          "setosa",
          "setosa",
          "setosa",
          "setosa",
          "setosa",
          "setosa",
          "setosa",
          "setosa",
          "setosa",
          "setosa",
          "setosa",
          "setosa",
          "setosa",
          "setosa",
          "setosa",
          "setosa",
          "setosa",
          "setosa",
          "setosa",
          "setosa",
          "setosa",
          "setosa",
          "setosa",
          "setosa",
          "setosa",
          "setosa",
          "setosa",
          "setosa",
          "setosa",
          "setosa",
          "setosa",
          "setosa",
          "setosa",
          "setosa",
          "setosa",
          "setosa",
          "setosa",
          "setosa",
          "setosa",
          "setosa",
          "setosa",
          "setosa",
          "setosa",
          "setosa",
          "setosa",
          "setosa",
          "setosa",
          "setosa",
          "setosa",
          "versicolor",
          "versicolor",
          "versicolor",
          "versicolor",
          "versicolor",
          "versicolor",
          "versicolor",
          "versicolor",
          "versicolor",
          "versicolor",
          "versicolor",
          "versicolor",
          "versicolor",
          "versicolor",
          "versicolor",
          "versicolor",
          "versicolor",
          "versicolor",
          "versicolor",
          "versicolor",
          "versicolor",
          "versicolor",
          "versicolor",
          "versicolor",
          "versicolor",
          "versicolor",
          "versicolor",
          "versicolor",
          "versicolor",
          "versicolor",
          "versicolor",
          "versicolor",
          "versicolor",
          "versicolor",
          "versicolor",
          "versicolor",
          "versicolor",
          "versicolor",
          "versicolor",
          "versicolor",
          "versicolor",
          "versicolor",
          "versicolor",
          "versicolor",
          "versicolor",
          "versicolor",
          "versicolor",
          "versicolor",
          "versicolor",
          "versicolor",
          "virginica",
          "virginica",
          "virginica",
          "virginica",
          "virginica",
          "virginica",
          "virginica",
          "virginica",
          "virginica",
          "virginica",
          "virginica",
          "virginica",
          "virginica",
          "virginica",
          "virginica",
          "virginica",
          "virginica",
          "virginica",
          "virginica",
          "virginica",
          "virginica",
          "virginica",
          "virginica",
          "virginica",
          "virginica",
          "virginica",
          "virginica",
          "virginica",
          "virginica",
          "virginica",
          "virginica",
          "virginica",
          "virginica",
          "virginica",
          "virginica",
          "virginica",
          "virginica",
          "virginica",
          "virginica",
          "virginica",
          "virginica",
          "virginica",
          "virginica",
          "virginica",
          "virginica",
          "virginica",
          "virginica",
          "virginica",
          "virginica",
          "virginica"
         ]
        }
       ],
       "layout": {
        "legend": {
         "bgcolor": "#F2F3F7",
         "font": {
          "color": "#505050"
         }
        },
        "paper_bgcolor": "#F2F3F7",
        "plot_bgcolor": "#F2F3F7",
        "template": {
         "data": {
          "bar": [
           {
            "error_x": {
             "color": "#2a3f5f"
            },
            "error_y": {
             "color": "#2a3f5f"
            },
            "marker": {
             "line": {
              "color": "#E5ECF6",
              "width": 0.5
             },
             "pattern": {
              "fillmode": "overlay",
              "size": 10,
              "solidity": 0.2
             }
            },
            "type": "bar"
           }
          ],
          "barpolar": [
           {
            "marker": {
             "line": {
              "color": "#E5ECF6",
              "width": 0.5
             },
             "pattern": {
              "fillmode": "overlay",
              "size": 10,
              "solidity": 0.2
             }
            },
            "type": "barpolar"
           }
          ],
          "carpet": [
           {
            "aaxis": {
             "endlinecolor": "#2a3f5f",
             "gridcolor": "white",
             "linecolor": "white",
             "minorgridcolor": "white",
             "startlinecolor": "#2a3f5f"
            },
            "baxis": {
             "endlinecolor": "#2a3f5f",
             "gridcolor": "white",
             "linecolor": "white",
             "minorgridcolor": "white",
             "startlinecolor": "#2a3f5f"
            },
            "type": "carpet"
           }
          ],
          "choropleth": [
           {
            "colorbar": {
             "outlinewidth": 0,
             "ticks": ""
            },
            "type": "choropleth"
           }
          ],
          "contour": [
           {
            "colorbar": {
             "outlinewidth": 0,
             "ticks": ""
            },
            "colorscale": [
             [
              0,
              "#0d0887"
             ],
             [
              0.1111111111111111,
              "#46039f"
             ],
             [
              0.2222222222222222,
              "#7201a8"
             ],
             [
              0.3333333333333333,
              "#9c179e"
             ],
             [
              0.4444444444444444,
              "#bd3786"
             ],
             [
              0.5555555555555556,
              "#d8576b"
             ],
             [
              0.6666666666666666,
              "#ed7953"
             ],
             [
              0.7777777777777778,
              "#fb9f3a"
             ],
             [
              0.8888888888888888,
              "#fdca26"
             ],
             [
              1,
              "#f0f921"
             ]
            ],
            "type": "contour"
           }
          ],
          "contourcarpet": [
           {
            "colorbar": {
             "outlinewidth": 0,
             "ticks": ""
            },
            "type": "contourcarpet"
           }
          ],
          "heatmap": [
           {
            "colorbar": {
             "outlinewidth": 0,
             "ticks": ""
            },
            "colorscale": [
             [
              0,
              "#0d0887"
             ],
             [
              0.1111111111111111,
              "#46039f"
             ],
             [
              0.2222222222222222,
              "#7201a8"
             ],
             [
              0.3333333333333333,
              "#9c179e"
             ],
             [
              0.4444444444444444,
              "#bd3786"
             ],
             [
              0.5555555555555556,
              "#d8576b"
             ],
             [
              0.6666666666666666,
              "#ed7953"
             ],
             [
              0.7777777777777778,
              "#fb9f3a"
             ],
             [
              0.8888888888888888,
              "#fdca26"
             ],
             [
              1,
              "#f0f921"
             ]
            ],
            "type": "heatmap"
           }
          ],
          "heatmapgl": [
           {
            "colorbar": {
             "outlinewidth": 0,
             "ticks": ""
            },
            "colorscale": [
             [
              0,
              "#0d0887"
             ],
             [
              0.1111111111111111,
              "#46039f"
             ],
             [
              0.2222222222222222,
              "#7201a8"
             ],
             [
              0.3333333333333333,
              "#9c179e"
             ],
             [
              0.4444444444444444,
              "#bd3786"
             ],
             [
              0.5555555555555556,
              "#d8576b"
             ],
             [
              0.6666666666666666,
              "#ed7953"
             ],
             [
              0.7777777777777778,
              "#fb9f3a"
             ],
             [
              0.8888888888888888,
              "#fdca26"
             ],
             [
              1,
              "#f0f921"
             ]
            ],
            "type": "heatmapgl"
           }
          ],
          "histogram": [
           {
            "marker": {
             "pattern": {
              "fillmode": "overlay",
              "size": 10,
              "solidity": 0.2
             }
            },
            "type": "histogram"
           }
          ],
          "histogram2d": [
           {
            "colorbar": {
             "outlinewidth": 0,
             "ticks": ""
            },
            "colorscale": [
             [
              0,
              "#0d0887"
             ],
             [
              0.1111111111111111,
              "#46039f"
             ],
             [
              0.2222222222222222,
              "#7201a8"
             ],
             [
              0.3333333333333333,
              "#9c179e"
             ],
             [
              0.4444444444444444,
              "#bd3786"
             ],
             [
              0.5555555555555556,
              "#d8576b"
             ],
             [
              0.6666666666666666,
              "#ed7953"
             ],
             [
              0.7777777777777778,
              "#fb9f3a"
             ],
             [
              0.8888888888888888,
              "#fdca26"
             ],
             [
              1,
              "#f0f921"
             ]
            ],
            "type": "histogram2d"
           }
          ],
          "histogram2dcontour": [
           {
            "colorbar": {
             "outlinewidth": 0,
             "ticks": ""
            },
            "colorscale": [
             [
              0,
              "#0d0887"
             ],
             [
              0.1111111111111111,
              "#46039f"
             ],
             [
              0.2222222222222222,
              "#7201a8"
             ],
             [
              0.3333333333333333,
              "#9c179e"
             ],
             [
              0.4444444444444444,
              "#bd3786"
             ],
             [
              0.5555555555555556,
              "#d8576b"
             ],
             [
              0.6666666666666666,
              "#ed7953"
             ],
             [
              0.7777777777777778,
              "#fb9f3a"
             ],
             [
              0.8888888888888888,
              "#fdca26"
             ],
             [
              1,
              "#f0f921"
             ]
            ],
            "type": "histogram2dcontour"
           }
          ],
          "mesh3d": [
           {
            "colorbar": {
             "outlinewidth": 0,
             "ticks": ""
            },
            "type": "mesh3d"
           }
          ],
          "parcoords": [
           {
            "line": {
             "colorbar": {
              "outlinewidth": 0,
              "ticks": ""
             }
            },
            "type": "parcoords"
           }
          ],
          "pie": [
           {
            "automargin": true,
            "type": "pie"
           }
          ],
          "scatter": [
           {
            "marker": {
             "colorbar": {
              "outlinewidth": 0,
              "ticks": ""
             }
            },
            "type": "scatter"
           }
          ],
          "scatter3d": [
           {
            "line": {
             "colorbar": {
              "outlinewidth": 0,
              "ticks": ""
             }
            },
            "marker": {
             "colorbar": {
              "outlinewidth": 0,
              "ticks": ""
             }
            },
            "type": "scatter3d"
           }
          ],
          "scattercarpet": [
           {
            "marker": {
             "colorbar": {
              "outlinewidth": 0,
              "ticks": ""
             }
            },
            "type": "scattercarpet"
           }
          ],
          "scattergeo": [
           {
            "marker": {
             "colorbar": {
              "outlinewidth": 0,
              "ticks": ""
             }
            },
            "type": "scattergeo"
           }
          ],
          "scattergl": [
           {
            "marker": {
             "colorbar": {
              "outlinewidth": 0,
              "ticks": ""
             }
            },
            "type": "scattergl"
           }
          ],
          "scattermapbox": [
           {
            "marker": {
             "colorbar": {
              "outlinewidth": 0,
              "ticks": ""
             }
            },
            "type": "scattermapbox"
           }
          ],
          "scatterpolar": [
           {
            "marker": {
             "colorbar": {
              "outlinewidth": 0,
              "ticks": ""
             }
            },
            "type": "scatterpolar"
           }
          ],
          "scatterpolargl": [
           {
            "marker": {
             "colorbar": {
              "outlinewidth": 0,
              "ticks": ""
             }
            },
            "type": "scatterpolargl"
           }
          ],
          "scatterternary": [
           {
            "marker": {
             "colorbar": {
              "outlinewidth": 0,
              "ticks": ""
             }
            },
            "type": "scatterternary"
           }
          ],
          "surface": [
           {
            "colorbar": {
             "outlinewidth": 0,
             "ticks": ""
            },
            "colorscale": [
             [
              0,
              "#0d0887"
             ],
             [
              0.1111111111111111,
              "#46039f"
             ],
             [
              0.2222222222222222,
              "#7201a8"
             ],
             [
              0.3333333333333333,
              "#9c179e"
             ],
             [
              0.4444444444444444,
              "#bd3786"
             ],
             [
              0.5555555555555556,
              "#d8576b"
             ],
             [
              0.6666666666666666,
              "#ed7953"
             ],
             [
              0.7777777777777778,
              "#fb9f3a"
             ],
             [
              0.8888888888888888,
              "#fdca26"
             ],
             [
              1,
              "#f0f921"
             ]
            ],
            "type": "surface"
           }
          ],
          "table": [
           {
            "cells": {
             "fill": {
              "color": "#EBF0F8"
             },
             "line": {
              "color": "white"
             }
            },
            "header": {
             "fill": {
              "color": "#C8D4E3"
             },
             "line": {
              "color": "white"
             }
            },
            "type": "table"
           }
          ]
         },
         "layout": {
          "annotationdefaults": {
           "arrowcolor": "#2a3f5f",
           "arrowhead": 0,
           "arrowwidth": 1
          },
          "autotypenumbers": "strict",
          "coloraxis": {
           "colorbar": {
            "outlinewidth": 0,
            "ticks": ""
           }
          },
          "colorscale": {
           "diverging": [
            [
             0,
             "#8e0152"
            ],
            [
             0.1,
             "#c51b7d"
            ],
            [
             0.2,
             "#de77ae"
            ],
            [
             0.3,
             "#f1b6da"
            ],
            [
             0.4,
             "#fde0ef"
            ],
            [
             0.5,
             "#f7f7f7"
            ],
            [
             0.6,
             "#e6f5d0"
            ],
            [
             0.7,
             "#b8e186"
            ],
            [
             0.8,
             "#7fbc41"
            ],
            [
             0.9,
             "#4d9221"
            ],
            [
             1,
             "#276419"
            ]
           ],
           "sequential": [
            [
             0,
             "#0d0887"
            ],
            [
             0.1111111111111111,
             "#46039f"
            ],
            [
             0.2222222222222222,
             "#7201a8"
            ],
            [
             0.3333333333333333,
             "#9c179e"
            ],
            [
             0.4444444444444444,
             "#bd3786"
            ],
            [
             0.5555555555555556,
             "#d8576b"
            ],
            [
             0.6666666666666666,
             "#ed7953"
            ],
            [
             0.7777777777777778,
             "#fb9f3a"
            ],
            [
             0.8888888888888888,
             "#fdca26"
            ],
            [
             1,
             "#f0f921"
            ]
           ],
           "sequentialminus": [
            [
             0,
             "#0d0887"
            ],
            [
             0.1111111111111111,
             "#46039f"
            ],
            [
             0.2222222222222222,
             "#7201a8"
            ],
            [
             0.3333333333333333,
             "#9c179e"
            ],
            [
             0.4444444444444444,
             "#bd3786"
            ],
            [
             0.5555555555555556,
             "#d8576b"
            ],
            [
             0.6666666666666666,
             "#ed7953"
            ],
            [
             0.7777777777777778,
             "#fb9f3a"
            ],
            [
             0.8888888888888888,
             "#fdca26"
            ],
            [
             1,
             "#f0f921"
            ]
           ]
          },
          "colorway": [
           "#636efa",
           "#EF553B",
           "#00cc96",
           "#ab63fa",
           "#FFA15A",
           "#19d3f3",
           "#FF6692",
           "#B6E880",
           "#FF97FF",
           "#FECB52"
          ],
          "font": {
           "color": "#2a3f5f"
          },
          "geo": {
           "bgcolor": "white",
           "lakecolor": "white",
           "landcolor": "#E5ECF6",
           "showlakes": true,
           "showland": true,
           "subunitcolor": "white"
          },
          "hoverlabel": {
           "align": "left"
          },
          "hovermode": "closest",
          "mapbox": {
           "style": "light"
          },
          "paper_bgcolor": "white",
          "plot_bgcolor": "#E5ECF6",
          "polar": {
           "angularaxis": {
            "gridcolor": "white",
            "linecolor": "white",
            "ticks": ""
           },
           "bgcolor": "#E5ECF6",
           "radialaxis": {
            "gridcolor": "white",
            "linecolor": "white",
            "ticks": ""
           }
          },
          "scene": {
           "xaxis": {
            "backgroundcolor": "#E5ECF6",
            "gridcolor": "white",
            "gridwidth": 2,
            "linecolor": "white",
            "showbackground": true,
            "ticks": "",
            "zerolinecolor": "white"
           },
           "yaxis": {
            "backgroundcolor": "#E5ECF6",
            "gridcolor": "white",
            "gridwidth": 2,
            "linecolor": "white",
            "showbackground": true,
            "ticks": "",
            "zerolinecolor": "white"
           },
           "zaxis": {
            "backgroundcolor": "#E5ECF6",
            "gridcolor": "white",
            "gridwidth": 2,
            "linecolor": "white",
            "showbackground": true,
            "ticks": "",
            "zerolinecolor": "white"
           }
          },
          "shapedefaults": {
           "line": {
            "color": "#2a3f5f"
           }
          },
          "ternary": {
           "aaxis": {
            "gridcolor": "white",
            "linecolor": "white",
            "ticks": ""
           },
           "baxis": {
            "gridcolor": "white",
            "linecolor": "white",
            "ticks": ""
           },
           "bgcolor": "#E5ECF6",
           "caxis": {
            "gridcolor": "white",
            "linecolor": "white",
            "ticks": ""
           }
          },
          "title": {
           "x": 0.05
          },
          "xaxis": {
           "automargin": true,
           "gridcolor": "white",
           "linecolor": "white",
           "ticks": "",
           "title": {
            "standoff": 15
           },
           "zerolinecolor": "white",
           "zerolinewidth": 2
          },
          "yaxis": {
           "automargin": true,
           "gridcolor": "white",
           "linecolor": "white",
           "ticks": "",
           "title": {
            "standoff": 15
           },
           "zerolinecolor": "white",
           "zerolinewidth": 2
          }
         }
        },
        "title": {
         "font": {
          "color": "#484848"
         }
        },
        "xaxis": {
         "gridcolor": "#E1E5ED",
         "showgrid": true,
         "tickfont": {
          "color": "#505050"
         },
         "title": {
          "font": {
           "color": "#505050"
          },
          "text": ""
         },
         "zerolinecolor": "#E1E5ED"
        },
        "yaxis": {
         "gridcolor": "#E1E5ED",
         "showgrid": true,
         "tickfont": {
          "color": "#505050"
         },
         "title": {
          "font": {
           "color": "#505050"
          },
          "text": ""
         },
         "zerolinecolor": "#E1E5ED"
        }
       }
      },
      "text/html": [
       "<div>                            <div id=\"606983d2-8d89-40ba-bdec-ab5f5ea744f2\" class=\"plotly-graph-div\" style=\"height:525px; width:100%;\"></div>            <script type=\"text/javascript\">                require([\"plotly\"], function(Plotly) {                    window.PLOTLYENV=window.PLOTLYENV || {};\n",
       "                    window.PLOTLYENV.BASE_URL='https://plot.ly';                                    if (document.getElementById(\"606983d2-8d89-40ba-bdec-ab5f5ea744f2\")) {                    Plotly.newPlot(                        \"606983d2-8d89-40ba-bdec-ab5f5ea744f2\",                        [{\"line\":{\"color\":\"rgba(0, 128, 240, 1.0)\",\"dash\":\"solid\",\"shape\":\"linear\",\"width\":1.3},\"mode\":\"lines\",\"name\":\"sepal_length\",\"text\":\"\",\"x\":[0,1,2,3,4,5,6,7,8,9,10,11,12,13,14,15,16,17,18,19,20,21,22,23,24,25,26,27,28,29,30,31,32,33,34,35,36,37,38,39,40,41,42,43,44,45,46,47,48,49,50,51,52,53,54,55,56,57,58,59,60,61,62,63,64,65,66,67,68,69,70,71,72,73,74,75,76,77,78,79,80,81,82,83,84,85,86,87,88,89,90,91,92,93,94,95,96,97,98,99,100,101,102,103,104,105,106,107,108,109,110,111,112,113,114,115,116,117,118,119,120,121,122,123,124,125,126,127,128,129,130,131,132,133,134,135,136,137,138,139,140,141,142,143,144,145,146,147,148,149],\"y\":[5.1,4.9,4.7,4.6,5.0,5.4,4.6,5.0,4.4,4.9,5.4,4.8,4.8,4.3,5.8,5.7,5.4,5.1,5.7,5.1,5.4,5.1,4.6,5.1,4.8,5.0,5.0,5.2,5.2,4.7,4.8,5.4,5.2,5.5,4.9,5.0,5.5,4.9,4.4,5.1,5.0,4.5,4.4,5.0,5.1,4.8,5.1,4.6,5.3,5.0,7.0,6.4,6.9,5.5,6.5,5.7,6.3,4.9,6.6,5.2,5.0,5.9,6.0,6.1,5.6,6.7,5.6,5.8,6.2,5.6,5.9,6.1,6.3,6.1,6.4,6.6,6.8,6.7,6.0,5.7,5.5,5.5,5.8,6.0,5.4,6.0,6.7,6.3,5.6,5.5,5.5,6.1,5.8,5.0,5.6,5.7,5.7,6.2,5.1,5.7,6.3,5.8,7.1,6.3,6.5,7.6,4.9,7.3,6.7,7.2,6.5,6.4,6.8,5.7,5.8,6.4,6.5,7.7,7.7,6.0,6.9,5.6,7.7,6.3,6.7,7.2,6.2,6.1,6.4,7.2,7.4,7.9,6.4,6.3,6.1,7.7,6.3,6.4,6.0,6.9,6.7,6.9,5.8,6.8,6.7,6.7,6.3,6.5,6.2,5.9],\"type\":\"scatter\"},{\"line\":{\"color\":\"rgba(238, 118, 0, 1.0)\",\"dash\":\"solid\",\"shape\":\"linear\",\"width\":1.3},\"mode\":\"lines\",\"name\":\"sepal_width\",\"text\":\"\",\"x\":[0,1,2,3,4,5,6,7,8,9,10,11,12,13,14,15,16,17,18,19,20,21,22,23,24,25,26,27,28,29,30,31,32,33,34,35,36,37,38,39,40,41,42,43,44,45,46,47,48,49,50,51,52,53,54,55,56,57,58,59,60,61,62,63,64,65,66,67,68,69,70,71,72,73,74,75,76,77,78,79,80,81,82,83,84,85,86,87,88,89,90,91,92,93,94,95,96,97,98,99,100,101,102,103,104,105,106,107,108,109,110,111,112,113,114,115,116,117,118,119,120,121,122,123,124,125,126,127,128,129,130,131,132,133,134,135,136,137,138,139,140,141,142,143,144,145,146,147,148,149],\"y\":[3.5,3.0,3.2,3.1,3.6,3.9,3.4,3.4,2.9,3.1,3.7,3.4,3.0,3.0,4.0,4.4,3.9,3.5,3.8,3.8,3.4,3.7,3.6,3.3,3.4,3.0,3.4,3.5,3.4,3.2,3.1,3.4,4.1,4.2,3.1,3.2,3.5,3.6,3.0,3.4,3.5,2.3,3.2,3.5,3.8,3.0,3.8,3.2,3.7,3.3,3.2,3.2,3.1,2.3,2.8,2.8,3.3,2.4,2.9,2.7,2.0,3.0,2.2,2.9,2.9,3.1,3.0,2.7,2.2,2.5,3.2,2.8,2.5,2.8,2.9,3.0,2.8,3.0,2.9,2.6,2.4,2.4,2.7,2.7,3.0,3.4,3.1,2.3,3.0,2.5,2.6,3.0,2.6,2.3,2.7,3.0,2.9,2.9,2.5,2.8,3.3,2.7,3.0,2.9,3.0,3.0,2.5,2.9,2.5,3.6,3.2,2.7,3.0,2.5,2.8,3.2,3.0,3.8,2.6,2.2,3.2,2.8,2.8,2.7,3.3,3.2,2.8,3.0,2.8,3.0,2.8,3.8,2.8,2.8,2.6,3.0,3.4,3.1,3.0,3.1,3.1,3.1,2.7,3.2,3.3,3.0,2.5,3.0,3.4,3.0],\"type\":\"scatter\"},{\"line\":{\"color\":\"rgba(48, 144, 84, 1.0)\",\"dash\":\"solid\",\"shape\":\"linear\",\"width\":1.3},\"mode\":\"lines\",\"name\":\"petal_length\",\"text\":\"\",\"x\":[0,1,2,3,4,5,6,7,8,9,10,11,12,13,14,15,16,17,18,19,20,21,22,23,24,25,26,27,28,29,30,31,32,33,34,35,36,37,38,39,40,41,42,43,44,45,46,47,48,49,50,51,52,53,54,55,56,57,58,59,60,61,62,63,64,65,66,67,68,69,70,71,72,73,74,75,76,77,78,79,80,81,82,83,84,85,86,87,88,89,90,91,92,93,94,95,96,97,98,99,100,101,102,103,104,105,106,107,108,109,110,111,112,113,114,115,116,117,118,119,120,121,122,123,124,125,126,127,128,129,130,131,132,133,134,135,136,137,138,139,140,141,142,143,144,145,146,147,148,149],\"y\":[1.4,1.4,1.3,1.5,1.4,1.7,1.4,1.5,1.4,1.5,1.5,1.6,1.4,1.1,1.2,1.5,1.3,1.4,1.7,1.5,1.7,1.5,1.0,1.7,1.9,1.6,1.6,1.5,1.4,1.6,1.6,1.5,1.5,1.4,1.5,1.2,1.3,1.4,1.3,1.5,1.3,1.3,1.3,1.6,1.9,1.4,1.6,1.4,1.5,1.4,4.7,4.5,4.9,4.0,4.6,4.5,4.7,3.3,4.6,3.9,3.5,4.2,4.0,4.7,3.6,4.4,4.5,4.1,4.5,3.9,4.8,4.0,4.9,4.7,4.3,4.4,4.8,5.0,4.5,3.5,3.8,3.7,3.9,5.1,4.5,4.5,4.7,4.4,4.1,4.0,4.4,4.6,4.0,3.3,4.2,4.2,4.2,4.3,3.0,4.1,6.0,5.1,5.9,5.6,5.8,6.6,4.5,6.3,5.8,6.1,5.1,5.3,5.5,5.0,5.1,5.3,5.5,6.7,6.9,5.0,5.7,4.9,6.7,4.9,5.7,6.0,4.8,4.9,5.6,5.8,6.1,6.4,5.6,5.1,5.6,6.1,5.6,5.5,4.8,5.4,5.6,5.1,5.1,5.9,5.7,5.2,5.0,5.2,5.4,5.1],\"type\":\"scatter\"},{\"line\":{\"color\":\"rgba(98, 98, 222, 1.0)\",\"dash\":\"solid\",\"shape\":\"linear\",\"width\":1.3},\"mode\":\"lines\",\"name\":\"petal_width\",\"text\":\"\",\"x\":[0,1,2,3,4,5,6,7,8,9,10,11,12,13,14,15,16,17,18,19,20,21,22,23,24,25,26,27,28,29,30,31,32,33,34,35,36,37,38,39,40,41,42,43,44,45,46,47,48,49,50,51,52,53,54,55,56,57,58,59,60,61,62,63,64,65,66,67,68,69,70,71,72,73,74,75,76,77,78,79,80,81,82,83,84,85,86,87,88,89,90,91,92,93,94,95,96,97,98,99,100,101,102,103,104,105,106,107,108,109,110,111,112,113,114,115,116,117,118,119,120,121,122,123,124,125,126,127,128,129,130,131,132,133,134,135,136,137,138,139,140,141,142,143,144,145,146,147,148,149],\"y\":[0.2,0.2,0.2,0.2,0.2,0.4,0.3,0.2,0.2,0.1,0.2,0.2,0.1,0.1,0.2,0.4,0.4,0.3,0.3,0.3,0.2,0.4,0.2,0.5,0.2,0.2,0.4,0.2,0.2,0.2,0.2,0.4,0.1,0.2,0.2,0.2,0.2,0.1,0.2,0.2,0.3,0.3,0.2,0.6,0.4,0.3,0.2,0.2,0.2,0.2,1.4,1.5,1.5,1.3,1.5,1.3,1.6,1.0,1.3,1.4,1.0,1.5,1.0,1.4,1.3,1.4,1.5,1.0,1.5,1.1,1.8,1.3,1.5,1.2,1.3,1.4,1.4,1.7,1.5,1.0,1.1,1.0,1.2,1.6,1.5,1.6,1.5,1.3,1.3,1.3,1.2,1.4,1.2,1.0,1.3,1.2,1.3,1.3,1.1,1.3,2.5,1.9,2.1,1.8,2.2,2.1,1.7,1.8,1.8,2.5,2.0,1.9,2.1,2.0,2.4,2.3,1.8,2.2,2.3,1.5,2.3,2.0,2.0,1.8,2.1,1.8,1.8,1.8,2.1,1.6,1.9,2.0,2.2,1.5,1.4,2.3,2.4,1.8,1.8,2.1,2.4,2.3,1.9,2.3,2.5,2.3,1.9,2.0,2.3,1.8],\"type\":\"scatter\"},{\"line\":{\"color\":\"rgba(217, 66, 85, 1.0)\",\"dash\":\"solid\",\"shape\":\"linear\",\"width\":1.3},\"mode\":\"lines\",\"name\":\"species\",\"text\":\"\",\"x\":[0,1,2,3,4,5,6,7,8,9,10,11,12,13,14,15,16,17,18,19,20,21,22,23,24,25,26,27,28,29,30,31,32,33,34,35,36,37,38,39,40,41,42,43,44,45,46,47,48,49,50,51,52,53,54,55,56,57,58,59,60,61,62,63,64,65,66,67,68,69,70,71,72,73,74,75,76,77,78,79,80,81,82,83,84,85,86,87,88,89,90,91,92,93,94,95,96,97,98,99,100,101,102,103,104,105,106,107,108,109,110,111,112,113,114,115,116,117,118,119,120,121,122,123,124,125,126,127,128,129,130,131,132,133,134,135,136,137,138,139,140,141,142,143,144,145,146,147,148,149],\"y\":[\"setosa\",\"setosa\",\"setosa\",\"setosa\",\"setosa\",\"setosa\",\"setosa\",\"setosa\",\"setosa\",\"setosa\",\"setosa\",\"setosa\",\"setosa\",\"setosa\",\"setosa\",\"setosa\",\"setosa\",\"setosa\",\"setosa\",\"setosa\",\"setosa\",\"setosa\",\"setosa\",\"setosa\",\"setosa\",\"setosa\",\"setosa\",\"setosa\",\"setosa\",\"setosa\",\"setosa\",\"setosa\",\"setosa\",\"setosa\",\"setosa\",\"setosa\",\"setosa\",\"setosa\",\"setosa\",\"setosa\",\"setosa\",\"setosa\",\"setosa\",\"setosa\",\"setosa\",\"setosa\",\"setosa\",\"setosa\",\"setosa\",\"setosa\",\"versicolor\",\"versicolor\",\"versicolor\",\"versicolor\",\"versicolor\",\"versicolor\",\"versicolor\",\"versicolor\",\"versicolor\",\"versicolor\",\"versicolor\",\"versicolor\",\"versicolor\",\"versicolor\",\"versicolor\",\"versicolor\",\"versicolor\",\"versicolor\",\"versicolor\",\"versicolor\",\"versicolor\",\"versicolor\",\"versicolor\",\"versicolor\",\"versicolor\",\"versicolor\",\"versicolor\",\"versicolor\",\"versicolor\",\"versicolor\",\"versicolor\",\"versicolor\",\"versicolor\",\"versicolor\",\"versicolor\",\"versicolor\",\"versicolor\",\"versicolor\",\"versicolor\",\"versicolor\",\"versicolor\",\"versicolor\",\"versicolor\",\"versicolor\",\"versicolor\",\"versicolor\",\"versicolor\",\"versicolor\",\"versicolor\",\"versicolor\",\"virginica\",\"virginica\",\"virginica\",\"virginica\",\"virginica\",\"virginica\",\"virginica\",\"virginica\",\"virginica\",\"virginica\",\"virginica\",\"virginica\",\"virginica\",\"virginica\",\"virginica\",\"virginica\",\"virginica\",\"virginica\",\"virginica\",\"virginica\",\"virginica\",\"virginica\",\"virginica\",\"virginica\",\"virginica\",\"virginica\",\"virginica\",\"virginica\",\"virginica\",\"virginica\",\"virginica\",\"virginica\",\"virginica\",\"virginica\",\"virginica\",\"virginica\",\"virginica\",\"virginica\",\"virginica\",\"virginica\",\"virginica\",\"virginica\",\"virginica\",\"virginica\",\"virginica\",\"virginica\",\"virginica\",\"virginica\",\"virginica\",\"virginica\"],\"type\":\"scatter\"}],                        {\"legend\":{\"bgcolor\":\"#F2F3F7\",\"font\":{\"color\":\"#505050\"}},\"paper_bgcolor\":\"#F2F3F7\",\"plot_bgcolor\":\"#F2F3F7\",\"template\":{\"data\":{\"barpolar\":[{\"marker\":{\"line\":{\"color\":\"#E5ECF6\",\"width\":0.5},\"pattern\":{\"fillmode\":\"overlay\",\"size\":10,\"solidity\":0.2}},\"type\":\"barpolar\"}],\"bar\":[{\"error_x\":{\"color\":\"#2a3f5f\"},\"error_y\":{\"color\":\"#2a3f5f\"},\"marker\":{\"line\":{\"color\":\"#E5ECF6\",\"width\":0.5},\"pattern\":{\"fillmode\":\"overlay\",\"size\":10,\"solidity\":0.2}},\"type\":\"bar\"}],\"carpet\":[{\"aaxis\":{\"endlinecolor\":\"#2a3f5f\",\"gridcolor\":\"white\",\"linecolor\":\"white\",\"minorgridcolor\":\"white\",\"startlinecolor\":\"#2a3f5f\"},\"baxis\":{\"endlinecolor\":\"#2a3f5f\",\"gridcolor\":\"white\",\"linecolor\":\"white\",\"minorgridcolor\":\"white\",\"startlinecolor\":\"#2a3f5f\"},\"type\":\"carpet\"}],\"choropleth\":[{\"colorbar\":{\"outlinewidth\":0,\"ticks\":\"\"},\"type\":\"choropleth\"}],\"contourcarpet\":[{\"colorbar\":{\"outlinewidth\":0,\"ticks\":\"\"},\"type\":\"contourcarpet\"}],\"contour\":[{\"colorbar\":{\"outlinewidth\":0,\"ticks\":\"\"},\"colorscale\":[[0.0,\"#0d0887\"],[0.1111111111111111,\"#46039f\"],[0.2222222222222222,\"#7201a8\"],[0.3333333333333333,\"#9c179e\"],[0.4444444444444444,\"#bd3786\"],[0.5555555555555556,\"#d8576b\"],[0.6666666666666666,\"#ed7953\"],[0.7777777777777778,\"#fb9f3a\"],[0.8888888888888888,\"#fdca26\"],[1.0,\"#f0f921\"]],\"type\":\"contour\"}],\"heatmapgl\":[{\"colorbar\":{\"outlinewidth\":0,\"ticks\":\"\"},\"colorscale\":[[0.0,\"#0d0887\"],[0.1111111111111111,\"#46039f\"],[0.2222222222222222,\"#7201a8\"],[0.3333333333333333,\"#9c179e\"],[0.4444444444444444,\"#bd3786\"],[0.5555555555555556,\"#d8576b\"],[0.6666666666666666,\"#ed7953\"],[0.7777777777777778,\"#fb9f3a\"],[0.8888888888888888,\"#fdca26\"],[1.0,\"#f0f921\"]],\"type\":\"heatmapgl\"}],\"heatmap\":[{\"colorbar\":{\"outlinewidth\":0,\"ticks\":\"\"},\"colorscale\":[[0.0,\"#0d0887\"],[0.1111111111111111,\"#46039f\"],[0.2222222222222222,\"#7201a8\"],[0.3333333333333333,\"#9c179e\"],[0.4444444444444444,\"#bd3786\"],[0.5555555555555556,\"#d8576b\"],[0.6666666666666666,\"#ed7953\"],[0.7777777777777778,\"#fb9f3a\"],[0.8888888888888888,\"#fdca26\"],[1.0,\"#f0f921\"]],\"type\":\"heatmap\"}],\"histogram2dcontour\":[{\"colorbar\":{\"outlinewidth\":0,\"ticks\":\"\"},\"colorscale\":[[0.0,\"#0d0887\"],[0.1111111111111111,\"#46039f\"],[0.2222222222222222,\"#7201a8\"],[0.3333333333333333,\"#9c179e\"],[0.4444444444444444,\"#bd3786\"],[0.5555555555555556,\"#d8576b\"],[0.6666666666666666,\"#ed7953\"],[0.7777777777777778,\"#fb9f3a\"],[0.8888888888888888,\"#fdca26\"],[1.0,\"#f0f921\"]],\"type\":\"histogram2dcontour\"}],\"histogram2d\":[{\"colorbar\":{\"outlinewidth\":0,\"ticks\":\"\"},\"colorscale\":[[0.0,\"#0d0887\"],[0.1111111111111111,\"#46039f\"],[0.2222222222222222,\"#7201a8\"],[0.3333333333333333,\"#9c179e\"],[0.4444444444444444,\"#bd3786\"],[0.5555555555555556,\"#d8576b\"],[0.6666666666666666,\"#ed7953\"],[0.7777777777777778,\"#fb9f3a\"],[0.8888888888888888,\"#fdca26\"],[1.0,\"#f0f921\"]],\"type\":\"histogram2d\"}],\"histogram\":[{\"marker\":{\"pattern\":{\"fillmode\":\"overlay\",\"size\":10,\"solidity\":0.2}},\"type\":\"histogram\"}],\"mesh3d\":[{\"colorbar\":{\"outlinewidth\":0,\"ticks\":\"\"},\"type\":\"mesh3d\"}],\"parcoords\":[{\"line\":{\"colorbar\":{\"outlinewidth\":0,\"ticks\":\"\"}},\"type\":\"parcoords\"}],\"pie\":[{\"automargin\":true,\"type\":\"pie\"}],\"scatter3d\":[{\"line\":{\"colorbar\":{\"outlinewidth\":0,\"ticks\":\"\"}},\"marker\":{\"colorbar\":{\"outlinewidth\":0,\"ticks\":\"\"}},\"type\":\"scatter3d\"}],\"scattercarpet\":[{\"marker\":{\"colorbar\":{\"outlinewidth\":0,\"ticks\":\"\"}},\"type\":\"scattercarpet\"}],\"scattergeo\":[{\"marker\":{\"colorbar\":{\"outlinewidth\":0,\"ticks\":\"\"}},\"type\":\"scattergeo\"}],\"scattergl\":[{\"marker\":{\"colorbar\":{\"outlinewidth\":0,\"ticks\":\"\"}},\"type\":\"scattergl\"}],\"scattermapbox\":[{\"marker\":{\"colorbar\":{\"outlinewidth\":0,\"ticks\":\"\"}},\"type\":\"scattermapbox\"}],\"scatterpolargl\":[{\"marker\":{\"colorbar\":{\"outlinewidth\":0,\"ticks\":\"\"}},\"type\":\"scatterpolargl\"}],\"scatterpolar\":[{\"marker\":{\"colorbar\":{\"outlinewidth\":0,\"ticks\":\"\"}},\"type\":\"scatterpolar\"}],\"scatter\":[{\"marker\":{\"colorbar\":{\"outlinewidth\":0,\"ticks\":\"\"}},\"type\":\"scatter\"}],\"scatterternary\":[{\"marker\":{\"colorbar\":{\"outlinewidth\":0,\"ticks\":\"\"}},\"type\":\"scatterternary\"}],\"surface\":[{\"colorbar\":{\"outlinewidth\":0,\"ticks\":\"\"},\"colorscale\":[[0.0,\"#0d0887\"],[0.1111111111111111,\"#46039f\"],[0.2222222222222222,\"#7201a8\"],[0.3333333333333333,\"#9c179e\"],[0.4444444444444444,\"#bd3786\"],[0.5555555555555556,\"#d8576b\"],[0.6666666666666666,\"#ed7953\"],[0.7777777777777778,\"#fb9f3a\"],[0.8888888888888888,\"#fdca26\"],[1.0,\"#f0f921\"]],\"type\":\"surface\"}],\"table\":[{\"cells\":{\"fill\":{\"color\":\"#EBF0F8\"},\"line\":{\"color\":\"white\"}},\"header\":{\"fill\":{\"color\":\"#C8D4E3\"},\"line\":{\"color\":\"white\"}},\"type\":\"table\"}]},\"layout\":{\"annotationdefaults\":{\"arrowcolor\":\"#2a3f5f\",\"arrowhead\":0,\"arrowwidth\":1},\"autotypenumbers\":\"strict\",\"coloraxis\":{\"colorbar\":{\"outlinewidth\":0,\"ticks\":\"\"}},\"colorscale\":{\"diverging\":[[0,\"#8e0152\"],[0.1,\"#c51b7d\"],[0.2,\"#de77ae\"],[0.3,\"#f1b6da\"],[0.4,\"#fde0ef\"],[0.5,\"#f7f7f7\"],[0.6,\"#e6f5d0\"],[0.7,\"#b8e186\"],[0.8,\"#7fbc41\"],[0.9,\"#4d9221\"],[1,\"#276419\"]],\"sequential\":[[0.0,\"#0d0887\"],[0.1111111111111111,\"#46039f\"],[0.2222222222222222,\"#7201a8\"],[0.3333333333333333,\"#9c179e\"],[0.4444444444444444,\"#bd3786\"],[0.5555555555555556,\"#d8576b\"],[0.6666666666666666,\"#ed7953\"],[0.7777777777777778,\"#fb9f3a\"],[0.8888888888888888,\"#fdca26\"],[1.0,\"#f0f921\"]],\"sequentialminus\":[[0.0,\"#0d0887\"],[0.1111111111111111,\"#46039f\"],[0.2222222222222222,\"#7201a8\"],[0.3333333333333333,\"#9c179e\"],[0.4444444444444444,\"#bd3786\"],[0.5555555555555556,\"#d8576b\"],[0.6666666666666666,\"#ed7953\"],[0.7777777777777778,\"#fb9f3a\"],[0.8888888888888888,\"#fdca26\"],[1.0,\"#f0f921\"]]},\"colorway\":[\"#636efa\",\"#EF553B\",\"#00cc96\",\"#ab63fa\",\"#FFA15A\",\"#19d3f3\",\"#FF6692\",\"#B6E880\",\"#FF97FF\",\"#FECB52\"],\"font\":{\"color\":\"#2a3f5f\"},\"geo\":{\"bgcolor\":\"white\",\"lakecolor\":\"white\",\"landcolor\":\"#E5ECF6\",\"showlakes\":true,\"showland\":true,\"subunitcolor\":\"white\"},\"hoverlabel\":{\"align\":\"left\"},\"hovermode\":\"closest\",\"mapbox\":{\"style\":\"light\"},\"paper_bgcolor\":\"white\",\"plot_bgcolor\":\"#E5ECF6\",\"polar\":{\"angularaxis\":{\"gridcolor\":\"white\",\"linecolor\":\"white\",\"ticks\":\"\"},\"bgcolor\":\"#E5ECF6\",\"radialaxis\":{\"gridcolor\":\"white\",\"linecolor\":\"white\",\"ticks\":\"\"}},\"scene\":{\"xaxis\":{\"backgroundcolor\":\"#E5ECF6\",\"gridcolor\":\"white\",\"gridwidth\":2,\"linecolor\":\"white\",\"showbackground\":true,\"ticks\":\"\",\"zerolinecolor\":\"white\"},\"yaxis\":{\"backgroundcolor\":\"#E5ECF6\",\"gridcolor\":\"white\",\"gridwidth\":2,\"linecolor\":\"white\",\"showbackground\":true,\"ticks\":\"\",\"zerolinecolor\":\"white\"},\"zaxis\":{\"backgroundcolor\":\"#E5ECF6\",\"gridcolor\":\"white\",\"gridwidth\":2,\"linecolor\":\"white\",\"showbackground\":true,\"ticks\":\"\",\"zerolinecolor\":\"white\"}},\"shapedefaults\":{\"line\":{\"color\":\"#2a3f5f\"}},\"ternary\":{\"aaxis\":{\"gridcolor\":\"white\",\"linecolor\":\"white\",\"ticks\":\"\"},\"baxis\":{\"gridcolor\":\"white\",\"linecolor\":\"white\",\"ticks\":\"\"},\"bgcolor\":\"#E5ECF6\",\"caxis\":{\"gridcolor\":\"white\",\"linecolor\":\"white\",\"ticks\":\"\"}},\"title\":{\"x\":0.05},\"xaxis\":{\"automargin\":true,\"gridcolor\":\"white\",\"linecolor\":\"white\",\"ticks\":\"\",\"title\":{\"standoff\":15},\"zerolinecolor\":\"white\",\"zerolinewidth\":2},\"yaxis\":{\"automargin\":true,\"gridcolor\":\"white\",\"linecolor\":\"white\",\"ticks\":\"\",\"title\":{\"standoff\":15},\"zerolinecolor\":\"white\",\"zerolinewidth\":2}}},\"title\":{\"font\":{\"color\":\"#484848\"}},\"xaxis\":{\"gridcolor\":\"#E1E5ED\",\"showgrid\":true,\"tickfont\":{\"color\":\"#505050\"},\"title\":{\"font\":{\"color\":\"#505050\"},\"text\":\"\"},\"zerolinecolor\":\"#E1E5ED\"},\"yaxis\":{\"gridcolor\":\"#E1E5ED\",\"showgrid\":true,\"tickfont\":{\"color\":\"#505050\"},\"title\":{\"font\":{\"color\":\"#505050\"},\"text\":\"\"},\"zerolinecolor\":\"#E1E5ED\"}},                        {\"showLink\": true, \"linkText\": \"Export to plot.ly\", \"plotlyServerURL\": \"https://plot.ly\", \"responsive\": true}                    ).then(function(){\n",
       "                            \n",
       "var gd = document.getElementById('606983d2-8d89-40ba-bdec-ab5f5ea744f2');\n",
       "var x = new MutationObserver(function (mutations, observer) {{\n",
       "        var display = window.getComputedStyle(gd).display;\n",
       "        if (!display || display === 'none') {{\n",
       "            console.log([gd, 'removed!']);\n",
       "            Plotly.purge(gd);\n",
       "            observer.disconnect();\n",
       "        }}\n",
       "}});\n",
       "\n",
       "// Listen for the removal of the full notebook cells\n",
       "var notebookContainer = gd.closest('#notebook-container');\n",
       "if (notebookContainer) {{\n",
       "    x.observe(notebookContainer, {childList: true});\n",
       "}}\n",
       "\n",
       "// Listen for the clearing of the current output cell\n",
       "var outputEl = gd.closest('.output');\n",
       "if (outputEl) {{\n",
       "    x.observe(outputEl, {childList: true});\n",
       "}}\n",
       "\n",
       "                        })                };                });            </script>        </div>"
      ]
     },
     "metadata": {},
     "output_type": "display_data"
    }
   ],
   "source": [
    "py.offline.init_notebook_mode(connected=True)\n",
    "cf.go_offline()\n",
    "import seaborn as sn\n",
    "df=sn.load_dataset('iris')\n",
    "df.iplot()"
   ]
  },
  {
   "cell_type": "code",
   "execution_count": 13,
   "id": "1ce196b9",
   "metadata": {},
   "outputs": [
    {
     "data": {
      "application/vnd.plotly.v1+json": {
       "config": {
        "linkText": "Export to plot.ly",
        "plotlyServerURL": "https://plot.ly",
        "showLink": true
       },
       "data": [
        {
         "histfunc": "count",
         "histnorm": "",
         "marker": {
          "color": "rgba(0, 128, 240, 1.0)",
          "line": {
           "color": "#505050",
           "width": 1.3
          }
         },
         "name": "sepal_length",
         "opacity": 0.8,
         "orientation": "v",
         "type": "histogram",
         "x": [
          5.1,
          4.9,
          4.7,
          4.6,
          5,
          5.4,
          4.6,
          5,
          4.4,
          4.9,
          5.4,
          4.8,
          4.8,
          4.3,
          5.8,
          5.7,
          5.4,
          5.1,
          5.7,
          5.1,
          5.4,
          5.1,
          4.6,
          5.1,
          4.8,
          5,
          5,
          5.2,
          5.2,
          4.7,
          4.8,
          5.4,
          5.2,
          5.5,
          4.9,
          5,
          5.5,
          4.9,
          4.4,
          5.1,
          5,
          4.5,
          4.4,
          5,
          5.1,
          4.8,
          5.1,
          4.6,
          5.3,
          5,
          7,
          6.4,
          6.9,
          5.5,
          6.5,
          5.7,
          6.3,
          4.9,
          6.6,
          5.2,
          5,
          5.9,
          6,
          6.1,
          5.6,
          6.7,
          5.6,
          5.8,
          6.2,
          5.6,
          5.9,
          6.1,
          6.3,
          6.1,
          6.4,
          6.6,
          6.8,
          6.7,
          6,
          5.7,
          5.5,
          5.5,
          5.8,
          6,
          5.4,
          6,
          6.7,
          6.3,
          5.6,
          5.5,
          5.5,
          6.1,
          5.8,
          5,
          5.6,
          5.7,
          5.7,
          6.2,
          5.1,
          5.7,
          6.3,
          5.8,
          7.1,
          6.3,
          6.5,
          7.6,
          4.9,
          7.3,
          6.7,
          7.2,
          6.5,
          6.4,
          6.8,
          5.7,
          5.8,
          6.4,
          6.5,
          7.7,
          7.7,
          6,
          6.9,
          5.6,
          7.7,
          6.3,
          6.7,
          7.2,
          6.2,
          6.1,
          6.4,
          7.2,
          7.4,
          7.9,
          6.4,
          6.3,
          6.1,
          7.7,
          6.3,
          6.4,
          6,
          6.9,
          6.7,
          6.9,
          5.8,
          6.8,
          6.7,
          6.7,
          6.3,
          6.5,
          6.2,
          5.9
         ],
         "xaxis": "x",
         "yaxis": "y"
        },
        {
         "histfunc": "count",
         "histnorm": "",
         "marker": {
          "color": "rgba(238, 118, 0, 1.0)",
          "line": {
           "color": "#505050",
           "width": 1.3
          }
         },
         "name": "sepal_width",
         "opacity": 0.8,
         "orientation": "v",
         "type": "histogram",
         "x": [
          3.5,
          3,
          3.2,
          3.1,
          3.6,
          3.9,
          3.4,
          3.4,
          2.9,
          3.1,
          3.7,
          3.4,
          3,
          3,
          4,
          4.4,
          3.9,
          3.5,
          3.8,
          3.8,
          3.4,
          3.7,
          3.6,
          3.3,
          3.4,
          3,
          3.4,
          3.5,
          3.4,
          3.2,
          3.1,
          3.4,
          4.1,
          4.2,
          3.1,
          3.2,
          3.5,
          3.6,
          3,
          3.4,
          3.5,
          2.3,
          3.2,
          3.5,
          3.8,
          3,
          3.8,
          3.2,
          3.7,
          3.3,
          3.2,
          3.2,
          3.1,
          2.3,
          2.8,
          2.8,
          3.3,
          2.4,
          2.9,
          2.7,
          2,
          3,
          2.2,
          2.9,
          2.9,
          3.1,
          3,
          2.7,
          2.2,
          2.5,
          3.2,
          2.8,
          2.5,
          2.8,
          2.9,
          3,
          2.8,
          3,
          2.9,
          2.6,
          2.4,
          2.4,
          2.7,
          2.7,
          3,
          3.4,
          3.1,
          2.3,
          3,
          2.5,
          2.6,
          3,
          2.6,
          2.3,
          2.7,
          3,
          2.9,
          2.9,
          2.5,
          2.8,
          3.3,
          2.7,
          3,
          2.9,
          3,
          3,
          2.5,
          2.9,
          2.5,
          3.6,
          3.2,
          2.7,
          3,
          2.5,
          2.8,
          3.2,
          3,
          3.8,
          2.6,
          2.2,
          3.2,
          2.8,
          2.8,
          2.7,
          3.3,
          3.2,
          2.8,
          3,
          2.8,
          3,
          2.8,
          3.8,
          2.8,
          2.8,
          2.6,
          3,
          3.4,
          3.1,
          3,
          3.1,
          3.1,
          3.1,
          2.7,
          3.2,
          3.3,
          3,
          2.5,
          3,
          3.4,
          3
         ],
         "xaxis": "x2",
         "yaxis": "y2"
        },
        {
         "histfunc": "count",
         "histnorm": "",
         "marker": {
          "color": "rgba(48, 144, 84, 1.0)",
          "line": {
           "color": "#505050",
           "width": 1.3
          }
         },
         "name": "petal_length",
         "opacity": 0.8,
         "orientation": "v",
         "type": "histogram",
         "x": [
          1.4,
          1.4,
          1.3,
          1.5,
          1.4,
          1.7,
          1.4,
          1.5,
          1.4,
          1.5,
          1.5,
          1.6,
          1.4,
          1.1,
          1.2,
          1.5,
          1.3,
          1.4,
          1.7,
          1.5,
          1.7,
          1.5,
          1,
          1.7,
          1.9,
          1.6,
          1.6,
          1.5,
          1.4,
          1.6,
          1.6,
          1.5,
          1.5,
          1.4,
          1.5,
          1.2,
          1.3,
          1.4,
          1.3,
          1.5,
          1.3,
          1.3,
          1.3,
          1.6,
          1.9,
          1.4,
          1.6,
          1.4,
          1.5,
          1.4,
          4.7,
          4.5,
          4.9,
          4,
          4.6,
          4.5,
          4.7,
          3.3,
          4.6,
          3.9,
          3.5,
          4.2,
          4,
          4.7,
          3.6,
          4.4,
          4.5,
          4.1,
          4.5,
          3.9,
          4.8,
          4,
          4.9,
          4.7,
          4.3,
          4.4,
          4.8,
          5,
          4.5,
          3.5,
          3.8,
          3.7,
          3.9,
          5.1,
          4.5,
          4.5,
          4.7,
          4.4,
          4.1,
          4,
          4.4,
          4.6,
          4,
          3.3,
          4.2,
          4.2,
          4.2,
          4.3,
          3,
          4.1,
          6,
          5.1,
          5.9,
          5.6,
          5.8,
          6.6,
          4.5,
          6.3,
          5.8,
          6.1,
          5.1,
          5.3,
          5.5,
          5,
          5.1,
          5.3,
          5.5,
          6.7,
          6.9,
          5,
          5.7,
          4.9,
          6.7,
          4.9,
          5.7,
          6,
          4.8,
          4.9,
          5.6,
          5.8,
          6.1,
          6.4,
          5.6,
          5.1,
          5.6,
          6.1,
          5.6,
          5.5,
          4.8,
          5.4,
          5.6,
          5.1,
          5.1,
          5.9,
          5.7,
          5.2,
          5,
          5.2,
          5.4,
          5.1
         ],
         "xaxis": "x3",
         "yaxis": "y3"
        },
        {
         "histfunc": "count",
         "histnorm": "",
         "marker": {
          "color": "rgba(98, 98, 222, 1.0)",
          "line": {
           "color": "#505050",
           "width": 1.3
          }
         },
         "name": "petal_width",
         "opacity": 0.8,
         "orientation": "v",
         "type": "histogram",
         "x": [
          0.2,
          0.2,
          0.2,
          0.2,
          0.2,
          0.4,
          0.3,
          0.2,
          0.2,
          0.1,
          0.2,
          0.2,
          0.1,
          0.1,
          0.2,
          0.4,
          0.4,
          0.3,
          0.3,
          0.3,
          0.2,
          0.4,
          0.2,
          0.5,
          0.2,
          0.2,
          0.4,
          0.2,
          0.2,
          0.2,
          0.2,
          0.4,
          0.1,
          0.2,
          0.2,
          0.2,
          0.2,
          0.1,
          0.2,
          0.2,
          0.3,
          0.3,
          0.2,
          0.6,
          0.4,
          0.3,
          0.2,
          0.2,
          0.2,
          0.2,
          1.4,
          1.5,
          1.5,
          1.3,
          1.5,
          1.3,
          1.6,
          1,
          1.3,
          1.4,
          1,
          1.5,
          1,
          1.4,
          1.3,
          1.4,
          1.5,
          1,
          1.5,
          1.1,
          1.8,
          1.3,
          1.5,
          1.2,
          1.3,
          1.4,
          1.4,
          1.7,
          1.5,
          1,
          1.1,
          1,
          1.2,
          1.6,
          1.5,
          1.6,
          1.5,
          1.3,
          1.3,
          1.3,
          1.2,
          1.4,
          1.2,
          1,
          1.3,
          1.2,
          1.3,
          1.3,
          1.1,
          1.3,
          2.5,
          1.9,
          2.1,
          1.8,
          2.2,
          2.1,
          1.7,
          1.8,
          1.8,
          2.5,
          2,
          1.9,
          2.1,
          2,
          2.4,
          2.3,
          1.8,
          2.2,
          2.3,
          1.5,
          2.3,
          2,
          2,
          1.8,
          2.1,
          1.8,
          1.8,
          1.8,
          2.1,
          1.6,
          1.9,
          2,
          2.2,
          1.5,
          1.4,
          2.3,
          2.4,
          1.8,
          1.8,
          2.1,
          2.4,
          2.3,
          1.9,
          2.3,
          2.5,
          2.3,
          1.9,
          2,
          2.3,
          1.8
         ],
         "xaxis": "x4",
         "yaxis": "y4"
        },
        {
         "histfunc": "count",
         "histnorm": "",
         "marker": {
          "color": "rgba(217, 66, 85, 1.0)",
          "line": {
           "color": "#505050",
           "width": 1.3
          }
         },
         "name": "species",
         "opacity": 0.8,
         "orientation": "v",
         "type": "histogram",
         "x": [
          "setosa",
          "setosa",
          "setosa",
          "setosa",
          "setosa",
          "setosa",
          "setosa",
          "setosa",
          "setosa",
          "setosa",
          "setosa",
          "setosa",
          "setosa",
          "setosa",
          "setosa",
          "setosa",
          "setosa",
          "setosa",
          "setosa",
          "setosa",
          "setosa",
          "setosa",
          "setosa",
          "setosa",
          "setosa",
          "setosa",
          "setosa",
          "setosa",
          "setosa",
          "setosa",
          "setosa",
          "setosa",
          "setosa",
          "setosa",
          "setosa",
          "setosa",
          "setosa",
          "setosa",
          "setosa",
          "setosa",
          "setosa",
          "setosa",
          "setosa",
          "setosa",
          "setosa",
          "setosa",
          "setosa",
          "setosa",
          "setosa",
          "setosa",
          "versicolor",
          "versicolor",
          "versicolor",
          "versicolor",
          "versicolor",
          "versicolor",
          "versicolor",
          "versicolor",
          "versicolor",
          "versicolor",
          "versicolor",
          "versicolor",
          "versicolor",
          "versicolor",
          "versicolor",
          "versicolor",
          "versicolor",
          "versicolor",
          "versicolor",
          "versicolor",
          "versicolor",
          "versicolor",
          "versicolor",
          "versicolor",
          "versicolor",
          "versicolor",
          "versicolor",
          "versicolor",
          "versicolor",
          "versicolor",
          "versicolor",
          "versicolor",
          "versicolor",
          "versicolor",
          "versicolor",
          "versicolor",
          "versicolor",
          "versicolor",
          "versicolor",
          "versicolor",
          "versicolor",
          "versicolor",
          "versicolor",
          "versicolor",
          "versicolor",
          "versicolor",
          "versicolor",
          "versicolor",
          "versicolor",
          "versicolor",
          "virginica",
          "virginica",
          "virginica",
          "virginica",
          "virginica",
          "virginica",
          "virginica",
          "virginica",
          "virginica",
          "virginica",
          "virginica",
          "virginica",
          "virginica",
          "virginica",
          "virginica",
          "virginica",
          "virginica",
          "virginica",
          "virginica",
          "virginica",
          "virginica",
          "virginica",
          "virginica",
          "virginica",
          "virginica",
          "virginica",
          "virginica",
          "virginica",
          "virginica",
          "virginica",
          "virginica",
          "virginica",
          "virginica",
          "virginica",
          "virginica",
          "virginica",
          "virginica",
          "virginica",
          "virginica",
          "virginica",
          "virginica",
          "virginica",
          "virginica",
          "virginica",
          "virginica",
          "virginica",
          "virginica",
          "virginica",
          "virginica",
          "virginica"
         ],
         "xaxis": "x5",
         "yaxis": "y5"
        }
       ],
       "layout": {
        "barmode": "overlay",
        "legend": {
         "bgcolor": "#F2F3F7",
         "font": {
          "color": "#505050"
         }
        },
        "paper_bgcolor": "#F2F3F7",
        "plot_bgcolor": "#F2F3F7",
        "template": {
         "data": {
          "bar": [
           {
            "error_x": {
             "color": "#2a3f5f"
            },
            "error_y": {
             "color": "#2a3f5f"
            },
            "marker": {
             "line": {
              "color": "#E5ECF6",
              "width": 0.5
             },
             "pattern": {
              "fillmode": "overlay",
              "size": 10,
              "solidity": 0.2
             }
            },
            "type": "bar"
           }
          ],
          "barpolar": [
           {
            "marker": {
             "line": {
              "color": "#E5ECF6",
              "width": 0.5
             },
             "pattern": {
              "fillmode": "overlay",
              "size": 10,
              "solidity": 0.2
             }
            },
            "type": "barpolar"
           }
          ],
          "carpet": [
           {
            "aaxis": {
             "endlinecolor": "#2a3f5f",
             "gridcolor": "white",
             "linecolor": "white",
             "minorgridcolor": "white",
             "startlinecolor": "#2a3f5f"
            },
            "baxis": {
             "endlinecolor": "#2a3f5f",
             "gridcolor": "white",
             "linecolor": "white",
             "minorgridcolor": "white",
             "startlinecolor": "#2a3f5f"
            },
            "type": "carpet"
           }
          ],
          "choropleth": [
           {
            "colorbar": {
             "outlinewidth": 0,
             "ticks": ""
            },
            "type": "choropleth"
           }
          ],
          "contour": [
           {
            "colorbar": {
             "outlinewidth": 0,
             "ticks": ""
            },
            "colorscale": [
             [
              0,
              "#0d0887"
             ],
             [
              0.1111111111111111,
              "#46039f"
             ],
             [
              0.2222222222222222,
              "#7201a8"
             ],
             [
              0.3333333333333333,
              "#9c179e"
             ],
             [
              0.4444444444444444,
              "#bd3786"
             ],
             [
              0.5555555555555556,
              "#d8576b"
             ],
             [
              0.6666666666666666,
              "#ed7953"
             ],
             [
              0.7777777777777778,
              "#fb9f3a"
             ],
             [
              0.8888888888888888,
              "#fdca26"
             ],
             [
              1,
              "#f0f921"
             ]
            ],
            "type": "contour"
           }
          ],
          "contourcarpet": [
           {
            "colorbar": {
             "outlinewidth": 0,
             "ticks": ""
            },
            "type": "contourcarpet"
           }
          ],
          "heatmap": [
           {
            "colorbar": {
             "outlinewidth": 0,
             "ticks": ""
            },
            "colorscale": [
             [
              0,
              "#0d0887"
             ],
             [
              0.1111111111111111,
              "#46039f"
             ],
             [
              0.2222222222222222,
              "#7201a8"
             ],
             [
              0.3333333333333333,
              "#9c179e"
             ],
             [
              0.4444444444444444,
              "#bd3786"
             ],
             [
              0.5555555555555556,
              "#d8576b"
             ],
             [
              0.6666666666666666,
              "#ed7953"
             ],
             [
              0.7777777777777778,
              "#fb9f3a"
             ],
             [
              0.8888888888888888,
              "#fdca26"
             ],
             [
              1,
              "#f0f921"
             ]
            ],
            "type": "heatmap"
           }
          ],
          "heatmapgl": [
           {
            "colorbar": {
             "outlinewidth": 0,
             "ticks": ""
            },
            "colorscale": [
             [
              0,
              "#0d0887"
             ],
             [
              0.1111111111111111,
              "#46039f"
             ],
             [
              0.2222222222222222,
              "#7201a8"
             ],
             [
              0.3333333333333333,
              "#9c179e"
             ],
             [
              0.4444444444444444,
              "#bd3786"
             ],
             [
              0.5555555555555556,
              "#d8576b"
             ],
             [
              0.6666666666666666,
              "#ed7953"
             ],
             [
              0.7777777777777778,
              "#fb9f3a"
             ],
             [
              0.8888888888888888,
              "#fdca26"
             ],
             [
              1,
              "#f0f921"
             ]
            ],
            "type": "heatmapgl"
           }
          ],
          "histogram": [
           {
            "marker": {
             "pattern": {
              "fillmode": "overlay",
              "size": 10,
              "solidity": 0.2
             }
            },
            "type": "histogram"
           }
          ],
          "histogram2d": [
           {
            "colorbar": {
             "outlinewidth": 0,
             "ticks": ""
            },
            "colorscale": [
             [
              0,
              "#0d0887"
             ],
             [
              0.1111111111111111,
              "#46039f"
             ],
             [
              0.2222222222222222,
              "#7201a8"
             ],
             [
              0.3333333333333333,
              "#9c179e"
             ],
             [
              0.4444444444444444,
              "#bd3786"
             ],
             [
              0.5555555555555556,
              "#d8576b"
             ],
             [
              0.6666666666666666,
              "#ed7953"
             ],
             [
              0.7777777777777778,
              "#fb9f3a"
             ],
             [
              0.8888888888888888,
              "#fdca26"
             ],
             [
              1,
              "#f0f921"
             ]
            ],
            "type": "histogram2d"
           }
          ],
          "histogram2dcontour": [
           {
            "colorbar": {
             "outlinewidth": 0,
             "ticks": ""
            },
            "colorscale": [
             [
              0,
              "#0d0887"
             ],
             [
              0.1111111111111111,
              "#46039f"
             ],
             [
              0.2222222222222222,
              "#7201a8"
             ],
             [
              0.3333333333333333,
              "#9c179e"
             ],
             [
              0.4444444444444444,
              "#bd3786"
             ],
             [
              0.5555555555555556,
              "#d8576b"
             ],
             [
              0.6666666666666666,
              "#ed7953"
             ],
             [
              0.7777777777777778,
              "#fb9f3a"
             ],
             [
              0.8888888888888888,
              "#fdca26"
             ],
             [
              1,
              "#f0f921"
             ]
            ],
            "type": "histogram2dcontour"
           }
          ],
          "mesh3d": [
           {
            "colorbar": {
             "outlinewidth": 0,
             "ticks": ""
            },
            "type": "mesh3d"
           }
          ],
          "parcoords": [
           {
            "line": {
             "colorbar": {
              "outlinewidth": 0,
              "ticks": ""
             }
            },
            "type": "parcoords"
           }
          ],
          "pie": [
           {
            "automargin": true,
            "type": "pie"
           }
          ],
          "scatter": [
           {
            "marker": {
             "colorbar": {
              "outlinewidth": 0,
              "ticks": ""
             }
            },
            "type": "scatter"
           }
          ],
          "scatter3d": [
           {
            "line": {
             "colorbar": {
              "outlinewidth": 0,
              "ticks": ""
             }
            },
            "marker": {
             "colorbar": {
              "outlinewidth": 0,
              "ticks": ""
             }
            },
            "type": "scatter3d"
           }
          ],
          "scattercarpet": [
           {
            "marker": {
             "colorbar": {
              "outlinewidth": 0,
              "ticks": ""
             }
            },
            "type": "scattercarpet"
           }
          ],
          "scattergeo": [
           {
            "marker": {
             "colorbar": {
              "outlinewidth": 0,
              "ticks": ""
             }
            },
            "type": "scattergeo"
           }
          ],
          "scattergl": [
           {
            "marker": {
             "colorbar": {
              "outlinewidth": 0,
              "ticks": ""
             }
            },
            "type": "scattergl"
           }
          ],
          "scattermapbox": [
           {
            "marker": {
             "colorbar": {
              "outlinewidth": 0,
              "ticks": ""
             }
            },
            "type": "scattermapbox"
           }
          ],
          "scatterpolar": [
           {
            "marker": {
             "colorbar": {
              "outlinewidth": 0,
              "ticks": ""
             }
            },
            "type": "scatterpolar"
           }
          ],
          "scatterpolargl": [
           {
            "marker": {
             "colorbar": {
              "outlinewidth": 0,
              "ticks": ""
             }
            },
            "type": "scatterpolargl"
           }
          ],
          "scatterternary": [
           {
            "marker": {
             "colorbar": {
              "outlinewidth": 0,
              "ticks": ""
             }
            },
            "type": "scatterternary"
           }
          ],
          "surface": [
           {
            "colorbar": {
             "outlinewidth": 0,
             "ticks": ""
            },
            "colorscale": [
             [
              0,
              "#0d0887"
             ],
             [
              0.1111111111111111,
              "#46039f"
             ],
             [
              0.2222222222222222,
              "#7201a8"
             ],
             [
              0.3333333333333333,
              "#9c179e"
             ],
             [
              0.4444444444444444,
              "#bd3786"
             ],
             [
              0.5555555555555556,
              "#d8576b"
             ],
             [
              0.6666666666666666,
              "#ed7953"
             ],
             [
              0.7777777777777778,
              "#fb9f3a"
             ],
             [
              0.8888888888888888,
              "#fdca26"
             ],
             [
              1,
              "#f0f921"
             ]
            ],
            "type": "surface"
           }
          ],
          "table": [
           {
            "cells": {
             "fill": {
              "color": "#EBF0F8"
             },
             "line": {
              "color": "white"
             }
            },
            "header": {
             "fill": {
              "color": "#C8D4E3"
             },
             "line": {
              "color": "white"
             }
            },
            "type": "table"
           }
          ]
         },
         "layout": {
          "annotationdefaults": {
           "arrowcolor": "#2a3f5f",
           "arrowhead": 0,
           "arrowwidth": 1
          },
          "autotypenumbers": "strict",
          "coloraxis": {
           "colorbar": {
            "outlinewidth": 0,
            "ticks": ""
           }
          },
          "colorscale": {
           "diverging": [
            [
             0,
             "#8e0152"
            ],
            [
             0.1,
             "#c51b7d"
            ],
            [
             0.2,
             "#de77ae"
            ],
            [
             0.3,
             "#f1b6da"
            ],
            [
             0.4,
             "#fde0ef"
            ],
            [
             0.5,
             "#f7f7f7"
            ],
            [
             0.6,
             "#e6f5d0"
            ],
            [
             0.7,
             "#b8e186"
            ],
            [
             0.8,
             "#7fbc41"
            ],
            [
             0.9,
             "#4d9221"
            ],
            [
             1,
             "#276419"
            ]
           ],
           "sequential": [
            [
             0,
             "#0d0887"
            ],
            [
             0.1111111111111111,
             "#46039f"
            ],
            [
             0.2222222222222222,
             "#7201a8"
            ],
            [
             0.3333333333333333,
             "#9c179e"
            ],
            [
             0.4444444444444444,
             "#bd3786"
            ],
            [
             0.5555555555555556,
             "#d8576b"
            ],
            [
             0.6666666666666666,
             "#ed7953"
            ],
            [
             0.7777777777777778,
             "#fb9f3a"
            ],
            [
             0.8888888888888888,
             "#fdca26"
            ],
            [
             1,
             "#f0f921"
            ]
           ],
           "sequentialminus": [
            [
             0,
             "#0d0887"
            ],
            [
             0.1111111111111111,
             "#46039f"
            ],
            [
             0.2222222222222222,
             "#7201a8"
            ],
            [
             0.3333333333333333,
             "#9c179e"
            ],
            [
             0.4444444444444444,
             "#bd3786"
            ],
            [
             0.5555555555555556,
             "#d8576b"
            ],
            [
             0.6666666666666666,
             "#ed7953"
            ],
            [
             0.7777777777777778,
             "#fb9f3a"
            ],
            [
             0.8888888888888888,
             "#fdca26"
            ],
            [
             1,
             "#f0f921"
            ]
           ]
          },
          "colorway": [
           "#636efa",
           "#EF553B",
           "#00cc96",
           "#ab63fa",
           "#FFA15A",
           "#19d3f3",
           "#FF6692",
           "#B6E880",
           "#FF97FF",
           "#FECB52"
          ],
          "font": {
           "color": "#2a3f5f"
          },
          "geo": {
           "bgcolor": "white",
           "lakecolor": "white",
           "landcolor": "#E5ECF6",
           "showlakes": true,
           "showland": true,
           "subunitcolor": "white"
          },
          "hoverlabel": {
           "align": "left"
          },
          "hovermode": "closest",
          "mapbox": {
           "style": "light"
          },
          "paper_bgcolor": "white",
          "plot_bgcolor": "#E5ECF6",
          "polar": {
           "angularaxis": {
            "gridcolor": "white",
            "linecolor": "white",
            "ticks": ""
           },
           "bgcolor": "#E5ECF6",
           "radialaxis": {
            "gridcolor": "white",
            "linecolor": "white",
            "ticks": ""
           }
          },
          "scene": {
           "xaxis": {
            "backgroundcolor": "#E5ECF6",
            "gridcolor": "white",
            "gridwidth": 2,
            "linecolor": "white",
            "showbackground": true,
            "ticks": "",
            "zerolinecolor": "white"
           },
           "yaxis": {
            "backgroundcolor": "#E5ECF6",
            "gridcolor": "white",
            "gridwidth": 2,
            "linecolor": "white",
            "showbackground": true,
            "ticks": "",
            "zerolinecolor": "white"
           },
           "zaxis": {
            "backgroundcolor": "#E5ECF6",
            "gridcolor": "white",
            "gridwidth": 2,
            "linecolor": "white",
            "showbackground": true,
            "ticks": "",
            "zerolinecolor": "white"
           }
          },
          "shapedefaults": {
           "line": {
            "color": "#2a3f5f"
           }
          },
          "ternary": {
           "aaxis": {
            "gridcolor": "white",
            "linecolor": "white",
            "ticks": ""
           },
           "baxis": {
            "gridcolor": "white",
            "linecolor": "white",
            "ticks": ""
           },
           "bgcolor": "#E5ECF6",
           "caxis": {
            "gridcolor": "white",
            "linecolor": "white",
            "ticks": ""
           }
          },
          "title": {
           "x": 0.05
          },
          "xaxis": {
           "automargin": true,
           "gridcolor": "white",
           "linecolor": "white",
           "ticks": "",
           "title": {
            "standoff": 15
           },
           "zerolinecolor": "white",
           "zerolinewidth": 2
          },
          "yaxis": {
           "automargin": true,
           "gridcolor": "white",
           "linecolor": "white",
           "ticks": "",
           "title": {
            "standoff": 15
           },
           "zerolinecolor": "white",
           "zerolinewidth": 2
          }
         }
        },
        "title": {
         "font": {
          "color": "#484848"
         }
        },
        "xaxis": {
         "anchor": "y",
         "domain": [
          0,
          0.45
         ],
         "gridcolor": "#E1E5ED",
         "showgrid": true,
         "tickfont": {
          "color": "#505050"
         },
         "title": {
          "font": {
           "color": "#505050"
          },
          "text": ""
         },
         "zerolinecolor": "#E1E5ED"
        },
        "xaxis2": {
         "anchor": "y2",
         "domain": [
          0.55,
          1
         ],
         "gridcolor": "#E1E5ED",
         "showgrid": true,
         "tickfont": {
          "color": "#505050"
         },
         "title": {
          "font": {
           "color": "#505050"
          },
          "text": ""
         },
         "zerolinecolor": "#E1E5ED"
        },
        "xaxis3": {
         "anchor": "y3",
         "domain": [
          0,
          0.45
         ],
         "gridcolor": "#E1E5ED",
         "showgrid": true,
         "tickfont": {
          "color": "#505050"
         },
         "title": {
          "font": {
           "color": "#505050"
          },
          "text": ""
         },
         "zerolinecolor": "#E1E5ED"
        },
        "xaxis4": {
         "anchor": "y4",
         "domain": [
          0.55,
          1
         ],
         "gridcolor": "#E1E5ED",
         "showgrid": true,
         "tickfont": {
          "color": "#505050"
         },
         "title": {
          "font": {
           "color": "#505050"
          },
          "text": ""
         },
         "zerolinecolor": "#E1E5ED"
        },
        "xaxis5": {
         "anchor": "y5",
         "domain": [
          0,
          0.45
         ],
         "gridcolor": "#E1E5ED",
         "showgrid": true,
         "tickfont": {
          "color": "#505050"
         },
         "title": {
          "font": {
           "color": "#505050"
          },
          "text": ""
         },
         "zerolinecolor": "#E1E5ED"
        },
        "yaxis": {
         "anchor": "x",
         "domain": [
          0.7333333333333333,
          1
         ],
         "gridcolor": "#E1E5ED",
         "showgrid": true,
         "tickfont": {
          "color": "#505050"
         },
         "title": {
          "font": {
           "color": "#505050"
          },
          "text": ""
         },
         "zerolinecolor": "#E1E5ED"
        },
        "yaxis2": {
         "anchor": "x2",
         "domain": [
          0.7333333333333333,
          1
         ],
         "gridcolor": "#E1E5ED",
         "showgrid": true,
         "tickfont": {
          "color": "#505050"
         },
         "title": {
          "font": {
           "color": "#505050"
          },
          "text": ""
         },
         "zerolinecolor": "#E1E5ED"
        },
        "yaxis3": {
         "anchor": "x3",
         "domain": [
          0.36666666666666664,
          0.6333333333333333
         ],
         "gridcolor": "#E1E5ED",
         "showgrid": true,
         "tickfont": {
          "color": "#505050"
         },
         "title": {
          "font": {
           "color": "#505050"
          },
          "text": ""
         },
         "zerolinecolor": "#E1E5ED"
        },
        "yaxis4": {
         "anchor": "x4",
         "domain": [
          0.36666666666666664,
          0.6333333333333333
         ],
         "gridcolor": "#E1E5ED",
         "showgrid": true,
         "tickfont": {
          "color": "#505050"
         },
         "title": {
          "font": {
           "color": "#505050"
          },
          "text": ""
         },
         "zerolinecolor": "#E1E5ED"
        },
        "yaxis5": {
         "anchor": "x5",
         "domain": [
          0,
          0.26666666666666666
         ],
         "gridcolor": "#E1E5ED",
         "showgrid": true,
         "tickfont": {
          "color": "#505050"
         },
         "title": {
          "font": {
           "color": "#505050"
          },
          "text": ""
         },
         "zerolinecolor": "#E1E5ED"
        }
       }
      },
      "text/html": [
       "<div>                            <div id=\"b6834152-94ee-4f0f-92d6-af63db4b6736\" class=\"plotly-graph-div\" style=\"height:525px; width:100%;\"></div>            <script type=\"text/javascript\">                require([\"plotly\"], function(Plotly) {                    window.PLOTLYENV=window.PLOTLYENV || {};\n",
       "                    window.PLOTLYENV.BASE_URL='https://plot.ly';                                    if (document.getElementById(\"b6834152-94ee-4f0f-92d6-af63db4b6736\")) {                    Plotly.newPlot(                        \"b6834152-94ee-4f0f-92d6-af63db4b6736\",                        [{\"histfunc\":\"count\",\"histnorm\":\"\",\"marker\":{\"color\":\"rgba(0, 128, 240, 1.0)\",\"line\":{\"color\":\"#505050\",\"width\":1.3}},\"name\":\"sepal_length\",\"opacity\":0.8,\"orientation\":\"v\",\"x\":[5.1,4.9,4.7,4.6,5.0,5.4,4.6,5.0,4.4,4.9,5.4,4.8,4.8,4.3,5.8,5.7,5.4,5.1,5.7,5.1,5.4,5.1,4.6,5.1,4.8,5.0,5.0,5.2,5.2,4.7,4.8,5.4,5.2,5.5,4.9,5.0,5.5,4.9,4.4,5.1,5.0,4.5,4.4,5.0,5.1,4.8,5.1,4.6,5.3,5.0,7.0,6.4,6.9,5.5,6.5,5.7,6.3,4.9,6.6,5.2,5.0,5.9,6.0,6.1,5.6,6.7,5.6,5.8,6.2,5.6,5.9,6.1,6.3,6.1,6.4,6.6,6.8,6.7,6.0,5.7,5.5,5.5,5.8,6.0,5.4,6.0,6.7,6.3,5.6,5.5,5.5,6.1,5.8,5.0,5.6,5.7,5.7,6.2,5.1,5.7,6.3,5.8,7.1,6.3,6.5,7.6,4.9,7.3,6.7,7.2,6.5,6.4,6.8,5.7,5.8,6.4,6.5,7.7,7.7,6.0,6.9,5.6,7.7,6.3,6.7,7.2,6.2,6.1,6.4,7.2,7.4,7.9,6.4,6.3,6.1,7.7,6.3,6.4,6.0,6.9,6.7,6.9,5.8,6.8,6.7,6.7,6.3,6.5,6.2,5.9],\"xaxis\":\"x\",\"yaxis\":\"y\",\"type\":\"histogram\"},{\"histfunc\":\"count\",\"histnorm\":\"\",\"marker\":{\"color\":\"rgba(238, 118, 0, 1.0)\",\"line\":{\"color\":\"#505050\",\"width\":1.3}},\"name\":\"sepal_width\",\"opacity\":0.8,\"orientation\":\"v\",\"x\":[3.5,3.0,3.2,3.1,3.6,3.9,3.4,3.4,2.9,3.1,3.7,3.4,3.0,3.0,4.0,4.4,3.9,3.5,3.8,3.8,3.4,3.7,3.6,3.3,3.4,3.0,3.4,3.5,3.4,3.2,3.1,3.4,4.1,4.2,3.1,3.2,3.5,3.6,3.0,3.4,3.5,2.3,3.2,3.5,3.8,3.0,3.8,3.2,3.7,3.3,3.2,3.2,3.1,2.3,2.8,2.8,3.3,2.4,2.9,2.7,2.0,3.0,2.2,2.9,2.9,3.1,3.0,2.7,2.2,2.5,3.2,2.8,2.5,2.8,2.9,3.0,2.8,3.0,2.9,2.6,2.4,2.4,2.7,2.7,3.0,3.4,3.1,2.3,3.0,2.5,2.6,3.0,2.6,2.3,2.7,3.0,2.9,2.9,2.5,2.8,3.3,2.7,3.0,2.9,3.0,3.0,2.5,2.9,2.5,3.6,3.2,2.7,3.0,2.5,2.8,3.2,3.0,3.8,2.6,2.2,3.2,2.8,2.8,2.7,3.3,3.2,2.8,3.0,2.8,3.0,2.8,3.8,2.8,2.8,2.6,3.0,3.4,3.1,3.0,3.1,3.1,3.1,2.7,3.2,3.3,3.0,2.5,3.0,3.4,3.0],\"xaxis\":\"x2\",\"yaxis\":\"y2\",\"type\":\"histogram\"},{\"histfunc\":\"count\",\"histnorm\":\"\",\"marker\":{\"color\":\"rgba(48, 144, 84, 1.0)\",\"line\":{\"color\":\"#505050\",\"width\":1.3}},\"name\":\"petal_length\",\"opacity\":0.8,\"orientation\":\"v\",\"x\":[1.4,1.4,1.3,1.5,1.4,1.7,1.4,1.5,1.4,1.5,1.5,1.6,1.4,1.1,1.2,1.5,1.3,1.4,1.7,1.5,1.7,1.5,1.0,1.7,1.9,1.6,1.6,1.5,1.4,1.6,1.6,1.5,1.5,1.4,1.5,1.2,1.3,1.4,1.3,1.5,1.3,1.3,1.3,1.6,1.9,1.4,1.6,1.4,1.5,1.4,4.7,4.5,4.9,4.0,4.6,4.5,4.7,3.3,4.6,3.9,3.5,4.2,4.0,4.7,3.6,4.4,4.5,4.1,4.5,3.9,4.8,4.0,4.9,4.7,4.3,4.4,4.8,5.0,4.5,3.5,3.8,3.7,3.9,5.1,4.5,4.5,4.7,4.4,4.1,4.0,4.4,4.6,4.0,3.3,4.2,4.2,4.2,4.3,3.0,4.1,6.0,5.1,5.9,5.6,5.8,6.6,4.5,6.3,5.8,6.1,5.1,5.3,5.5,5.0,5.1,5.3,5.5,6.7,6.9,5.0,5.7,4.9,6.7,4.9,5.7,6.0,4.8,4.9,5.6,5.8,6.1,6.4,5.6,5.1,5.6,6.1,5.6,5.5,4.8,5.4,5.6,5.1,5.1,5.9,5.7,5.2,5.0,5.2,5.4,5.1],\"xaxis\":\"x3\",\"yaxis\":\"y3\",\"type\":\"histogram\"},{\"histfunc\":\"count\",\"histnorm\":\"\",\"marker\":{\"color\":\"rgba(98, 98, 222, 1.0)\",\"line\":{\"color\":\"#505050\",\"width\":1.3}},\"name\":\"petal_width\",\"opacity\":0.8,\"orientation\":\"v\",\"x\":[0.2,0.2,0.2,0.2,0.2,0.4,0.3,0.2,0.2,0.1,0.2,0.2,0.1,0.1,0.2,0.4,0.4,0.3,0.3,0.3,0.2,0.4,0.2,0.5,0.2,0.2,0.4,0.2,0.2,0.2,0.2,0.4,0.1,0.2,0.2,0.2,0.2,0.1,0.2,0.2,0.3,0.3,0.2,0.6,0.4,0.3,0.2,0.2,0.2,0.2,1.4,1.5,1.5,1.3,1.5,1.3,1.6,1.0,1.3,1.4,1.0,1.5,1.0,1.4,1.3,1.4,1.5,1.0,1.5,1.1,1.8,1.3,1.5,1.2,1.3,1.4,1.4,1.7,1.5,1.0,1.1,1.0,1.2,1.6,1.5,1.6,1.5,1.3,1.3,1.3,1.2,1.4,1.2,1.0,1.3,1.2,1.3,1.3,1.1,1.3,2.5,1.9,2.1,1.8,2.2,2.1,1.7,1.8,1.8,2.5,2.0,1.9,2.1,2.0,2.4,2.3,1.8,2.2,2.3,1.5,2.3,2.0,2.0,1.8,2.1,1.8,1.8,1.8,2.1,1.6,1.9,2.0,2.2,1.5,1.4,2.3,2.4,1.8,1.8,2.1,2.4,2.3,1.9,2.3,2.5,2.3,1.9,2.0,2.3,1.8],\"xaxis\":\"x4\",\"yaxis\":\"y4\",\"type\":\"histogram\"},{\"histfunc\":\"count\",\"histnorm\":\"\",\"marker\":{\"color\":\"rgba(217, 66, 85, 1.0)\",\"line\":{\"color\":\"#505050\",\"width\":1.3}},\"name\":\"species\",\"opacity\":0.8,\"orientation\":\"v\",\"x\":[\"setosa\",\"setosa\",\"setosa\",\"setosa\",\"setosa\",\"setosa\",\"setosa\",\"setosa\",\"setosa\",\"setosa\",\"setosa\",\"setosa\",\"setosa\",\"setosa\",\"setosa\",\"setosa\",\"setosa\",\"setosa\",\"setosa\",\"setosa\",\"setosa\",\"setosa\",\"setosa\",\"setosa\",\"setosa\",\"setosa\",\"setosa\",\"setosa\",\"setosa\",\"setosa\",\"setosa\",\"setosa\",\"setosa\",\"setosa\",\"setosa\",\"setosa\",\"setosa\",\"setosa\",\"setosa\",\"setosa\",\"setosa\",\"setosa\",\"setosa\",\"setosa\",\"setosa\",\"setosa\",\"setosa\",\"setosa\",\"setosa\",\"setosa\",\"versicolor\",\"versicolor\",\"versicolor\",\"versicolor\",\"versicolor\",\"versicolor\",\"versicolor\",\"versicolor\",\"versicolor\",\"versicolor\",\"versicolor\",\"versicolor\",\"versicolor\",\"versicolor\",\"versicolor\",\"versicolor\",\"versicolor\",\"versicolor\",\"versicolor\",\"versicolor\",\"versicolor\",\"versicolor\",\"versicolor\",\"versicolor\",\"versicolor\",\"versicolor\",\"versicolor\",\"versicolor\",\"versicolor\",\"versicolor\",\"versicolor\",\"versicolor\",\"versicolor\",\"versicolor\",\"versicolor\",\"versicolor\",\"versicolor\",\"versicolor\",\"versicolor\",\"versicolor\",\"versicolor\",\"versicolor\",\"versicolor\",\"versicolor\",\"versicolor\",\"versicolor\",\"versicolor\",\"versicolor\",\"versicolor\",\"versicolor\",\"virginica\",\"virginica\",\"virginica\",\"virginica\",\"virginica\",\"virginica\",\"virginica\",\"virginica\",\"virginica\",\"virginica\",\"virginica\",\"virginica\",\"virginica\",\"virginica\",\"virginica\",\"virginica\",\"virginica\",\"virginica\",\"virginica\",\"virginica\",\"virginica\",\"virginica\",\"virginica\",\"virginica\",\"virginica\",\"virginica\",\"virginica\",\"virginica\",\"virginica\",\"virginica\",\"virginica\",\"virginica\",\"virginica\",\"virginica\",\"virginica\",\"virginica\",\"virginica\",\"virginica\",\"virginica\",\"virginica\",\"virginica\",\"virginica\",\"virginica\",\"virginica\",\"virginica\",\"virginica\",\"virginica\",\"virginica\",\"virginica\",\"virginica\"],\"xaxis\":\"x5\",\"yaxis\":\"y5\",\"type\":\"histogram\"}],                        {\"barmode\":\"overlay\",\"legend\":{\"bgcolor\":\"#F2F3F7\",\"font\":{\"color\":\"#505050\"}},\"paper_bgcolor\":\"#F2F3F7\",\"plot_bgcolor\":\"#F2F3F7\",\"template\":{\"data\":{\"barpolar\":[{\"marker\":{\"line\":{\"color\":\"#E5ECF6\",\"width\":0.5},\"pattern\":{\"fillmode\":\"overlay\",\"size\":10,\"solidity\":0.2}},\"type\":\"barpolar\"}],\"bar\":[{\"error_x\":{\"color\":\"#2a3f5f\"},\"error_y\":{\"color\":\"#2a3f5f\"},\"marker\":{\"line\":{\"color\":\"#E5ECF6\",\"width\":0.5},\"pattern\":{\"fillmode\":\"overlay\",\"size\":10,\"solidity\":0.2}},\"type\":\"bar\"}],\"carpet\":[{\"aaxis\":{\"endlinecolor\":\"#2a3f5f\",\"gridcolor\":\"white\",\"linecolor\":\"white\",\"minorgridcolor\":\"white\",\"startlinecolor\":\"#2a3f5f\"},\"baxis\":{\"endlinecolor\":\"#2a3f5f\",\"gridcolor\":\"white\",\"linecolor\":\"white\",\"minorgridcolor\":\"white\",\"startlinecolor\":\"#2a3f5f\"},\"type\":\"carpet\"}],\"choropleth\":[{\"colorbar\":{\"outlinewidth\":0,\"ticks\":\"\"},\"type\":\"choropleth\"}],\"contourcarpet\":[{\"colorbar\":{\"outlinewidth\":0,\"ticks\":\"\"},\"type\":\"contourcarpet\"}],\"contour\":[{\"colorbar\":{\"outlinewidth\":0,\"ticks\":\"\"},\"colorscale\":[[0.0,\"#0d0887\"],[0.1111111111111111,\"#46039f\"],[0.2222222222222222,\"#7201a8\"],[0.3333333333333333,\"#9c179e\"],[0.4444444444444444,\"#bd3786\"],[0.5555555555555556,\"#d8576b\"],[0.6666666666666666,\"#ed7953\"],[0.7777777777777778,\"#fb9f3a\"],[0.8888888888888888,\"#fdca26\"],[1.0,\"#f0f921\"]],\"type\":\"contour\"}],\"heatmapgl\":[{\"colorbar\":{\"outlinewidth\":0,\"ticks\":\"\"},\"colorscale\":[[0.0,\"#0d0887\"],[0.1111111111111111,\"#46039f\"],[0.2222222222222222,\"#7201a8\"],[0.3333333333333333,\"#9c179e\"],[0.4444444444444444,\"#bd3786\"],[0.5555555555555556,\"#d8576b\"],[0.6666666666666666,\"#ed7953\"],[0.7777777777777778,\"#fb9f3a\"],[0.8888888888888888,\"#fdca26\"],[1.0,\"#f0f921\"]],\"type\":\"heatmapgl\"}],\"heatmap\":[{\"colorbar\":{\"outlinewidth\":0,\"ticks\":\"\"},\"colorscale\":[[0.0,\"#0d0887\"],[0.1111111111111111,\"#46039f\"],[0.2222222222222222,\"#7201a8\"],[0.3333333333333333,\"#9c179e\"],[0.4444444444444444,\"#bd3786\"],[0.5555555555555556,\"#d8576b\"],[0.6666666666666666,\"#ed7953\"],[0.7777777777777778,\"#fb9f3a\"],[0.8888888888888888,\"#fdca26\"],[1.0,\"#f0f921\"]],\"type\":\"heatmap\"}],\"histogram2dcontour\":[{\"colorbar\":{\"outlinewidth\":0,\"ticks\":\"\"},\"colorscale\":[[0.0,\"#0d0887\"],[0.1111111111111111,\"#46039f\"],[0.2222222222222222,\"#7201a8\"],[0.3333333333333333,\"#9c179e\"],[0.4444444444444444,\"#bd3786\"],[0.5555555555555556,\"#d8576b\"],[0.6666666666666666,\"#ed7953\"],[0.7777777777777778,\"#fb9f3a\"],[0.8888888888888888,\"#fdca26\"],[1.0,\"#f0f921\"]],\"type\":\"histogram2dcontour\"}],\"histogram2d\":[{\"colorbar\":{\"outlinewidth\":0,\"ticks\":\"\"},\"colorscale\":[[0.0,\"#0d0887\"],[0.1111111111111111,\"#46039f\"],[0.2222222222222222,\"#7201a8\"],[0.3333333333333333,\"#9c179e\"],[0.4444444444444444,\"#bd3786\"],[0.5555555555555556,\"#d8576b\"],[0.6666666666666666,\"#ed7953\"],[0.7777777777777778,\"#fb9f3a\"],[0.8888888888888888,\"#fdca26\"],[1.0,\"#f0f921\"]],\"type\":\"histogram2d\"}],\"histogram\":[{\"marker\":{\"pattern\":{\"fillmode\":\"overlay\",\"size\":10,\"solidity\":0.2}},\"type\":\"histogram\"}],\"mesh3d\":[{\"colorbar\":{\"outlinewidth\":0,\"ticks\":\"\"},\"type\":\"mesh3d\"}],\"parcoords\":[{\"line\":{\"colorbar\":{\"outlinewidth\":0,\"ticks\":\"\"}},\"type\":\"parcoords\"}],\"pie\":[{\"automargin\":true,\"type\":\"pie\"}],\"scatter3d\":[{\"line\":{\"colorbar\":{\"outlinewidth\":0,\"ticks\":\"\"}},\"marker\":{\"colorbar\":{\"outlinewidth\":0,\"ticks\":\"\"}},\"type\":\"scatter3d\"}],\"scattercarpet\":[{\"marker\":{\"colorbar\":{\"outlinewidth\":0,\"ticks\":\"\"}},\"type\":\"scattercarpet\"}],\"scattergeo\":[{\"marker\":{\"colorbar\":{\"outlinewidth\":0,\"ticks\":\"\"}},\"type\":\"scattergeo\"}],\"scattergl\":[{\"marker\":{\"colorbar\":{\"outlinewidth\":0,\"ticks\":\"\"}},\"type\":\"scattergl\"}],\"scattermapbox\":[{\"marker\":{\"colorbar\":{\"outlinewidth\":0,\"ticks\":\"\"}},\"type\":\"scattermapbox\"}],\"scatterpolargl\":[{\"marker\":{\"colorbar\":{\"outlinewidth\":0,\"ticks\":\"\"}},\"type\":\"scatterpolargl\"}],\"scatterpolar\":[{\"marker\":{\"colorbar\":{\"outlinewidth\":0,\"ticks\":\"\"}},\"type\":\"scatterpolar\"}],\"scatter\":[{\"marker\":{\"colorbar\":{\"outlinewidth\":0,\"ticks\":\"\"}},\"type\":\"scatter\"}],\"scatterternary\":[{\"marker\":{\"colorbar\":{\"outlinewidth\":0,\"ticks\":\"\"}},\"type\":\"scatterternary\"}],\"surface\":[{\"colorbar\":{\"outlinewidth\":0,\"ticks\":\"\"},\"colorscale\":[[0.0,\"#0d0887\"],[0.1111111111111111,\"#46039f\"],[0.2222222222222222,\"#7201a8\"],[0.3333333333333333,\"#9c179e\"],[0.4444444444444444,\"#bd3786\"],[0.5555555555555556,\"#d8576b\"],[0.6666666666666666,\"#ed7953\"],[0.7777777777777778,\"#fb9f3a\"],[0.8888888888888888,\"#fdca26\"],[1.0,\"#f0f921\"]],\"type\":\"surface\"}],\"table\":[{\"cells\":{\"fill\":{\"color\":\"#EBF0F8\"},\"line\":{\"color\":\"white\"}},\"header\":{\"fill\":{\"color\":\"#C8D4E3\"},\"line\":{\"color\":\"white\"}},\"type\":\"table\"}]},\"layout\":{\"annotationdefaults\":{\"arrowcolor\":\"#2a3f5f\",\"arrowhead\":0,\"arrowwidth\":1},\"autotypenumbers\":\"strict\",\"coloraxis\":{\"colorbar\":{\"outlinewidth\":0,\"ticks\":\"\"}},\"colorscale\":{\"diverging\":[[0,\"#8e0152\"],[0.1,\"#c51b7d\"],[0.2,\"#de77ae\"],[0.3,\"#f1b6da\"],[0.4,\"#fde0ef\"],[0.5,\"#f7f7f7\"],[0.6,\"#e6f5d0\"],[0.7,\"#b8e186\"],[0.8,\"#7fbc41\"],[0.9,\"#4d9221\"],[1,\"#276419\"]],\"sequential\":[[0.0,\"#0d0887\"],[0.1111111111111111,\"#46039f\"],[0.2222222222222222,\"#7201a8\"],[0.3333333333333333,\"#9c179e\"],[0.4444444444444444,\"#bd3786\"],[0.5555555555555556,\"#d8576b\"],[0.6666666666666666,\"#ed7953\"],[0.7777777777777778,\"#fb9f3a\"],[0.8888888888888888,\"#fdca26\"],[1.0,\"#f0f921\"]],\"sequentialminus\":[[0.0,\"#0d0887\"],[0.1111111111111111,\"#46039f\"],[0.2222222222222222,\"#7201a8\"],[0.3333333333333333,\"#9c179e\"],[0.4444444444444444,\"#bd3786\"],[0.5555555555555556,\"#d8576b\"],[0.6666666666666666,\"#ed7953\"],[0.7777777777777778,\"#fb9f3a\"],[0.8888888888888888,\"#fdca26\"],[1.0,\"#f0f921\"]]},\"colorway\":[\"#636efa\",\"#EF553B\",\"#00cc96\",\"#ab63fa\",\"#FFA15A\",\"#19d3f3\",\"#FF6692\",\"#B6E880\",\"#FF97FF\",\"#FECB52\"],\"font\":{\"color\":\"#2a3f5f\"},\"geo\":{\"bgcolor\":\"white\",\"lakecolor\":\"white\",\"landcolor\":\"#E5ECF6\",\"showlakes\":true,\"showland\":true,\"subunitcolor\":\"white\"},\"hoverlabel\":{\"align\":\"left\"},\"hovermode\":\"closest\",\"mapbox\":{\"style\":\"light\"},\"paper_bgcolor\":\"white\",\"plot_bgcolor\":\"#E5ECF6\",\"polar\":{\"angularaxis\":{\"gridcolor\":\"white\",\"linecolor\":\"white\",\"ticks\":\"\"},\"bgcolor\":\"#E5ECF6\",\"radialaxis\":{\"gridcolor\":\"white\",\"linecolor\":\"white\",\"ticks\":\"\"}},\"scene\":{\"xaxis\":{\"backgroundcolor\":\"#E5ECF6\",\"gridcolor\":\"white\",\"gridwidth\":2,\"linecolor\":\"white\",\"showbackground\":true,\"ticks\":\"\",\"zerolinecolor\":\"white\"},\"yaxis\":{\"backgroundcolor\":\"#E5ECF6\",\"gridcolor\":\"white\",\"gridwidth\":2,\"linecolor\":\"white\",\"showbackground\":true,\"ticks\":\"\",\"zerolinecolor\":\"white\"},\"zaxis\":{\"backgroundcolor\":\"#E5ECF6\",\"gridcolor\":\"white\",\"gridwidth\":2,\"linecolor\":\"white\",\"showbackground\":true,\"ticks\":\"\",\"zerolinecolor\":\"white\"}},\"shapedefaults\":{\"line\":{\"color\":\"#2a3f5f\"}},\"ternary\":{\"aaxis\":{\"gridcolor\":\"white\",\"linecolor\":\"white\",\"ticks\":\"\"},\"baxis\":{\"gridcolor\":\"white\",\"linecolor\":\"white\",\"ticks\":\"\"},\"bgcolor\":\"#E5ECF6\",\"caxis\":{\"gridcolor\":\"white\",\"linecolor\":\"white\",\"ticks\":\"\"}},\"title\":{\"x\":0.05},\"xaxis\":{\"automargin\":true,\"gridcolor\":\"white\",\"linecolor\":\"white\",\"ticks\":\"\",\"title\":{\"standoff\":15},\"zerolinecolor\":\"white\",\"zerolinewidth\":2},\"yaxis\":{\"automargin\":true,\"gridcolor\":\"white\",\"linecolor\":\"white\",\"ticks\":\"\",\"title\":{\"standoff\":15},\"zerolinecolor\":\"white\",\"zerolinewidth\":2}}},\"title\":{\"font\":{\"color\":\"#484848\"}},\"xaxis\":{\"anchor\":\"y\",\"domain\":[0.0,0.45],\"gridcolor\":\"#E1E5ED\",\"showgrid\":true,\"tickfont\":{\"color\":\"#505050\"},\"title\":{\"font\":{\"color\":\"#505050\"},\"text\":\"\"},\"zerolinecolor\":\"#E1E5ED\"},\"yaxis\":{\"anchor\":\"x\",\"domain\":[0.7333333333333333,1.0],\"gridcolor\":\"#E1E5ED\",\"showgrid\":true,\"tickfont\":{\"color\":\"#505050\"},\"title\":{\"font\":{\"color\":\"#505050\"},\"text\":\"\"},\"zerolinecolor\":\"#E1E5ED\"},\"xaxis2\":{\"anchor\":\"y2\",\"domain\":[0.55,1.0],\"gridcolor\":\"#E1E5ED\",\"showgrid\":true,\"tickfont\":{\"color\":\"#505050\"},\"title\":{\"font\":{\"color\":\"#505050\"},\"text\":\"\"},\"zerolinecolor\":\"#E1E5ED\"},\"yaxis2\":{\"anchor\":\"x2\",\"domain\":[0.7333333333333333,1.0],\"gridcolor\":\"#E1E5ED\",\"showgrid\":true,\"tickfont\":{\"color\":\"#505050\"},\"title\":{\"font\":{\"color\":\"#505050\"},\"text\":\"\"},\"zerolinecolor\":\"#E1E5ED\"},\"xaxis3\":{\"anchor\":\"y3\",\"domain\":[0.0,0.45],\"gridcolor\":\"#E1E5ED\",\"showgrid\":true,\"tickfont\":{\"color\":\"#505050\"},\"title\":{\"font\":{\"color\":\"#505050\"},\"text\":\"\"},\"zerolinecolor\":\"#E1E5ED\"},\"yaxis3\":{\"anchor\":\"x3\",\"domain\":[0.36666666666666664,0.6333333333333333],\"gridcolor\":\"#E1E5ED\",\"showgrid\":true,\"tickfont\":{\"color\":\"#505050\"},\"title\":{\"font\":{\"color\":\"#505050\"},\"text\":\"\"},\"zerolinecolor\":\"#E1E5ED\"},\"xaxis4\":{\"anchor\":\"y4\",\"domain\":[0.55,1.0],\"gridcolor\":\"#E1E5ED\",\"showgrid\":true,\"tickfont\":{\"color\":\"#505050\"},\"title\":{\"font\":{\"color\":\"#505050\"},\"text\":\"\"},\"zerolinecolor\":\"#E1E5ED\"},\"yaxis4\":{\"anchor\":\"x4\",\"domain\":[0.36666666666666664,0.6333333333333333],\"gridcolor\":\"#E1E5ED\",\"showgrid\":true,\"tickfont\":{\"color\":\"#505050\"},\"title\":{\"font\":{\"color\":\"#505050\"},\"text\":\"\"},\"zerolinecolor\":\"#E1E5ED\"},\"xaxis5\":{\"anchor\":\"y5\",\"domain\":[0.0,0.45],\"gridcolor\":\"#E1E5ED\",\"showgrid\":true,\"tickfont\":{\"color\":\"#505050\"},\"title\":{\"font\":{\"color\":\"#505050\"},\"text\":\"\"},\"zerolinecolor\":\"#E1E5ED\"},\"yaxis5\":{\"anchor\":\"x5\",\"domain\":[0.0,0.26666666666666666],\"gridcolor\":\"#E1E5ED\",\"showgrid\":true,\"tickfont\":{\"color\":\"#505050\"},\"title\":{\"font\":{\"color\":\"#505050\"},\"text\":\"\"},\"zerolinecolor\":\"#E1E5ED\"}},                        {\"showLink\": true, \"linkText\": \"Export to plot.ly\", \"plotlyServerURL\": \"https://plot.ly\", \"responsive\": true}                    ).then(function(){\n",
       "                            \n",
       "var gd = document.getElementById('b6834152-94ee-4f0f-92d6-af63db4b6736');\n",
       "var x = new MutationObserver(function (mutations, observer) {{\n",
       "        var display = window.getComputedStyle(gd).display;\n",
       "        if (!display || display === 'none') {{\n",
       "            console.log([gd, 'removed!']);\n",
       "            Plotly.purge(gd);\n",
       "            observer.disconnect();\n",
       "        }}\n",
       "}});\n",
       "\n",
       "// Listen for the removal of the full notebook cells\n",
       "var notebookContainer = gd.closest('#notebook-container');\n",
       "if (notebookContainer) {{\n",
       "    x.observe(notebookContainer, {childList: true});\n",
       "}}\n",
       "\n",
       "// Listen for the clearing of the current output cell\n",
       "var outputEl = gd.closest('.output');\n",
       "if (outputEl) {{\n",
       "    x.observe(outputEl, {childList: true});\n",
       "}}\n",
       "\n",
       "                        })                };                });            </script>        </div>"
      ]
     },
     "metadata": {},
     "output_type": "display_data"
    }
   ],
   "source": [
    "df.iplot(kind='hist',subplots=True)"
   ]
  },
  {
   "cell_type": "code",
   "execution_count": 15,
   "id": "cdee84ae",
   "metadata": {},
   "outputs": [
    {
     "data": {
      "application/vnd.plotly.v1+json": {
       "config": {
        "linkText": "Export to plot.ly",
        "plotlyServerURL": "https://plot.ly",
        "showLink": true
       },
       "data": [
        {
         "histfunc": "count",
         "histnorm": "",
         "marker": {
          "color": "rgba(0, 128, 240, 1.0)",
          "line": {
           "color": "#505050",
           "width": 1.3
          }
         },
         "name": "sepal_length",
         "opacity": 0.8,
         "orientation": "v",
         "type": "histogram",
         "x": [
          5.1,
          4.9,
          4.7,
          4.6,
          5,
          5.4,
          4.6,
          5,
          4.4,
          4.9,
          5.4,
          4.8,
          4.8,
          4.3,
          5.8,
          5.7,
          5.4,
          5.1,
          5.7,
          5.1,
          5.4,
          5.1,
          4.6,
          5.1,
          4.8,
          5,
          5,
          5.2,
          5.2,
          4.7,
          4.8,
          5.4,
          5.2,
          5.5,
          4.9,
          5,
          5.5,
          4.9,
          4.4,
          5.1,
          5,
          4.5,
          4.4,
          5,
          5.1,
          4.8,
          5.1,
          4.6,
          5.3,
          5,
          7,
          6.4,
          6.9,
          5.5,
          6.5,
          5.7,
          6.3,
          4.9,
          6.6,
          5.2,
          5,
          5.9,
          6,
          6.1,
          5.6,
          6.7,
          5.6,
          5.8,
          6.2,
          5.6,
          5.9,
          6.1,
          6.3,
          6.1,
          6.4,
          6.6,
          6.8,
          6.7,
          6,
          5.7,
          5.5,
          5.5,
          5.8,
          6,
          5.4,
          6,
          6.7,
          6.3,
          5.6,
          5.5,
          5.5,
          6.1,
          5.8,
          5,
          5.6,
          5.7,
          5.7,
          6.2,
          5.1,
          5.7,
          6.3,
          5.8,
          7.1,
          6.3,
          6.5,
          7.6,
          4.9,
          7.3,
          6.7,
          7.2,
          6.5,
          6.4,
          6.8,
          5.7,
          5.8,
          6.4,
          6.5,
          7.7,
          7.7,
          6,
          6.9,
          5.6,
          7.7,
          6.3,
          6.7,
          7.2,
          6.2,
          6.1,
          6.4,
          7.2,
          7.4,
          7.9,
          6.4,
          6.3,
          6.1,
          7.7,
          6.3,
          6.4,
          6,
          6.9,
          6.7,
          6.9,
          5.8,
          6.8,
          6.7,
          6.7,
          6.3,
          6.5,
          6.2,
          5.9
         ]
        }
       ],
       "layout": {
        "barmode": "overlay",
        "legend": {
         "bgcolor": "#F2F3F7",
         "font": {
          "color": "#505050"
         }
        },
        "paper_bgcolor": "#F2F3F7",
        "plot_bgcolor": "#F2F3F7",
        "template": {
         "data": {
          "bar": [
           {
            "error_x": {
             "color": "#2a3f5f"
            },
            "error_y": {
             "color": "#2a3f5f"
            },
            "marker": {
             "line": {
              "color": "#E5ECF6",
              "width": 0.5
             },
             "pattern": {
              "fillmode": "overlay",
              "size": 10,
              "solidity": 0.2
             }
            },
            "type": "bar"
           }
          ],
          "barpolar": [
           {
            "marker": {
             "line": {
              "color": "#E5ECF6",
              "width": 0.5
             },
             "pattern": {
              "fillmode": "overlay",
              "size": 10,
              "solidity": 0.2
             }
            },
            "type": "barpolar"
           }
          ],
          "carpet": [
           {
            "aaxis": {
             "endlinecolor": "#2a3f5f",
             "gridcolor": "white",
             "linecolor": "white",
             "minorgridcolor": "white",
             "startlinecolor": "#2a3f5f"
            },
            "baxis": {
             "endlinecolor": "#2a3f5f",
             "gridcolor": "white",
             "linecolor": "white",
             "minorgridcolor": "white",
             "startlinecolor": "#2a3f5f"
            },
            "type": "carpet"
           }
          ],
          "choropleth": [
           {
            "colorbar": {
             "outlinewidth": 0,
             "ticks": ""
            },
            "type": "choropleth"
           }
          ],
          "contour": [
           {
            "colorbar": {
             "outlinewidth": 0,
             "ticks": ""
            },
            "colorscale": [
             [
              0,
              "#0d0887"
             ],
             [
              0.1111111111111111,
              "#46039f"
             ],
             [
              0.2222222222222222,
              "#7201a8"
             ],
             [
              0.3333333333333333,
              "#9c179e"
             ],
             [
              0.4444444444444444,
              "#bd3786"
             ],
             [
              0.5555555555555556,
              "#d8576b"
             ],
             [
              0.6666666666666666,
              "#ed7953"
             ],
             [
              0.7777777777777778,
              "#fb9f3a"
             ],
             [
              0.8888888888888888,
              "#fdca26"
             ],
             [
              1,
              "#f0f921"
             ]
            ],
            "type": "contour"
           }
          ],
          "contourcarpet": [
           {
            "colorbar": {
             "outlinewidth": 0,
             "ticks": ""
            },
            "type": "contourcarpet"
           }
          ],
          "heatmap": [
           {
            "colorbar": {
             "outlinewidth": 0,
             "ticks": ""
            },
            "colorscale": [
             [
              0,
              "#0d0887"
             ],
             [
              0.1111111111111111,
              "#46039f"
             ],
             [
              0.2222222222222222,
              "#7201a8"
             ],
             [
              0.3333333333333333,
              "#9c179e"
             ],
             [
              0.4444444444444444,
              "#bd3786"
             ],
             [
              0.5555555555555556,
              "#d8576b"
             ],
             [
              0.6666666666666666,
              "#ed7953"
             ],
             [
              0.7777777777777778,
              "#fb9f3a"
             ],
             [
              0.8888888888888888,
              "#fdca26"
             ],
             [
              1,
              "#f0f921"
             ]
            ],
            "type": "heatmap"
           }
          ],
          "heatmapgl": [
           {
            "colorbar": {
             "outlinewidth": 0,
             "ticks": ""
            },
            "colorscale": [
             [
              0,
              "#0d0887"
             ],
             [
              0.1111111111111111,
              "#46039f"
             ],
             [
              0.2222222222222222,
              "#7201a8"
             ],
             [
              0.3333333333333333,
              "#9c179e"
             ],
             [
              0.4444444444444444,
              "#bd3786"
             ],
             [
              0.5555555555555556,
              "#d8576b"
             ],
             [
              0.6666666666666666,
              "#ed7953"
             ],
             [
              0.7777777777777778,
              "#fb9f3a"
             ],
             [
              0.8888888888888888,
              "#fdca26"
             ],
             [
              1,
              "#f0f921"
             ]
            ],
            "type": "heatmapgl"
           }
          ],
          "histogram": [
           {
            "marker": {
             "pattern": {
              "fillmode": "overlay",
              "size": 10,
              "solidity": 0.2
             }
            },
            "type": "histogram"
           }
          ],
          "histogram2d": [
           {
            "colorbar": {
             "outlinewidth": 0,
             "ticks": ""
            },
            "colorscale": [
             [
              0,
              "#0d0887"
             ],
             [
              0.1111111111111111,
              "#46039f"
             ],
             [
              0.2222222222222222,
              "#7201a8"
             ],
             [
              0.3333333333333333,
              "#9c179e"
             ],
             [
              0.4444444444444444,
              "#bd3786"
             ],
             [
              0.5555555555555556,
              "#d8576b"
             ],
             [
              0.6666666666666666,
              "#ed7953"
             ],
             [
              0.7777777777777778,
              "#fb9f3a"
             ],
             [
              0.8888888888888888,
              "#fdca26"
             ],
             [
              1,
              "#f0f921"
             ]
            ],
            "type": "histogram2d"
           }
          ],
          "histogram2dcontour": [
           {
            "colorbar": {
             "outlinewidth": 0,
             "ticks": ""
            },
            "colorscale": [
             [
              0,
              "#0d0887"
             ],
             [
              0.1111111111111111,
              "#46039f"
             ],
             [
              0.2222222222222222,
              "#7201a8"
             ],
             [
              0.3333333333333333,
              "#9c179e"
             ],
             [
              0.4444444444444444,
              "#bd3786"
             ],
             [
              0.5555555555555556,
              "#d8576b"
             ],
             [
              0.6666666666666666,
              "#ed7953"
             ],
             [
              0.7777777777777778,
              "#fb9f3a"
             ],
             [
              0.8888888888888888,
              "#fdca26"
             ],
             [
              1,
              "#f0f921"
             ]
            ],
            "type": "histogram2dcontour"
           }
          ],
          "mesh3d": [
           {
            "colorbar": {
             "outlinewidth": 0,
             "ticks": ""
            },
            "type": "mesh3d"
           }
          ],
          "parcoords": [
           {
            "line": {
             "colorbar": {
              "outlinewidth": 0,
              "ticks": ""
             }
            },
            "type": "parcoords"
           }
          ],
          "pie": [
           {
            "automargin": true,
            "type": "pie"
           }
          ],
          "scatter": [
           {
            "marker": {
             "colorbar": {
              "outlinewidth": 0,
              "ticks": ""
             }
            },
            "type": "scatter"
           }
          ],
          "scatter3d": [
           {
            "line": {
             "colorbar": {
              "outlinewidth": 0,
              "ticks": ""
             }
            },
            "marker": {
             "colorbar": {
              "outlinewidth": 0,
              "ticks": ""
             }
            },
            "type": "scatter3d"
           }
          ],
          "scattercarpet": [
           {
            "marker": {
             "colorbar": {
              "outlinewidth": 0,
              "ticks": ""
             }
            },
            "type": "scattercarpet"
           }
          ],
          "scattergeo": [
           {
            "marker": {
             "colorbar": {
              "outlinewidth": 0,
              "ticks": ""
             }
            },
            "type": "scattergeo"
           }
          ],
          "scattergl": [
           {
            "marker": {
             "colorbar": {
              "outlinewidth": 0,
              "ticks": ""
             }
            },
            "type": "scattergl"
           }
          ],
          "scattermapbox": [
           {
            "marker": {
             "colorbar": {
              "outlinewidth": 0,
              "ticks": ""
             }
            },
            "type": "scattermapbox"
           }
          ],
          "scatterpolar": [
           {
            "marker": {
             "colorbar": {
              "outlinewidth": 0,
              "ticks": ""
             }
            },
            "type": "scatterpolar"
           }
          ],
          "scatterpolargl": [
           {
            "marker": {
             "colorbar": {
              "outlinewidth": 0,
              "ticks": ""
             }
            },
            "type": "scatterpolargl"
           }
          ],
          "scatterternary": [
           {
            "marker": {
             "colorbar": {
              "outlinewidth": 0,
              "ticks": ""
             }
            },
            "type": "scatterternary"
           }
          ],
          "surface": [
           {
            "colorbar": {
             "outlinewidth": 0,
             "ticks": ""
            },
            "colorscale": [
             [
              0,
              "#0d0887"
             ],
             [
              0.1111111111111111,
              "#46039f"
             ],
             [
              0.2222222222222222,
              "#7201a8"
             ],
             [
              0.3333333333333333,
              "#9c179e"
             ],
             [
              0.4444444444444444,
              "#bd3786"
             ],
             [
              0.5555555555555556,
              "#d8576b"
             ],
             [
              0.6666666666666666,
              "#ed7953"
             ],
             [
              0.7777777777777778,
              "#fb9f3a"
             ],
             [
              0.8888888888888888,
              "#fdca26"
             ],
             [
              1,
              "#f0f921"
             ]
            ],
            "type": "surface"
           }
          ],
          "table": [
           {
            "cells": {
             "fill": {
              "color": "#EBF0F8"
             },
             "line": {
              "color": "white"
             }
            },
            "header": {
             "fill": {
              "color": "#C8D4E3"
             },
             "line": {
              "color": "white"
             }
            },
            "type": "table"
           }
          ]
         },
         "layout": {
          "annotationdefaults": {
           "arrowcolor": "#2a3f5f",
           "arrowhead": 0,
           "arrowwidth": 1
          },
          "autotypenumbers": "strict",
          "coloraxis": {
           "colorbar": {
            "outlinewidth": 0,
            "ticks": ""
           }
          },
          "colorscale": {
           "diverging": [
            [
             0,
             "#8e0152"
            ],
            [
             0.1,
             "#c51b7d"
            ],
            [
             0.2,
             "#de77ae"
            ],
            [
             0.3,
             "#f1b6da"
            ],
            [
             0.4,
             "#fde0ef"
            ],
            [
             0.5,
             "#f7f7f7"
            ],
            [
             0.6,
             "#e6f5d0"
            ],
            [
             0.7,
             "#b8e186"
            ],
            [
             0.8,
             "#7fbc41"
            ],
            [
             0.9,
             "#4d9221"
            ],
            [
             1,
             "#276419"
            ]
           ],
           "sequential": [
            [
             0,
             "#0d0887"
            ],
            [
             0.1111111111111111,
             "#46039f"
            ],
            [
             0.2222222222222222,
             "#7201a8"
            ],
            [
             0.3333333333333333,
             "#9c179e"
            ],
            [
             0.4444444444444444,
             "#bd3786"
            ],
            [
             0.5555555555555556,
             "#d8576b"
            ],
            [
             0.6666666666666666,
             "#ed7953"
            ],
            [
             0.7777777777777778,
             "#fb9f3a"
            ],
            [
             0.8888888888888888,
             "#fdca26"
            ],
            [
             1,
             "#f0f921"
            ]
           ],
           "sequentialminus": [
            [
             0,
             "#0d0887"
            ],
            [
             0.1111111111111111,
             "#46039f"
            ],
            [
             0.2222222222222222,
             "#7201a8"
            ],
            [
             0.3333333333333333,
             "#9c179e"
            ],
            [
             0.4444444444444444,
             "#bd3786"
            ],
            [
             0.5555555555555556,
             "#d8576b"
            ],
            [
             0.6666666666666666,
             "#ed7953"
            ],
            [
             0.7777777777777778,
             "#fb9f3a"
            ],
            [
             0.8888888888888888,
             "#fdca26"
            ],
            [
             1,
             "#f0f921"
            ]
           ]
          },
          "colorway": [
           "#636efa",
           "#EF553B",
           "#00cc96",
           "#ab63fa",
           "#FFA15A",
           "#19d3f3",
           "#FF6692",
           "#B6E880",
           "#FF97FF",
           "#FECB52"
          ],
          "font": {
           "color": "#2a3f5f"
          },
          "geo": {
           "bgcolor": "white",
           "lakecolor": "white",
           "landcolor": "#E5ECF6",
           "showlakes": true,
           "showland": true,
           "subunitcolor": "white"
          },
          "hoverlabel": {
           "align": "left"
          },
          "hovermode": "closest",
          "mapbox": {
           "style": "light"
          },
          "paper_bgcolor": "white",
          "plot_bgcolor": "#E5ECF6",
          "polar": {
           "angularaxis": {
            "gridcolor": "white",
            "linecolor": "white",
            "ticks": ""
           },
           "bgcolor": "#E5ECF6",
           "radialaxis": {
            "gridcolor": "white",
            "linecolor": "white",
            "ticks": ""
           }
          },
          "scene": {
           "xaxis": {
            "backgroundcolor": "#E5ECF6",
            "gridcolor": "white",
            "gridwidth": 2,
            "linecolor": "white",
            "showbackground": true,
            "ticks": "",
            "zerolinecolor": "white"
           },
           "yaxis": {
            "backgroundcolor": "#E5ECF6",
            "gridcolor": "white",
            "gridwidth": 2,
            "linecolor": "white",
            "showbackground": true,
            "ticks": "",
            "zerolinecolor": "white"
           },
           "zaxis": {
            "backgroundcolor": "#E5ECF6",
            "gridcolor": "white",
            "gridwidth": 2,
            "linecolor": "white",
            "showbackground": true,
            "ticks": "",
            "zerolinecolor": "white"
           }
          },
          "shapedefaults": {
           "line": {
            "color": "#2a3f5f"
           }
          },
          "ternary": {
           "aaxis": {
            "gridcolor": "white",
            "linecolor": "white",
            "ticks": ""
           },
           "baxis": {
            "gridcolor": "white",
            "linecolor": "white",
            "ticks": ""
           },
           "bgcolor": "#E5ECF6",
           "caxis": {
            "gridcolor": "white",
            "linecolor": "white",
            "ticks": ""
           }
          },
          "title": {
           "x": 0.05
          },
          "xaxis": {
           "automargin": true,
           "gridcolor": "white",
           "linecolor": "white",
           "ticks": "",
           "title": {
            "standoff": 15
           },
           "zerolinecolor": "white",
           "zerolinewidth": 2
          },
          "yaxis": {
           "automargin": true,
           "gridcolor": "white",
           "linecolor": "white",
           "ticks": "",
           "title": {
            "standoff": 15
           },
           "zerolinecolor": "white",
           "zerolinewidth": 2
          }
         }
        },
        "title": {
         "font": {
          "color": "#484848"
         }
        },
        "xaxis": {
         "gridcolor": "#E1E5ED",
         "showgrid": true,
         "tickfont": {
          "color": "#505050"
         },
         "title": {
          "font": {
           "color": "#505050"
          },
          "text": ""
         },
         "zerolinecolor": "#E1E5ED"
        },
        "yaxis": {
         "gridcolor": "#E1E5ED",
         "showgrid": true,
         "tickfont": {
          "color": "#505050"
         },
         "title": {
          "font": {
           "color": "#505050"
          },
          "text": ""
         },
         "zerolinecolor": "#E1E5ED"
        }
       }
      },
      "text/html": [
       "<div>                            <div id=\"22d58368-04ec-48c5-9f8b-e39af7000adc\" class=\"plotly-graph-div\" style=\"height:525px; width:100%;\"></div>            <script type=\"text/javascript\">                require([\"plotly\"], function(Plotly) {                    window.PLOTLYENV=window.PLOTLYENV || {};\n",
       "                    window.PLOTLYENV.BASE_URL='https://plot.ly';                                    if (document.getElementById(\"22d58368-04ec-48c5-9f8b-e39af7000adc\")) {                    Plotly.newPlot(                        \"22d58368-04ec-48c5-9f8b-e39af7000adc\",                        [{\"histfunc\":\"count\",\"histnorm\":\"\",\"marker\":{\"color\":\"rgba(0, 128, 240, 1.0)\",\"line\":{\"color\":\"#505050\",\"width\":1.3}},\"name\":\"sepal_length\",\"opacity\":0.8,\"orientation\":\"v\",\"x\":[5.1,4.9,4.7,4.6,5.0,5.4,4.6,5.0,4.4,4.9,5.4,4.8,4.8,4.3,5.8,5.7,5.4,5.1,5.7,5.1,5.4,5.1,4.6,5.1,4.8,5.0,5.0,5.2,5.2,4.7,4.8,5.4,5.2,5.5,4.9,5.0,5.5,4.9,4.4,5.1,5.0,4.5,4.4,5.0,5.1,4.8,5.1,4.6,5.3,5.0,7.0,6.4,6.9,5.5,6.5,5.7,6.3,4.9,6.6,5.2,5.0,5.9,6.0,6.1,5.6,6.7,5.6,5.8,6.2,5.6,5.9,6.1,6.3,6.1,6.4,6.6,6.8,6.7,6.0,5.7,5.5,5.5,5.8,6.0,5.4,6.0,6.7,6.3,5.6,5.5,5.5,6.1,5.8,5.0,5.6,5.7,5.7,6.2,5.1,5.7,6.3,5.8,7.1,6.3,6.5,7.6,4.9,7.3,6.7,7.2,6.5,6.4,6.8,5.7,5.8,6.4,6.5,7.7,7.7,6.0,6.9,5.6,7.7,6.3,6.7,7.2,6.2,6.1,6.4,7.2,7.4,7.9,6.4,6.3,6.1,7.7,6.3,6.4,6.0,6.9,6.7,6.9,5.8,6.8,6.7,6.7,6.3,6.5,6.2,5.9],\"type\":\"histogram\"}],                        {\"barmode\":\"overlay\",\"legend\":{\"bgcolor\":\"#F2F3F7\",\"font\":{\"color\":\"#505050\"}},\"paper_bgcolor\":\"#F2F3F7\",\"plot_bgcolor\":\"#F2F3F7\",\"template\":{\"data\":{\"barpolar\":[{\"marker\":{\"line\":{\"color\":\"#E5ECF6\",\"width\":0.5},\"pattern\":{\"fillmode\":\"overlay\",\"size\":10,\"solidity\":0.2}},\"type\":\"barpolar\"}],\"bar\":[{\"error_x\":{\"color\":\"#2a3f5f\"},\"error_y\":{\"color\":\"#2a3f5f\"},\"marker\":{\"line\":{\"color\":\"#E5ECF6\",\"width\":0.5},\"pattern\":{\"fillmode\":\"overlay\",\"size\":10,\"solidity\":0.2}},\"type\":\"bar\"}],\"carpet\":[{\"aaxis\":{\"endlinecolor\":\"#2a3f5f\",\"gridcolor\":\"white\",\"linecolor\":\"white\",\"minorgridcolor\":\"white\",\"startlinecolor\":\"#2a3f5f\"},\"baxis\":{\"endlinecolor\":\"#2a3f5f\",\"gridcolor\":\"white\",\"linecolor\":\"white\",\"minorgridcolor\":\"white\",\"startlinecolor\":\"#2a3f5f\"},\"type\":\"carpet\"}],\"choropleth\":[{\"colorbar\":{\"outlinewidth\":0,\"ticks\":\"\"},\"type\":\"choropleth\"}],\"contourcarpet\":[{\"colorbar\":{\"outlinewidth\":0,\"ticks\":\"\"},\"type\":\"contourcarpet\"}],\"contour\":[{\"colorbar\":{\"outlinewidth\":0,\"ticks\":\"\"},\"colorscale\":[[0.0,\"#0d0887\"],[0.1111111111111111,\"#46039f\"],[0.2222222222222222,\"#7201a8\"],[0.3333333333333333,\"#9c179e\"],[0.4444444444444444,\"#bd3786\"],[0.5555555555555556,\"#d8576b\"],[0.6666666666666666,\"#ed7953\"],[0.7777777777777778,\"#fb9f3a\"],[0.8888888888888888,\"#fdca26\"],[1.0,\"#f0f921\"]],\"type\":\"contour\"}],\"heatmapgl\":[{\"colorbar\":{\"outlinewidth\":0,\"ticks\":\"\"},\"colorscale\":[[0.0,\"#0d0887\"],[0.1111111111111111,\"#46039f\"],[0.2222222222222222,\"#7201a8\"],[0.3333333333333333,\"#9c179e\"],[0.4444444444444444,\"#bd3786\"],[0.5555555555555556,\"#d8576b\"],[0.6666666666666666,\"#ed7953\"],[0.7777777777777778,\"#fb9f3a\"],[0.8888888888888888,\"#fdca26\"],[1.0,\"#f0f921\"]],\"type\":\"heatmapgl\"}],\"heatmap\":[{\"colorbar\":{\"outlinewidth\":0,\"ticks\":\"\"},\"colorscale\":[[0.0,\"#0d0887\"],[0.1111111111111111,\"#46039f\"],[0.2222222222222222,\"#7201a8\"],[0.3333333333333333,\"#9c179e\"],[0.4444444444444444,\"#bd3786\"],[0.5555555555555556,\"#d8576b\"],[0.6666666666666666,\"#ed7953\"],[0.7777777777777778,\"#fb9f3a\"],[0.8888888888888888,\"#fdca26\"],[1.0,\"#f0f921\"]],\"type\":\"heatmap\"}],\"histogram2dcontour\":[{\"colorbar\":{\"outlinewidth\":0,\"ticks\":\"\"},\"colorscale\":[[0.0,\"#0d0887\"],[0.1111111111111111,\"#46039f\"],[0.2222222222222222,\"#7201a8\"],[0.3333333333333333,\"#9c179e\"],[0.4444444444444444,\"#bd3786\"],[0.5555555555555556,\"#d8576b\"],[0.6666666666666666,\"#ed7953\"],[0.7777777777777778,\"#fb9f3a\"],[0.8888888888888888,\"#fdca26\"],[1.0,\"#f0f921\"]],\"type\":\"histogram2dcontour\"}],\"histogram2d\":[{\"colorbar\":{\"outlinewidth\":0,\"ticks\":\"\"},\"colorscale\":[[0.0,\"#0d0887\"],[0.1111111111111111,\"#46039f\"],[0.2222222222222222,\"#7201a8\"],[0.3333333333333333,\"#9c179e\"],[0.4444444444444444,\"#bd3786\"],[0.5555555555555556,\"#d8576b\"],[0.6666666666666666,\"#ed7953\"],[0.7777777777777778,\"#fb9f3a\"],[0.8888888888888888,\"#fdca26\"],[1.0,\"#f0f921\"]],\"type\":\"histogram2d\"}],\"histogram\":[{\"marker\":{\"pattern\":{\"fillmode\":\"overlay\",\"size\":10,\"solidity\":0.2}},\"type\":\"histogram\"}],\"mesh3d\":[{\"colorbar\":{\"outlinewidth\":0,\"ticks\":\"\"},\"type\":\"mesh3d\"}],\"parcoords\":[{\"line\":{\"colorbar\":{\"outlinewidth\":0,\"ticks\":\"\"}},\"type\":\"parcoords\"}],\"pie\":[{\"automargin\":true,\"type\":\"pie\"}],\"scatter3d\":[{\"line\":{\"colorbar\":{\"outlinewidth\":0,\"ticks\":\"\"}},\"marker\":{\"colorbar\":{\"outlinewidth\":0,\"ticks\":\"\"}},\"type\":\"scatter3d\"}],\"scattercarpet\":[{\"marker\":{\"colorbar\":{\"outlinewidth\":0,\"ticks\":\"\"}},\"type\":\"scattercarpet\"}],\"scattergeo\":[{\"marker\":{\"colorbar\":{\"outlinewidth\":0,\"ticks\":\"\"}},\"type\":\"scattergeo\"}],\"scattergl\":[{\"marker\":{\"colorbar\":{\"outlinewidth\":0,\"ticks\":\"\"}},\"type\":\"scattergl\"}],\"scattermapbox\":[{\"marker\":{\"colorbar\":{\"outlinewidth\":0,\"ticks\":\"\"}},\"type\":\"scattermapbox\"}],\"scatterpolargl\":[{\"marker\":{\"colorbar\":{\"outlinewidth\":0,\"ticks\":\"\"}},\"type\":\"scatterpolargl\"}],\"scatterpolar\":[{\"marker\":{\"colorbar\":{\"outlinewidth\":0,\"ticks\":\"\"}},\"type\":\"scatterpolar\"}],\"scatter\":[{\"marker\":{\"colorbar\":{\"outlinewidth\":0,\"ticks\":\"\"}},\"type\":\"scatter\"}],\"scatterternary\":[{\"marker\":{\"colorbar\":{\"outlinewidth\":0,\"ticks\":\"\"}},\"type\":\"scatterternary\"}],\"surface\":[{\"colorbar\":{\"outlinewidth\":0,\"ticks\":\"\"},\"colorscale\":[[0.0,\"#0d0887\"],[0.1111111111111111,\"#46039f\"],[0.2222222222222222,\"#7201a8\"],[0.3333333333333333,\"#9c179e\"],[0.4444444444444444,\"#bd3786\"],[0.5555555555555556,\"#d8576b\"],[0.6666666666666666,\"#ed7953\"],[0.7777777777777778,\"#fb9f3a\"],[0.8888888888888888,\"#fdca26\"],[1.0,\"#f0f921\"]],\"type\":\"surface\"}],\"table\":[{\"cells\":{\"fill\":{\"color\":\"#EBF0F8\"},\"line\":{\"color\":\"white\"}},\"header\":{\"fill\":{\"color\":\"#C8D4E3\"},\"line\":{\"color\":\"white\"}},\"type\":\"table\"}]},\"layout\":{\"annotationdefaults\":{\"arrowcolor\":\"#2a3f5f\",\"arrowhead\":0,\"arrowwidth\":1},\"autotypenumbers\":\"strict\",\"coloraxis\":{\"colorbar\":{\"outlinewidth\":0,\"ticks\":\"\"}},\"colorscale\":{\"diverging\":[[0,\"#8e0152\"],[0.1,\"#c51b7d\"],[0.2,\"#de77ae\"],[0.3,\"#f1b6da\"],[0.4,\"#fde0ef\"],[0.5,\"#f7f7f7\"],[0.6,\"#e6f5d0\"],[0.7,\"#b8e186\"],[0.8,\"#7fbc41\"],[0.9,\"#4d9221\"],[1,\"#276419\"]],\"sequential\":[[0.0,\"#0d0887\"],[0.1111111111111111,\"#46039f\"],[0.2222222222222222,\"#7201a8\"],[0.3333333333333333,\"#9c179e\"],[0.4444444444444444,\"#bd3786\"],[0.5555555555555556,\"#d8576b\"],[0.6666666666666666,\"#ed7953\"],[0.7777777777777778,\"#fb9f3a\"],[0.8888888888888888,\"#fdca26\"],[1.0,\"#f0f921\"]],\"sequentialminus\":[[0.0,\"#0d0887\"],[0.1111111111111111,\"#46039f\"],[0.2222222222222222,\"#7201a8\"],[0.3333333333333333,\"#9c179e\"],[0.4444444444444444,\"#bd3786\"],[0.5555555555555556,\"#d8576b\"],[0.6666666666666666,\"#ed7953\"],[0.7777777777777778,\"#fb9f3a\"],[0.8888888888888888,\"#fdca26\"],[1.0,\"#f0f921\"]]},\"colorway\":[\"#636efa\",\"#EF553B\",\"#00cc96\",\"#ab63fa\",\"#FFA15A\",\"#19d3f3\",\"#FF6692\",\"#B6E880\",\"#FF97FF\",\"#FECB52\"],\"font\":{\"color\":\"#2a3f5f\"},\"geo\":{\"bgcolor\":\"white\",\"lakecolor\":\"white\",\"landcolor\":\"#E5ECF6\",\"showlakes\":true,\"showland\":true,\"subunitcolor\":\"white\"},\"hoverlabel\":{\"align\":\"left\"},\"hovermode\":\"closest\",\"mapbox\":{\"style\":\"light\"},\"paper_bgcolor\":\"white\",\"plot_bgcolor\":\"#E5ECF6\",\"polar\":{\"angularaxis\":{\"gridcolor\":\"white\",\"linecolor\":\"white\",\"ticks\":\"\"},\"bgcolor\":\"#E5ECF6\",\"radialaxis\":{\"gridcolor\":\"white\",\"linecolor\":\"white\",\"ticks\":\"\"}},\"scene\":{\"xaxis\":{\"backgroundcolor\":\"#E5ECF6\",\"gridcolor\":\"white\",\"gridwidth\":2,\"linecolor\":\"white\",\"showbackground\":true,\"ticks\":\"\",\"zerolinecolor\":\"white\"},\"yaxis\":{\"backgroundcolor\":\"#E5ECF6\",\"gridcolor\":\"white\",\"gridwidth\":2,\"linecolor\":\"white\",\"showbackground\":true,\"ticks\":\"\",\"zerolinecolor\":\"white\"},\"zaxis\":{\"backgroundcolor\":\"#E5ECF6\",\"gridcolor\":\"white\",\"gridwidth\":2,\"linecolor\":\"white\",\"showbackground\":true,\"ticks\":\"\",\"zerolinecolor\":\"white\"}},\"shapedefaults\":{\"line\":{\"color\":\"#2a3f5f\"}},\"ternary\":{\"aaxis\":{\"gridcolor\":\"white\",\"linecolor\":\"white\",\"ticks\":\"\"},\"baxis\":{\"gridcolor\":\"white\",\"linecolor\":\"white\",\"ticks\":\"\"},\"bgcolor\":\"#E5ECF6\",\"caxis\":{\"gridcolor\":\"white\",\"linecolor\":\"white\",\"ticks\":\"\"}},\"title\":{\"x\":0.05},\"xaxis\":{\"automargin\":true,\"gridcolor\":\"white\",\"linecolor\":\"white\",\"ticks\":\"\",\"title\":{\"standoff\":15},\"zerolinecolor\":\"white\",\"zerolinewidth\":2},\"yaxis\":{\"automargin\":true,\"gridcolor\":\"white\",\"linecolor\":\"white\",\"ticks\":\"\",\"title\":{\"standoff\":15},\"zerolinecolor\":\"white\",\"zerolinewidth\":2}}},\"title\":{\"font\":{\"color\":\"#484848\"}},\"xaxis\":{\"gridcolor\":\"#E1E5ED\",\"showgrid\":true,\"tickfont\":{\"color\":\"#505050\"},\"title\":{\"font\":{\"color\":\"#505050\"},\"text\":\"\"},\"zerolinecolor\":\"#E1E5ED\"},\"yaxis\":{\"gridcolor\":\"#E1E5ED\",\"showgrid\":true,\"tickfont\":{\"color\":\"#505050\"},\"title\":{\"font\":{\"color\":\"#505050\"},\"text\":\"\"},\"zerolinecolor\":\"#E1E5ED\"}},                        {\"showLink\": true, \"linkText\": \"Export to plot.ly\", \"plotlyServerURL\": \"https://plot.ly\", \"responsive\": true}                    ).then(function(){\n",
       "                            \n",
       "var gd = document.getElementById('22d58368-04ec-48c5-9f8b-e39af7000adc');\n",
       "var x = new MutationObserver(function (mutations, observer) {{\n",
       "        var display = window.getComputedStyle(gd).display;\n",
       "        if (!display || display === 'none') {{\n",
       "            console.log([gd, 'removed!']);\n",
       "            Plotly.purge(gd);\n",
       "            observer.disconnect();\n",
       "        }}\n",
       "}});\n",
       "\n",
       "// Listen for the removal of the full notebook cells\n",
       "var notebookContainer = gd.closest('#notebook-container');\n",
       "if (notebookContainer) {{\n",
       "    x.observe(notebookContainer, {childList: true});\n",
       "}}\n",
       "\n",
       "// Listen for the clearing of the current output cell\n",
       "var outputEl = gd.closest('.output');\n",
       "if (outputEl) {{\n",
       "    x.observe(outputEl, {childList: true});\n",
       "}}\n",
       "\n",
       "                        })                };                });            </script>        </div>"
      ]
     },
     "metadata": {},
     "output_type": "display_data"
    }
   ],
   "source": [
    "df['sepal_length'].iplot(kind='hist')"
   ]
  },
  {
   "cell_type": "code",
   "execution_count": null,
   "id": "6883521b",
   "metadata": {},
   "outputs": [],
   "source": [
    "df.iplot()"
   ]
  },
  {
   "cell_type": "raw",
   "id": "d0542641",
   "metadata": {},
   "source": [
    "#q3 Write a program to create a class called Circle having an instance member called radius. Provide the following methods in Circle class.\n",
    "\n",
    "_init__() : This method should accept an argument and initialise radius with it\n",
    "\n",
    "¡area(): This method should calculate and return Circle’s area\n",
    "\n",
    "Now create a derived class of Circle called Cylinder having an instance member called height. Provide following methods in Cylinder class\n",
    "\n",
    "_init__() : This method should initialise instance members' radius and height with the parameter passed.\n",
    "\n",
    "area( ): This method should override Circle’s area( ) to calculate and return the area of Cylinder . ( formula: 2πr2+2πrh)\n",
    "\n",
    "volume(): This method should calculate and return Cylinder’s volume(formula: πr2h)"
   ]
  },
  {
   "cell_type": "code",
   "execution_count": 7,
   "id": "cab245c7",
   "metadata": {},
   "outputs": [],
   "source": [
    "#Ans:\n",
    "\n",
    "class circle:\n",
    "    def __init__(self,radius):#self is the pointer which can be reserved keyword, __init__ is the constructor\n",
    "        self.radius=radius# __init__ help to pass the data to the circle and it also intialize the class circle\n",
    "        \n",
    "    def area(self):\n",
    "        area=(3.14*self.radius**2)\n",
    "        return area\n",
    "        \n",
    "class cylinder(circle):\n",
    "    def __init__(self,radius,height):# radius, height are object variable or instance variable\n",
    "        self.radius=radius\n",
    "        self.height=height\n",
    "        \n",
    "    def area(self):#area is called the method of the class cylinder\n",
    "        area = ((2*3.14*self.radius**2)+(2*3.14*self.radius*self.height))\n",
    "        return area\n",
    "    \n",
    "    def volume(self):# volume is called the method of the class cylinder\n",
    "        volume=(3.14*self.radius*2*self.height)\n",
    "        return volume\n",
    "        "
   ]
  },
  {
   "cell_type": "code",
   "execution_count": 8,
   "id": "c27b271c",
   "metadata": {},
   "outputs": [
    {
     "data": {
      "text/plain": [
       "628.0"
      ]
     },
     "execution_count": 8,
     "metadata": {},
     "output_type": "execute_result"
    }
   ],
   "source": [
    "cy=cylinder(2,50)# cy is the object of the class cylinder\n",
    "cy.volume()# volume of the cylinder\n"
   ]
  },
  {
   "cell_type": "code",
   "execution_count": 9,
   "id": "e972530b",
   "metadata": {},
   "outputs": [
    {
     "data": {
      "text/plain": [
       "653.12"
      ]
     },
     "execution_count": 9,
     "metadata": {},
     "output_type": "execute_result"
    }
   ],
   "source": [
    "cy.area()# area of the cylinder( here the methods area of the cylinder is overwridden by the area of the circle)"
   ]
  },
  {
   "cell_type": "code",
   "execution_count": 10,
   "id": "d9b1b8fb",
   "metadata": {},
   "outputs": [
    {
     "data": {
      "text/plain": [
       "12.56"
      ]
     },
     "execution_count": 10,
     "metadata": {},
     "output_type": "execute_result"
    }
   ],
   "source": [
    "cr=circle(2) # cr is the object of the class circle\n",
    "cr.area()# area of the circle "
   ]
  },
  {
   "cell_type": "raw",
   "id": "2fc46f9e",
   "metadata": {},
   "source": [
    "q4.Turn a single number into single digits Python\n",
    "Like if we are passing 1234\n",
    "So there should be iteration until we are not getting single digit\n",
    "There should be a addition of number \n",
    "\n",
    "For example : 1+2+3+4=10\n",
    "           Then:   1+0=1\n",
    "\n",
    "So here 1 is single digit number"
   ]
  },
  {
   "cell_type": "code",
   "execution_count": 11,
   "id": "e2c42393",
   "metadata": {},
   "outputs": [
    {
     "name": "stdout",
     "output_type": "stream",
     "text": [
      "the sum of the integers given are 10\n",
      "1\n"
     ]
    }
   ],
   "source": [
    "#Ans\n",
    "#1 Approach\n",
    "a=1234\n",
    "b=str(a)\n",
    "l=[]\n",
    "for i in b:\n",
    "    l.append(i)\n",
    "c=list(map(int,l))\n",
    "sum1=0\n",
    "for i in c:\n",
    "    sum1+=i\n",
    "print('the sum of the integers given are',sum1)\n",
    "\n",
    "sum2=0\n",
    "while(sum1>0):\n",
    "    num=sum1%10\n",
    "    sum2+=num\n",
    "    sum1=sum1//10\n",
    "print(sum2)\n",
    "    "
   ]
  },
  {
   "cell_type": "code",
   "execution_count": 12,
   "id": "c6d5d7ac",
   "metadata": {},
   "outputs": [
    {
     "name": "stdout",
     "output_type": "stream",
     "text": [
      "the sum of the numbers are 10\n",
      "1\n"
     ]
    }
   ],
   "source": [
    "#Ans\n",
    "#2 Approach\n",
    "n=1234\n",
    "\n",
    "add=0\n",
    "while(n>0):\n",
    "    last=n%10\n",
    "    add+=last\n",
    "    n=n//10\n",
    "print('the sum of the numbers are',add)\n",
    "\n",
    "sum2=0\n",
    "while (add>0):\n",
    "    last1=add%10\n",
    "    sum2+=last1\n",
    "    add=add//10\n",
    "print(sum2)    \n",
    "\n"
   ]
  },
  {
   "cell_type": "code",
   "execution_count": 13,
   "id": "601c7120",
   "metadata": {},
   "outputs": [
    {
     "data": {
      "text/plain": [
       "4"
      ]
     },
     "execution_count": 13,
     "metadata": {},
     "output_type": "execute_result"
    }
   ],
   "source": [
    "1234%10 # will get the last digit"
   ]
  },
  {
   "cell_type": "code",
   "execution_count": 14,
   "id": "785b7bca",
   "metadata": {},
   "outputs": [
    {
     "data": {
      "text/plain": [
       "123.4"
      ]
     },
     "execution_count": 14,
     "metadata": {},
     "output_type": "execute_result"
    }
   ],
   "source": [
    "1234/10 # division with the float number (means with decimal digits)"
   ]
  },
  {
   "cell_type": "code",
   "execution_count": 15,
   "id": "b4767e03",
   "metadata": {},
   "outputs": [
    {
     "data": {
      "text/plain": [
       "123"
      ]
     },
     "execution_count": 15,
     "metadata": {},
     "output_type": "execute_result"
    }
   ],
   "source": [
    "1234//10 # division with only decimal number ( means no decimal digits)"
   ]
  },
  {
   "cell_type": "code",
   "execution_count": 16,
   "id": "e762a2e7",
   "metadata": {},
   "outputs": [],
   "source": [
    "#Print the pair of the indexes which on addition gives the value of the target, along with their count and their index position"
   ]
  },
  {
   "cell_type": "code",
   "execution_count": 17,
   "id": "53d8222b",
   "metadata": {},
   "outputs": [
    {
     "name": "stdout",
     "output_type": "stream",
     "text": [
      "[0, 5]\n",
      "[1, 6]\n",
      "[1, 10]\n",
      "[2, 2]\n",
      "[3, 5]\n",
      "[4, 7]\n",
      "[5, 3]\n",
      "[6, 1]\n",
      "[7, 4]\n",
      "[10, 1]\n",
      "the total number of pairs are 10\n"
     ]
    }
   ],
   "source": [
    "l=[20,70,40,20,50,60,10,30,80,90,10]\n",
    "count=0\n",
    "length=len(l)\n",
    "target=80\n",
    "for i in range(length):\n",
    "    for j in range(1,length):\n",
    "        if target==l[i]+l[j]:\n",
    "            count += 1\n",
    "            print([i,j])\n",
    "print('the total number of pairs are',count)"
   ]
  },
  {
   "cell_type": "code",
   "execution_count": 1,
   "id": "4dafaa49",
   "metadata": {},
   "outputs": [],
   "source": [
    "#write a pop function by your own"
   ]
  },
  {
   "cell_type": "code",
   "execution_count": 2,
   "id": "5ec9c76f",
   "metadata": {},
   "outputs": [],
   "source": [
    "l=[1,23,4,5]\n",
    "def pop_new(a):\n",
    "    if type(a)==list:\n",
    "        global l\n",
    "        l=[ i for i in a[:len(l)-1:1]]\n",
    "        return a\n",
    "    else:\n",
    "        print('there is some error')"
   ]
  },
  {
   "cell_type": "code",
   "execution_count": 3,
   "id": "d8ea003b",
   "metadata": {},
   "outputs": [
    {
     "data": {
      "text/plain": [
       "[1, 23, 4, 5]"
      ]
     },
     "execution_count": 3,
     "metadata": {},
     "output_type": "execute_result"
    }
   ],
   "source": [
    "pop_new([1,23,4,5])"
   ]
  },
  {
   "cell_type": "code",
   "execution_count": 4,
   "id": "b7429db2",
   "metadata": {},
   "outputs": [
    {
     "data": {
      "text/plain": [
       "[1, 23, 4]"
      ]
     },
     "execution_count": 4,
     "metadata": {},
     "output_type": "execute_result"
    }
   ],
   "source": [
    "l"
   ]
  },
  {
   "cell_type": "code",
   "execution_count": 5,
   "id": "e7e64054",
   "metadata": {},
   "outputs": [],
   "source": [
    "#write the code to reverse a string using for loop and while loop"
   ]
  },
  {
   "cell_type": "code",
   "execution_count": 8,
   "id": "d8146351",
   "metadata": {},
   "outputs": [
    {
     "name": "stdout",
     "output_type": "stream",
     "text": [
      "nahseez"
     ]
    }
   ],
   "source": [
    "s='zeeshan'\n",
    "for i in range(len(s)-1,-1,-1):\n",
    "    print(s[i],end='')"
   ]
  },
  {
   "cell_type": "code",
   "execution_count": 11,
   "id": "a00b99f7",
   "metadata": {},
   "outputs": [
    {
     "name": "stdout",
     "output_type": "stream",
     "text": [
      "nahseez"
     ]
    }
   ],
   "source": [
    "s='zeeshan'\n",
    "i=-1\n",
    "last=len(s)\n",
    "\n",
    "while -i<=last:\n",
    "    print(s[i], end='')\n",
    "    i=i-1"
   ]
  },
  {
   "cell_type": "code",
   "execution_count": null,
   "id": "62ea8b43",
   "metadata": {},
   "outputs": [],
   "source": [
    "# write the code to filter the even number in a list using lambda function"
   ]
  },
  {
   "cell_type": "code",
   "execution_count": 13,
   "id": "60435cc2",
   "metadata": {},
   "outputs": [
    {
     "data": {
      "text/plain": [
       "[2, 4, 6, 8, 10]"
      ]
     },
     "execution_count": 13,
     "metadata": {},
     "output_type": "execute_result"
    }
   ],
   "source": [
    "l=[1,2,3,4,5,6,7,8,9,10]\n",
    "n=lambda x:[i for i in x if i%2==0]\n",
    "n(l)"
   ]
  },
  {
   "cell_type": "code",
   "execution_count": 15,
   "id": "223ef6c2",
   "metadata": {},
   "outputs": [
    {
     "data": {
      "text/plain": [
       "[2, 4, 6, 8, 10]"
      ]
     },
     "execution_count": 15,
     "metadata": {},
     "output_type": "execute_result"
    }
   ],
   "source": [
    "[i for i in l if i%2==0]"
   ]
  },
  {
   "cell_type": "code",
   "execution_count": 22,
   "id": "203ef203",
   "metadata": {},
   "outputs": [],
   "source": [
    "def even(l):\n",
    "    j=[]\n",
    "    for i in l:\n",
    "        if i%2==0:\n",
    "            j.append(i)\n",
    "    return j"
   ]
  },
  {
   "cell_type": "code",
   "execution_count": 23,
   "id": "bd5a74f4",
   "metadata": {},
   "outputs": [
    {
     "data": {
      "text/plain": [
       "[2, 4, 6, 8, 10]"
      ]
     },
     "execution_count": 23,
     "metadata": {},
     "output_type": "execute_result"
    }
   ],
   "source": [
    "even(l)"
   ]
  },
  {
   "cell_type": "code",
   "execution_count": 14,
   "id": "23f90fb2",
   "metadata": {},
   "outputs": [],
   "source": [
    "#write the code to print the prime numbers from 1 to 100 using lambda function"
   ]
  },
  {
   "cell_type": "code",
   "execution_count": 26,
   "id": "2594d94e",
   "metadata": {},
   "outputs": [
    {
     "data": {
      "text/plain": [
       "[0,\n",
       " 3,\n",
       " 6,\n",
       " 9,\n",
       " 12,\n",
       " 15,\n",
       " 18,\n",
       " 21,\n",
       " 24,\n",
       " 27,\n",
       " 30,\n",
       " 33,\n",
       " 36,\n",
       " 39,\n",
       " 42,\n",
       " 45,\n",
       " 48,\n",
       " 51,\n",
       " 54,\n",
       " 57,\n",
       " 60,\n",
       " 63,\n",
       " 66,\n",
       " 69,\n",
       " 72,\n",
       " 75,\n",
       " 78,\n",
       " 81,\n",
       " 84,\n",
       " 87,\n",
       " 90,\n",
       " 93,\n",
       " 96,\n",
       " 99]"
      ]
     },
     "execution_count": 26,
     "metadata": {},
     "output_type": "execute_result"
    }
   ],
   "source": [
    "n=lambda x:[ i for i in range(100) if i%3==0]\n",
    "n(5)"
   ]
  },
  {
   "cell_type": "code",
   "execution_count": 27,
   "id": "32adda57",
   "metadata": {},
   "outputs": [],
   "source": [
    "#write the code to print the prime square of number using lambda function"
   ]
  },
  {
   "cell_type": "code",
   "execution_count": 30,
   "id": "f9b642d7",
   "metadata": {},
   "outputs": [
    {
     "data": {
      "text/plain": [
       "[0, 1, 4, 9, 16, 25, 36, 49, 64, 81]"
      ]
     },
     "execution_count": 30,
     "metadata": {},
     "output_type": "execute_result"
    }
   ],
   "source": [
    "n=lambda x: [i*i for i in range(10)]\n",
    "n(8)"
   ]
  },
  {
   "cell_type": "markdown",
   "id": "86405205",
   "metadata": {},
   "source": [
    "#write a lambda fuction which  takes multiple datatypes and give only strings"
   ]
  },
  {
   "cell_type": "code",
   "execution_count": 4,
   "id": "2f6711a0",
   "metadata": {},
   "outputs": [
    {
     "data": {
      "text/plain": [
       "['df', 'zeeshan']"
      ]
     },
     "execution_count": 4,
     "metadata": {},
     "output_type": "execute_result"
    }
   ],
   "source": [
    "n=lambda *x:[i for i in x if type(i)==str]\n",
    "n('df','zeeshan',25,5,[1,23,4,5],(1,23,4))"
   ]
  },
  {
   "cell_type": "markdown",
   "id": "5542ac6d",
   "metadata": {},
   "source": [
    "#write a lambda function to show the result whether even or odd\n"
   ]
  },
  {
   "cell_type": "code",
   "execution_count": 3,
   "id": "0626092e",
   "metadata": {},
   "outputs": [
    {
     "name": "stdout",
     "output_type": "stream",
     "text": [
      "the number is even\n",
      "the number is odd\n"
     ]
    }
   ],
   "source": [
    "a=lambda x :'the number is even' if x%2==0 else 'the number is odd' \n",
    "print(a(20))\n",
    "print(a(21))"
   ]
  },
  {
   "cell_type": "raw",
   "id": "a0a6856e",
   "metadata": {},
   "source": [
    "# write a lambda function to print whether the number is positive or negative"
   ]
  },
  {
   "cell_type": "code",
   "execution_count": 1,
   "id": "84800fef",
   "metadata": {},
   "outputs": [
    {
     "name": "stdout",
     "output_type": "stream",
     "text": [
      "the number is negative\n",
      "the number is positive\n"
     ]
    }
   ],
   "source": [
    "b=lambda x : 'the number is negative' if x<0 else 'the number is positive'\n",
    "print(b(-1))\n",
    "print(b(10))"
   ]
  },
  {
   "cell_type": "code",
   "execution_count": 11,
   "id": "6eabe4bf",
   "metadata": {},
   "outputs": [],
   "source": [
    "x=['stue','kfjd',256,60,(20,30,40)]"
   ]
  },
  {
   "cell_type": "code",
   "execution_count": 31,
   "id": "9b325893",
   "metadata": {},
   "outputs": [],
   "source": [
    "x=('khan','sharrif',256,60,[20,30,40])"
   ]
  },
  {
   "cell_type": "code",
   "execution_count": 33,
   "id": "47e4342b",
   "metadata": {},
   "outputs": [
    {
     "data": {
      "text/plain": [
       "['khan is a string', 'sharrif is a string']"
      ]
     },
     "execution_count": 33,
     "metadata": {},
     "output_type": "execute_result"
    }
   ],
   "source": [
    "[i+' is a string' for i in x if type(i)==str ]"
   ]
  },
  {
   "cell_type": "markdown",
   "id": "87c15fd9",
   "metadata": {},
   "source": [
    "#dictionary can have only immutable elements as key ........and if we have duplicate keys in a dictionary the last is taken"
   ]
  },
  {
   "cell_type": "code",
   "execution_count": 2,
   "id": "784741cc",
   "metadata": {},
   "outputs": [],
   "source": [
    "d={'key':256,'key1':[1,2,3,4,5],'key':'checker'}"
   ]
  },
  {
   "cell_type": "code",
   "execution_count": 3,
   "id": "9ba1e969",
   "metadata": {},
   "outputs": [
    {
     "data": {
      "text/plain": [
       "'checker'"
      ]
     },
     "execution_count": 3,
     "metadata": {},
     "output_type": "execute_result"
    }
   ],
   "source": [
    "d['key']"
   ]
  },
  {
   "cell_type": "code",
   "execution_count": 137,
   "id": "0f3e8635",
   "metadata": {},
   "outputs": [
    {
     "data": {
      "text/plain": [
       "{'key': 'checker', 'key1': [1, 2, 3, 4, 5]}"
      ]
     },
     "execution_count": 137,
     "metadata": {},
     "output_type": "execute_result"
    }
   ],
   "source": [
    "d # Here we have the duplicate key so the last part is taken into consideration"
   ]
  },
  {
   "cell_type": "code",
   "execution_count": 138,
   "id": "b340631d",
   "metadata": {},
   "outputs": [],
   "source": [
    "#Dictionary keys will be only immutable entities like string and tuple int but not the list,set and dictionary itself"
   ]
  },
  {
   "cell_type": "code",
   "execution_count": 141,
   "id": "6a75413d",
   "metadata": {},
   "outputs": [
    {
     "ename": "TypeError",
     "evalue": "unhashable type: 'list'",
     "output_type": "error",
     "traceback": [
      "\u001b[1;31m---------------------------------------------------------------------------\u001b[0m",
      "\u001b[1;31mTypeError\u001b[0m                                 Traceback (most recent call last)",
      "Input \u001b[1;32mIn [141]\u001b[0m, in \u001b[0;36m<cell line: 1>\u001b[1;34m()\u001b[0m\n\u001b[1;32m----> 1\u001b[0m dd\u001b[38;5;241m=\u001b[39m{\u001b[38;5;124m'\u001b[39m\u001b[38;5;124mkey\u001b[39m\u001b[38;5;124m'\u001b[39m:\u001b[38;5;241m25\u001b[39m,\u001b[38;5;241m25\u001b[39m:\u001b[38;5;241m25\u001b[39m,\u001b[38;5;124m'\u001b[39m\u001b[38;5;124mstring\u001b[39m\u001b[38;5;124m'\u001b[39m:\u001b[38;5;241m265\u001b[39m,(\u001b[38;5;241m1\u001b[39m,\u001b[38;5;241m23\u001b[39m,\u001b[38;5;241m4\u001b[39m):\u001b[38;5;241m65\u001b[39m,[\u001b[38;5;241m1\u001b[39m,\u001b[38;5;241m2\u001b[39m,\u001b[38;5;241m3\u001b[39m,\u001b[38;5;241m4\u001b[39m]:\u001b[38;5;241m25\u001b[39m,{\u001b[38;5;124m\"\u001b[39m\u001b[38;5;124mkey\u001b[39m\u001b[38;5;124m\"\u001b[39m:\u001b[38;5;241m25\u001b[39m}:\u001b[38;5;241m36\u001b[39m}\n",
      "\u001b[1;31mTypeError\u001b[0m: unhashable type: 'list'"
     ]
    }
   ],
   "source": [
    "dd={'key':25,25:25,'string':265,(1,23,4):65,[1,2,3,4]:25,{\"key\":25}:36}#key cannot be list ,set and dictionary itself"
   ]
  },
  {
   "cell_type": "code",
   "execution_count": 148,
   "id": "dd6fc9be",
   "metadata": {},
   "outputs": [],
   "source": [
    "def test():\n",
    "    print('this is the Nonedatatype')"
   ]
  },
  {
   "cell_type": "code",
   "execution_count": 151,
   "id": "db8977ad",
   "metadata": {},
   "outputs": [
    {
     "name": "stdout",
     "output_type": "stream",
     "text": [
      "this is the Nonedatatype\n"
     ]
    },
    {
     "ename": "TypeError",
     "evalue": "unsupported operand type(s) for +: 'NoneType' and 'str'",
     "output_type": "error",
     "traceback": [
      "\u001b[1;31m---------------------------------------------------------------------------\u001b[0m",
      "\u001b[1;31mTypeError\u001b[0m                                 Traceback (most recent call last)",
      "Input \u001b[1;32mIn [151]\u001b[0m, in \u001b[0;36m<cell line: 1>\u001b[1;34m()\u001b[0m\n\u001b[1;32m----> 1\u001b[0m \u001b[43mtest\u001b[49m\u001b[43m(\u001b[49m\u001b[43m)\u001b[49m\u001b[38;5;241;43m+\u001b[39;49m\u001b[38;5;124;43m'\u001b[39;49m\u001b[38;5;124;43mzeeshan\u001b[39;49m\u001b[38;5;124;43m'\u001b[39;49m\n",
      "\u001b[1;31mTypeError\u001b[0m: unsupported operand type(s) for +: 'NoneType' and 'str'"
     ]
    }
   ],
   "source": [
    "test()+'zeeshan'#You cannot add the None-type with the string"
   ]
  },
  {
   "cell_type": "code",
   "execution_count": 153,
   "id": "78c6bdd2",
   "metadata": {},
   "outputs": [],
   "source": [
    "def test1(a):\n",
    "    print(a)"
   ]
  },
  {
   "cell_type": "code",
   "execution_count": 158,
   "id": "46889ef9",
   "metadata": {},
   "outputs": [
    {
     "name": "stdout",
     "output_type": "stream",
     "text": [
      "2\n"
     ]
    },
    {
     "data": {
      "text/plain": [
       "NoneType"
      ]
     },
     "execution_count": 158,
     "metadata": {},
     "output_type": "execute_result"
    }
   ],
   "source": [
    "type(test1(2))# this is the None type"
   ]
  },
  {
   "cell_type": "code",
   "execution_count": 156,
   "id": "2e90ec76",
   "metadata": {},
   "outputs": [
    {
     "name": "stdout",
     "output_type": "stream",
     "text": [
      "2\n"
     ]
    },
    {
     "ename": "TypeError",
     "evalue": "unsupported operand type(s) for +: 'NoneType' and 'int'",
     "output_type": "error",
     "traceback": [
      "\u001b[1;31m---------------------------------------------------------------------------\u001b[0m",
      "\u001b[1;31mTypeError\u001b[0m                                 Traceback (most recent call last)",
      "Input \u001b[1;32mIn [156]\u001b[0m, in \u001b[0;36m<cell line: 1>\u001b[1;34m()\u001b[0m\n\u001b[1;32m----> 1\u001b[0m \u001b[43mtest1\u001b[49m\u001b[43m(\u001b[49m\u001b[38;5;241;43m2\u001b[39;49m\u001b[43m)\u001b[49m\u001b[38;5;241;43m+\u001b[39;49m\u001b[38;5;241;43m2\u001b[39;49m\n",
      "\u001b[1;31mTypeError\u001b[0m: unsupported operand type(s) for +: 'NoneType' and 'int'"
     ]
    }
   ],
   "source": [
    "test1(2)+2 #Cannot add None type with the integer"
   ]
  },
  {
   "cell_type": "code",
   "execution_count": 159,
   "id": "5941e3ac",
   "metadata": {},
   "outputs": [],
   "source": [
    "def test1(a):\n",
    "    return a"
   ]
  },
  {
   "cell_type": "code",
   "execution_count": 161,
   "id": "bfac40bf",
   "metadata": {},
   "outputs": [
    {
     "data": {
      "text/plain": [
       "4"
      ]
     },
     "execution_count": 161,
     "metadata": {},
     "output_type": "execute_result"
    }
   ],
   "source": [
    "test1(2)+2 #You can add the number 2 with the function since it is int datatype because you have used return statement"
   ]
  },
  {
   "cell_type": "code",
   "execution_count": 162,
   "id": "34f54076",
   "metadata": {},
   "outputs": [],
   "source": [
    "def test3(a,b,c,d):\n",
    "    return a,b,c,d"
   ]
  },
  {
   "cell_type": "code",
   "execution_count": 164,
   "id": "e038808d",
   "metadata": {},
   "outputs": [
    {
     "data": {
      "text/plain": [
       "(5, 6, 8, 9)"
      ]
     },
     "execution_count": 164,
     "metadata": {},
     "output_type": "execute_result"
    }
   ],
   "source": [
    "test3(5,6,8,9)# datatype will be tuple if we pass multiple arguments"
   ]
  },
  {
   "cell_type": "code",
   "execution_count": 165,
   "id": "c5a1c91b",
   "metadata": {},
   "outputs": [
    {
     "data": {
      "text/plain": [
       "tuple"
      ]
     },
     "execution_count": 165,
     "metadata": {},
     "output_type": "execute_result"
    }
   ],
   "source": [
    "type(test3(5,6,7,8))"
   ]
  },
  {
   "cell_type": "code",
   "execution_count": 166,
   "id": "d7a62d1b",
   "metadata": {},
   "outputs": [],
   "source": [
    "def test4(*a):\n",
    "    return a"
   ]
  },
  {
   "cell_type": "code",
   "execution_count": 168,
   "id": "9fcab6af",
   "metadata": {},
   "outputs": [
    {
     "data": {
      "text/plain": [
       "(2,)"
      ]
     },
     "execution_count": 168,
     "metadata": {},
     "output_type": "execute_result"
    }
   ],
   "source": [
    "test4(2)# the datatype will be tuple since we said that we will pass multiple arguments"
   ]
  },
  {
   "cell_type": "code",
   "execution_count": 172,
   "id": "c0433623",
   "metadata": {},
   "outputs": [],
   "source": [
    "def test5(*a):#will pass every datatype but i need to get only list\n",
    "    j=[]\n",
    "    for i in a:\n",
    "        if type(i)==list:\n",
    "            j.append(i)\n",
    "    return j"
   ]
  },
  {
   "cell_type": "code",
   "execution_count": 171,
   "id": "a7f6b688",
   "metadata": {},
   "outputs": [
    {
     "data": {
      "text/plain": [
       "[[1, 2, 3, 4, 5]]"
      ]
     },
     "execution_count": 171,
     "metadata": {},
     "output_type": "execute_result"
    }
   ],
   "source": [
    "test5(2,3,4,5,6,'sudhd',[1,2,3,4,5])"
   ]
  },
  {
   "cell_type": "code",
   "execution_count": 175,
   "id": "6296e896",
   "metadata": {},
   "outputs": [],
   "source": [
    "def test6(*a):#will pass every datatype but i need to get only int in a list\n",
    "    j=[]\n",
    "    for i in a:\n",
    "        if type(i)==int:\n",
    "            j.append(i)\n",
    "    return j"
   ]
  },
  {
   "cell_type": "code",
   "execution_count": 176,
   "id": "01bce8cf",
   "metadata": {},
   "outputs": [
    {
     "data": {
      "text/plain": [
       "[1, 2, 3, 4, 5, 6]"
      ]
     },
     "execution_count": 176,
     "metadata": {},
     "output_type": "execute_result"
    }
   ],
   "source": [
    "test6(1,2,3,4,5,6,[1,23,4,5],'sudh')"
   ]
  },
  {
   "cell_type": "code",
   "execution_count": 177,
   "id": "17913425",
   "metadata": {},
   "outputs": [],
   "source": [
    "def test7(*a,b):\n",
    "    return a,b"
   ]
  },
  {
   "cell_type": "code",
   "execution_count": 179,
   "id": "21d8c7a0",
   "metadata": {},
   "outputs": [
    {
     "data": {
      "text/plain": [
       "((1, 23, 4, 'dkfjkdf'), 8)"
      ]
     },
     "execution_count": 179,
     "metadata": {},
     "output_type": "execute_result"
    }
   ],
   "source": [
    "test7(1,23,4,'dkfjkdf',b=8)#You have to specify the value of b separately the remaining will be considered as tuple "
   ]
  },
  {
   "cell_type": "code",
   "execution_count": 184,
   "id": "42f2a05d",
   "metadata": {},
   "outputs": [
    {
     "ename": "TypeError",
     "evalue": "test7() missing 1 required keyword-only argument: 'b'",
     "output_type": "error",
     "traceback": [
      "\u001b[1;31m---------------------------------------------------------------------------\u001b[0m",
      "\u001b[1;31mTypeError\u001b[0m                                 Traceback (most recent call last)",
      "Input \u001b[1;32mIn [184]\u001b[0m, in \u001b[0;36m<cell line: 1>\u001b[1;34m()\u001b[0m\n\u001b[1;32m----> 1\u001b[0m \u001b[43mtest7\u001b[49m\u001b[43m(\u001b[49m\u001b[38;5;241;43m1\u001b[39;49m\u001b[43m,\u001b[49m\u001b[38;5;241;43m2\u001b[39;49m\u001b[43m,\u001b[49m\u001b[38;5;241;43m3\u001b[39;49m\u001b[43m,\u001b[49m\u001b[38;5;241;43m4\u001b[39;49m\u001b[43m,\u001b[49m\u001b[38;5;241;43m56\u001b[39;49m\u001b[43m)\u001b[49m\n",
      "\u001b[1;31mTypeError\u001b[0m: test7() missing 1 required keyword-only argument: 'b'"
     ]
    }
   ],
   "source": [
    "test7(1,2,3,4,56)#Must specify b separately"
   ]
  },
  {
   "cell_type": "code",
   "execution_count": 180,
   "id": "0ffadcc9",
   "metadata": {},
   "outputs": [],
   "source": [
    "def test8(b,*a):\n",
    "    return b,a"
   ]
  },
  {
   "cell_type": "code",
   "execution_count": 182,
   "id": "fba178a1",
   "metadata": {},
   "outputs": [
    {
     "data": {
      "text/plain": [
       "(1, (23, 4, 5))"
      ]
     },
     "execution_count": 182,
     "metadata": {},
     "output_type": "execute_result"
    }
   ],
   "source": [
    "test8(1,23,4,5)# No need to specify b separately"
   ]
  },
  {
   "cell_type": "code",
   "execution_count": 189,
   "id": "ceb5d7b8",
   "metadata": {},
   "outputs": [],
   "source": [
    "def test9(**b):#Must give the value in the form of key=25 .........\n",
    "    return b"
   ]
  },
  {
   "cell_type": "code",
   "execution_count": 190,
   "id": "a126ec9a",
   "metadata": {},
   "outputs": [
    {
     "data": {
      "text/plain": [
       "{'key': 25, 'key1': 65, 'key2': [1, 23, 4]}"
      ]
     },
     "execution_count": 190,
     "metadata": {},
     "output_type": "execute_result"
    }
   ],
   "source": [
    "test9(key=25,key1=65,key2=[1,23,4])"
   ]
  },
  {
   "cell_type": "code",
   "execution_count": 195,
   "id": "a3eab9da",
   "metadata": {},
   "outputs": [
    {
     "ename": "SyntaxError",
     "evalue": "invalid syntax (2247217659.py, line 1)",
     "output_type": "error",
     "traceback": [
      "\u001b[1;36m  Input \u001b[1;32mIn [195]\u001b[1;36m\u001b[0m\n\u001b[1;33m    def test10(**c,*a):# You cannot specify keywords arguments at the begining\u001b[0m\n\u001b[1;37m                   ^\u001b[0m\n\u001b[1;31mSyntaxError\u001b[0m\u001b[1;31m:\u001b[0m invalid syntax\n"
     ]
    }
   ],
   "source": [
    "def test10(**c,*a):# You cannot specify keywords arguments at the begining \n",
    "    return c,a"
   ]
  },
  {
   "cell_type": "code",
   "execution_count": 6,
   "id": "32946dce",
   "metadata": {},
   "outputs": [
    {
     "ename": "SyntaxError",
     "evalue": "invalid syntax (474101230.py, line 1)",
     "output_type": "error",
     "traceback": [
      "\u001b[1;36m  Input \u001b[1;32mIn [6]\u001b[1;36m\u001b[0m\n\u001b[1;33m    def test10(*c,**a,d):# You cannot specify a arguments at the last\u001b[0m\n\u001b[1;37m                      ^\u001b[0m\n\u001b[1;31mSyntaxError\u001b[0m\u001b[1;31m:\u001b[0m invalid syntax\n"
     ]
    }
   ],
   "source": [
    "def test10(*c,**a,d):# You cannot specify a arguments at the last \n",
    "    return c,a,d"
   ]
  },
  {
   "cell_type": "code",
   "execution_count": 201,
   "id": "20c009d3",
   "metadata": {},
   "outputs": [],
   "source": [
    "def test11(c,*d,**e):\n",
    "    return c,d,e"
   ]
  },
  {
   "cell_type": "code",
   "execution_count": 202,
   "id": "7a92576d",
   "metadata": {},
   "outputs": [
    {
     "data": {
      "text/plain": [
       "(12, (256, 56, 89), {'key': 58})"
      ]
     },
     "execution_count": 202,
     "metadata": {},
     "output_type": "execute_result"
    }
   ],
   "source": [
    "test11(12,256,56,89,key=58)"
   ]
  },
  {
   "cell_type": "code",
   "execution_count": 5,
   "id": "31f39db5",
   "metadata": {},
   "outputs": [],
   "source": [
    "def test123(*c,d,**e):#positional argument follows keyword argument\n",
    "\n",
    "    return c,d,e"
   ]
  },
  {
   "cell_type": "code",
   "execution_count": 6,
   "id": "a3401bc4",
   "metadata": {},
   "outputs": [
    {
     "data": {
      "text/plain": [
       "((12, 256), 56, {'key': 58})"
      ]
     },
     "execution_count": 6,
     "metadata": {},
     "output_type": "execute_result"
    }
   ],
   "source": [
    "test123(12,256,d=56,key=58)"
   ]
  },
  {
   "cell_type": "markdown",
   "id": "dd44e9da",
   "metadata": {},
   "source": [
    "# # Exception Handling"
   ]
  },
  {
   "cell_type": "code",
   "execution_count": 20,
   "id": "75922bc4",
   "metadata": {},
   "outputs": [],
   "source": [
    "#there are two type of error ....\n",
    "#1.Compile time error-syntax error(this will not handled by try and  except since there was syntax error )\n",
    "#2.Run time error(this will be handled by try and except)\n",
    "#try and except block will only handle run time error\n",
    "\n"
   ]
  },
  {
   "cell_type": "code",
   "execution_count": 23,
   "id": "9f2e84d4",
   "metadata": {},
   "outputs": [
    {
     "ename": "SyntaxError",
     "evalue": "unexpected EOF while parsing (3798123116.py, line 1)",
     "output_type": "error",
     "traceback": [
      "\u001b[1;36m  Input \u001b[1;32mIn [23]\u001b[1;36m\u001b[0m\n\u001b[1;33m    print('this is the mistake'#this is the syntax error\u001b[0m\n\u001b[1;37m                                                        ^\u001b[0m\n\u001b[1;31mSyntaxError\u001b[0m\u001b[1;31m:\u001b[0m unexpected EOF while parsing\n"
     ]
    }
   ],
   "source": [
    "print('this is the mistake'#this is the syntax error"
   ]
  },
  {
   "cell_type": "code",
   "execution_count": 72,
   "id": "f2d05295",
   "metadata": {},
   "outputs": [
    {
     "name": "stdout",
     "output_type": "stream",
     "text": [
      "this is my handler\n",
      "this is the finally block\n"
     ]
    }
   ],
   "source": [
    "try:\n",
    "    f=open('test.csv','r')\n",
    "    f.write('iam writin into the file test')\n",
    "    print('I have written in my test file')\n",
    "except:\n",
    "    print('this is my handler')#Except block will executed if there is error in the code written within the try block\n",
    "else:\n",
    "    print('this is my else block')#this will get executed if there is no error in the code written within the try block\n",
    "finally:\n",
    "    print('this is the finally block')#this will get executed all the time"
   ]
  },
  {
   "cell_type": "code",
   "execution_count": 1,
   "id": "dc7e38b8",
   "metadata": {},
   "outputs": [
    {
     "data": {
      "text/plain": [
       "[0, 1, 8, 27, 64, 125, 216, 343, 512, 729, 1000]"
      ]
     },
     "execution_count": 1,
     "metadata": {},
     "output_type": "execute_result"
    }
   ],
   "source": [
    "[i**3 for i in range(0,11)]"
   ]
  },
  {
   "cell_type": "code",
   "execution_count": 20,
   "id": "e7130cc0",
   "metadata": {},
   "outputs": [
    {
     "data": {
      "text/plain": [
       "[0, 1, 8, 27, 64, 125, 216, 343, 512, 729]"
      ]
     },
     "execution_count": 20,
     "metadata": {},
     "output_type": "execute_result"
    }
   ],
   "source": [
    "list(map(lambda x: x**3,range(10)))"
   ]
  },
  {
   "cell_type": "code",
   "execution_count": 147,
   "id": "f77c5a7a",
   "metadata": {},
   "outputs": [
    {
     "data": {
      "text/plain": [
       "[0, 1, 8, 27, 64, 125, 216, 343, 512, 729]"
      ]
     },
     "execution_count": 147,
     "metadata": {},
     "output_type": "execute_result"
    }
   ],
   "source": [
    "n=lambda x:[i**3 for i in range(10)]\n",
    "n(8)"
   ]
  },
  {
   "cell_type": "code",
   "execution_count": 29,
   "id": "3907354d",
   "metadata": {},
   "outputs": [
    {
     "ename": "UnsupportedOperation",
     "evalue": "not writable",
     "output_type": "error",
     "traceback": [
      "\u001b[1;31m---------------------------------------------------------------------------\u001b[0m",
      "\u001b[1;31mUnsupportedOperation\u001b[0m                      Traceback (most recent call last)",
      "Input \u001b[1;32mIn [29]\u001b[0m, in \u001b[0;36m<cell line: 2>\u001b[1;34m()\u001b[0m\n\u001b[0;32m      1\u001b[0m f\u001b[38;5;241m=\u001b[39m\u001b[38;5;28mopen\u001b[39m(\u001b[38;5;124m'\u001b[39m\u001b[38;5;124mtest.csv\u001b[39m\u001b[38;5;124m'\u001b[39m,\u001b[38;5;124m'\u001b[39m\u001b[38;5;124mr\u001b[39m\u001b[38;5;124m'\u001b[39m)\n\u001b[1;32m----> 2\u001b[0m \u001b[43mf\u001b[49m\u001b[38;5;241;43m.\u001b[39;49m\u001b[43mwrite\u001b[49m\u001b[43m(\u001b[49m\u001b[38;5;124;43m'\u001b[39;49m\u001b[38;5;124;43mthis is the writing in test file\u001b[39;49m\u001b[38;5;124;43m'\u001b[39;49m\u001b[43m)\u001b[49m\n\u001b[0;32m      3\u001b[0m \u001b[38;5;28mprint\u001b[39m(\u001b[38;5;124m'\u001b[39m\u001b[38;5;124mthis will get executed\u001b[39m\u001b[38;5;124m'\u001b[39m)\n\u001b[0;32m      4\u001b[0m l\u001b[38;5;241m=\u001b[39m[\u001b[38;5;241m1\u001b[39m,\u001b[38;5;241m2\u001b[39m,\u001b[38;5;241m33\u001b[39m,\u001b[38;5;241m4\u001b[39m,\u001b[38;5;241m5\u001b[39m]\n",
      "\u001b[1;31mUnsupportedOperation\u001b[0m: not writable"
     ]
    }
   ],
   "source": [
    "f=open('test.csv','r')\n",
    "f.write('this is the writing in test file')\n",
    "print('this will get executed')\n",
    "l=[1,2,33,4,5]\n",
    "for i in l:\n",
    "    print(i)"
   ]
  },
  {
   "cell_type": "code",
   "execution_count": 32,
   "id": "ddca18ae",
   "metadata": {},
   "outputs": [
    {
     "name": "stdout",
     "output_type": "stream",
     "text": [
      "this is the handler for file\n",
      "this is my handler for list \n"
     ]
    }
   ],
   "source": [
    "try:\n",
    "    f=open('test.csv','r')\n",
    "    f.write('this is the writing in test file')\n",
    "    print('this will get executed')\n",
    "except:\n",
    "    print('this is the handler for file')\n",
    "try:\n",
    "    l=[1,2,33,4,5]\n",
    "    for i in l:\n",
    "        print(s[i])\n",
    "except:\n",
    "    print('this is my handler for list ')"
   ]
  },
  {
   "cell_type": "code",
   "execution_count": 37,
   "id": "b05690e0",
   "metadata": {},
   "outputs": [
    {
     "name": "stdout",
     "output_type": "stream",
     "text": [
      "dlkfj\n"
     ]
    },
    {
     "ename": "ValueError",
     "evalue": "invalid literal for int() with base 10: 'dlkfj'",
     "output_type": "error",
     "traceback": [
      "\u001b[1;31m---------------------------------------------------------------------------\u001b[0m",
      "\u001b[1;31mValueError\u001b[0m                                Traceback (most recent call last)",
      "Input \u001b[1;32mIn [37]\u001b[0m, in \u001b[0;36m<cell line: 2>\u001b[1;34m()\u001b[0m\n\u001b[0;32m      1\u001b[0m d\u001b[38;5;241m=\u001b[39m{\u001b[38;5;124m'\u001b[39m\u001b[38;5;124mkey1\u001b[39m\u001b[38;5;124m'\u001b[39m:\u001b[38;5;124m'\u001b[39m\u001b[38;5;124msudh\u001b[39m\u001b[38;5;124m'\u001b[39m,\u001b[38;5;124m'\u001b[39m\u001b[38;5;124mkey2\u001b[39m\u001b[38;5;124m'\u001b[39m:[\u001b[38;5;241m1\u001b[39m,\u001b[38;5;241m23\u001b[39m,\u001b[38;5;241m4\u001b[39m,\u001b[38;5;241m5\u001b[39m],\u001b[38;5;124m'\u001b[39m\u001b[38;5;124mkey3\u001b[39m\u001b[38;5;124m'\u001b[39m:(\u001b[38;5;241m4\u001b[39m,\u001b[38;5;241m5\u001b[39m,\u001b[38;5;241m66\u001b[39m,\u001b[38;5;241m5\u001b[39m)}\n\u001b[1;32m----> 2\u001b[0m d[\u001b[38;5;124m'\u001b[39m\u001b[38;5;124mkey4\u001b[39m\u001b[38;5;124m'\u001b[39m]\u001b[38;5;241m=\u001b[39m\u001b[38;5;28;43mint\u001b[39;49m\u001b[43m(\u001b[49m\u001b[38;5;28;43minput\u001b[39;49m\u001b[43m(\u001b[49m\u001b[43m)\u001b[49m\u001b[43m)\u001b[49m\n",
      "\u001b[1;31mValueError\u001b[0m: invalid literal for int() with base 10: 'dlkfj'"
     ]
    }
   ],
   "source": [
    "d={'key1':'sudh','key2':[1,23,4,5],'key3':(4,5,66,5)}\n",
    "d['key4']=int(input())"
   ]
  },
  {
   "cell_type": "code",
   "execution_count": 43,
   "id": "41ed8719",
   "metadata": {},
   "outputs": [
    {
     "name": "stdout",
     "output_type": "stream",
     "text": [
      "dlkj\n",
      "invalid literal for int() with base 10: 'dlkj'\n"
     ]
    }
   ],
   "source": [
    "try:\n",
    "    d={'key1':'sudh','key2':[1,23,4,5],'key3':(4,5,66,5)}\n",
    "    d['key4']=int(input())\n",
    "except Exception as e:#Exception word will handle all type of error\n",
    "    print(e)"
   ]
  },
  {
   "cell_type": "code",
   "execution_count": 47,
   "id": "73f32928",
   "metadata": {},
   "outputs": [
    {
     "name": "stdout",
     "output_type": "stream",
     "text": [
      "dfkjdl\n",
      "invalid literal for int() with base 10: 'dfkjdl'\n"
     ]
    }
   ],
   "source": [
    "try:\n",
    "    d={'key1':'sudh','key2':[1,23,4,5],'key3':(4,5,66,5)}\n",
    "    d['key4']=int(input())\n",
    "except ValueError as e:#It will only handle ValueError not any other errors\n",
    "    print(e)"
   ]
  },
  {
   "cell_type": "code",
   "execution_count": 51,
   "id": "c7f9f679",
   "metadata": {},
   "outputs": [
    {
     "name": "stdout",
     "output_type": "stream",
     "text": [
      "5545\n"
     ]
    },
    {
     "ename": "FileNotFoundError",
     "evalue": "[Errno 2] No such file or directory: 'test2'",
     "output_type": "error",
     "traceback": [
      "\u001b[1;31m---------------------------------------------------------------------------\u001b[0m",
      "\u001b[1;31mFileNotFoundError\u001b[0m                         Traceback (most recent call last)",
      "Input \u001b[1;32mIn [51]\u001b[0m, in \u001b[0;36m<cell line: 1>\u001b[1;34m()\u001b[0m\n\u001b[0;32m      2\u001b[0m     d\u001b[38;5;241m=\u001b[39m{\u001b[38;5;124m'\u001b[39m\u001b[38;5;124mkey1\u001b[39m\u001b[38;5;124m'\u001b[39m:\u001b[38;5;124m'\u001b[39m\u001b[38;5;124msudh\u001b[39m\u001b[38;5;124m'\u001b[39m,\u001b[38;5;124m'\u001b[39m\u001b[38;5;124mkey2\u001b[39m\u001b[38;5;124m'\u001b[39m:[\u001b[38;5;241m1\u001b[39m,\u001b[38;5;241m23\u001b[39m,\u001b[38;5;241m4\u001b[39m,\u001b[38;5;241m5\u001b[39m],\u001b[38;5;124m'\u001b[39m\u001b[38;5;124mkey3\u001b[39m\u001b[38;5;124m'\u001b[39m:(\u001b[38;5;241m4\u001b[39m,\u001b[38;5;241m5\u001b[39m,\u001b[38;5;241m66\u001b[39m,\u001b[38;5;241m5\u001b[39m)}\n\u001b[0;32m      3\u001b[0m     d[\u001b[38;5;124m'\u001b[39m\u001b[38;5;124mkey4\u001b[39m\u001b[38;5;124m'\u001b[39m]\u001b[38;5;241m=\u001b[39m\u001b[38;5;28mint\u001b[39m(\u001b[38;5;28minput\u001b[39m())\n\u001b[1;32m----> 4\u001b[0m     f\u001b[38;5;241m=\u001b[39m\u001b[38;5;28;43mopen\u001b[39;49m\u001b[43m(\u001b[49m\u001b[38;5;124;43m'\u001b[39;49m\u001b[38;5;124;43mtest2\u001b[39;49m\u001b[38;5;124;43m'\u001b[39;49m\u001b[43m,\u001b[49m\u001b[38;5;124;43m'\u001b[39;49m\u001b[38;5;124;43mr\u001b[39;49m\u001b[38;5;124;43m'\u001b[39;49m\u001b[43m)\u001b[49m\u001b[38;5;66;03m#it will not handle this error because only ValueError is called , but it will throw FileNotError\u001b[39;00m\n\u001b[0;32m      5\u001b[0m \u001b[38;5;28;01mexcept\u001b[39;00m \u001b[38;5;167;01mValueError\u001b[39;00m \u001b[38;5;28;01mas\u001b[39;00m e:\u001b[38;5;66;03m#It will only handle ValueError not any other errors\u001b[39;00m\n\u001b[0;32m      6\u001b[0m     \u001b[38;5;28mprint\u001b[39m(e)\n",
      "\u001b[1;31mFileNotFoundError\u001b[0m: [Errno 2] No such file or directory: 'test2'"
     ]
    }
   ],
   "source": [
    "try:\n",
    "    d={'key1':'sudh','key2':[1,23,4,5],'key3':(4,5,66,5)}\n",
    "    d['key4']=int(input())\n",
    "    f=open('test2','r')#it will not handle this error because only ValueError is called , but it will throw FileNotError\n",
    "except ValueError as e:#It will only handle ValueError not any other errors\n",
    "    print(e)"
   ]
  },
  {
   "cell_type": "code",
   "execution_count": 57,
   "id": "cf1ae93e",
   "metadata": {},
   "outputs": [
    {
     "name": "stdout",
     "output_type": "stream",
     "text": [
      "55\n",
      "[Errno 2] No such file or directory: 'test2'\n"
     ]
    }
   ],
   "source": [
    "try:\n",
    "    d={'key1':'sudh','key2':[1,23,4,5],'key3':(4,5,66,5)}\n",
    "    d['key4']=int(input())\n",
    "    f=open('test2','r')\n",
    "except Exception as e:#it will  handle Multiple Error because Exception class is called\n",
    "    print(e)"
   ]
  },
  {
   "cell_type": "code",
   "execution_count": 60,
   "id": "e1e93a42",
   "metadata": {},
   "outputs": [
    {
     "name": "stdout",
     "output_type": "stream",
     "text": [
      "55\n",
      "[Errno 2] No such file or directory: 'test2'\n"
     ]
    }
   ],
   "source": [
    "try:\n",
    "    d={'key1':'sudh','key2':[1,23,4,5],'key3':(4,5,66,5)}\n",
    "    d['key4']=int(input())\n",
    "    f=open('test2','r')\n",
    "except ValueError as e:#Calling each class at a time\n",
    "    print(e)\n",
    "except FileNotFoundError as e:#Calling filenotfoundError class\n",
    "    print(e)"
   ]
  },
  {
   "cell_type": "code",
   "execution_count": 15,
   "id": "3862bbe7",
   "metadata": {},
   "outputs": [
    {
     "name": "stdout",
     "output_type": "stream",
     "text": [
      "55\n",
      "0\n",
      "division by zero\n"
     ]
    }
   ],
   "source": [
    "try:\n",
    "    d={'key1':'sudh','key2':[1,23,4,5],'key3':(4,5,66,5)}\n",
    "    d['key4']=int(input())\n",
    "    c=int(input())\n",
    "    a=88/c\n",
    "\n",
    "except ZeroDivisionError as e:#the first mentioned class will be called following the hierarchy\n",
    "    print(e)\n",
    "except FileNotFoundError as e:\n",
    "    print(e)\n",
    "except Exception as e:#Ultimately Exception class will handle this error by following the hiereachy from the top\n",
    "    print('this  is my exception class',e)"
   ]
  },
  {
   "cell_type": "code",
   "execution_count": 10,
   "id": "c677829a",
   "metadata": {},
   "outputs": [
    {
     "data": {
      "text/plain": [
       "{'key1': 'sudh', 'key2': [1, 23, 4, 5], 'key3': (4, 5, 66, 5), 'key4': 55}"
      ]
     },
     "execution_count": 10,
     "metadata": {},
     "output_type": "execute_result"
    }
   ],
   "source": [
    "d"
   ]
  },
  {
   "cell_type": "code",
   "execution_count": 11,
   "id": "1eeda7b7",
   "metadata": {},
   "outputs": [
    {
     "name": "stdout",
     "output_type": "stream",
     "text": [
      "0\n",
      "0\n",
      "this  is my exception class division by zero\n"
     ]
    }
   ],
   "source": [
    "try:\n",
    "    d={'key1':'sudh','key2':[1,23,4,5],'key3':(4,5,66,5)}\n",
    "    d['key4']=int(input())\n",
    "    c=int(input())\n",
    "    a=88/c\n",
    "except Exception as e:#the first mentioned class will be called it won't go below since it is a superclass\n",
    "    print('this  is my exception class',e)\n",
    "except ValueError as e:#division by zero is not mentioned but it is handling because of Exception given at the top\n",
    "    print(e)\n",
    "except FileNotFoundError as e:\n",
    "    print(e)\n"
   ]
  },
  {
   "cell_type": "code",
   "execution_count": 79,
   "id": "e9d54cd8",
   "metadata": {},
   "outputs": [
    {
     "name": "stdout",
     "output_type": "stream",
     "text": [
      "jhj\n",
      "invalid literal for int() with base 10: 'jhj'\n"
     ]
    }
   ],
   "source": [
    "try:\n",
    "    d={'key1':'sudh','key2':[1,23,4,5],'key3':(4,5,66,5)}\n",
    "    d['key4']=int(input())\n",
    "    c=int(input())\n",
    "    a=88/c\n",
    "\n",
    "except FileNotFoundError as e:\n",
    "    print(e)\n",
    "except ValueError as e:#ValueError is mentioned at the second position but it handled\n",
    "    print(e)"
   ]
  },
  {
   "cell_type": "code",
   "execution_count": 3,
   "id": "185159da",
   "metadata": {},
   "outputs": [],
   "source": [
    "def enter_int1():#Calling the try except block inside a fuction\n",
    "    try:\n",
    "        a=int(input())\n",
    "        return a\n",
    "    except Exception as e:\n",
    "        print(e)"
   ]
  },
  {
   "cell_type": "code",
   "execution_count": 4,
   "id": "dc62ec14",
   "metadata": {},
   "outputs": [
    {
     "name": "stdout",
     "output_type": "stream",
     "text": [
      "dkfj\n",
      "invalid literal for int() with base 10: 'dkfj'\n"
     ]
    }
   ],
   "source": [
    "enter_int1()"
   ]
  },
  {
   "cell_type": "code",
   "execution_count": 3,
   "id": "fd411f2f",
   "metadata": {},
   "outputs": [],
   "source": [
    "#You have to enter the input unless until the input is integer again and agian\n",
    "def enter_int():\n",
    "\n",
    "        while True:\n",
    "            try:\n",
    "                a=int(input())\n",
    "                print('this is the correct input ',a)\n",
    "                break\n",
    "            except:\n",
    "                print('Enter the input as integer')"
   ]
  },
  {
   "cell_type": "code",
   "execution_count": null,
   "id": "7a048895",
   "metadata": {},
   "outputs": [
    {
     "name": "stdout",
     "output_type": "stream",
     "text": [
      "jdhf\n",
      "Enter the input as integer\n",
      "jdhf\n",
      "Enter the input as integer\n",
      "dhf\n",
      "Enter the input as integer\n"
     ]
    }
   ],
   "source": [
    "enter_int()"
   ]
  },
  {
   "cell_type": "code",
   "execution_count": 25,
   "id": "d3f3a9b7",
   "metadata": {},
   "outputs": [
    {
     "name": "stdout",
     "output_type": "stream",
     "text": [
      "kjfd\n",
      "Please give the correct input \n",
      "dkjfd\n",
      "Please give the correct input \n",
      "dkfj\n",
      "Please give the correct input \n",
      "5\n",
      "this is the correct input 5\n"
     ]
    }
   ],
   "source": [
    "\n",
    "#You have to enter the input unless until the input is dictionary again and again\n",
    "while True:\n",
    "        try:\n",
    "            a=eval(input())\n",
    "            print('this is the correct input',a)\n",
    "            break\n",
    "        except:\n",
    "            print('Please give the correct input ')"
   ]
  },
  {
   "cell_type": "code",
   "execution_count": 34,
   "id": "7ff1a046",
   "metadata": {},
   "outputs": [],
   "source": [
    "#creating your own custom message\n",
    "def test(a):\n",
    "    if type(a)==int:\n",
    "        raise Exception ('you are not suppose to give int as input',a)#Own custome Exception\n",
    "    return a"
   ]
  },
  {
   "cell_type": "code",
   "execution_count": 35,
   "id": "e5842d4f",
   "metadata": {},
   "outputs": [
    {
     "data": {
      "text/plain": [
       "[1, 23, 4]"
      ]
     },
     "execution_count": 35,
     "metadata": {},
     "output_type": "execute_result"
    }
   ],
   "source": [
    "test([1,23,4])"
   ]
  },
  {
   "cell_type": "code",
   "execution_count": 36,
   "id": "45aaca45",
   "metadata": {},
   "outputs": [
    {
     "ename": "Exception",
     "evalue": "('you are not suppose to give int as input', 2)",
     "output_type": "error",
     "traceback": [
      "\u001b[1;31m---------------------------------------------------------------------------\u001b[0m",
      "\u001b[1;31mException\u001b[0m                                 Traceback (most recent call last)",
      "Input \u001b[1;32mIn [36]\u001b[0m, in \u001b[0;36m<cell line: 1>\u001b[1;34m()\u001b[0m\n\u001b[1;32m----> 1\u001b[0m \u001b[43mtest\u001b[49m\u001b[43m(\u001b[49m\u001b[38;5;241;43m2\u001b[39;49m\u001b[43m)\u001b[49m\n",
      "Input \u001b[1;32mIn [34]\u001b[0m, in \u001b[0;36mtest\u001b[1;34m(a)\u001b[0m\n\u001b[0;32m      2\u001b[0m \u001b[38;5;28;01mdef\u001b[39;00m \u001b[38;5;21mtest\u001b[39m(a):\n\u001b[0;32m      3\u001b[0m     \u001b[38;5;28;01mif\u001b[39;00m \u001b[38;5;28mtype\u001b[39m(a)\u001b[38;5;241m==\u001b[39m\u001b[38;5;28mint\u001b[39m:\n\u001b[1;32m----> 4\u001b[0m         \u001b[38;5;28;01mraise\u001b[39;00m \u001b[38;5;167;01mException\u001b[39;00m (\u001b[38;5;124m'\u001b[39m\u001b[38;5;124myou are not suppose to give int as input\u001b[39m\u001b[38;5;124m'\u001b[39m,a)\u001b[38;5;66;03m#Own custome Exception\u001b[39;00m\n\u001b[0;32m      5\u001b[0m     \u001b[38;5;28;01mreturn\u001b[39;00m a\n",
      "\u001b[1;31mException\u001b[0m: ('you are not suppose to give int as input', 2)"
     ]
    }
   ],
   "source": [
    "test(2)"
   ]
  },
  {
   "cell_type": "code",
   "execution_count": 8,
   "id": "fbbf5a1b",
   "metadata": {},
   "outputs": [
    {
     "name": "stdout",
     "output_type": "stream",
     "text": [
      "lkkahf\n"
     ]
    },
    {
     "ename": "Exception",
     "evalue": "there is no file found with test2 name",
     "output_type": "error",
     "traceback": [
      "\u001b[1;31m---------------------------------------------------------------------------\u001b[0m",
      "\u001b[1;31mValueError\u001b[0m                                Traceback (most recent call last)",
      "Input \u001b[1;32mIn [8]\u001b[0m, in \u001b[0;36m<cell line: 2>\u001b[1;34m()\u001b[0m\n\u001b[0;32m      3\u001b[0m d\u001b[38;5;241m=\u001b[39m{\u001b[38;5;124m'\u001b[39m\u001b[38;5;124mkey1\u001b[39m\u001b[38;5;124m'\u001b[39m:\u001b[38;5;124m'\u001b[39m\u001b[38;5;124msudh\u001b[39m\u001b[38;5;124m'\u001b[39m,\u001b[38;5;124m'\u001b[39m\u001b[38;5;124mkey2\u001b[39m\u001b[38;5;124m'\u001b[39m:[\u001b[38;5;241m1\u001b[39m,\u001b[38;5;241m23\u001b[39m,\u001b[38;5;241m4\u001b[39m,\u001b[38;5;241m5\u001b[39m],\u001b[38;5;124m'\u001b[39m\u001b[38;5;124mkey3\u001b[39m\u001b[38;5;124m'\u001b[39m:(\u001b[38;5;241m4\u001b[39m,\u001b[38;5;241m5\u001b[39m,\u001b[38;5;241m66\u001b[39m,\u001b[38;5;241m5\u001b[39m)}\n\u001b[1;32m----> 4\u001b[0m d[\u001b[38;5;124m'\u001b[39m\u001b[38;5;124mkey4\u001b[39m\u001b[38;5;124m'\u001b[39m]\u001b[38;5;241m=\u001b[39m\u001b[38;5;28;43mint\u001b[39;49m\u001b[43m(\u001b[49m\u001b[38;5;28;43minput\u001b[39;49m\u001b[43m(\u001b[49m\u001b[43m)\u001b[49m\u001b[43m)\u001b[49m\u001b[38;5;66;03m#two error you can see here one is value error and one is your own custom message \u001b[39;00m\n\u001b[0;32m      5\u001b[0m f\u001b[38;5;241m=\u001b[39m\u001b[38;5;28mopen\u001b[39m(\u001b[38;5;124m'\u001b[39m\u001b[38;5;124mtest2\u001b[39m\u001b[38;5;124m'\u001b[39m,\u001b[38;5;124m'\u001b[39m\u001b[38;5;124mr\u001b[39m\u001b[38;5;124m'\u001b[39m)\u001b[38;5;66;03m#My own custom message\u001b[39;00m\n",
      "\u001b[1;31mValueError\u001b[0m: invalid literal for int() with base 10: 'lkkahf'",
      "\nDuring handling of the above exception, another exception occurred:\n",
      "\u001b[1;31mException\u001b[0m                                 Traceback (most recent call last)",
      "Input \u001b[1;32mIn [8]\u001b[0m, in \u001b[0;36m<cell line: 2>\u001b[1;34m()\u001b[0m\n\u001b[0;32m      5\u001b[0m     f\u001b[38;5;241m=\u001b[39m\u001b[38;5;28mopen\u001b[39m(\u001b[38;5;124m'\u001b[39m\u001b[38;5;124mtest2\u001b[39m\u001b[38;5;124m'\u001b[39m,\u001b[38;5;124m'\u001b[39m\u001b[38;5;124mr\u001b[39m\u001b[38;5;124m'\u001b[39m)\u001b[38;5;66;03m#My own custom message\u001b[39;00m\n\u001b[0;32m      6\u001b[0m \u001b[38;5;28;01mexcept\u001b[39;00m:\n\u001b[1;32m----> 7\u001b[0m     \u001b[38;5;28;01mraise\u001b[39;00m \u001b[38;5;167;01mException\u001b[39;00m(\u001b[38;5;124m'\u001b[39m\u001b[38;5;124mthere is no file found with test2 name\u001b[39m\u001b[38;5;124m'\u001b[39m)\n",
      "\u001b[1;31mException\u001b[0m: there is no file found with test2 name"
     ]
    }
   ],
   "source": [
    "#creating your own custom message by overriding the systems message\n",
    "try:\n",
    "    d={'key1':'sudh','key2':[1,23,4,5],'key3':(4,5,66,5)}\n",
    "    d['key4']=int(input())#two error you can see here one is value error and one is your own custom message \n",
    "    f=open('test2','r')#My own custom message\n",
    "except:\n",
    "    raise Exception('there is no file found with test2 name')"
   ]
  },
  {
   "cell_type": "markdown",
   "id": "fd56ba03",
   "metadata": {},
   "source": [
    "# Pandas"
   ]
  },
  {
   "cell_type": "code",
   "execution_count": 6,
   "id": "f60bf6d4",
   "metadata": {},
   "outputs": [],
   "source": [
    "df=pd.DataFrame(np.random.rand(10,6),index=pd.date_range('2021-05-20',periods=10),columns=['a','b','c','d','e','f'])\n"
   ]
  },
  {
   "cell_type": "code",
   "execution_count": 7,
   "id": "ae849fc3",
   "metadata": {},
   "outputs": [
    {
     "data": {
      "text/html": [
       "<div>\n",
       "<style scoped>\n",
       "    .dataframe tbody tr th:only-of-type {\n",
       "        vertical-align: middle;\n",
       "    }\n",
       "\n",
       "    .dataframe tbody tr th {\n",
       "        vertical-align: top;\n",
       "    }\n",
       "\n",
       "    .dataframe thead th {\n",
       "        text-align: right;\n",
       "    }\n",
       "</style>\n",
       "<table border=\"1\" class=\"dataframe\">\n",
       "  <thead>\n",
       "    <tr style=\"text-align: right;\">\n",
       "      <th></th>\n",
       "      <th>a</th>\n",
       "      <th>b</th>\n",
       "      <th>c</th>\n",
       "      <th>d</th>\n",
       "      <th>e</th>\n",
       "      <th>f</th>\n",
       "    </tr>\n",
       "  </thead>\n",
       "  <tbody>\n",
       "    <tr>\n",
       "      <th>2021-05-20</th>\n",
       "      <td>0.501960</td>\n",
       "      <td>0.871418</td>\n",
       "      <td>0.896076</td>\n",
       "      <td>0.792122</td>\n",
       "      <td>0.482616</td>\n",
       "      <td>0.496585</td>\n",
       "    </tr>\n",
       "    <tr>\n",
       "      <th>2021-05-21</th>\n",
       "      <td>0.236683</td>\n",
       "      <td>0.983952</td>\n",
       "      <td>0.580205</td>\n",
       "      <td>0.872571</td>\n",
       "      <td>0.353156</td>\n",
       "      <td>0.866261</td>\n",
       "    </tr>\n",
       "    <tr>\n",
       "      <th>2021-05-22</th>\n",
       "      <td>0.218719</td>\n",
       "      <td>0.816218</td>\n",
       "      <td>0.732690</td>\n",
       "      <td>0.219276</td>\n",
       "      <td>0.659985</td>\n",
       "      <td>0.643124</td>\n",
       "    </tr>\n",
       "    <tr>\n",
       "      <th>2021-05-23</th>\n",
       "      <td>0.966307</td>\n",
       "      <td>0.002224</td>\n",
       "      <td>0.377073</td>\n",
       "      <td>0.862146</td>\n",
       "      <td>0.259353</td>\n",
       "      <td>0.646741</td>\n",
       "    </tr>\n",
       "    <tr>\n",
       "      <th>2021-05-24</th>\n",
       "      <td>0.719199</td>\n",
       "      <td>0.737938</td>\n",
       "      <td>0.749671</td>\n",
       "      <td>0.271741</td>\n",
       "      <td>0.326732</td>\n",
       "      <td>0.945160</td>\n",
       "    </tr>\n",
       "    <tr>\n",
       "      <th>2021-05-25</th>\n",
       "      <td>0.836325</td>\n",
       "      <td>0.175179</td>\n",
       "      <td>0.562783</td>\n",
       "      <td>0.727068</td>\n",
       "      <td>0.901610</td>\n",
       "      <td>0.931503</td>\n",
       "    </tr>\n",
       "    <tr>\n",
       "      <th>2021-05-26</th>\n",
       "      <td>0.730000</td>\n",
       "      <td>0.488072</td>\n",
       "      <td>0.899355</td>\n",
       "      <td>0.377866</td>\n",
       "      <td>0.880558</td>\n",
       "      <td>0.485665</td>\n",
       "    </tr>\n",
       "    <tr>\n",
       "      <th>2021-05-27</th>\n",
       "      <td>0.144702</td>\n",
       "      <td>0.333246</td>\n",
       "      <td>0.409992</td>\n",
       "      <td>0.846648</td>\n",
       "      <td>0.947828</td>\n",
       "      <td>0.507585</td>\n",
       "    </tr>\n",
       "    <tr>\n",
       "      <th>2021-05-28</th>\n",
       "      <td>0.556578</td>\n",
       "      <td>0.810359</td>\n",
       "      <td>0.535235</td>\n",
       "      <td>0.176242</td>\n",
       "      <td>0.045081</td>\n",
       "      <td>0.534973</td>\n",
       "    </tr>\n",
       "    <tr>\n",
       "      <th>2021-05-29</th>\n",
       "      <td>0.827223</td>\n",
       "      <td>0.464193</td>\n",
       "      <td>0.989342</td>\n",
       "      <td>0.331316</td>\n",
       "      <td>0.898449</td>\n",
       "      <td>0.167392</td>\n",
       "    </tr>\n",
       "  </tbody>\n",
       "</table>\n",
       "</div>"
      ],
      "text/plain": [
       "                   a         b         c         d         e         f\n",
       "2021-05-20  0.501960  0.871418  0.896076  0.792122  0.482616  0.496585\n",
       "2021-05-21  0.236683  0.983952  0.580205  0.872571  0.353156  0.866261\n",
       "2021-05-22  0.218719  0.816218  0.732690  0.219276  0.659985  0.643124\n",
       "2021-05-23  0.966307  0.002224  0.377073  0.862146  0.259353  0.646741\n",
       "2021-05-24  0.719199  0.737938  0.749671  0.271741  0.326732  0.945160\n",
       "2021-05-25  0.836325  0.175179  0.562783  0.727068  0.901610  0.931503\n",
       "2021-05-26  0.730000  0.488072  0.899355  0.377866  0.880558  0.485665\n",
       "2021-05-27  0.144702  0.333246  0.409992  0.846648  0.947828  0.507585\n",
       "2021-05-28  0.556578  0.810359  0.535235  0.176242  0.045081  0.534973\n",
       "2021-05-29  0.827223  0.464193  0.989342  0.331316  0.898449  0.167392"
      ]
     },
     "execution_count": 7,
     "metadata": {},
     "output_type": "execute_result"
    }
   ],
   "source": [
    "df"
   ]
  },
  {
   "cell_type": "code",
   "execution_count": 8,
   "id": "d3810d48",
   "metadata": {},
   "outputs": [
    {
     "data": {
      "text/plain": [
       "DatetimeIndex(['2021-05-20', '2021-05-21', '2021-05-22', '2021-05-23',\n",
       "               '2021-05-24', '2021-05-25', '2021-05-26', '2021-05-27',\n",
       "               '2021-05-28', '2021-05-29'],\n",
       "              dtype='datetime64[ns]', freq='D')"
      ]
     },
     "execution_count": 8,
     "metadata": {},
     "output_type": "execute_result"
    }
   ],
   "source": [
    "df.index # to call the index "
   ]
  },
  {
   "cell_type": "code",
   "execution_count": 105,
   "id": "9bd62489",
   "metadata": {},
   "outputs": [
    {
     "data": {
      "text/plain": [
       "Index(['a', 'b', 'c', 'd', 'e', 'f'], dtype='object')"
      ]
     },
     "execution_count": 105,
     "metadata": {},
     "output_type": "execute_result"
    }
   ],
   "source": [
    "df.columns"
   ]
  },
  {
   "cell_type": "code",
   "execution_count": 106,
   "id": "2ee62c5f",
   "metadata": {},
   "outputs": [
    {
     "data": {
      "text/plain": [
       "pandas.core.series.Series"
      ]
     },
     "execution_count": 106,
     "metadata": {},
     "output_type": "execute_result"
    }
   ],
   "source": [
    "type(df['a'])"
   ]
  },
  {
   "cell_type": "code",
   "execution_count": 107,
   "id": "11ed2159",
   "metadata": {},
   "outputs": [
    {
     "data": {
      "text/html": [
       "<div>\n",
       "<style scoped>\n",
       "    .dataframe tbody tr th:only-of-type {\n",
       "        vertical-align: middle;\n",
       "    }\n",
       "\n",
       "    .dataframe tbody tr th {\n",
       "        vertical-align: top;\n",
       "    }\n",
       "\n",
       "    .dataframe thead th {\n",
       "        text-align: right;\n",
       "    }\n",
       "</style>\n",
       "<table border=\"1\" class=\"dataframe\">\n",
       "  <thead>\n",
       "    <tr style=\"text-align: right;\">\n",
       "      <th></th>\n",
       "      <th>a</th>\n",
       "      <th>b</th>\n",
       "      <th>c</th>\n",
       "      <th>d</th>\n",
       "      <th>e</th>\n",
       "      <th>f</th>\n",
       "    </tr>\n",
       "  </thead>\n",
       "  <tbody>\n",
       "    <tr>\n",
       "      <th>count</th>\n",
       "      <td>10.000000</td>\n",
       "      <td>10.000000</td>\n",
       "      <td>10.000000</td>\n",
       "      <td>10.000000</td>\n",
       "      <td>10.000000</td>\n",
       "      <td>10.000000</td>\n",
       "    </tr>\n",
       "    <tr>\n",
       "      <th>mean</th>\n",
       "      <td>0.573770</td>\n",
       "      <td>0.568280</td>\n",
       "      <td>0.673242</td>\n",
       "      <td>0.547700</td>\n",
       "      <td>0.575537</td>\n",
       "      <td>0.622499</td>\n",
       "    </tr>\n",
       "    <tr>\n",
       "      <th>std</th>\n",
       "      <td>0.290986</td>\n",
       "      <td>0.326767</td>\n",
       "      <td>0.212654</td>\n",
       "      <td>0.295026</td>\n",
       "      <td>0.325015</td>\n",
       "      <td>0.240969</td>\n",
       "    </tr>\n",
       "    <tr>\n",
       "      <th>min</th>\n",
       "      <td>0.144702</td>\n",
       "      <td>0.002224</td>\n",
       "      <td>0.377073</td>\n",
       "      <td>0.176242</td>\n",
       "      <td>0.045081</td>\n",
       "      <td>0.167392</td>\n",
       "    </tr>\n",
       "    <tr>\n",
       "      <th>25%</th>\n",
       "      <td>0.303002</td>\n",
       "      <td>0.365982</td>\n",
       "      <td>0.542122</td>\n",
       "      <td>0.286635</td>\n",
       "      <td>0.333338</td>\n",
       "      <td>0.499335</td>\n",
       "    </tr>\n",
       "    <tr>\n",
       "      <th>50%</th>\n",
       "      <td>0.637888</td>\n",
       "      <td>0.613005</td>\n",
       "      <td>0.656448</td>\n",
       "      <td>0.552467</td>\n",
       "      <td>0.571300</td>\n",
       "      <td>0.589049</td>\n",
       "    </tr>\n",
       "    <tr>\n",
       "      <th>75%</th>\n",
       "      <td>0.802917</td>\n",
       "      <td>0.814753</td>\n",
       "      <td>0.859475</td>\n",
       "      <td>0.833016</td>\n",
       "      <td>0.893977</td>\n",
       "      <td>0.811381</td>\n",
       "    </tr>\n",
       "    <tr>\n",
       "      <th>max</th>\n",
       "      <td>0.966307</td>\n",
       "      <td>0.983952</td>\n",
       "      <td>0.989342</td>\n",
       "      <td>0.872571</td>\n",
       "      <td>0.947828</td>\n",
       "      <td>0.945160</td>\n",
       "    </tr>\n",
       "  </tbody>\n",
       "</table>\n",
       "</div>"
      ],
      "text/plain": [
       "               a          b          c          d          e          f\n",
       "count  10.000000  10.000000  10.000000  10.000000  10.000000  10.000000\n",
       "mean    0.573770   0.568280   0.673242   0.547700   0.575537   0.622499\n",
       "std     0.290986   0.326767   0.212654   0.295026   0.325015   0.240969\n",
       "min     0.144702   0.002224   0.377073   0.176242   0.045081   0.167392\n",
       "25%     0.303002   0.365982   0.542122   0.286635   0.333338   0.499335\n",
       "50%     0.637888   0.613005   0.656448   0.552467   0.571300   0.589049\n",
       "75%     0.802917   0.814753   0.859475   0.833016   0.893977   0.811381\n",
       "max     0.966307   0.983952   0.989342   0.872571   0.947828   0.945160"
      ]
     },
     "execution_count": 107,
     "metadata": {},
     "output_type": "execute_result"
    }
   ],
   "source": [
    "df.describe()"
   ]
  },
  {
   "cell_type": "code",
   "execution_count": 108,
   "id": "40bfb169",
   "metadata": {},
   "outputs": [
    {
     "name": "stdout",
     "output_type": "stream",
     "text": [
      "<class 'pandas.core.frame.DataFrame'>\n",
      "DatetimeIndex: 10 entries, 2021-05-20 to 2021-05-29\n",
      "Freq: D\n",
      "Data columns (total 6 columns):\n",
      " #   Column  Non-Null Count  Dtype  \n",
      "---  ------  --------------  -----  \n",
      " 0   a       10 non-null     float64\n",
      " 1   b       10 non-null     float64\n",
      " 2   c       10 non-null     float64\n",
      " 3   d       10 non-null     float64\n",
      " 4   e       10 non-null     float64\n",
      " 5   f       10 non-null     float64\n",
      "dtypes: float64(6)\n",
      "memory usage: 860.0 bytes\n"
     ]
    }
   ],
   "source": [
    "df.info()"
   ]
  },
  {
   "cell_type": "code",
   "execution_count": 110,
   "id": "75ca8030",
   "metadata": {},
   "outputs": [
    {
     "data": {
      "text/plain": [
       "Index(['a', 'b', 'c', 'd', 'e', 'f'], dtype='object')"
      ]
     },
     "execution_count": 110,
     "metadata": {},
     "output_type": "execute_result"
    }
   ],
   "source": [
    "df.dtypes[df.dtypes =='float'].index"
   ]
  },
  {
   "cell_type": "code",
   "execution_count": 111,
   "id": "9cbf35cc",
   "metadata": {},
   "outputs": [
    {
     "data": {
      "text/plain": [
       "'{\"a\":{\"1621468800000\":0.5019599662,\"1621555200000\":0.2366826886,\"1621641600000\":0.2187193647,\"1621728000000\":0.9663073729,\"1621814400000\":0.7191989551,\"1621900800000\":0.8363246515,\"1621987200000\":0.7300001212,\"1622073600000\":0.1447016034,\"1622160000000\":0.5565778985,\"1622246400000\":0.8272232553},\"b\":{\"1621468800000\":0.8714184665,\"1621555200000\":0.983952207,\"1621641600000\":0.8162175654,\"1621728000000\":0.0022235221,\"1621814400000\":0.7379375621,\"1621900800000\":0.1751793901,\"1621987200000\":0.4880724387,\"1622073600000\":0.3332457413,\"1622160000000\":0.8103588165,\"1622246400000\":0.4641926409},\"c\":{\"1621468800000\":0.8960756636,\"1621555200000\":0.5802053027,\"1621641600000\":0.7326898644,\"1621728000000\":0.3770731248,\"1621814400000\":0.7496711978,\"1621900800000\":0.5627832668,\"1621987200000\":0.8993549581,\"1622073600000\":0.4099917446,\"1622160000000\":0.5352347904,\"1622246400000\":0.9893422987},\"d\":{\"1621468800000\":0.792122415,\"1621555200000\":0.8725708129,\"1621641600000\":0.2192757142,\"1621728000000\":0.8621464362,\"1621814400000\":0.2717413626,\"1621900800000\":0.7270677439,\"1621987200000\":0.3778662186,\"1622073600000\":0.8466476402,\"1622160000000\":0.1762419825,\"1622246400000\":0.3313163613},\"e\":{\"1621468800000\":0.4826161827,\"1621555200000\":0.353155929,\"1621641600000\":0.6599847262,\"1621728000000\":0.2593534456,\"1621814400000\":0.3267320039,\"1621900800000\":0.901609692,\"1621987200000\":0.8805582891,\"1622073600000\":0.947827826,\"1622160000000\":0.0450805628,\"1622246400000\":0.8984493475},\"f\":{\"1621468800000\":0.4965849583,\"1621555200000\":0.8662612807,\"1621641600000\":0.6431238912,\"1621728000000\":0.6467405585,\"1621814400000\":0.9451595824,\"1621900800000\":0.9315026293,\"1621987200000\":0.4856647937,\"1622073600000\":0.5075845214,\"1622160000000\":0.5349733565,\"1622246400000\":0.1673917006}}'"
      ]
     },
     "execution_count": 111,
     "metadata": {},
     "output_type": "execute_result"
    }
   ],
   "source": [
    "df.to_json() # to display the dataframe directly to json format"
   ]
  },
  {
   "cell_type": "code",
   "execution_count": 112,
   "id": "b99563b1",
   "metadata": {},
   "outputs": [
    {
     "data": {
      "text/plain": [
       "str"
      ]
     },
     "execution_count": 112,
     "metadata": {},
     "output_type": "execute_result"
    }
   ],
   "source": [
    "type(df.to_json())"
   ]
  },
  {
   "cell_type": "code",
   "execution_count": 114,
   "id": "5c236838",
   "metadata": {},
   "outputs": [],
   "source": [
    "converted=eval(df.to_json()) # converted string to json format or dictionary to make it a dataframe since string isn't supported"
   ]
  },
  {
   "cell_type": "code",
   "execution_count": 115,
   "id": "18cd6976",
   "metadata": {},
   "outputs": [
    {
     "data": {
      "text/plain": [
       "{'a': {'1621468800000': 0.5019599662,\n",
       "  '1621555200000': 0.2366826886,\n",
       "  '1621641600000': 0.2187193647,\n",
       "  '1621728000000': 0.9663073729,\n",
       "  '1621814400000': 0.7191989551,\n",
       "  '1621900800000': 0.8363246515,\n",
       "  '1621987200000': 0.7300001212,\n",
       "  '1622073600000': 0.1447016034,\n",
       "  '1622160000000': 0.5565778985,\n",
       "  '1622246400000': 0.8272232553},\n",
       " 'b': {'1621468800000': 0.8714184665,\n",
       "  '1621555200000': 0.983952207,\n",
       "  '1621641600000': 0.8162175654,\n",
       "  '1621728000000': 0.0022235221,\n",
       "  '1621814400000': 0.7379375621,\n",
       "  '1621900800000': 0.1751793901,\n",
       "  '1621987200000': 0.4880724387,\n",
       "  '1622073600000': 0.3332457413,\n",
       "  '1622160000000': 0.8103588165,\n",
       "  '1622246400000': 0.4641926409},\n",
       " 'c': {'1621468800000': 0.8960756636,\n",
       "  '1621555200000': 0.5802053027,\n",
       "  '1621641600000': 0.7326898644,\n",
       "  '1621728000000': 0.3770731248,\n",
       "  '1621814400000': 0.7496711978,\n",
       "  '1621900800000': 0.5627832668,\n",
       "  '1621987200000': 0.8993549581,\n",
       "  '1622073600000': 0.4099917446,\n",
       "  '1622160000000': 0.5352347904,\n",
       "  '1622246400000': 0.9893422987},\n",
       " 'd': {'1621468800000': 0.792122415,\n",
       "  '1621555200000': 0.8725708129,\n",
       "  '1621641600000': 0.2192757142,\n",
       "  '1621728000000': 0.8621464362,\n",
       "  '1621814400000': 0.2717413626,\n",
       "  '1621900800000': 0.7270677439,\n",
       "  '1621987200000': 0.3778662186,\n",
       "  '1622073600000': 0.8466476402,\n",
       "  '1622160000000': 0.1762419825,\n",
       "  '1622246400000': 0.3313163613},\n",
       " 'e': {'1621468800000': 0.4826161827,\n",
       "  '1621555200000': 0.353155929,\n",
       "  '1621641600000': 0.6599847262,\n",
       "  '1621728000000': 0.2593534456,\n",
       "  '1621814400000': 0.3267320039,\n",
       "  '1621900800000': 0.901609692,\n",
       "  '1621987200000': 0.8805582891,\n",
       "  '1622073600000': 0.947827826,\n",
       "  '1622160000000': 0.0450805628,\n",
       "  '1622246400000': 0.8984493475},\n",
       " 'f': {'1621468800000': 0.4965849583,\n",
       "  '1621555200000': 0.8662612807,\n",
       "  '1621641600000': 0.6431238912,\n",
       "  '1621728000000': 0.6467405585,\n",
       "  '1621814400000': 0.9451595824,\n",
       "  '1621900800000': 0.9315026293,\n",
       "  '1621987200000': 0.4856647937,\n",
       "  '1622073600000': 0.5075845214,\n",
       "  '1622160000000': 0.5349733565,\n",
       "  '1622246400000': 0.1673917006}}"
      ]
     },
     "execution_count": 115,
     "metadata": {},
     "output_type": "execute_result"
    }
   ],
   "source": [
    "converted\n"
   ]
  },
  {
   "cell_type": "code",
   "execution_count": 116,
   "id": "5427c8b5",
   "metadata": {},
   "outputs": [
    {
     "data": {
      "text/plain": [
       "dict"
      ]
     },
     "execution_count": 116,
     "metadata": {},
     "output_type": "execute_result"
    }
   ],
   "source": [
    "type(converted)"
   ]
  },
  {
   "cell_type": "code",
   "execution_count": 117,
   "id": "cf01e308",
   "metadata": {},
   "outputs": [
    {
     "data": {
      "text/html": [
       "<div>\n",
       "<style scoped>\n",
       "    .dataframe tbody tr th:only-of-type {\n",
       "        vertical-align: middle;\n",
       "    }\n",
       "\n",
       "    .dataframe tbody tr th {\n",
       "        vertical-align: top;\n",
       "    }\n",
       "\n",
       "    .dataframe thead th {\n",
       "        text-align: right;\n",
       "    }\n",
       "</style>\n",
       "<table border=\"1\" class=\"dataframe\">\n",
       "  <thead>\n",
       "    <tr style=\"text-align: right;\">\n",
       "      <th></th>\n",
       "      <th>a</th>\n",
       "      <th>b</th>\n",
       "      <th>c</th>\n",
       "      <th>d</th>\n",
       "      <th>e</th>\n",
       "      <th>f</th>\n",
       "    </tr>\n",
       "  </thead>\n",
       "  <tbody>\n",
       "    <tr>\n",
       "      <th>1621468800000</th>\n",
       "      <td>0.501960</td>\n",
       "      <td>0.871418</td>\n",
       "      <td>0.896076</td>\n",
       "      <td>0.792122</td>\n",
       "      <td>0.482616</td>\n",
       "      <td>0.496585</td>\n",
       "    </tr>\n",
       "    <tr>\n",
       "      <th>1621555200000</th>\n",
       "      <td>0.236683</td>\n",
       "      <td>0.983952</td>\n",
       "      <td>0.580205</td>\n",
       "      <td>0.872571</td>\n",
       "      <td>0.353156</td>\n",
       "      <td>0.866261</td>\n",
       "    </tr>\n",
       "    <tr>\n",
       "      <th>1621641600000</th>\n",
       "      <td>0.218719</td>\n",
       "      <td>0.816218</td>\n",
       "      <td>0.732690</td>\n",
       "      <td>0.219276</td>\n",
       "      <td>0.659985</td>\n",
       "      <td>0.643124</td>\n",
       "    </tr>\n",
       "    <tr>\n",
       "      <th>1621728000000</th>\n",
       "      <td>0.966307</td>\n",
       "      <td>0.002224</td>\n",
       "      <td>0.377073</td>\n",
       "      <td>0.862146</td>\n",
       "      <td>0.259353</td>\n",
       "      <td>0.646741</td>\n",
       "    </tr>\n",
       "    <tr>\n",
       "      <th>1621814400000</th>\n",
       "      <td>0.719199</td>\n",
       "      <td>0.737938</td>\n",
       "      <td>0.749671</td>\n",
       "      <td>0.271741</td>\n",
       "      <td>0.326732</td>\n",
       "      <td>0.945160</td>\n",
       "    </tr>\n",
       "    <tr>\n",
       "      <th>1621900800000</th>\n",
       "      <td>0.836325</td>\n",
       "      <td>0.175179</td>\n",
       "      <td>0.562783</td>\n",
       "      <td>0.727068</td>\n",
       "      <td>0.901610</td>\n",
       "      <td>0.931503</td>\n",
       "    </tr>\n",
       "    <tr>\n",
       "      <th>1621987200000</th>\n",
       "      <td>0.730000</td>\n",
       "      <td>0.488072</td>\n",
       "      <td>0.899355</td>\n",
       "      <td>0.377866</td>\n",
       "      <td>0.880558</td>\n",
       "      <td>0.485665</td>\n",
       "    </tr>\n",
       "    <tr>\n",
       "      <th>1622073600000</th>\n",
       "      <td>0.144702</td>\n",
       "      <td>0.333246</td>\n",
       "      <td>0.409992</td>\n",
       "      <td>0.846648</td>\n",
       "      <td>0.947828</td>\n",
       "      <td>0.507585</td>\n",
       "    </tr>\n",
       "    <tr>\n",
       "      <th>1622160000000</th>\n",
       "      <td>0.556578</td>\n",
       "      <td>0.810359</td>\n",
       "      <td>0.535235</td>\n",
       "      <td>0.176242</td>\n",
       "      <td>0.045081</td>\n",
       "      <td>0.534973</td>\n",
       "    </tr>\n",
       "    <tr>\n",
       "      <th>1622246400000</th>\n",
       "      <td>0.827223</td>\n",
       "      <td>0.464193</td>\n",
       "      <td>0.989342</td>\n",
       "      <td>0.331316</td>\n",
       "      <td>0.898449</td>\n",
       "      <td>0.167392</td>\n",
       "    </tr>\n",
       "  </tbody>\n",
       "</table>\n",
       "</div>"
      ],
      "text/plain": [
       "                      a         b         c         d         e         f\n",
       "1621468800000  0.501960  0.871418  0.896076  0.792122  0.482616  0.496585\n",
       "1621555200000  0.236683  0.983952  0.580205  0.872571  0.353156  0.866261\n",
       "1621641600000  0.218719  0.816218  0.732690  0.219276  0.659985  0.643124\n",
       "1621728000000  0.966307  0.002224  0.377073  0.862146  0.259353  0.646741\n",
       "1621814400000  0.719199  0.737938  0.749671  0.271741  0.326732  0.945160\n",
       "1621900800000  0.836325  0.175179  0.562783  0.727068  0.901610  0.931503\n",
       "1621987200000  0.730000  0.488072  0.899355  0.377866  0.880558  0.485665\n",
       "1622073600000  0.144702  0.333246  0.409992  0.846648  0.947828  0.507585\n",
       "1622160000000  0.556578  0.810359  0.535235  0.176242  0.045081  0.534973\n",
       "1622246400000  0.827223  0.464193  0.989342  0.331316  0.898449  0.167392"
      ]
     },
     "execution_count": 117,
     "metadata": {},
     "output_type": "execute_result"
    }
   ],
   "source": [
    "pd.DataFrame(converted)"
   ]
  },
  {
   "cell_type": "code",
   "execution_count": 118,
   "id": "4a9ffcfd",
   "metadata": {},
   "outputs": [],
   "source": [
    "df.to_json('test')#to store the dataframe in the local system"
   ]
  },
  {
   "cell_type": "code",
   "execution_count": 119,
   "id": "e00f29ea",
   "metadata": {},
   "outputs": [],
   "source": [
    "f=open('test','r')# to open the file test \n",
    "type(f.read()) #the datatype will be string by default if you open in f.read() mode\n",
    "s=f.read()"
   ]
  },
  {
   "cell_type": "code",
   "execution_count": 120,
   "id": "7b00219d",
   "metadata": {},
   "outputs": [],
   "source": [
    "#To convert the string into json we can follow two methods\n",
    "#1. Using eval function\n",
    "#2. Using json.loads()\n",
    "\n",
    "#1. Using eval function\n",
    "f=open('test','r') \n",
    "s=f.read()"
   ]
  },
  {
   "cell_type": "code",
   "execution_count": 121,
   "id": "cbcc5a95",
   "metadata": {},
   "outputs": [
    {
     "data": {
      "text/plain": [
       "'{\"a\":{\"1621468800000\":0.5019599662,\"1621555200000\":0.2366826886,\"1621641600000\":0.2187193647,\"1621728000000\":0.9663073729,\"1621814400000\":0.7191989551,\"1621900800000\":0.8363246515,\"1621987200000\":0.7300001212,\"1622073600000\":0.1447016034,\"1622160000000\":0.5565778985,\"1622246400000\":0.8272232553},\"b\":{\"1621468800000\":0.8714184665,\"1621555200000\":0.983952207,\"1621641600000\":0.8162175654,\"1621728000000\":0.0022235221,\"1621814400000\":0.7379375621,\"1621900800000\":0.1751793901,\"1621987200000\":0.4880724387,\"1622073600000\":0.3332457413,\"1622160000000\":0.8103588165,\"1622246400000\":0.4641926409},\"c\":{\"1621468800000\":0.8960756636,\"1621555200000\":0.5802053027,\"1621641600000\":0.7326898644,\"1621728000000\":0.3770731248,\"1621814400000\":0.7496711978,\"1621900800000\":0.5627832668,\"1621987200000\":0.8993549581,\"1622073600000\":0.4099917446,\"1622160000000\":0.5352347904,\"1622246400000\":0.9893422987},\"d\":{\"1621468800000\":0.792122415,\"1621555200000\":0.8725708129,\"1621641600000\":0.2192757142,\"1621728000000\":0.8621464362,\"1621814400000\":0.2717413626,\"1621900800000\":0.7270677439,\"1621987200000\":0.3778662186,\"1622073600000\":0.8466476402,\"1622160000000\":0.1762419825,\"1622246400000\":0.3313163613},\"e\":{\"1621468800000\":0.4826161827,\"1621555200000\":0.353155929,\"1621641600000\":0.6599847262,\"1621728000000\":0.2593534456,\"1621814400000\":0.3267320039,\"1621900800000\":0.901609692,\"1621987200000\":0.8805582891,\"1622073600000\":0.947827826,\"1622160000000\":0.0450805628,\"1622246400000\":0.8984493475},\"f\":{\"1621468800000\":0.4965849583,\"1621555200000\":0.8662612807,\"1621641600000\":0.6431238912,\"1621728000000\":0.6467405585,\"1621814400000\":0.9451595824,\"1621900800000\":0.9315026293,\"1621987200000\":0.4856647937,\"1622073600000\":0.5075845214,\"1622160000000\":0.5349733565,\"1622246400000\":0.1673917006}}'"
      ]
     },
     "execution_count": 121,
     "metadata": {},
     "output_type": "execute_result"
    }
   ],
   "source": [
    "#1.Using eval function\n",
    "s"
   ]
  },
  {
   "cell_type": "code",
   "execution_count": 122,
   "id": "d42a5732",
   "metadata": {},
   "outputs": [
    {
     "data": {
      "text/plain": [
       "str"
      ]
     },
     "execution_count": 122,
     "metadata": {},
     "output_type": "execute_result"
    }
   ],
   "source": [
    "type(s)"
   ]
  },
  {
   "cell_type": "code",
   "execution_count": 123,
   "id": "8b25f179",
   "metadata": {},
   "outputs": [],
   "source": [
    "dat=eval(s)"
   ]
  },
  {
   "cell_type": "code",
   "execution_count": 140,
   "id": "f63b1c0d",
   "metadata": {},
   "outputs": [
    {
     "data": {
      "text/plain": [
       "dict"
      ]
     },
     "execution_count": 140,
     "metadata": {},
     "output_type": "execute_result"
    }
   ],
   "source": [
    "type(dat)"
   ]
  },
  {
   "cell_type": "code",
   "execution_count": 141,
   "id": "bae73c87",
   "metadata": {},
   "outputs": [
    {
     "data": {
      "text/plain": [
       "{'a': {'1621468800000': 0.5019599662,\n",
       "  '1621555200000': 0.2366826886,\n",
       "  '1621641600000': 0.2187193647,\n",
       "  '1621728000000': 0.9663073729,\n",
       "  '1621814400000': 0.7191989551,\n",
       "  '1621900800000': 0.8363246515,\n",
       "  '1621987200000': 0.7300001212,\n",
       "  '1622073600000': 0.1447016034,\n",
       "  '1622160000000': 0.5565778985,\n",
       "  '1622246400000': 0.8272232553},\n",
       " 'b': {'1621468800000': 0.8714184665,\n",
       "  '1621555200000': 0.983952207,\n",
       "  '1621641600000': 0.8162175654,\n",
       "  '1621728000000': 0.0022235221,\n",
       "  '1621814400000': 0.7379375621,\n",
       "  '1621900800000': 0.1751793901,\n",
       "  '1621987200000': 0.4880724387,\n",
       "  '1622073600000': 0.3332457413,\n",
       "  '1622160000000': 0.8103588165,\n",
       "  '1622246400000': 0.4641926409},\n",
       " 'c': {'1621468800000': 0.8960756636,\n",
       "  '1621555200000': 0.5802053027,\n",
       "  '1621641600000': 0.7326898644,\n",
       "  '1621728000000': 0.3770731248,\n",
       "  '1621814400000': 0.7496711978,\n",
       "  '1621900800000': 0.5627832668,\n",
       "  '1621987200000': 0.8993549581,\n",
       "  '1622073600000': 0.4099917446,\n",
       "  '1622160000000': 0.5352347904,\n",
       "  '1622246400000': 0.9893422987},\n",
       " 'd': {'1621468800000': 0.792122415,\n",
       "  '1621555200000': 0.8725708129,\n",
       "  '1621641600000': 0.2192757142,\n",
       "  '1621728000000': 0.8621464362,\n",
       "  '1621814400000': 0.2717413626,\n",
       "  '1621900800000': 0.7270677439,\n",
       "  '1621987200000': 0.3778662186,\n",
       "  '1622073600000': 0.8466476402,\n",
       "  '1622160000000': 0.1762419825,\n",
       "  '1622246400000': 0.3313163613},\n",
       " 'e': {'1621468800000': 0.4826161827,\n",
       "  '1621555200000': 0.353155929,\n",
       "  '1621641600000': 0.6599847262,\n",
       "  '1621728000000': 0.2593534456,\n",
       "  '1621814400000': 0.3267320039,\n",
       "  '1621900800000': 0.901609692,\n",
       "  '1621987200000': 0.8805582891,\n",
       "  '1622073600000': 0.947827826,\n",
       "  '1622160000000': 0.0450805628,\n",
       "  '1622246400000': 0.8984493475},\n",
       " 'f': {'1621468800000': 0.4965849583,\n",
       "  '1621555200000': 0.8662612807,\n",
       "  '1621641600000': 0.6431238912,\n",
       "  '1621728000000': 0.6467405585,\n",
       "  '1621814400000': 0.9451595824,\n",
       "  '1621900800000': 0.9315026293,\n",
       "  '1621987200000': 0.4856647937,\n",
       "  '1622073600000': 0.5075845214,\n",
       "  '1622160000000': 0.5349733565,\n",
       "  '1622246400000': 0.1673917006}}"
      ]
     },
     "execution_count": 141,
     "metadata": {},
     "output_type": "execute_result"
    }
   ],
   "source": [
    "dat\n"
   ]
  },
  {
   "cell_type": "code",
   "execution_count": 142,
   "id": "8cf5f1bc",
   "metadata": {},
   "outputs": [],
   "source": [
    "#2.Using json.loads()\n",
    "import json\n",
    "converted=json.loads(s)# converted the string to json or dictionary "
   ]
  },
  {
   "cell_type": "code",
   "execution_count": 143,
   "id": "d4ee3661",
   "metadata": {},
   "outputs": [
    {
     "data": {
      "text/plain": [
       "{'a': {'1621468800000': 0.5019599662,\n",
       "  '1621555200000': 0.2366826886,\n",
       "  '1621641600000': 0.2187193647,\n",
       "  '1621728000000': 0.9663073729,\n",
       "  '1621814400000': 0.7191989551,\n",
       "  '1621900800000': 0.8363246515,\n",
       "  '1621987200000': 0.7300001212,\n",
       "  '1622073600000': 0.1447016034,\n",
       "  '1622160000000': 0.5565778985,\n",
       "  '1622246400000': 0.8272232553},\n",
       " 'b': {'1621468800000': 0.8714184665,\n",
       "  '1621555200000': 0.983952207,\n",
       "  '1621641600000': 0.8162175654,\n",
       "  '1621728000000': 0.0022235221,\n",
       "  '1621814400000': 0.7379375621,\n",
       "  '1621900800000': 0.1751793901,\n",
       "  '1621987200000': 0.4880724387,\n",
       "  '1622073600000': 0.3332457413,\n",
       "  '1622160000000': 0.8103588165,\n",
       "  '1622246400000': 0.4641926409},\n",
       " 'c': {'1621468800000': 0.8960756636,\n",
       "  '1621555200000': 0.5802053027,\n",
       "  '1621641600000': 0.7326898644,\n",
       "  '1621728000000': 0.3770731248,\n",
       "  '1621814400000': 0.7496711978,\n",
       "  '1621900800000': 0.5627832668,\n",
       "  '1621987200000': 0.8993549581,\n",
       "  '1622073600000': 0.4099917446,\n",
       "  '1622160000000': 0.5352347904,\n",
       "  '1622246400000': 0.9893422987},\n",
       " 'd': {'1621468800000': 0.792122415,\n",
       "  '1621555200000': 0.8725708129,\n",
       "  '1621641600000': 0.2192757142,\n",
       "  '1621728000000': 0.8621464362,\n",
       "  '1621814400000': 0.2717413626,\n",
       "  '1621900800000': 0.7270677439,\n",
       "  '1621987200000': 0.3778662186,\n",
       "  '1622073600000': 0.8466476402,\n",
       "  '1622160000000': 0.1762419825,\n",
       "  '1622246400000': 0.3313163613},\n",
       " 'e': {'1621468800000': 0.4826161827,\n",
       "  '1621555200000': 0.353155929,\n",
       "  '1621641600000': 0.6599847262,\n",
       "  '1621728000000': 0.2593534456,\n",
       "  '1621814400000': 0.3267320039,\n",
       "  '1621900800000': 0.901609692,\n",
       "  '1621987200000': 0.8805582891,\n",
       "  '1622073600000': 0.947827826,\n",
       "  '1622160000000': 0.0450805628,\n",
       "  '1622246400000': 0.8984493475},\n",
       " 'f': {'1621468800000': 0.4965849583,\n",
       "  '1621555200000': 0.8662612807,\n",
       "  '1621641600000': 0.6431238912,\n",
       "  '1621728000000': 0.6467405585,\n",
       "  '1621814400000': 0.9451595824,\n",
       "  '1621900800000': 0.9315026293,\n",
       "  '1621987200000': 0.4856647937,\n",
       "  '1622073600000': 0.5075845214,\n",
       "  '1622160000000': 0.5349733565,\n",
       "  '1622246400000': 0.1673917006}}"
      ]
     },
     "execution_count": 143,
     "metadata": {},
     "output_type": "execute_result"
    }
   ],
   "source": [
    "converted"
   ]
  },
  {
   "cell_type": "code",
   "execution_count": 144,
   "id": "35937f25",
   "metadata": {},
   "outputs": [
    {
     "data": {
      "text/plain": [
       "dict"
      ]
     },
     "execution_count": 144,
     "metadata": {},
     "output_type": "execute_result"
    }
   ],
   "source": [
    "type(converted)"
   ]
  },
  {
   "cell_type": "code",
   "execution_count": 145,
   "id": "9cde2172",
   "metadata": {},
   "outputs": [
    {
     "data": {
      "text/html": [
       "<div>\n",
       "<style scoped>\n",
       "    .dataframe tbody tr th:only-of-type {\n",
       "        vertical-align: middle;\n",
       "    }\n",
       "\n",
       "    .dataframe tbody tr th {\n",
       "        vertical-align: top;\n",
       "    }\n",
       "\n",
       "    .dataframe thead th {\n",
       "        text-align: right;\n",
       "    }\n",
       "</style>\n",
       "<table border=\"1\" class=\"dataframe\">\n",
       "  <thead>\n",
       "    <tr style=\"text-align: right;\">\n",
       "      <th></th>\n",
       "      <th>a</th>\n",
       "      <th>b</th>\n",
       "      <th>c</th>\n",
       "      <th>d</th>\n",
       "      <th>e</th>\n",
       "      <th>f</th>\n",
       "    </tr>\n",
       "  </thead>\n",
       "  <tbody>\n",
       "    <tr>\n",
       "      <th>1621468800000</th>\n",
       "      <td>0.501960</td>\n",
       "      <td>0.871418</td>\n",
       "      <td>0.896076</td>\n",
       "      <td>0.792122</td>\n",
       "      <td>0.482616</td>\n",
       "      <td>0.496585</td>\n",
       "    </tr>\n",
       "    <tr>\n",
       "      <th>1621555200000</th>\n",
       "      <td>0.236683</td>\n",
       "      <td>0.983952</td>\n",
       "      <td>0.580205</td>\n",
       "      <td>0.872571</td>\n",
       "      <td>0.353156</td>\n",
       "      <td>0.866261</td>\n",
       "    </tr>\n",
       "    <tr>\n",
       "      <th>1621641600000</th>\n",
       "      <td>0.218719</td>\n",
       "      <td>0.816218</td>\n",
       "      <td>0.732690</td>\n",
       "      <td>0.219276</td>\n",
       "      <td>0.659985</td>\n",
       "      <td>0.643124</td>\n",
       "    </tr>\n",
       "    <tr>\n",
       "      <th>1621728000000</th>\n",
       "      <td>0.966307</td>\n",
       "      <td>0.002224</td>\n",
       "      <td>0.377073</td>\n",
       "      <td>0.862146</td>\n",
       "      <td>0.259353</td>\n",
       "      <td>0.646741</td>\n",
       "    </tr>\n",
       "    <tr>\n",
       "      <th>1621814400000</th>\n",
       "      <td>0.719199</td>\n",
       "      <td>0.737938</td>\n",
       "      <td>0.749671</td>\n",
       "      <td>0.271741</td>\n",
       "      <td>0.326732</td>\n",
       "      <td>0.945160</td>\n",
       "    </tr>\n",
       "    <tr>\n",
       "      <th>1621900800000</th>\n",
       "      <td>0.836325</td>\n",
       "      <td>0.175179</td>\n",
       "      <td>0.562783</td>\n",
       "      <td>0.727068</td>\n",
       "      <td>0.901610</td>\n",
       "      <td>0.931503</td>\n",
       "    </tr>\n",
       "    <tr>\n",
       "      <th>1621987200000</th>\n",
       "      <td>0.730000</td>\n",
       "      <td>0.488072</td>\n",
       "      <td>0.899355</td>\n",
       "      <td>0.377866</td>\n",
       "      <td>0.880558</td>\n",
       "      <td>0.485665</td>\n",
       "    </tr>\n",
       "    <tr>\n",
       "      <th>1622073600000</th>\n",
       "      <td>0.144702</td>\n",
       "      <td>0.333246</td>\n",
       "      <td>0.409992</td>\n",
       "      <td>0.846648</td>\n",
       "      <td>0.947828</td>\n",
       "      <td>0.507585</td>\n",
       "    </tr>\n",
       "    <tr>\n",
       "      <th>1622160000000</th>\n",
       "      <td>0.556578</td>\n",
       "      <td>0.810359</td>\n",
       "      <td>0.535235</td>\n",
       "      <td>0.176242</td>\n",
       "      <td>0.045081</td>\n",
       "      <td>0.534973</td>\n",
       "    </tr>\n",
       "    <tr>\n",
       "      <th>1622246400000</th>\n",
       "      <td>0.827223</td>\n",
       "      <td>0.464193</td>\n",
       "      <td>0.989342</td>\n",
       "      <td>0.331316</td>\n",
       "      <td>0.898449</td>\n",
       "      <td>0.167392</td>\n",
       "    </tr>\n",
       "  </tbody>\n",
       "</table>\n",
       "</div>"
      ],
      "text/plain": [
       "                      a         b         c         d         e         f\n",
       "1621468800000  0.501960  0.871418  0.896076  0.792122  0.482616  0.496585\n",
       "1621555200000  0.236683  0.983952  0.580205  0.872571  0.353156  0.866261\n",
       "1621641600000  0.218719  0.816218  0.732690  0.219276  0.659985  0.643124\n",
       "1621728000000  0.966307  0.002224  0.377073  0.862146  0.259353  0.646741\n",
       "1621814400000  0.719199  0.737938  0.749671  0.271741  0.326732  0.945160\n",
       "1621900800000  0.836325  0.175179  0.562783  0.727068  0.901610  0.931503\n",
       "1621987200000  0.730000  0.488072  0.899355  0.377866  0.880558  0.485665\n",
       "1622073600000  0.144702  0.333246  0.409992  0.846648  0.947828  0.507585\n",
       "1622160000000  0.556578  0.810359  0.535235  0.176242  0.045081  0.534973\n",
       "1622246400000  0.827223  0.464193  0.989342  0.331316  0.898449  0.167392"
      ]
     },
     "execution_count": 145,
     "metadata": {},
     "output_type": "execute_result"
    }
   ],
   "source": [
    "pd.DataFrame(converted)"
   ]
  },
  {
   "cell_type": "code",
   "execution_count": 146,
   "id": "d1cff69f",
   "metadata": {},
   "outputs": [],
   "source": [
    "import requests # to pull the raw data from json format from website"
   ]
  },
  {
   "cell_type": "code",
   "execution_count": 147,
   "id": "a72969e1",
   "metadata": {},
   "outputs": [],
   "source": [
    "data=requests.get('https://gist.githubusercontent.com/ski7777/04d63680373f11e32a98adc11928cf7e/raw/f0d4b026cffe4d2c15ecf05a36473bb9f5d81aab/raw.json')"
   ]
  },
  {
   "cell_type": "code",
   "execution_count": 148,
   "id": "8da4949f",
   "metadata": {},
   "outputs": [],
   "source": [
    "h=data.json()"
   ]
  },
  {
   "cell_type": "code",
   "execution_count": 149,
   "id": "f11fd896",
   "metadata": {},
   "outputs": [
    {
     "data": {
      "text/plain": [
       "{'appName': {'Microsoft Internet Explorer': 1, 'Netscape': 837},\n",
       " 'appVersion': {'4.0 (compatible; MSIE 7.0; Windows NT 5.1; Trident/4.0)': 1,\n",
       "  '5.0 (Android)': 3,\n",
       "  '5.0 (Linux; Android 6.0.1; GT-I9195 Build/MOB30D) AppleWebKit/537.36 (KHTML, like Gecko) Chrome/52.0.2718.2 Mobile Safari/537.36': 10,\n",
       "  '5.0 (Linux; Android 6.0.1; GT-I9195 Build/MOB30D) AppleWebKit/537.36 (KHTML, like Gecko) Chrome/52.0.2723.0 Mobile Safari/537.36': 10,\n",
       "  '5.0 (Linux; Android 6.0.1; GT-I9195 Build/MOB30D) AppleWebKit/537.36 (KHTML, like Gecko) Chrome/52.0.2739.3 Mobile Safari/537.36': 5,\n",
       "  '5.0 (Linux; Android 6.0.1; GT-I9195 Build/MOB30D) AppleWebKit/537.36 (KHTML, like Gecko) Chrome/52.0.2743.8 Mobile Safari/537.36': 3,\n",
       "  '5.0 (Linux; Android 6.0.1; GT-I9195 Build/MOB30J) AppleWebKit/537.36 (KHTML, like Gecko) Chrome/52.0.2743.8 Mobile Safari/537.36': 1,\n",
       "  '5.0 (Windows NT 10.0) AppleWebKit/537.36 (KHTML, like Gecko) Chrome/50.0.2661.94 Safari/537.36': 4,\n",
       "  '5.0 (Windows NT 10.0; WOW64; Trident/7.0; .NET4.0C; .NET4.0E; InfoPath.3; Tablet PC 2.0; rv:11.0) like Gecko': 3,\n",
       "  '5.0 (Windows NT 10.0; Win64; x64) AppleWebKit/537.36 (KHTML, like Gecko) Chrome/46.0.2486.0 Safari/537.36 Edge/13.10586': 15,\n",
       "  '5.0 (Windows NT 10.0; Win64; x64) AppleWebKit/537.36 (KHTML, like Gecko) Chrome/49.0.2623.112 Safari/537.36': 23,\n",
       "  '5.0 (Windows NT 10.0; Win64; x64) AppleWebKit/537.36 (KHTML, like Gecko) Chrome/50.0.2661.102 Safari/537.36': 124,\n",
       "  '5.0 (Windows NT 10.0; Win64; x64) AppleWebKit/537.36 (KHTML, like Gecko) Chrome/50.0.2661.94 Safari/537.36': 18,\n",
       "  '5.0 (Windows NT 6.2; Win64; x64) AppleWebKit/537.36 (KHTML, like Gecko) Chrome/37.0.2062.94 Safari/537.36': 16,\n",
       "  '5.0 (Windows)': 525,\n",
       "  '5.0 (X11)': 40,\n",
       "  '5.0 (X11; Linux x86_64) AppleWebKit/537.36 (KHTML, like Gecko) Chrome/52.0.2743.8 Safari/537.36': 29,\n",
       "  '5.0 (iPad; CPU OS 9_3_1 like Mac OS X) AppleWebKit/601.1.46 (KHTML, like Gecko) Version/9.0 Mobile/13E238 Safari/601.1': 5,\n",
       "  '5.0 (iPhone; CPU iPhone OS 7_1_2 like Mac OS X) AppleWebKit/537.51.2 (KHTML, like Gecko) Version/7.0 Mobile/11D257 Safari/9537.53': 2,\n",
       "  '5.0%2…4': 1},\n",
       " 'appCodeName': {'Mozilla': 837},\n",
       " 'platform': {'Linux armv6l': 33,\n",
       "  'Linux armv7l': 61,\n",
       "  'Linux i686': 6,\n",
       "  'Linux x86_64': 1,\n",
       "  'Win32': 729,\n",
       "  'iPad': 5,\n",
       "  'iPhone': 2},\n",
       " 'lang': {'de': 755, 'de-DE': 18, 'de-de': 7, 'en-US': 56, 'undefined': 1},\n",
       " 'userAgent': {'Mozilla/4.0 (compatible; MSIE 7.0; Windows NT 5.1; Trident/4.0)': 1,\n",
       "  'Mozilla/5.0 (Android; Mobile; rv:40.0) Gecko/40.0 Firefox/40.0': 3,\n",
       "  'Mozilla/5.0 (Linux; Android 6.0.1; GT-I9195 Build/MOB30D) AppleWebKit/537.36 (KHTML, like Gecko) Chrome/52.0.2718.2 Mobile Safari/537.36': 10,\n",
       "  'Mozilla/5.0 (Linux; Android 6.0.1; GT-I9195 Build/MOB30D) AppleWebKit/537.36 (KHTML, like Gecko) Chrome/52.0.2723.0 Mobile Safari/537.36': 10,\n",
       "  'Mozilla/5.0 (Linux; Android 6.0.1; GT-I9195 Build/MOB30D) AppleWebKit/537.36 (KHTML, like Gecko) Chrome/52.0.2739.3 Mobile Safari/537.36': 5,\n",
       "  'Mozilla/5.0 (Linux; Android 6.0.1; GT-I9195 Build/MOB30D) AppleWebKit/537.36 (KHTML, like Gecko) Chrome/52.0.2743.8 Mobile Safari/537.36': 3,\n",
       "  'Mozilla/5.0 (Linux; Android 6.0.1; GT-I9195 Build/MOB30J) AppleWebKit/537.36 (KHTML, like Gecko) Chrome/52.0.2743.8 Mobile Safari/537.36': 1,\n",
       "  'Mozilla/5.0 (Windows NT 10.0) AppleWebKit/537.36 (KHTML, like Gecko) Chrome/50.0.2661.94 Safari/537.36': 4,\n",
       "  'Mozilla/5.0 (Windows NT 10.0; WOW64; Trident/7.0; .NET4.0C; .NET4.0E; InfoPath.3; Tablet PC 2.0; rv:11.0) like Gecko': 3,\n",
       "  'Mozilla/5.0 (Windows NT 10.0; WOW64; rv:45.0) Gecko/20100101 Firefox/45.0': 36,\n",
       "  'Mozilla/5.0 (Windows NT 10.0; WOW64; rv:46.0) Gecko/20100101 Firefox/46.0': 489,\n",
       "  'Mozilla/5.0 (Windows NT 10.0; Win64; x64) AppleWebKit/537.36 (KHTML, like Gecko) Chrome/46.0.2486.0 Safari/537.36 Edge/13.10586': 15,\n",
       "  'Mozilla/5.0 (Windows NT 10.0; Win64; x64) AppleWebKit/537.36 (KHTML, like Gecko) Chrome/49.0.2623.112 Safari/537.36': 23,\n",
       "  'Mozilla/5.0 (Windows NT 10.0; Win64; x64) AppleWebKit/537.36 (KHTML, like Gecko) Chrome/50.0.2661.102 Safari/537.36': 124,\n",
       "  'Mozilla/5.0 (Windows NT 10.0; Win64; x64) AppleWebKit/537.36 (KHTML, like Gecko) Chrome/50.0.2661.94 Safari/537.36': 18,\n",
       "  'Mozilla/5.0 (Windows NT 6.2; Win64; x64) AppleWebKit/537.36 (KHTML, like Gecko) Chrome/37.0.2062.94 Safari/537.36': 16,\n",
       "  'Mozilla/5.0 (X11; Linux armv6l; rv:38.0) Gecko/20100101 Firefox/38.0 Iceweasel/38.8.0': 33,\n",
       "  'Mozilla/5.0 (X11; Linux i686; rv:43.0) Gecko/20100101 Firefox/43.0 Iceweasel/43.0.4': 6,\n",
       "  'Mozilla/5.0 (X11; Linux x86_64) AppleWebKit/537.36 (KHTML, like Gecko) Chrome/52.0.2743.8 Safari/537.36': 29,\n",
       "  'Mozilla/5.0 (X11; Linux x86_64; rv:46.0) Gecko/20100101 Firefox/46.0': 1,\n",
       "  'Mozilla/5.0 (iPad; CPU OS 9_3_1 like Mac OS X) AppleWebKit/601.1.46 (KHTML, like Gecko) Version/9.0 Mobile/13E238 Safari/601.1': 5,\n",
       "  'Mozilla/5.0 (iPhone; CPU iPhone OS 7_1_2 like Mac OS X) AppleWebKit/537.51.2 (KHTML, like Gecko) Version/7.0 Mobile/11D257 Safari/9537.53': 2},\n",
       " 'Java': {'false': 350, 'true': 487},\n",
       " 'CoresCPU': {'2': 62, '4': 181, 'undefined': 594},\n",
       " 'windowHeight': {'40': 3,\n",
       "  '120': 1,\n",
       "  '244': 1,\n",
       "  '297': 1,\n",
       "  '317': 3,\n",
       "  '415': 2,\n",
       "  '429': 1,\n",
       "  '437': 6,\n",
       "  '446': 5,\n",
       "  '480': 3,\n",
       "  '505': 1,\n",
       "  '517': 5,\n",
       "  '518': 1,\n",
       "  '529': 5,\n",
       "  '599': 1,\n",
       "  '623': 7,\n",
       "  '643': 4,\n",
       "  '650': 1,\n",
       "  '654': 2,\n",
       "  '675': 4,\n",
       "  '698': 4,\n",
       "  '704': 2,\n",
       "  '719': 65,\n",
       "  '721': 14,\n",
       "  '725': 3,\n",
       "  '743': 5,\n",
       "  '762': 1,\n",
       "  '773': 1,\n",
       "  '793': 9,\n",
       "  '795': 2,\n",
       "  '799': 2,\n",
       "  '837': 2,\n",
       "  '845': 1,\n",
       "  '858': 1,\n",
       "  '863': 1,\n",
       "  '870': 24,\n",
       "  '876': 1,\n",
       "  '892': 40,\n",
       "  '909': 6,\n",
       "  '914': 101,\n",
       "  '925': 5,\n",
       "  '930': 1,\n",
       "  '931': 247,\n",
       "  '938': 1,\n",
       "  '947': 153,\n",
       "  '971': 5,\n",
       "  '983': 1,\n",
       "  '1039': 1,\n",
       "  '1079': 1,\n",
       "  '1080': 12,\n",
       "  '1105': 1,\n",
       "  '1184': 1,\n",
       "  '1199': 6,\n",
       "  '1525': 55,\n",
       "  '1574': 2,\n",
       "  '1677': 1,\n",
       "  '2160': 1,\n",
       "  'undefined': 1},\n",
       " 'windowWidth': {'343': 4,\n",
       "  '380': 1,\n",
       "  '407': 1,\n",
       "  '480': 1,\n",
       "  '555': 8,\n",
       "  '630': 1,\n",
       "  '638': 7,\n",
       "  '639': 6,\n",
       "  '654': 1,\n",
       "  '656': 1,\n",
       "  '674': 3,\n",
       "  '753': 11,\n",
       "  '786': 1,\n",
       "  '792': 1,\n",
       "  '951': 25,\n",
       "  '956': 15,\n",
       "  '958': 6,\n",
       "  '980': 64,\n",
       "  '981': 2,\n",
       "  '1024': 8,\n",
       "  '1072': 3,\n",
       "  '1147': 6,\n",
       "  '1152': 1,\n",
       "  '1176': 5,\n",
       "  '1184': 7,\n",
       "  '1187': 5,\n",
       "  '1200': 1,\n",
       "  '1268': 1,\n",
       "  '1280': 336,\n",
       "  '1300': 2,\n",
       "  '1325': 1,\n",
       "  '1568': 1,\n",
       "  '1670': 2,\n",
       "  '1684': 9,\n",
       "  '1912': 1,\n",
       "  '1920': 284,\n",
       "  '2021': 1,\n",
       "  '3200': 2,\n",
       "  '4096': 1,\n",
       "  'undefined': 1},\n",
       " 'maxHeight': {'40': 3,\n",
       "  '120': 1,\n",
       "  '360': 1,\n",
       "  '416': 2,\n",
       "  '480': 2,\n",
       "  '533': 3,\n",
       "  '569': 6,\n",
       "  '600': 2,\n",
       "  '624': 12,\n",
       "  '640': 57,\n",
       "  '720': 1,\n",
       "  '748': 4,\n",
       "  '760': 4,\n",
       "  '800': 2,\n",
       "  '813': 90,\n",
       "  '820': 3,\n",
       "  '864': 1,\n",
       "  '890': 2,\n",
       "  '895': 12,\n",
       "  '904': 2,\n",
       "  '999': 165,\n",
       "  '1004': 1,\n",
       "  '1024': 258,\n",
       "  '1040': 176,\n",
       "  '1050': 1,\n",
       "  '1052': 1,\n",
       "  '1080': 13,\n",
       "  '1084': 1,\n",
       "  '1161': 1,\n",
       "  '1200': 7,\n",
       "  '1700': 3},\n",
       " 'maxWidth': {'300': 2,\n",
       "  '320': 3,\n",
       "  '360': 57,\n",
       "  '640': 1,\n",
       "  '654': 1,\n",
       "  '656': 1,\n",
       "  '768': 1,\n",
       "  '800': 1,\n",
       "  '1024': 12,\n",
       "  '1080': 3,\n",
       "  '1152': 1,\n",
       "  '1184': 12,\n",
       "  '1200': 1,\n",
       "  '1280': 353,\n",
       "  '1308': 2,\n",
       "  '1670': 2,\n",
       "  '1680': 1,\n",
       "  '1684': 12,\n",
       "  '1920': 366,\n",
       "  '2021': 1,\n",
       "  '2144': 1,\n",
       "  '3200': 3},\n",
       " 'pixeldepth': {'0': 16, '16': 33, '24': 722, '32': 65, 'undefined': 1},\n",
       " 'colordepth': {'0': 16, '16': 33, '24': 722, '32': 66},\n",
       " 'screenHeight': {'40': 3,\n",
       "  '120': 1,\n",
       "  '360': 1,\n",
       "  '416': 2,\n",
       "  '480': 3,\n",
       "  '533': 3,\n",
       "  '600': 8,\n",
       "  '624': 12,\n",
       "  '640': 57,\n",
       "  '720': 1,\n",
       "  '800': 6,\n",
       "  '820': 3,\n",
       "  '853': 90,\n",
       "  '864': 1,\n",
       "  '890': 2,\n",
       "  '939': 2,\n",
       "  '947': 12,\n",
       "  '1024': 263,\n",
       "  '1050': 1,\n",
       "  '1080': 354,\n",
       "  '1137': 1,\n",
       "  '1200': 7,\n",
       "  '1206': 1,\n",
       "  '1800': 3,\n",
       "  '2160': 1},\n",
       " 'screenWidth': {'320': 5,\n",
       "  '360': 57,\n",
       "  '640': 1,\n",
       "  '654': 1,\n",
       "  '656': 1,\n",
       "  '768': 5,\n",
       "  '786': 1,\n",
       "  '800': 1,\n",
       "  '1024': 8,\n",
       "  '1080': 3,\n",
       "  '1152': 1,\n",
       "  '1184': 12,\n",
       "  '1200': 1,\n",
       "  '1280': 353,\n",
       "  '1308': 2,\n",
       "  '1670': 2,\n",
       "  '1680': 1,\n",
       "  '1684': 12,\n",
       "  '1920': 365,\n",
       "  '2021': 1,\n",
       "  '2144': 1,\n",
       "  '3200': 3,\n",
       "  '4096': 1},\n",
       " 'hour': {'10': 77,\n",
       "  '11': 26,\n",
       "  '12': 65,\n",
       "  '13': 39,\n",
       "  '14': 28,\n",
       "  '15': 47,\n",
       "  '16': 115,\n",
       "  '17': 45,\n",
       "  '18': 51,\n",
       "  '19': 54,\n",
       "  '20': 84,\n",
       "  '21': 153,\n",
       "  '22': 65,\n",
       "  '23': 8,\n",
       "  '00': 6,\n",
       "  '02': 2,\n",
       "  '04': 1,\n",
       "  '06': 26,\n",
       "  '07': 26,\n",
       "  '08': 27,\n",
       "  '09': 20},\n",
       " 'weekday': {'Fri': 304,\n",
       "  'Mon': 68,\n",
       "  'Sat': 232,\n",
       "  'Sun': 78,\n",
       "  'Thu': 177,\n",
       "  'Tue': 50,\n",
       "  'Wed': 56},\n",
       " 'status': 'OK',\n",
       " 'info': 'All Data was ejected. please keep in mind, that your number of Requests is limited. Please ask for additional requests the Administrator of this site.'}"
      ]
     },
     "execution_count": 149,
     "metadata": {},
     "output_type": "execute_result"
    }
   ],
   "source": [
    "h"
   ]
  },
  {
   "cell_type": "code",
   "execution_count": 150,
   "id": "5d6b2602",
   "metadata": {},
   "outputs": [
    {
     "data": {
      "text/plain": [
       "dict"
      ]
     },
     "execution_count": 150,
     "metadata": {},
     "output_type": "execute_result"
    }
   ],
   "source": [
    "type(h)"
   ]
  },
  {
   "cell_type": "code",
   "execution_count": 151,
   "id": "0a9d54a9",
   "metadata": {},
   "outputs": [
    {
     "data": {
      "text/html": [
       "<div>\n",
       "<style scoped>\n",
       "    .dataframe tbody tr th:only-of-type {\n",
       "        vertical-align: middle;\n",
       "    }\n",
       "\n",
       "    .dataframe tbody tr th {\n",
       "        vertical-align: top;\n",
       "    }\n",
       "\n",
       "    .dataframe thead th {\n",
       "        text-align: right;\n",
       "    }\n",
       "</style>\n",
       "<table border=\"1\" class=\"dataframe\">\n",
       "  <thead>\n",
       "    <tr style=\"text-align: right;\">\n",
       "      <th></th>\n",
       "      <th>appName</th>\n",
       "      <th>appVersion</th>\n",
       "      <th>appCodeName</th>\n",
       "      <th>platform</th>\n",
       "      <th>lang</th>\n",
       "      <th>userAgent</th>\n",
       "      <th>Java</th>\n",
       "      <th>CoresCPU</th>\n",
       "      <th>windowHeight</th>\n",
       "      <th>windowWidth</th>\n",
       "      <th>maxHeight</th>\n",
       "      <th>maxWidth</th>\n",
       "      <th>pixeldepth</th>\n",
       "      <th>colordepth</th>\n",
       "      <th>screenHeight</th>\n",
       "      <th>screenWidth</th>\n",
       "      <th>hour</th>\n",
       "      <th>weekday</th>\n",
       "      <th>status</th>\n",
       "      <th>info</th>\n",
       "    </tr>\n",
       "  </thead>\n",
       "  <tbody>\n",
       "    <tr>\n",
       "      <th>Microsoft Internet Explorer</th>\n",
       "      <td>1.0</td>\n",
       "      <td>NaN</td>\n",
       "      <td>NaN</td>\n",
       "      <td>NaN</td>\n",
       "      <td>NaN</td>\n",
       "      <td>NaN</td>\n",
       "      <td>NaN</td>\n",
       "      <td>NaN</td>\n",
       "      <td>NaN</td>\n",
       "      <td>NaN</td>\n",
       "      <td>NaN</td>\n",
       "      <td>NaN</td>\n",
       "      <td>NaN</td>\n",
       "      <td>NaN</td>\n",
       "      <td>NaN</td>\n",
       "      <td>NaN</td>\n",
       "      <td>NaN</td>\n",
       "      <td>NaN</td>\n",
       "      <td>OK</td>\n",
       "      <td>All Data was ejected. please keep in mind, tha...</td>\n",
       "    </tr>\n",
       "    <tr>\n",
       "      <th>Netscape</th>\n",
       "      <td>837.0</td>\n",
       "      <td>NaN</td>\n",
       "      <td>NaN</td>\n",
       "      <td>NaN</td>\n",
       "      <td>NaN</td>\n",
       "      <td>NaN</td>\n",
       "      <td>NaN</td>\n",
       "      <td>NaN</td>\n",
       "      <td>NaN</td>\n",
       "      <td>NaN</td>\n",
       "      <td>NaN</td>\n",
       "      <td>NaN</td>\n",
       "      <td>NaN</td>\n",
       "      <td>NaN</td>\n",
       "      <td>NaN</td>\n",
       "      <td>NaN</td>\n",
       "      <td>NaN</td>\n",
       "      <td>NaN</td>\n",
       "      <td>OK</td>\n",
       "      <td>All Data was ejected. please keep in mind, tha...</td>\n",
       "    </tr>\n",
       "    <tr>\n",
       "      <th>4.0 (compatible; MSIE 7.0; Windows NT 5.1; Trident/4.0)</th>\n",
       "      <td>NaN</td>\n",
       "      <td>1.0</td>\n",
       "      <td>NaN</td>\n",
       "      <td>NaN</td>\n",
       "      <td>NaN</td>\n",
       "      <td>NaN</td>\n",
       "      <td>NaN</td>\n",
       "      <td>NaN</td>\n",
       "      <td>NaN</td>\n",
       "      <td>NaN</td>\n",
       "      <td>NaN</td>\n",
       "      <td>NaN</td>\n",
       "      <td>NaN</td>\n",
       "      <td>NaN</td>\n",
       "      <td>NaN</td>\n",
       "      <td>NaN</td>\n",
       "      <td>NaN</td>\n",
       "      <td>NaN</td>\n",
       "      <td>OK</td>\n",
       "      <td>All Data was ejected. please keep in mind, tha...</td>\n",
       "    </tr>\n",
       "    <tr>\n",
       "      <th>5.0 (Android)</th>\n",
       "      <td>NaN</td>\n",
       "      <td>3.0</td>\n",
       "      <td>NaN</td>\n",
       "      <td>NaN</td>\n",
       "      <td>NaN</td>\n",
       "      <td>NaN</td>\n",
       "      <td>NaN</td>\n",
       "      <td>NaN</td>\n",
       "      <td>NaN</td>\n",
       "      <td>NaN</td>\n",
       "      <td>NaN</td>\n",
       "      <td>NaN</td>\n",
       "      <td>NaN</td>\n",
       "      <td>NaN</td>\n",
       "      <td>NaN</td>\n",
       "      <td>NaN</td>\n",
       "      <td>NaN</td>\n",
       "      <td>NaN</td>\n",
       "      <td>OK</td>\n",
       "      <td>All Data was ejected. please keep in mind, tha...</td>\n",
       "    </tr>\n",
       "    <tr>\n",
       "      <th>5.0 (Linux; Android 6.0.1; GT-I9195 Build/MOB30D) AppleWebKit/537.36 (KHTML, like Gecko) Chrome/52.0.2718.2 Mobile Safari/537.36</th>\n",
       "      <td>NaN</td>\n",
       "      <td>10.0</td>\n",
       "      <td>NaN</td>\n",
       "      <td>NaN</td>\n",
       "      <td>NaN</td>\n",
       "      <td>NaN</td>\n",
       "      <td>NaN</td>\n",
       "      <td>NaN</td>\n",
       "      <td>NaN</td>\n",
       "      <td>NaN</td>\n",
       "      <td>NaN</td>\n",
       "      <td>NaN</td>\n",
       "      <td>NaN</td>\n",
       "      <td>NaN</td>\n",
       "      <td>NaN</td>\n",
       "      <td>NaN</td>\n",
       "      <td>NaN</td>\n",
       "      <td>NaN</td>\n",
       "      <td>OK</td>\n",
       "      <td>All Data was ejected. please keep in mind, tha...</td>\n",
       "    </tr>\n",
       "    <tr>\n",
       "      <th>...</th>\n",
       "      <td>...</td>\n",
       "      <td>...</td>\n",
       "      <td>...</td>\n",
       "      <td>...</td>\n",
       "      <td>...</td>\n",
       "      <td>...</td>\n",
       "      <td>...</td>\n",
       "      <td>...</td>\n",
       "      <td>...</td>\n",
       "      <td>...</td>\n",
       "      <td>...</td>\n",
       "      <td>...</td>\n",
       "      <td>...</td>\n",
       "      <td>...</td>\n",
       "      <td>...</td>\n",
       "      <td>...</td>\n",
       "      <td>...</td>\n",
       "      <td>...</td>\n",
       "      <td>...</td>\n",
       "      <td>...</td>\n",
       "    </tr>\n",
       "    <tr>\n",
       "      <th>Sat</th>\n",
       "      <td>NaN</td>\n",
       "      <td>NaN</td>\n",
       "      <td>NaN</td>\n",
       "      <td>NaN</td>\n",
       "      <td>NaN</td>\n",
       "      <td>NaN</td>\n",
       "      <td>NaN</td>\n",
       "      <td>NaN</td>\n",
       "      <td>NaN</td>\n",
       "      <td>NaN</td>\n",
       "      <td>NaN</td>\n",
       "      <td>NaN</td>\n",
       "      <td>NaN</td>\n",
       "      <td>NaN</td>\n",
       "      <td>NaN</td>\n",
       "      <td>NaN</td>\n",
       "      <td>NaN</td>\n",
       "      <td>232.0</td>\n",
       "      <td>OK</td>\n",
       "      <td>All Data was ejected. please keep in mind, tha...</td>\n",
       "    </tr>\n",
       "    <tr>\n",
       "      <th>Sun</th>\n",
       "      <td>NaN</td>\n",
       "      <td>NaN</td>\n",
       "      <td>NaN</td>\n",
       "      <td>NaN</td>\n",
       "      <td>NaN</td>\n",
       "      <td>NaN</td>\n",
       "      <td>NaN</td>\n",
       "      <td>NaN</td>\n",
       "      <td>NaN</td>\n",
       "      <td>NaN</td>\n",
       "      <td>NaN</td>\n",
       "      <td>NaN</td>\n",
       "      <td>NaN</td>\n",
       "      <td>NaN</td>\n",
       "      <td>NaN</td>\n",
       "      <td>NaN</td>\n",
       "      <td>NaN</td>\n",
       "      <td>78.0</td>\n",
       "      <td>OK</td>\n",
       "      <td>All Data was ejected. please keep in mind, tha...</td>\n",
       "    </tr>\n",
       "    <tr>\n",
       "      <th>Thu</th>\n",
       "      <td>NaN</td>\n",
       "      <td>NaN</td>\n",
       "      <td>NaN</td>\n",
       "      <td>NaN</td>\n",
       "      <td>NaN</td>\n",
       "      <td>NaN</td>\n",
       "      <td>NaN</td>\n",
       "      <td>NaN</td>\n",
       "      <td>NaN</td>\n",
       "      <td>NaN</td>\n",
       "      <td>NaN</td>\n",
       "      <td>NaN</td>\n",
       "      <td>NaN</td>\n",
       "      <td>NaN</td>\n",
       "      <td>NaN</td>\n",
       "      <td>NaN</td>\n",
       "      <td>NaN</td>\n",
       "      <td>177.0</td>\n",
       "      <td>OK</td>\n",
       "      <td>All Data was ejected. please keep in mind, tha...</td>\n",
       "    </tr>\n",
       "    <tr>\n",
       "      <th>Tue</th>\n",
       "      <td>NaN</td>\n",
       "      <td>NaN</td>\n",
       "      <td>NaN</td>\n",
       "      <td>NaN</td>\n",
       "      <td>NaN</td>\n",
       "      <td>NaN</td>\n",
       "      <td>NaN</td>\n",
       "      <td>NaN</td>\n",
       "      <td>NaN</td>\n",
       "      <td>NaN</td>\n",
       "      <td>NaN</td>\n",
       "      <td>NaN</td>\n",
       "      <td>NaN</td>\n",
       "      <td>NaN</td>\n",
       "      <td>NaN</td>\n",
       "      <td>NaN</td>\n",
       "      <td>NaN</td>\n",
       "      <td>50.0</td>\n",
       "      <td>OK</td>\n",
       "      <td>All Data was ejected. please keep in mind, tha...</td>\n",
       "    </tr>\n",
       "    <tr>\n",
       "      <th>Wed</th>\n",
       "      <td>NaN</td>\n",
       "      <td>NaN</td>\n",
       "      <td>NaN</td>\n",
       "      <td>NaN</td>\n",
       "      <td>NaN</td>\n",
       "      <td>NaN</td>\n",
       "      <td>NaN</td>\n",
       "      <td>NaN</td>\n",
       "      <td>NaN</td>\n",
       "      <td>NaN</td>\n",
       "      <td>NaN</td>\n",
       "      <td>NaN</td>\n",
       "      <td>NaN</td>\n",
       "      <td>NaN</td>\n",
       "      <td>NaN</td>\n",
       "      <td>NaN</td>\n",
       "      <td>NaN</td>\n",
       "      <td>56.0</td>\n",
       "      <td>OK</td>\n",
       "      <td>All Data was ejected. please keep in mind, tha...</td>\n",
       "    </tr>\n",
       "  </tbody>\n",
       "</table>\n",
       "<p>221 rows × 20 columns</p>\n",
       "</div>"
      ],
      "text/plain": [
       "                                                    appName  appVersion  \\\n",
       "Microsoft Internet Explorer                             1.0         NaN   \n",
       "Netscape                                              837.0         NaN   \n",
       "4.0 (compatible; MSIE 7.0; Windows NT 5.1; Trid...      NaN         1.0   \n",
       "5.0 (Android)                                           NaN         3.0   \n",
       "5.0 (Linux; Android 6.0.1; GT-I9195 Build/MOB30...      NaN        10.0   \n",
       "...                                                     ...         ...   \n",
       "Sat                                                     NaN         NaN   \n",
       "Sun                                                     NaN         NaN   \n",
       "Thu                                                     NaN         NaN   \n",
       "Tue                                                     NaN         NaN   \n",
       "Wed                                                     NaN         NaN   \n",
       "\n",
       "                                                    appCodeName  platform  \\\n",
       "Microsoft Internet Explorer                                 NaN       NaN   \n",
       "Netscape                                                    NaN       NaN   \n",
       "4.0 (compatible; MSIE 7.0; Windows NT 5.1; Trid...          NaN       NaN   \n",
       "5.0 (Android)                                               NaN       NaN   \n",
       "5.0 (Linux; Android 6.0.1; GT-I9195 Build/MOB30...          NaN       NaN   \n",
       "...                                                         ...       ...   \n",
       "Sat                                                         NaN       NaN   \n",
       "Sun                                                         NaN       NaN   \n",
       "Thu                                                         NaN       NaN   \n",
       "Tue                                                         NaN       NaN   \n",
       "Wed                                                         NaN       NaN   \n",
       "\n",
       "                                                    lang  userAgent  Java  \\\n",
       "Microsoft Internet Explorer                          NaN        NaN   NaN   \n",
       "Netscape                                             NaN        NaN   NaN   \n",
       "4.0 (compatible; MSIE 7.0; Windows NT 5.1; Trid...   NaN        NaN   NaN   \n",
       "5.0 (Android)                                        NaN        NaN   NaN   \n",
       "5.0 (Linux; Android 6.0.1; GT-I9195 Build/MOB30...   NaN        NaN   NaN   \n",
       "...                                                  ...        ...   ...   \n",
       "Sat                                                  NaN        NaN   NaN   \n",
       "Sun                                                  NaN        NaN   NaN   \n",
       "Thu                                                  NaN        NaN   NaN   \n",
       "Tue                                                  NaN        NaN   NaN   \n",
       "Wed                                                  NaN        NaN   NaN   \n",
       "\n",
       "                                                    CoresCPU  windowHeight  \\\n",
       "Microsoft Internet Explorer                              NaN           NaN   \n",
       "Netscape                                                 NaN           NaN   \n",
       "4.0 (compatible; MSIE 7.0; Windows NT 5.1; Trid...       NaN           NaN   \n",
       "5.0 (Android)                                            NaN           NaN   \n",
       "5.0 (Linux; Android 6.0.1; GT-I9195 Build/MOB30...       NaN           NaN   \n",
       "...                                                      ...           ...   \n",
       "Sat                                                      NaN           NaN   \n",
       "Sun                                                      NaN           NaN   \n",
       "Thu                                                      NaN           NaN   \n",
       "Tue                                                      NaN           NaN   \n",
       "Wed                                                      NaN           NaN   \n",
       "\n",
       "                                                    windowWidth  maxHeight  \\\n",
       "Microsoft Internet Explorer                                 NaN        NaN   \n",
       "Netscape                                                    NaN        NaN   \n",
       "4.0 (compatible; MSIE 7.0; Windows NT 5.1; Trid...          NaN        NaN   \n",
       "5.0 (Android)                                               NaN        NaN   \n",
       "5.0 (Linux; Android 6.0.1; GT-I9195 Build/MOB30...          NaN        NaN   \n",
       "...                                                         ...        ...   \n",
       "Sat                                                         NaN        NaN   \n",
       "Sun                                                         NaN        NaN   \n",
       "Thu                                                         NaN        NaN   \n",
       "Tue                                                         NaN        NaN   \n",
       "Wed                                                         NaN        NaN   \n",
       "\n",
       "                                                    maxWidth  pixeldepth  \\\n",
       "Microsoft Internet Explorer                              NaN         NaN   \n",
       "Netscape                                                 NaN         NaN   \n",
       "4.0 (compatible; MSIE 7.0; Windows NT 5.1; Trid...       NaN         NaN   \n",
       "5.0 (Android)                                            NaN         NaN   \n",
       "5.0 (Linux; Android 6.0.1; GT-I9195 Build/MOB30...       NaN         NaN   \n",
       "...                                                      ...         ...   \n",
       "Sat                                                      NaN         NaN   \n",
       "Sun                                                      NaN         NaN   \n",
       "Thu                                                      NaN         NaN   \n",
       "Tue                                                      NaN         NaN   \n",
       "Wed                                                      NaN         NaN   \n",
       "\n",
       "                                                    colordepth  screenHeight  \\\n",
       "Microsoft Internet Explorer                                NaN           NaN   \n",
       "Netscape                                                   NaN           NaN   \n",
       "4.0 (compatible; MSIE 7.0; Windows NT 5.1; Trid...         NaN           NaN   \n",
       "5.0 (Android)                                              NaN           NaN   \n",
       "5.0 (Linux; Android 6.0.1; GT-I9195 Build/MOB30...         NaN           NaN   \n",
       "...                                                        ...           ...   \n",
       "Sat                                                        NaN           NaN   \n",
       "Sun                                                        NaN           NaN   \n",
       "Thu                                                        NaN           NaN   \n",
       "Tue                                                        NaN           NaN   \n",
       "Wed                                                        NaN           NaN   \n",
       "\n",
       "                                                    screenWidth  hour  \\\n",
       "Microsoft Internet Explorer                                 NaN   NaN   \n",
       "Netscape                                                    NaN   NaN   \n",
       "4.0 (compatible; MSIE 7.0; Windows NT 5.1; Trid...          NaN   NaN   \n",
       "5.0 (Android)                                               NaN   NaN   \n",
       "5.0 (Linux; Android 6.0.1; GT-I9195 Build/MOB30...          NaN   NaN   \n",
       "...                                                         ...   ...   \n",
       "Sat                                                         NaN   NaN   \n",
       "Sun                                                         NaN   NaN   \n",
       "Thu                                                         NaN   NaN   \n",
       "Tue                                                         NaN   NaN   \n",
       "Wed                                                         NaN   NaN   \n",
       "\n",
       "                                                    weekday status  \\\n",
       "Microsoft Internet Explorer                             NaN     OK   \n",
       "Netscape                                                NaN     OK   \n",
       "4.0 (compatible; MSIE 7.0; Windows NT 5.1; Trid...      NaN     OK   \n",
       "5.0 (Android)                                           NaN     OK   \n",
       "5.0 (Linux; Android 6.0.1; GT-I9195 Build/MOB30...      NaN     OK   \n",
       "...                                                     ...    ...   \n",
       "Sat                                                   232.0     OK   \n",
       "Sun                                                    78.0     OK   \n",
       "Thu                                                   177.0     OK   \n",
       "Tue                                                    50.0     OK   \n",
       "Wed                                                    56.0     OK   \n",
       "\n",
       "                                                                                                 info  \n",
       "Microsoft Internet Explorer                         All Data was ejected. please keep in mind, tha...  \n",
       "Netscape                                            All Data was ejected. please keep in mind, tha...  \n",
       "4.0 (compatible; MSIE 7.0; Windows NT 5.1; Trid...  All Data was ejected. please keep in mind, tha...  \n",
       "5.0 (Android)                                       All Data was ejected. please keep in mind, tha...  \n",
       "5.0 (Linux; Android 6.0.1; GT-I9195 Build/MOB30...  All Data was ejected. please keep in mind, tha...  \n",
       "...                                                                                               ...  \n",
       "Sat                                                 All Data was ejected. please keep in mind, tha...  \n",
       "Sun                                                 All Data was ejected. please keep in mind, tha...  \n",
       "Thu                                                 All Data was ejected. please keep in mind, tha...  \n",
       "Tue                                                 All Data was ejected. please keep in mind, tha...  \n",
       "Wed                                                 All Data was ejected. please keep in mind, tha...  \n",
       "\n",
       "[221 rows x 20 columns]"
      ]
     },
     "execution_count": 151,
     "metadata": {},
     "output_type": "execute_result"
    }
   ],
   "source": [
    "pd.DataFrame(h)# to insert the data in Dataframe the datatype should be dictionary or json"
   ]
  },
  {
   "cell_type": "code",
   "execution_count": 1,
   "id": "198dab14",
   "metadata": {},
   "outputs": [],
   "source": [
    "import seaborn as sn    "
   ]
  },
  {
   "cell_type": "code",
   "execution_count": 4,
   "id": "2c35b068",
   "metadata": {},
   "outputs": [],
   "source": [
    "df1=sn.load_dataset('iris')"
   ]
  },
  {
   "cell_type": "code",
   "execution_count": 5,
   "id": "a2df7191",
   "metadata": {},
   "outputs": [
    {
     "data": {
      "text/html": [
       "<div>\n",
       "<style scoped>\n",
       "    .dataframe tbody tr th:only-of-type {\n",
       "        vertical-align: middle;\n",
       "    }\n",
       "\n",
       "    .dataframe tbody tr th {\n",
       "        vertical-align: top;\n",
       "    }\n",
       "\n",
       "    .dataframe thead th {\n",
       "        text-align: right;\n",
       "    }\n",
       "</style>\n",
       "<table border=\"1\" class=\"dataframe\">\n",
       "  <thead>\n",
       "    <tr style=\"text-align: right;\">\n",
       "      <th></th>\n",
       "      <th>sepal_length</th>\n",
       "      <th>sepal_width</th>\n",
       "      <th>petal_length</th>\n",
       "      <th>petal_width</th>\n",
       "      <th>species</th>\n",
       "    </tr>\n",
       "  </thead>\n",
       "  <tbody>\n",
       "    <tr>\n",
       "      <th>0</th>\n",
       "      <td>5.1</td>\n",
       "      <td>3.5</td>\n",
       "      <td>1.4</td>\n",
       "      <td>0.2</td>\n",
       "      <td>setosa</td>\n",
       "    </tr>\n",
       "    <tr>\n",
       "      <th>1</th>\n",
       "      <td>4.9</td>\n",
       "      <td>3.0</td>\n",
       "      <td>1.4</td>\n",
       "      <td>0.2</td>\n",
       "      <td>setosa</td>\n",
       "    </tr>\n",
       "    <tr>\n",
       "      <th>2</th>\n",
       "      <td>4.7</td>\n",
       "      <td>3.2</td>\n",
       "      <td>1.3</td>\n",
       "      <td>0.2</td>\n",
       "      <td>setosa</td>\n",
       "    </tr>\n",
       "    <tr>\n",
       "      <th>3</th>\n",
       "      <td>4.6</td>\n",
       "      <td>3.1</td>\n",
       "      <td>1.5</td>\n",
       "      <td>0.2</td>\n",
       "      <td>setosa</td>\n",
       "    </tr>\n",
       "    <tr>\n",
       "      <th>4</th>\n",
       "      <td>5.0</td>\n",
       "      <td>3.6</td>\n",
       "      <td>1.4</td>\n",
       "      <td>0.2</td>\n",
       "      <td>setosa</td>\n",
       "    </tr>\n",
       "    <tr>\n",
       "      <th>...</th>\n",
       "      <td>...</td>\n",
       "      <td>...</td>\n",
       "      <td>...</td>\n",
       "      <td>...</td>\n",
       "      <td>...</td>\n",
       "    </tr>\n",
       "    <tr>\n",
       "      <th>145</th>\n",
       "      <td>6.7</td>\n",
       "      <td>3.0</td>\n",
       "      <td>5.2</td>\n",
       "      <td>2.3</td>\n",
       "      <td>virginica</td>\n",
       "    </tr>\n",
       "    <tr>\n",
       "      <th>146</th>\n",
       "      <td>6.3</td>\n",
       "      <td>2.5</td>\n",
       "      <td>5.0</td>\n",
       "      <td>1.9</td>\n",
       "      <td>virginica</td>\n",
       "    </tr>\n",
       "    <tr>\n",
       "      <th>147</th>\n",
       "      <td>6.5</td>\n",
       "      <td>3.0</td>\n",
       "      <td>5.2</td>\n",
       "      <td>2.0</td>\n",
       "      <td>virginica</td>\n",
       "    </tr>\n",
       "    <tr>\n",
       "      <th>148</th>\n",
       "      <td>6.2</td>\n",
       "      <td>3.4</td>\n",
       "      <td>5.4</td>\n",
       "      <td>2.3</td>\n",
       "      <td>virginica</td>\n",
       "    </tr>\n",
       "    <tr>\n",
       "      <th>149</th>\n",
       "      <td>5.9</td>\n",
       "      <td>3.0</td>\n",
       "      <td>5.1</td>\n",
       "      <td>1.8</td>\n",
       "      <td>virginica</td>\n",
       "    </tr>\n",
       "  </tbody>\n",
       "</table>\n",
       "<p>150 rows × 5 columns</p>\n",
       "</div>"
      ],
      "text/plain": [
       "     sepal_length  sepal_width  petal_length  petal_width    species\n",
       "0             5.1          3.5           1.4          0.2     setosa\n",
       "1             4.9          3.0           1.4          0.2     setosa\n",
       "2             4.7          3.2           1.3          0.2     setosa\n",
       "3             4.6          3.1           1.5          0.2     setosa\n",
       "4             5.0          3.6           1.4          0.2     setosa\n",
       "..            ...          ...           ...          ...        ...\n",
       "145           6.7          3.0           5.2          2.3  virginica\n",
       "146           6.3          2.5           5.0          1.9  virginica\n",
       "147           6.5          3.0           5.2          2.0  virginica\n",
       "148           6.2          3.4           5.4          2.3  virginica\n",
       "149           5.9          3.0           5.1          1.8  virginica\n",
       "\n",
       "[150 rows x 5 columns]"
      ]
     },
     "execution_count": 5,
     "metadata": {},
     "output_type": "execute_result"
    }
   ],
   "source": [
    "df1"
   ]
  },
  {
   "cell_type": "code",
   "execution_count": 9,
   "id": "7b8b4980",
   "metadata": {},
   "outputs": [],
   "source": [
    "df2=df1.to_json(orient='records')#to remove the indexes we must give orient as records"
   ]
  },
  {
   "cell_type": "code",
   "execution_count": 10,
   "id": "b908316c",
   "metadata": {},
   "outputs": [
    {
     "data": {
      "text/plain": [
       "str"
      ]
     },
     "execution_count": 10,
     "metadata": {},
     "output_type": "execute_result"
    }
   ],
   "source": [
    "type(df2)"
   ]
  },
  {
   "cell_type": "code",
   "execution_count": 133,
   "id": "4f74aa29",
   "metadata": {},
   "outputs": [],
   "source": [
    "import json\n",
    "df3=json.loads(df2)# this is the right record which can be dumbed into mongodb"
   ]
  },
  {
   "cell_type": "code",
   "execution_count": 14,
   "id": "3fbe89fb",
   "metadata": {},
   "outputs": [
    {
     "data": {
      "text/plain": [
       "[{'sepal_length': 5.1,\n",
       "  'sepal_width': 3.5,\n",
       "  'petal_length': 1.4,\n",
       "  'petal_width': 0.2,\n",
       "  'species': 'setosa'},\n",
       " {'sepal_length': 4.9,\n",
       "  'sepal_width': 3.0,\n",
       "  'petal_length': 1.4,\n",
       "  'petal_width': 0.2,\n",
       "  'species': 'setosa'},\n",
       " {'sepal_length': 4.7,\n",
       "  'sepal_width': 3.2,\n",
       "  'petal_length': 1.3,\n",
       "  'petal_width': 0.2,\n",
       "  'species': 'setosa'},\n",
       " {'sepal_length': 4.6,\n",
       "  'sepal_width': 3.1,\n",
       "  'petal_length': 1.5,\n",
       "  'petal_width': 0.2,\n",
       "  'species': 'setosa'},\n",
       " {'sepal_length': 5.0,\n",
       "  'sepal_width': 3.6,\n",
       "  'petal_length': 1.4,\n",
       "  'petal_width': 0.2,\n",
       "  'species': 'setosa'},\n",
       " {'sepal_length': 5.4,\n",
       "  'sepal_width': 3.9,\n",
       "  'petal_length': 1.7,\n",
       "  'petal_width': 0.4,\n",
       "  'species': 'setosa'},\n",
       " {'sepal_length': 4.6,\n",
       "  'sepal_width': 3.4,\n",
       "  'petal_length': 1.4,\n",
       "  'petal_width': 0.3,\n",
       "  'species': 'setosa'},\n",
       " {'sepal_length': 5.0,\n",
       "  'sepal_width': 3.4,\n",
       "  'petal_length': 1.5,\n",
       "  'petal_width': 0.2,\n",
       "  'species': 'setosa'},\n",
       " {'sepal_length': 4.4,\n",
       "  'sepal_width': 2.9,\n",
       "  'petal_length': 1.4,\n",
       "  'petal_width': 0.2,\n",
       "  'species': 'setosa'},\n",
       " {'sepal_length': 4.9,\n",
       "  'sepal_width': 3.1,\n",
       "  'petal_length': 1.5,\n",
       "  'petal_width': 0.1,\n",
       "  'species': 'setosa'},\n",
       " {'sepal_length': 5.4,\n",
       "  'sepal_width': 3.7,\n",
       "  'petal_length': 1.5,\n",
       "  'petal_width': 0.2,\n",
       "  'species': 'setosa'},\n",
       " {'sepal_length': 4.8,\n",
       "  'sepal_width': 3.4,\n",
       "  'petal_length': 1.6,\n",
       "  'petal_width': 0.2,\n",
       "  'species': 'setosa'},\n",
       " {'sepal_length': 4.8,\n",
       "  'sepal_width': 3.0,\n",
       "  'petal_length': 1.4,\n",
       "  'petal_width': 0.1,\n",
       "  'species': 'setosa'},\n",
       " {'sepal_length': 4.3,\n",
       "  'sepal_width': 3.0,\n",
       "  'petal_length': 1.1,\n",
       "  'petal_width': 0.1,\n",
       "  'species': 'setosa'},\n",
       " {'sepal_length': 5.8,\n",
       "  'sepal_width': 4.0,\n",
       "  'petal_length': 1.2,\n",
       "  'petal_width': 0.2,\n",
       "  'species': 'setosa'},\n",
       " {'sepal_length': 5.7,\n",
       "  'sepal_width': 4.4,\n",
       "  'petal_length': 1.5,\n",
       "  'petal_width': 0.4,\n",
       "  'species': 'setosa'},\n",
       " {'sepal_length': 5.4,\n",
       "  'sepal_width': 3.9,\n",
       "  'petal_length': 1.3,\n",
       "  'petal_width': 0.4,\n",
       "  'species': 'setosa'},\n",
       " {'sepal_length': 5.1,\n",
       "  'sepal_width': 3.5,\n",
       "  'petal_length': 1.4,\n",
       "  'petal_width': 0.3,\n",
       "  'species': 'setosa'},\n",
       " {'sepal_length': 5.7,\n",
       "  'sepal_width': 3.8,\n",
       "  'petal_length': 1.7,\n",
       "  'petal_width': 0.3,\n",
       "  'species': 'setosa'},\n",
       " {'sepal_length': 5.1,\n",
       "  'sepal_width': 3.8,\n",
       "  'petal_length': 1.5,\n",
       "  'petal_width': 0.3,\n",
       "  'species': 'setosa'},\n",
       " {'sepal_length': 5.4,\n",
       "  'sepal_width': 3.4,\n",
       "  'petal_length': 1.7,\n",
       "  'petal_width': 0.2,\n",
       "  'species': 'setosa'},\n",
       " {'sepal_length': 5.1,\n",
       "  'sepal_width': 3.7,\n",
       "  'petal_length': 1.5,\n",
       "  'petal_width': 0.4,\n",
       "  'species': 'setosa'},\n",
       " {'sepal_length': 4.6,\n",
       "  'sepal_width': 3.6,\n",
       "  'petal_length': 1.0,\n",
       "  'petal_width': 0.2,\n",
       "  'species': 'setosa'},\n",
       " {'sepal_length': 5.1,\n",
       "  'sepal_width': 3.3,\n",
       "  'petal_length': 1.7,\n",
       "  'petal_width': 0.5,\n",
       "  'species': 'setosa'},\n",
       " {'sepal_length': 4.8,\n",
       "  'sepal_width': 3.4,\n",
       "  'petal_length': 1.9,\n",
       "  'petal_width': 0.2,\n",
       "  'species': 'setosa'},\n",
       " {'sepal_length': 5.0,\n",
       "  'sepal_width': 3.0,\n",
       "  'petal_length': 1.6,\n",
       "  'petal_width': 0.2,\n",
       "  'species': 'setosa'},\n",
       " {'sepal_length': 5.0,\n",
       "  'sepal_width': 3.4,\n",
       "  'petal_length': 1.6,\n",
       "  'petal_width': 0.4,\n",
       "  'species': 'setosa'},\n",
       " {'sepal_length': 5.2,\n",
       "  'sepal_width': 3.5,\n",
       "  'petal_length': 1.5,\n",
       "  'petal_width': 0.2,\n",
       "  'species': 'setosa'},\n",
       " {'sepal_length': 5.2,\n",
       "  'sepal_width': 3.4,\n",
       "  'petal_length': 1.4,\n",
       "  'petal_width': 0.2,\n",
       "  'species': 'setosa'},\n",
       " {'sepal_length': 4.7,\n",
       "  'sepal_width': 3.2,\n",
       "  'petal_length': 1.6,\n",
       "  'petal_width': 0.2,\n",
       "  'species': 'setosa'},\n",
       " {'sepal_length': 4.8,\n",
       "  'sepal_width': 3.1,\n",
       "  'petal_length': 1.6,\n",
       "  'petal_width': 0.2,\n",
       "  'species': 'setosa'},\n",
       " {'sepal_length': 5.4,\n",
       "  'sepal_width': 3.4,\n",
       "  'petal_length': 1.5,\n",
       "  'petal_width': 0.4,\n",
       "  'species': 'setosa'},\n",
       " {'sepal_length': 5.2,\n",
       "  'sepal_width': 4.1,\n",
       "  'petal_length': 1.5,\n",
       "  'petal_width': 0.1,\n",
       "  'species': 'setosa'},\n",
       " {'sepal_length': 5.5,\n",
       "  'sepal_width': 4.2,\n",
       "  'petal_length': 1.4,\n",
       "  'petal_width': 0.2,\n",
       "  'species': 'setosa'},\n",
       " {'sepal_length': 4.9,\n",
       "  'sepal_width': 3.1,\n",
       "  'petal_length': 1.5,\n",
       "  'petal_width': 0.2,\n",
       "  'species': 'setosa'},\n",
       " {'sepal_length': 5.0,\n",
       "  'sepal_width': 3.2,\n",
       "  'petal_length': 1.2,\n",
       "  'petal_width': 0.2,\n",
       "  'species': 'setosa'},\n",
       " {'sepal_length': 5.5,\n",
       "  'sepal_width': 3.5,\n",
       "  'petal_length': 1.3,\n",
       "  'petal_width': 0.2,\n",
       "  'species': 'setosa'},\n",
       " {'sepal_length': 4.9,\n",
       "  'sepal_width': 3.6,\n",
       "  'petal_length': 1.4,\n",
       "  'petal_width': 0.1,\n",
       "  'species': 'setosa'},\n",
       " {'sepal_length': 4.4,\n",
       "  'sepal_width': 3.0,\n",
       "  'petal_length': 1.3,\n",
       "  'petal_width': 0.2,\n",
       "  'species': 'setosa'},\n",
       " {'sepal_length': 5.1,\n",
       "  'sepal_width': 3.4,\n",
       "  'petal_length': 1.5,\n",
       "  'petal_width': 0.2,\n",
       "  'species': 'setosa'},\n",
       " {'sepal_length': 5.0,\n",
       "  'sepal_width': 3.5,\n",
       "  'petal_length': 1.3,\n",
       "  'petal_width': 0.3,\n",
       "  'species': 'setosa'},\n",
       " {'sepal_length': 4.5,\n",
       "  'sepal_width': 2.3,\n",
       "  'petal_length': 1.3,\n",
       "  'petal_width': 0.3,\n",
       "  'species': 'setosa'},\n",
       " {'sepal_length': 4.4,\n",
       "  'sepal_width': 3.2,\n",
       "  'petal_length': 1.3,\n",
       "  'petal_width': 0.2,\n",
       "  'species': 'setosa'},\n",
       " {'sepal_length': 5.0,\n",
       "  'sepal_width': 3.5,\n",
       "  'petal_length': 1.6,\n",
       "  'petal_width': 0.6,\n",
       "  'species': 'setosa'},\n",
       " {'sepal_length': 5.1,\n",
       "  'sepal_width': 3.8,\n",
       "  'petal_length': 1.9,\n",
       "  'petal_width': 0.4,\n",
       "  'species': 'setosa'},\n",
       " {'sepal_length': 4.8,\n",
       "  'sepal_width': 3.0,\n",
       "  'petal_length': 1.4,\n",
       "  'petal_width': 0.3,\n",
       "  'species': 'setosa'},\n",
       " {'sepal_length': 5.1,\n",
       "  'sepal_width': 3.8,\n",
       "  'petal_length': 1.6,\n",
       "  'petal_width': 0.2,\n",
       "  'species': 'setosa'},\n",
       " {'sepal_length': 4.6,\n",
       "  'sepal_width': 3.2,\n",
       "  'petal_length': 1.4,\n",
       "  'petal_width': 0.2,\n",
       "  'species': 'setosa'},\n",
       " {'sepal_length': 5.3,\n",
       "  'sepal_width': 3.7,\n",
       "  'petal_length': 1.5,\n",
       "  'petal_width': 0.2,\n",
       "  'species': 'setosa'},\n",
       " {'sepal_length': 5.0,\n",
       "  'sepal_width': 3.3,\n",
       "  'petal_length': 1.4,\n",
       "  'petal_width': 0.2,\n",
       "  'species': 'setosa'},\n",
       " {'sepal_length': 7.0,\n",
       "  'sepal_width': 3.2,\n",
       "  'petal_length': 4.7,\n",
       "  'petal_width': 1.4,\n",
       "  'species': 'versicolor'},\n",
       " {'sepal_length': 6.4,\n",
       "  'sepal_width': 3.2,\n",
       "  'petal_length': 4.5,\n",
       "  'petal_width': 1.5,\n",
       "  'species': 'versicolor'},\n",
       " {'sepal_length': 6.9,\n",
       "  'sepal_width': 3.1,\n",
       "  'petal_length': 4.9,\n",
       "  'petal_width': 1.5,\n",
       "  'species': 'versicolor'},\n",
       " {'sepal_length': 5.5,\n",
       "  'sepal_width': 2.3,\n",
       "  'petal_length': 4.0,\n",
       "  'petal_width': 1.3,\n",
       "  'species': 'versicolor'},\n",
       " {'sepal_length': 6.5,\n",
       "  'sepal_width': 2.8,\n",
       "  'petal_length': 4.6,\n",
       "  'petal_width': 1.5,\n",
       "  'species': 'versicolor'},\n",
       " {'sepal_length': 5.7,\n",
       "  'sepal_width': 2.8,\n",
       "  'petal_length': 4.5,\n",
       "  'petal_width': 1.3,\n",
       "  'species': 'versicolor'},\n",
       " {'sepal_length': 6.3,\n",
       "  'sepal_width': 3.3,\n",
       "  'petal_length': 4.7,\n",
       "  'petal_width': 1.6,\n",
       "  'species': 'versicolor'},\n",
       " {'sepal_length': 4.9,\n",
       "  'sepal_width': 2.4,\n",
       "  'petal_length': 3.3,\n",
       "  'petal_width': 1.0,\n",
       "  'species': 'versicolor'},\n",
       " {'sepal_length': 6.6,\n",
       "  'sepal_width': 2.9,\n",
       "  'petal_length': 4.6,\n",
       "  'petal_width': 1.3,\n",
       "  'species': 'versicolor'},\n",
       " {'sepal_length': 5.2,\n",
       "  'sepal_width': 2.7,\n",
       "  'petal_length': 3.9,\n",
       "  'petal_width': 1.4,\n",
       "  'species': 'versicolor'},\n",
       " {'sepal_length': 5.0,\n",
       "  'sepal_width': 2.0,\n",
       "  'petal_length': 3.5,\n",
       "  'petal_width': 1.0,\n",
       "  'species': 'versicolor'},\n",
       " {'sepal_length': 5.9,\n",
       "  'sepal_width': 3.0,\n",
       "  'petal_length': 4.2,\n",
       "  'petal_width': 1.5,\n",
       "  'species': 'versicolor'},\n",
       " {'sepal_length': 6.0,\n",
       "  'sepal_width': 2.2,\n",
       "  'petal_length': 4.0,\n",
       "  'petal_width': 1.0,\n",
       "  'species': 'versicolor'},\n",
       " {'sepal_length': 6.1,\n",
       "  'sepal_width': 2.9,\n",
       "  'petal_length': 4.7,\n",
       "  'petal_width': 1.4,\n",
       "  'species': 'versicolor'},\n",
       " {'sepal_length': 5.6,\n",
       "  'sepal_width': 2.9,\n",
       "  'petal_length': 3.6,\n",
       "  'petal_width': 1.3,\n",
       "  'species': 'versicolor'},\n",
       " {'sepal_length': 6.7,\n",
       "  'sepal_width': 3.1,\n",
       "  'petal_length': 4.4,\n",
       "  'petal_width': 1.4,\n",
       "  'species': 'versicolor'},\n",
       " {'sepal_length': 5.6,\n",
       "  'sepal_width': 3.0,\n",
       "  'petal_length': 4.5,\n",
       "  'petal_width': 1.5,\n",
       "  'species': 'versicolor'},\n",
       " {'sepal_length': 5.8,\n",
       "  'sepal_width': 2.7,\n",
       "  'petal_length': 4.1,\n",
       "  'petal_width': 1.0,\n",
       "  'species': 'versicolor'},\n",
       " {'sepal_length': 6.2,\n",
       "  'sepal_width': 2.2,\n",
       "  'petal_length': 4.5,\n",
       "  'petal_width': 1.5,\n",
       "  'species': 'versicolor'},\n",
       " {'sepal_length': 5.6,\n",
       "  'sepal_width': 2.5,\n",
       "  'petal_length': 3.9,\n",
       "  'petal_width': 1.1,\n",
       "  'species': 'versicolor'},\n",
       " {'sepal_length': 5.9,\n",
       "  'sepal_width': 3.2,\n",
       "  'petal_length': 4.8,\n",
       "  'petal_width': 1.8,\n",
       "  'species': 'versicolor'},\n",
       " {'sepal_length': 6.1,\n",
       "  'sepal_width': 2.8,\n",
       "  'petal_length': 4.0,\n",
       "  'petal_width': 1.3,\n",
       "  'species': 'versicolor'},\n",
       " {'sepal_length': 6.3,\n",
       "  'sepal_width': 2.5,\n",
       "  'petal_length': 4.9,\n",
       "  'petal_width': 1.5,\n",
       "  'species': 'versicolor'},\n",
       " {'sepal_length': 6.1,\n",
       "  'sepal_width': 2.8,\n",
       "  'petal_length': 4.7,\n",
       "  'petal_width': 1.2,\n",
       "  'species': 'versicolor'},\n",
       " {'sepal_length': 6.4,\n",
       "  'sepal_width': 2.9,\n",
       "  'petal_length': 4.3,\n",
       "  'petal_width': 1.3,\n",
       "  'species': 'versicolor'},\n",
       " {'sepal_length': 6.6,\n",
       "  'sepal_width': 3.0,\n",
       "  'petal_length': 4.4,\n",
       "  'petal_width': 1.4,\n",
       "  'species': 'versicolor'},\n",
       " {'sepal_length': 6.8,\n",
       "  'sepal_width': 2.8,\n",
       "  'petal_length': 4.8,\n",
       "  'petal_width': 1.4,\n",
       "  'species': 'versicolor'},\n",
       " {'sepal_length': 6.7,\n",
       "  'sepal_width': 3.0,\n",
       "  'petal_length': 5.0,\n",
       "  'petal_width': 1.7,\n",
       "  'species': 'versicolor'},\n",
       " {'sepal_length': 6.0,\n",
       "  'sepal_width': 2.9,\n",
       "  'petal_length': 4.5,\n",
       "  'petal_width': 1.5,\n",
       "  'species': 'versicolor'},\n",
       " {'sepal_length': 5.7,\n",
       "  'sepal_width': 2.6,\n",
       "  'petal_length': 3.5,\n",
       "  'petal_width': 1.0,\n",
       "  'species': 'versicolor'},\n",
       " {'sepal_length': 5.5,\n",
       "  'sepal_width': 2.4,\n",
       "  'petal_length': 3.8,\n",
       "  'petal_width': 1.1,\n",
       "  'species': 'versicolor'},\n",
       " {'sepal_length': 5.5,\n",
       "  'sepal_width': 2.4,\n",
       "  'petal_length': 3.7,\n",
       "  'petal_width': 1.0,\n",
       "  'species': 'versicolor'},\n",
       " {'sepal_length': 5.8,\n",
       "  'sepal_width': 2.7,\n",
       "  'petal_length': 3.9,\n",
       "  'petal_width': 1.2,\n",
       "  'species': 'versicolor'},\n",
       " {'sepal_length': 6.0,\n",
       "  'sepal_width': 2.7,\n",
       "  'petal_length': 5.1,\n",
       "  'petal_width': 1.6,\n",
       "  'species': 'versicolor'},\n",
       " {'sepal_length': 5.4,\n",
       "  'sepal_width': 3.0,\n",
       "  'petal_length': 4.5,\n",
       "  'petal_width': 1.5,\n",
       "  'species': 'versicolor'},\n",
       " {'sepal_length': 6.0,\n",
       "  'sepal_width': 3.4,\n",
       "  'petal_length': 4.5,\n",
       "  'petal_width': 1.6,\n",
       "  'species': 'versicolor'},\n",
       " {'sepal_length': 6.7,\n",
       "  'sepal_width': 3.1,\n",
       "  'petal_length': 4.7,\n",
       "  'petal_width': 1.5,\n",
       "  'species': 'versicolor'},\n",
       " {'sepal_length': 6.3,\n",
       "  'sepal_width': 2.3,\n",
       "  'petal_length': 4.4,\n",
       "  'petal_width': 1.3,\n",
       "  'species': 'versicolor'},\n",
       " {'sepal_length': 5.6,\n",
       "  'sepal_width': 3.0,\n",
       "  'petal_length': 4.1,\n",
       "  'petal_width': 1.3,\n",
       "  'species': 'versicolor'},\n",
       " {'sepal_length': 5.5,\n",
       "  'sepal_width': 2.5,\n",
       "  'petal_length': 4.0,\n",
       "  'petal_width': 1.3,\n",
       "  'species': 'versicolor'},\n",
       " {'sepal_length': 5.5,\n",
       "  'sepal_width': 2.6,\n",
       "  'petal_length': 4.4,\n",
       "  'petal_width': 1.2,\n",
       "  'species': 'versicolor'},\n",
       " {'sepal_length': 6.1,\n",
       "  'sepal_width': 3.0,\n",
       "  'petal_length': 4.6,\n",
       "  'petal_width': 1.4,\n",
       "  'species': 'versicolor'},\n",
       " {'sepal_length': 5.8,\n",
       "  'sepal_width': 2.6,\n",
       "  'petal_length': 4.0,\n",
       "  'petal_width': 1.2,\n",
       "  'species': 'versicolor'},\n",
       " {'sepal_length': 5.0,\n",
       "  'sepal_width': 2.3,\n",
       "  'petal_length': 3.3,\n",
       "  'petal_width': 1.0,\n",
       "  'species': 'versicolor'},\n",
       " {'sepal_length': 5.6,\n",
       "  'sepal_width': 2.7,\n",
       "  'petal_length': 4.2,\n",
       "  'petal_width': 1.3,\n",
       "  'species': 'versicolor'},\n",
       " {'sepal_length': 5.7,\n",
       "  'sepal_width': 3.0,\n",
       "  'petal_length': 4.2,\n",
       "  'petal_width': 1.2,\n",
       "  'species': 'versicolor'},\n",
       " {'sepal_length': 5.7,\n",
       "  'sepal_width': 2.9,\n",
       "  'petal_length': 4.2,\n",
       "  'petal_width': 1.3,\n",
       "  'species': 'versicolor'},\n",
       " {'sepal_length': 6.2,\n",
       "  'sepal_width': 2.9,\n",
       "  'petal_length': 4.3,\n",
       "  'petal_width': 1.3,\n",
       "  'species': 'versicolor'},\n",
       " {'sepal_length': 5.1,\n",
       "  'sepal_width': 2.5,\n",
       "  'petal_length': 3.0,\n",
       "  'petal_width': 1.1,\n",
       "  'species': 'versicolor'},\n",
       " {'sepal_length': 5.7,\n",
       "  'sepal_width': 2.8,\n",
       "  'petal_length': 4.1,\n",
       "  'petal_width': 1.3,\n",
       "  'species': 'versicolor'},\n",
       " {'sepal_length': 6.3,\n",
       "  'sepal_width': 3.3,\n",
       "  'petal_length': 6.0,\n",
       "  'petal_width': 2.5,\n",
       "  'species': 'virginica'},\n",
       " {'sepal_length': 5.8,\n",
       "  'sepal_width': 2.7,\n",
       "  'petal_length': 5.1,\n",
       "  'petal_width': 1.9,\n",
       "  'species': 'virginica'},\n",
       " {'sepal_length': 7.1,\n",
       "  'sepal_width': 3.0,\n",
       "  'petal_length': 5.9,\n",
       "  'petal_width': 2.1,\n",
       "  'species': 'virginica'},\n",
       " {'sepal_length': 6.3,\n",
       "  'sepal_width': 2.9,\n",
       "  'petal_length': 5.6,\n",
       "  'petal_width': 1.8,\n",
       "  'species': 'virginica'},\n",
       " {'sepal_length': 6.5,\n",
       "  'sepal_width': 3.0,\n",
       "  'petal_length': 5.8,\n",
       "  'petal_width': 2.2,\n",
       "  'species': 'virginica'},\n",
       " {'sepal_length': 7.6,\n",
       "  'sepal_width': 3.0,\n",
       "  'petal_length': 6.6,\n",
       "  'petal_width': 2.1,\n",
       "  'species': 'virginica'},\n",
       " {'sepal_length': 4.9,\n",
       "  'sepal_width': 2.5,\n",
       "  'petal_length': 4.5,\n",
       "  'petal_width': 1.7,\n",
       "  'species': 'virginica'},\n",
       " {'sepal_length': 7.3,\n",
       "  'sepal_width': 2.9,\n",
       "  'petal_length': 6.3,\n",
       "  'petal_width': 1.8,\n",
       "  'species': 'virginica'},\n",
       " {'sepal_length': 6.7,\n",
       "  'sepal_width': 2.5,\n",
       "  'petal_length': 5.8,\n",
       "  'petal_width': 1.8,\n",
       "  'species': 'virginica'},\n",
       " {'sepal_length': 7.2,\n",
       "  'sepal_width': 3.6,\n",
       "  'petal_length': 6.1,\n",
       "  'petal_width': 2.5,\n",
       "  'species': 'virginica'},\n",
       " {'sepal_length': 6.5,\n",
       "  'sepal_width': 3.2,\n",
       "  'petal_length': 5.1,\n",
       "  'petal_width': 2.0,\n",
       "  'species': 'virginica'},\n",
       " {'sepal_length': 6.4,\n",
       "  'sepal_width': 2.7,\n",
       "  'petal_length': 5.3,\n",
       "  'petal_width': 1.9,\n",
       "  'species': 'virginica'},\n",
       " {'sepal_length': 6.8,\n",
       "  'sepal_width': 3.0,\n",
       "  'petal_length': 5.5,\n",
       "  'petal_width': 2.1,\n",
       "  'species': 'virginica'},\n",
       " {'sepal_length': 5.7,\n",
       "  'sepal_width': 2.5,\n",
       "  'petal_length': 5.0,\n",
       "  'petal_width': 2.0,\n",
       "  'species': 'virginica'},\n",
       " {'sepal_length': 5.8,\n",
       "  'sepal_width': 2.8,\n",
       "  'petal_length': 5.1,\n",
       "  'petal_width': 2.4,\n",
       "  'species': 'virginica'},\n",
       " {'sepal_length': 6.4,\n",
       "  'sepal_width': 3.2,\n",
       "  'petal_length': 5.3,\n",
       "  'petal_width': 2.3,\n",
       "  'species': 'virginica'},\n",
       " {'sepal_length': 6.5,\n",
       "  'sepal_width': 3.0,\n",
       "  'petal_length': 5.5,\n",
       "  'petal_width': 1.8,\n",
       "  'species': 'virginica'},\n",
       " {'sepal_length': 7.7,\n",
       "  'sepal_width': 3.8,\n",
       "  'petal_length': 6.7,\n",
       "  'petal_width': 2.2,\n",
       "  'species': 'virginica'},\n",
       " {'sepal_length': 7.7,\n",
       "  'sepal_width': 2.6,\n",
       "  'petal_length': 6.9,\n",
       "  'petal_width': 2.3,\n",
       "  'species': 'virginica'},\n",
       " {'sepal_length': 6.0,\n",
       "  'sepal_width': 2.2,\n",
       "  'petal_length': 5.0,\n",
       "  'petal_width': 1.5,\n",
       "  'species': 'virginica'},\n",
       " {'sepal_length': 6.9,\n",
       "  'sepal_width': 3.2,\n",
       "  'petal_length': 5.7,\n",
       "  'petal_width': 2.3,\n",
       "  'species': 'virginica'},\n",
       " {'sepal_length': 5.6,\n",
       "  'sepal_width': 2.8,\n",
       "  'petal_length': 4.9,\n",
       "  'petal_width': 2.0,\n",
       "  'species': 'virginica'},\n",
       " {'sepal_length': 7.7,\n",
       "  'sepal_width': 2.8,\n",
       "  'petal_length': 6.7,\n",
       "  'petal_width': 2.0,\n",
       "  'species': 'virginica'},\n",
       " {'sepal_length': 6.3,\n",
       "  'sepal_width': 2.7,\n",
       "  'petal_length': 4.9,\n",
       "  'petal_width': 1.8,\n",
       "  'species': 'virginica'},\n",
       " {'sepal_length': 6.7,\n",
       "  'sepal_width': 3.3,\n",
       "  'petal_length': 5.7,\n",
       "  'petal_width': 2.1,\n",
       "  'species': 'virginica'},\n",
       " {'sepal_length': 7.2,\n",
       "  'sepal_width': 3.2,\n",
       "  'petal_length': 6.0,\n",
       "  'petal_width': 1.8,\n",
       "  'species': 'virginica'},\n",
       " {'sepal_length': 6.2,\n",
       "  'sepal_width': 2.8,\n",
       "  'petal_length': 4.8,\n",
       "  'petal_width': 1.8,\n",
       "  'species': 'virginica'},\n",
       " {'sepal_length': 6.1,\n",
       "  'sepal_width': 3.0,\n",
       "  'petal_length': 4.9,\n",
       "  'petal_width': 1.8,\n",
       "  'species': 'virginica'},\n",
       " {'sepal_length': 6.4,\n",
       "  'sepal_width': 2.8,\n",
       "  'petal_length': 5.6,\n",
       "  'petal_width': 2.1,\n",
       "  'species': 'virginica'},\n",
       " {'sepal_length': 7.2,\n",
       "  'sepal_width': 3.0,\n",
       "  'petal_length': 5.8,\n",
       "  'petal_width': 1.6,\n",
       "  'species': 'virginica'},\n",
       " {'sepal_length': 7.4,\n",
       "  'sepal_width': 2.8,\n",
       "  'petal_length': 6.1,\n",
       "  'petal_width': 1.9,\n",
       "  'species': 'virginica'},\n",
       " {'sepal_length': 7.9,\n",
       "  'sepal_width': 3.8,\n",
       "  'petal_length': 6.4,\n",
       "  'petal_width': 2.0,\n",
       "  'species': 'virginica'},\n",
       " {'sepal_length': 6.4,\n",
       "  'sepal_width': 2.8,\n",
       "  'petal_length': 5.6,\n",
       "  'petal_width': 2.2,\n",
       "  'species': 'virginica'},\n",
       " {'sepal_length': 6.3,\n",
       "  'sepal_width': 2.8,\n",
       "  'petal_length': 5.1,\n",
       "  'petal_width': 1.5,\n",
       "  'species': 'virginica'},\n",
       " {'sepal_length': 6.1,\n",
       "  'sepal_width': 2.6,\n",
       "  'petal_length': 5.6,\n",
       "  'petal_width': 1.4,\n",
       "  'species': 'virginica'},\n",
       " {'sepal_length': 7.7,\n",
       "  'sepal_width': 3.0,\n",
       "  'petal_length': 6.1,\n",
       "  'petal_width': 2.3,\n",
       "  'species': 'virginica'},\n",
       " {'sepal_length': 6.3,\n",
       "  'sepal_width': 3.4,\n",
       "  'petal_length': 5.6,\n",
       "  'petal_width': 2.4,\n",
       "  'species': 'virginica'},\n",
       " {'sepal_length': 6.4,\n",
       "  'sepal_width': 3.1,\n",
       "  'petal_length': 5.5,\n",
       "  'petal_width': 1.8,\n",
       "  'species': 'virginica'},\n",
       " {'sepal_length': 6.0,\n",
       "  'sepal_width': 3.0,\n",
       "  'petal_length': 4.8,\n",
       "  'petal_width': 1.8,\n",
       "  'species': 'virginica'},\n",
       " {'sepal_length': 6.9,\n",
       "  'sepal_width': 3.1,\n",
       "  'petal_length': 5.4,\n",
       "  'petal_width': 2.1,\n",
       "  'species': 'virginica'},\n",
       " {'sepal_length': 6.7,\n",
       "  'sepal_width': 3.1,\n",
       "  'petal_length': 5.6,\n",
       "  'petal_width': 2.4,\n",
       "  'species': 'virginica'},\n",
       " {'sepal_length': 6.9,\n",
       "  'sepal_width': 3.1,\n",
       "  'petal_length': 5.1,\n",
       "  'petal_width': 2.3,\n",
       "  'species': 'virginica'},\n",
       " {'sepal_length': 5.8,\n",
       "  'sepal_width': 2.7,\n",
       "  'petal_length': 5.1,\n",
       "  'petal_width': 1.9,\n",
       "  'species': 'virginica'},\n",
       " {'sepal_length': 6.8,\n",
       "  'sepal_width': 3.2,\n",
       "  'petal_length': 5.9,\n",
       "  'petal_width': 2.3,\n",
       "  'species': 'virginica'},\n",
       " {'sepal_length': 6.7,\n",
       "  'sepal_width': 3.3,\n",
       "  'petal_length': 5.7,\n",
       "  'petal_width': 2.5,\n",
       "  'species': 'virginica'},\n",
       " {'sepal_length': 6.7,\n",
       "  'sepal_width': 3.0,\n",
       "  'petal_length': 5.2,\n",
       "  'petal_width': 2.3,\n",
       "  'species': 'virginica'},\n",
       " {'sepal_length': 6.3,\n",
       "  'sepal_width': 2.5,\n",
       "  'petal_length': 5.0,\n",
       "  'petal_width': 1.9,\n",
       "  'species': 'virginica'},\n",
       " {'sepal_length': 6.5,\n",
       "  'sepal_width': 3.0,\n",
       "  'petal_length': 5.2,\n",
       "  'petal_width': 2.0,\n",
       "  'species': 'virginica'},\n",
       " {'sepal_length': 6.2,\n",
       "  'sepal_width': 3.4,\n",
       "  'petal_length': 5.4,\n",
       "  'petal_width': 2.3,\n",
       "  'species': 'virginica'},\n",
       " {'sepal_length': 5.9,\n",
       "  'sepal_width': 3.0,\n",
       "  'petal_length': 5.1,\n",
       "  'petal_width': 1.8,\n",
       "  'species': 'virginica'}]"
      ]
     },
     "execution_count": 14,
     "metadata": {},
     "output_type": "execute_result"
    }
   ],
   "source": [
    "df3"
   ]
  },
  {
   "cell_type": "code",
   "execution_count": 17,
   "id": "73421089",
   "metadata": {},
   "outputs": [
    {
     "data": {
      "text/plain": [
       "150"
      ]
     },
     "execution_count": 17,
     "metadata": {},
     "output_type": "execute_result"
    }
   ],
   "source": [
    "len(df3)"
   ]
  },
  {
   "cell_type": "code",
   "execution_count": 18,
   "id": "4de616bd",
   "metadata": {},
   "outputs": [
    {
     "data": {
      "text/plain": [
       "list"
      ]
     },
     "execution_count": 18,
     "metadata": {},
     "output_type": "execute_result"
    }
   ],
   "source": [
    "type(df3)"
   ]
  },
  {
   "cell_type": "code",
   "execution_count": 24,
   "id": "1de99e0f",
   "metadata": {},
   "outputs": [],
   "source": [
    "col=list(df3[0].keys())"
   ]
  },
  {
   "cell_type": "code",
   "execution_count": 22,
   "id": "46bf839f",
   "metadata": {},
   "outputs": [
    {
     "data": {
      "text/plain": [
       "[5.1, 3.5, 1.4, 0.2, 'setosa']"
      ]
     },
     "execution_count": 22,
     "metadata": {},
     "output_type": "execute_result"
    }
   ],
   "source": [
    "list(df3[0].values())"
   ]
  },
  {
   "cell_type": "code",
   "execution_count": 26,
   "id": "cc78e62c",
   "metadata": {},
   "outputs": [],
   "source": [
    "#creating new dataframe to dump the data one by one\n",
    "import pandas as pd\n",
    "df4=pd.DataFrame(columns=col)"
   ]
  },
  {
   "cell_type": "code",
   "execution_count": 27,
   "id": "7143833f",
   "metadata": {},
   "outputs": [
    {
     "data": {
      "text/html": [
       "<div>\n",
       "<style scoped>\n",
       "    .dataframe tbody tr th:only-of-type {\n",
       "        vertical-align: middle;\n",
       "    }\n",
       "\n",
       "    .dataframe tbody tr th {\n",
       "        vertical-align: top;\n",
       "    }\n",
       "\n",
       "    .dataframe thead th {\n",
       "        text-align: right;\n",
       "    }\n",
       "</style>\n",
       "<table border=\"1\" class=\"dataframe\">\n",
       "  <thead>\n",
       "    <tr style=\"text-align: right;\">\n",
       "      <th></th>\n",
       "      <th>sepal_length</th>\n",
       "      <th>sepal_width</th>\n",
       "      <th>petal_length</th>\n",
       "      <th>petal_width</th>\n",
       "      <th>species</th>\n",
       "    </tr>\n",
       "  </thead>\n",
       "  <tbody>\n",
       "  </tbody>\n",
       "</table>\n",
       "</div>"
      ],
      "text/plain": [
       "Empty DataFrame\n",
       "Columns: [sepal_length, sepal_width, petal_length, petal_width, species]\n",
       "Index: []"
      ]
     },
     "execution_count": 27,
     "metadata": {},
     "output_type": "execute_result"
    }
   ],
   "source": [
    "df4"
   ]
  },
  {
   "cell_type": "code",
   "execution_count": 28,
   "id": "5629f661",
   "metadata": {},
   "outputs": [],
   "source": [
    "df4.loc[0]=df3[0].values()"
   ]
  },
  {
   "cell_type": "code",
   "execution_count": 29,
   "id": "42ca2b7b",
   "metadata": {},
   "outputs": [
    {
     "data": {
      "text/html": [
       "<div>\n",
       "<style scoped>\n",
       "    .dataframe tbody tr th:only-of-type {\n",
       "        vertical-align: middle;\n",
       "    }\n",
       "\n",
       "    .dataframe tbody tr th {\n",
       "        vertical-align: top;\n",
       "    }\n",
       "\n",
       "    .dataframe thead th {\n",
       "        text-align: right;\n",
       "    }\n",
       "</style>\n",
       "<table border=\"1\" class=\"dataframe\">\n",
       "  <thead>\n",
       "    <tr style=\"text-align: right;\">\n",
       "      <th></th>\n",
       "      <th>sepal_length</th>\n",
       "      <th>sepal_width</th>\n",
       "      <th>petal_length</th>\n",
       "      <th>petal_width</th>\n",
       "      <th>species</th>\n",
       "    </tr>\n",
       "  </thead>\n",
       "  <tbody>\n",
       "    <tr>\n",
       "      <th>0</th>\n",
       "      <td>5.1</td>\n",
       "      <td>3.5</td>\n",
       "      <td>1.4</td>\n",
       "      <td>0.2</td>\n",
       "      <td>setosa</td>\n",
       "    </tr>\n",
       "  </tbody>\n",
       "</table>\n",
       "</div>"
      ],
      "text/plain": [
       "   sepal_length  sepal_width  petal_length  petal_width species\n",
       "0           5.1          3.5           1.4          0.2  setosa"
      ]
     },
     "execution_count": 29,
     "metadata": {},
     "output_type": "execute_result"
    }
   ],
   "source": [
    "df4"
   ]
  },
  {
   "cell_type": "code",
   "execution_count": 31,
   "id": "ffc3128b",
   "metadata": {},
   "outputs": [],
   "source": [
    "for i in range(len(df3)):\n",
    "    df4.loc[i]=df3[i].values()"
   ]
  },
  {
   "cell_type": "code",
   "execution_count": 33,
   "id": "3b7f7a83",
   "metadata": {},
   "outputs": [
    {
     "data": {
      "text/html": [
       "<div>\n",
       "<style scoped>\n",
       "    .dataframe tbody tr th:only-of-type {\n",
       "        vertical-align: middle;\n",
       "    }\n",
       "\n",
       "    .dataframe tbody tr th {\n",
       "        vertical-align: top;\n",
       "    }\n",
       "\n",
       "    .dataframe thead th {\n",
       "        text-align: right;\n",
       "    }\n",
       "</style>\n",
       "<table border=\"1\" class=\"dataframe\">\n",
       "  <thead>\n",
       "    <tr style=\"text-align: right;\">\n",
       "      <th></th>\n",
       "      <th>sepal_length</th>\n",
       "      <th>sepal_width</th>\n",
       "      <th>petal_length</th>\n",
       "      <th>petal_width</th>\n",
       "      <th>species</th>\n",
       "    </tr>\n",
       "  </thead>\n",
       "  <tbody>\n",
       "    <tr>\n",
       "      <th>0</th>\n",
       "      <td>5.1</td>\n",
       "      <td>3.5</td>\n",
       "      <td>1.4</td>\n",
       "      <td>0.2</td>\n",
       "      <td>setosa</td>\n",
       "    </tr>\n",
       "    <tr>\n",
       "      <th>1</th>\n",
       "      <td>4.9</td>\n",
       "      <td>3.0</td>\n",
       "      <td>1.4</td>\n",
       "      <td>0.2</td>\n",
       "      <td>setosa</td>\n",
       "    </tr>\n",
       "    <tr>\n",
       "      <th>2</th>\n",
       "      <td>4.7</td>\n",
       "      <td>3.2</td>\n",
       "      <td>1.3</td>\n",
       "      <td>0.2</td>\n",
       "      <td>setosa</td>\n",
       "    </tr>\n",
       "    <tr>\n",
       "      <th>3</th>\n",
       "      <td>4.6</td>\n",
       "      <td>3.1</td>\n",
       "      <td>1.5</td>\n",
       "      <td>0.2</td>\n",
       "      <td>setosa</td>\n",
       "    </tr>\n",
       "    <tr>\n",
       "      <th>4</th>\n",
       "      <td>5.0</td>\n",
       "      <td>3.6</td>\n",
       "      <td>1.4</td>\n",
       "      <td>0.2</td>\n",
       "      <td>setosa</td>\n",
       "    </tr>\n",
       "    <tr>\n",
       "      <th>...</th>\n",
       "      <td>...</td>\n",
       "      <td>...</td>\n",
       "      <td>...</td>\n",
       "      <td>...</td>\n",
       "      <td>...</td>\n",
       "    </tr>\n",
       "    <tr>\n",
       "      <th>145</th>\n",
       "      <td>6.7</td>\n",
       "      <td>3.0</td>\n",
       "      <td>5.2</td>\n",
       "      <td>2.3</td>\n",
       "      <td>virginica</td>\n",
       "    </tr>\n",
       "    <tr>\n",
       "      <th>146</th>\n",
       "      <td>6.3</td>\n",
       "      <td>2.5</td>\n",
       "      <td>5.0</td>\n",
       "      <td>1.9</td>\n",
       "      <td>virginica</td>\n",
       "    </tr>\n",
       "    <tr>\n",
       "      <th>147</th>\n",
       "      <td>6.5</td>\n",
       "      <td>3.0</td>\n",
       "      <td>5.2</td>\n",
       "      <td>2.0</td>\n",
       "      <td>virginica</td>\n",
       "    </tr>\n",
       "    <tr>\n",
       "      <th>148</th>\n",
       "      <td>6.2</td>\n",
       "      <td>3.4</td>\n",
       "      <td>5.4</td>\n",
       "      <td>2.3</td>\n",
       "      <td>virginica</td>\n",
       "    </tr>\n",
       "    <tr>\n",
       "      <th>149</th>\n",
       "      <td>5.9</td>\n",
       "      <td>3.0</td>\n",
       "      <td>5.1</td>\n",
       "      <td>1.8</td>\n",
       "      <td>virginica</td>\n",
       "    </tr>\n",
       "  </tbody>\n",
       "</table>\n",
       "<p>150 rows × 5 columns</p>\n",
       "</div>"
      ],
      "text/plain": [
       "     sepal_length  sepal_width  petal_length  petal_width    species\n",
       "0             5.1          3.5           1.4          0.2     setosa\n",
       "1             4.9          3.0           1.4          0.2     setosa\n",
       "2             4.7          3.2           1.3          0.2     setosa\n",
       "3             4.6          3.1           1.5          0.2     setosa\n",
       "4             5.0          3.6           1.4          0.2     setosa\n",
       "..            ...          ...           ...          ...        ...\n",
       "145           6.7          3.0           5.2          2.3  virginica\n",
       "146           6.3          2.5           5.0          1.9  virginica\n",
       "147           6.5          3.0           5.2          2.0  virginica\n",
       "148           6.2          3.4           5.4          2.3  virginica\n",
       "149           5.9          3.0           5.1          1.8  virginica\n",
       "\n",
       "[150 rows x 5 columns]"
      ]
     },
     "execution_count": 33,
     "metadata": {},
     "output_type": "execute_result"
    }
   ],
   "source": [
    "df4"
   ]
  },
  {
   "cell_type": "code",
   "execution_count": 1,
   "id": "d4020d6b",
   "metadata": {},
   "outputs": [],
   "source": [
    "import pandas as pd"
   ]
  },
  {
   "cell_type": "code",
   "execution_count": 64,
   "id": "307d895d",
   "metadata": {},
   "outputs": [],
   "source": [
    "d3=[\n",
    "    {\n",
    "        'empid':35,\n",
    "        'lastname':'zeeshan',\n",
    "        'firstname':'khan'\n",
    "    },\n",
    "     {\n",
    "        'empid':450,\n",
    "        'lastname':'Faizan',\n",
    "        'firstname':'khan'\n",
    "    }, {\n",
    "        'empid':3585,\n",
    "        'lastname':'Javed',\n",
    "        'firstname':'khan'\n",
    "    }, {\n",
    "        'empid':3578,\n",
    "        'lastname':'mukesh',\n",
    "        'firstname':'khan'\n",
    "    }, {\n",
    "        'empid':355,\n",
    "        'lastname':'patthan',\n",
    "        'firstname':'khan'\n",
    "    }\n",
    "    \n",
    "]"
   ]
  },
  {
   "cell_type": "code",
   "execution_count": 65,
   "id": "a167de52",
   "metadata": {},
   "outputs": [],
   "source": [
    "df3=pd.DataFrame(d3)\n",
    "df4=pd.DataFrame(d3)"
   ]
  },
  {
   "cell_type": "code",
   "execution_count": 28,
   "id": "fba6d53c",
   "metadata": {},
   "outputs": [],
   "source": [
    "df=pd.DataFrame(d)"
   ]
  },
  {
   "cell_type": "code",
   "execution_count": 29,
   "id": "6a73cb9c",
   "metadata": {},
   "outputs": [],
   "source": [
    "d1 =[\n",
    "    {\n",
    "        'empid1':54,\n",
    "        'lastname1':'Arvind',\n",
    "        'firstname1':'kumarr'\n",
    "    },\n",
    "     {\n",
    "        'empid1':885,\n",
    "        'lastname1':'bharat',\n",
    "        'firstname1':'khanan'\n",
    "    }, {\n",
    "        'empid1':88,\n",
    "        'lastname1':'sudhasnshu',\n",
    "        'firstname1':'kumar'\n",
    "    }, {\n",
    "        'empid1':87,\n",
    "        'lastname1':'Nethtu',\n",
    "        'firstname1':'singh'\n",
    "    }, {\n",
    "        'empid1':45,\n",
    "        'lastname1':'paresh',\n",
    "        'firstname1':'patil'\n",
    "    }\n",
    "    \n",
    "]"
   ]
  },
  {
   "cell_type": "code",
   "execution_count": 30,
   "id": "aca5bb42",
   "metadata": {},
   "outputs": [],
   "source": [
    "df1=pd.DataFrame(d1)"
   ]
  },
  {
   "cell_type": "code",
   "execution_count": 31,
   "id": "34ea3798",
   "metadata": {},
   "outputs": [
    {
     "data": {
      "text/html": [
       "<div>\n",
       "<style scoped>\n",
       "    .dataframe tbody tr th:only-of-type {\n",
       "        vertical-align: middle;\n",
       "    }\n",
       "\n",
       "    .dataframe tbody tr th {\n",
       "        vertical-align: top;\n",
       "    }\n",
       "\n",
       "    .dataframe thead th {\n",
       "        text-align: right;\n",
       "    }\n",
       "</style>\n",
       "<table border=\"1\" class=\"dataframe\">\n",
       "  <thead>\n",
       "    <tr style=\"text-align: right;\">\n",
       "      <th></th>\n",
       "      <th>empid</th>\n",
       "      <th>lastname</th>\n",
       "      <th>firstname</th>\n",
       "    </tr>\n",
       "  </thead>\n",
       "  <tbody>\n",
       "    <tr>\n",
       "      <th>0</th>\n",
       "      <td>35</td>\n",
       "      <td>zeeshan</td>\n",
       "      <td>khan</td>\n",
       "    </tr>\n",
       "    <tr>\n",
       "      <th>1</th>\n",
       "      <td>450</td>\n",
       "      <td>Faizan</td>\n",
       "      <td>khan</td>\n",
       "    </tr>\n",
       "    <tr>\n",
       "      <th>2</th>\n",
       "      <td>3585</td>\n",
       "      <td>Javed</td>\n",
       "      <td>khan</td>\n",
       "    </tr>\n",
       "    <tr>\n",
       "      <th>3</th>\n",
       "      <td>3578</td>\n",
       "      <td>mukesh</td>\n",
       "      <td>khan</td>\n",
       "    </tr>\n",
       "    <tr>\n",
       "      <th>4</th>\n",
       "      <td>355</td>\n",
       "      <td>patthan</td>\n",
       "      <td>khan</td>\n",
       "    </tr>\n",
       "  </tbody>\n",
       "</table>\n",
       "</div>"
      ],
      "text/plain": [
       "   empid lastname firstname\n",
       "0     35  zeeshan      khan\n",
       "1    450   Faizan      khan\n",
       "2   3585    Javed      khan\n",
       "3   3578   mukesh      khan\n",
       "4    355  patthan      khan"
      ]
     },
     "execution_count": 31,
     "metadata": {},
     "output_type": "execute_result"
    }
   ],
   "source": [
    "df"
   ]
  },
  {
   "cell_type": "code",
   "execution_count": 32,
   "id": "817e69a8",
   "metadata": {},
   "outputs": [
    {
     "data": {
      "text/html": [
       "<div>\n",
       "<style scoped>\n",
       "    .dataframe tbody tr th:only-of-type {\n",
       "        vertical-align: middle;\n",
       "    }\n",
       "\n",
       "    .dataframe tbody tr th {\n",
       "        vertical-align: top;\n",
       "    }\n",
       "\n",
       "    .dataframe thead th {\n",
       "        text-align: right;\n",
       "    }\n",
       "</style>\n",
       "<table border=\"1\" class=\"dataframe\">\n",
       "  <thead>\n",
       "    <tr style=\"text-align: right;\">\n",
       "      <th></th>\n",
       "      <th>empid1</th>\n",
       "      <th>lastname1</th>\n",
       "      <th>firstname1</th>\n",
       "    </tr>\n",
       "  </thead>\n",
       "  <tbody>\n",
       "    <tr>\n",
       "      <th>0</th>\n",
       "      <td>54</td>\n",
       "      <td>Arvind</td>\n",
       "      <td>kumarr</td>\n",
       "    </tr>\n",
       "    <tr>\n",
       "      <th>1</th>\n",
       "      <td>885</td>\n",
       "      <td>bharat</td>\n",
       "      <td>khanan</td>\n",
       "    </tr>\n",
       "    <tr>\n",
       "      <th>2</th>\n",
       "      <td>88</td>\n",
       "      <td>sudhasnshu</td>\n",
       "      <td>kumar</td>\n",
       "    </tr>\n",
       "    <tr>\n",
       "      <th>3</th>\n",
       "      <td>87</td>\n",
       "      <td>Nethtu</td>\n",
       "      <td>singh</td>\n",
       "    </tr>\n",
       "    <tr>\n",
       "      <th>4</th>\n",
       "      <td>45</td>\n",
       "      <td>paresh</td>\n",
       "      <td>patil</td>\n",
       "    </tr>\n",
       "  </tbody>\n",
       "</table>\n",
       "</div>"
      ],
      "text/plain": [
       "   empid1   lastname1 firstname1\n",
       "0      54      Arvind     kumarr\n",
       "1     885      bharat     khanan\n",
       "2      88  sudhasnshu      kumar\n",
       "3      87      Nethtu      singh\n",
       "4      45      paresh      patil"
      ]
     },
     "execution_count": 32,
     "metadata": {},
     "output_type": "execute_result"
    }
   ],
   "source": [
    "df1"
   ]
  },
  {
   "cell_type": "code",
   "execution_count": 106,
   "id": "3e3d2ca0",
   "metadata": {},
   "outputs": [
    {
     "data": {
      "text/html": [
       "<div>\n",
       "<style scoped>\n",
       "    .dataframe tbody tr th:only-of-type {\n",
       "        vertical-align: middle;\n",
       "    }\n",
       "\n",
       "    .dataframe tbody tr th {\n",
       "        vertical-align: top;\n",
       "    }\n",
       "\n",
       "    .dataframe thead th {\n",
       "        text-align: right;\n",
       "    }\n",
       "</style>\n",
       "<table border=\"1\" class=\"dataframe\">\n",
       "  <thead>\n",
       "    <tr style=\"text-align: right;\">\n",
       "      <th></th>\n",
       "      <th>empid</th>\n",
       "      <th>lastname</th>\n",
       "      <th>firstname</th>\n",
       "      <th>empid</th>\n",
       "      <th>lastname</th>\n",
       "      <th>firstname</th>\n",
       "    </tr>\n",
       "  </thead>\n",
       "  <tbody>\n",
       "    <tr>\n",
       "      <th>0</th>\n",
       "      <td>35</td>\n",
       "      <td>zeeshan</td>\n",
       "      <td>khan</td>\n",
       "      <td>35</td>\n",
       "      <td>zeeshan</td>\n",
       "      <td>khan</td>\n",
       "    </tr>\n",
       "    <tr>\n",
       "      <th>1</th>\n",
       "      <td>450</td>\n",
       "      <td>Faizan</td>\n",
       "      <td>khan</td>\n",
       "      <td>450</td>\n",
       "      <td>Faizan</td>\n",
       "      <td>khan</td>\n",
       "    </tr>\n",
       "    <tr>\n",
       "      <th>2</th>\n",
       "      <td>3585</td>\n",
       "      <td>Javed</td>\n",
       "      <td>khan</td>\n",
       "      <td>3585</td>\n",
       "      <td>Javed</td>\n",
       "      <td>khan</td>\n",
       "    </tr>\n",
       "    <tr>\n",
       "      <th>3</th>\n",
       "      <td>3578</td>\n",
       "      <td>mukesh</td>\n",
       "      <td>khan</td>\n",
       "      <td>3578</td>\n",
       "      <td>mukesh</td>\n",
       "      <td>khan</td>\n",
       "    </tr>\n",
       "    <tr>\n",
       "      <th>4</th>\n",
       "      <td>355</td>\n",
       "      <td>patthan</td>\n",
       "      <td>khan</td>\n",
       "      <td>355</td>\n",
       "      <td>patthan</td>\n",
       "      <td>khan</td>\n",
       "    </tr>\n",
       "  </tbody>\n",
       "</table>\n",
       "</div>"
      ],
      "text/plain": [
       "   empid lastname firstname  empid lastname firstname\n",
       "0     35  zeeshan      khan     35  zeeshan      khan\n",
       "1    450   Faizan      khan    450   Faizan      khan\n",
       "2   3585    Javed      khan   3585    Javed      khan\n",
       "3   3578   mukesh      khan   3578   mukesh      khan\n",
       "4    355  patthan      khan    355  patthan      khan"
      ]
     },
     "execution_count": 106,
     "metadata": {},
     "output_type": "execute_result"
    }
   ],
   "source": [
    "pd.concat([df,df],axis=1)#vertical joining axis=1,horizontal joining axis =0"
   ]
  },
  {
   "cell_type": "code",
   "execution_count": 36,
   "id": "ef67c84f",
   "metadata": {},
   "outputs": [
    {
     "data": {
      "text/html": [
       "<div>\n",
       "<style scoped>\n",
       "    .dataframe tbody tr th:only-of-type {\n",
       "        vertical-align: middle;\n",
       "    }\n",
       "\n",
       "    .dataframe tbody tr th {\n",
       "        vertical-align: top;\n",
       "    }\n",
       "\n",
       "    .dataframe thead th {\n",
       "        text-align: right;\n",
       "    }\n",
       "</style>\n",
       "<table border=\"1\" class=\"dataframe\">\n",
       "  <thead>\n",
       "    <tr style=\"text-align: right;\">\n",
       "      <th></th>\n",
       "      <th>empid</th>\n",
       "      <th>lastname</th>\n",
       "      <th>firstname</th>\n",
       "    </tr>\n",
       "  </thead>\n",
       "  <tbody>\n",
       "    <tr>\n",
       "      <th>0</th>\n",
       "      <td>35</td>\n",
       "      <td>zeeshan</td>\n",
       "      <td>khan</td>\n",
       "    </tr>\n",
       "    <tr>\n",
       "      <th>1</th>\n",
       "      <td>450</td>\n",
       "      <td>Faizan</td>\n",
       "      <td>khan</td>\n",
       "    </tr>\n",
       "    <tr>\n",
       "      <th>2</th>\n",
       "      <td>3585</td>\n",
       "      <td>Javed</td>\n",
       "      <td>khan</td>\n",
       "    </tr>\n",
       "    <tr>\n",
       "      <th>3</th>\n",
       "      <td>3578</td>\n",
       "      <td>mukesh</td>\n",
       "      <td>khan</td>\n",
       "    </tr>\n",
       "    <tr>\n",
       "      <th>4</th>\n",
       "      <td>355</td>\n",
       "      <td>patthan</td>\n",
       "      <td>khan</td>\n",
       "    </tr>\n",
       "  </tbody>\n",
       "</table>\n",
       "</div>"
      ],
      "text/plain": [
       "   empid lastname firstname\n",
       "0     35  zeeshan      khan\n",
       "1    450   Faizan      khan\n",
       "2   3585    Javed      khan\n",
       "3   3578   mukesh      khan\n",
       "4    355  patthan      khan"
      ]
     },
     "execution_count": 36,
     "metadata": {},
     "output_type": "execute_result"
    }
   ],
   "source": [
    "df"
   ]
  },
  {
   "cell_type": "code",
   "execution_count": 37,
   "id": "6053d9a8",
   "metadata": {},
   "outputs": [
    {
     "data": {
      "text/html": [
       "<div>\n",
       "<style scoped>\n",
       "    .dataframe tbody tr th:only-of-type {\n",
       "        vertical-align: middle;\n",
       "    }\n",
       "\n",
       "    .dataframe tbody tr th {\n",
       "        vertical-align: top;\n",
       "    }\n",
       "\n",
       "    .dataframe thead th {\n",
       "        text-align: right;\n",
       "    }\n",
       "</style>\n",
       "<table border=\"1\" class=\"dataframe\">\n",
       "  <thead>\n",
       "    <tr style=\"text-align: right;\">\n",
       "      <th></th>\n",
       "      <th>empid1</th>\n",
       "      <th>lastname1</th>\n",
       "      <th>firstname1</th>\n",
       "    </tr>\n",
       "  </thead>\n",
       "  <tbody>\n",
       "    <tr>\n",
       "      <th>0</th>\n",
       "      <td>54</td>\n",
       "      <td>Arvind</td>\n",
       "      <td>kumarr</td>\n",
       "    </tr>\n",
       "    <tr>\n",
       "      <th>1</th>\n",
       "      <td>885</td>\n",
       "      <td>bharat</td>\n",
       "      <td>khanan</td>\n",
       "    </tr>\n",
       "    <tr>\n",
       "      <th>2</th>\n",
       "      <td>88</td>\n",
       "      <td>sudhasnshu</td>\n",
       "      <td>kumar</td>\n",
       "    </tr>\n",
       "    <tr>\n",
       "      <th>3</th>\n",
       "      <td>87</td>\n",
       "      <td>Nethtu</td>\n",
       "      <td>singh</td>\n",
       "    </tr>\n",
       "    <tr>\n",
       "      <th>4</th>\n",
       "      <td>45</td>\n",
       "      <td>paresh</td>\n",
       "      <td>patil</td>\n",
       "    </tr>\n",
       "  </tbody>\n",
       "</table>\n",
       "</div>"
      ],
      "text/plain": [
       "   empid1   lastname1 firstname1\n",
       "0      54      Arvind     kumarr\n",
       "1     885      bharat     khanan\n",
       "2      88  sudhasnshu      kumar\n",
       "3      87      Nethtu      singh\n",
       "4      45      paresh      patil"
      ]
     },
     "execution_count": 37,
     "metadata": {},
     "output_type": "execute_result"
    }
   ],
   "source": [
    "df1"
   ]
  },
  {
   "cell_type": "code",
   "execution_count": 107,
   "id": "4b65cc4a",
   "metadata": {},
   "outputs": [
    {
     "data": {
      "text/html": [
       "<div>\n",
       "<style scoped>\n",
       "    .dataframe tbody tr th:only-of-type {\n",
       "        vertical-align: middle;\n",
       "    }\n",
       "\n",
       "    .dataframe tbody tr th {\n",
       "        vertical-align: top;\n",
       "    }\n",
       "\n",
       "    .dataframe thead th {\n",
       "        text-align: right;\n",
       "    }\n",
       "</style>\n",
       "<table border=\"1\" class=\"dataframe\">\n",
       "  <thead>\n",
       "    <tr style=\"text-align: right;\">\n",
       "      <th></th>\n",
       "      <th>empid</th>\n",
       "      <th>lastname</th>\n",
       "      <th>firstname</th>\n",
       "      <th>empid1</th>\n",
       "      <th>lastname1</th>\n",
       "      <th>firstname1</th>\n",
       "    </tr>\n",
       "  </thead>\n",
       "  <tbody>\n",
       "    <tr>\n",
       "      <th>0</th>\n",
       "      <td>35</td>\n",
       "      <td>zeeshan</td>\n",
       "      <td>khan</td>\n",
       "      <td>NaN</td>\n",
       "      <td>NaN</td>\n",
       "      <td>NaN</td>\n",
       "    </tr>\n",
       "    <tr>\n",
       "      <th>1</th>\n",
       "      <td>450</td>\n",
       "      <td>Faizan</td>\n",
       "      <td>khan</td>\n",
       "      <td>NaN</td>\n",
       "      <td>NaN</td>\n",
       "      <td>NaN</td>\n",
       "    </tr>\n",
       "    <tr>\n",
       "      <th>2</th>\n",
       "      <td>3585</td>\n",
       "      <td>Javed</td>\n",
       "      <td>khan</td>\n",
       "      <td>NaN</td>\n",
       "      <td>NaN</td>\n",
       "      <td>NaN</td>\n",
       "    </tr>\n",
       "    <tr>\n",
       "      <th>3</th>\n",
       "      <td>3578</td>\n",
       "      <td>mukesh</td>\n",
       "      <td>khan</td>\n",
       "      <td>NaN</td>\n",
       "      <td>NaN</td>\n",
       "      <td>NaN</td>\n",
       "    </tr>\n",
       "    <tr>\n",
       "      <th>4</th>\n",
       "      <td>355</td>\n",
       "      <td>patthan</td>\n",
       "      <td>khan</td>\n",
       "      <td>NaN</td>\n",
       "      <td>NaN</td>\n",
       "      <td>NaN</td>\n",
       "    </tr>\n",
       "  </tbody>\n",
       "</table>\n",
       "</div>"
      ],
      "text/plain": [
       "   empid lastname firstname  empid1 lastname1 firstname1\n",
       "0     35  zeeshan      khan     NaN       NaN        NaN\n",
       "1    450   Faizan      khan     NaN       NaN        NaN\n",
       "2   3585    Javed      khan     NaN       NaN        NaN\n",
       "3   3578   mukesh      khan     NaN       NaN        NaN\n",
       "4    355  patthan      khan     NaN       NaN        NaN"
      ]
     },
     "execution_count": 107,
     "metadata": {},
     "output_type": "execute_result"
    }
   ],
   "source": [
    "pd.merge(df,df1,left_on='empid',right_on='empid1',how='left')\n",
    "#if common column is not available but we have common data then \n",
    "#we use lefton and righton"
   ]
  },
  {
   "cell_type": "code",
   "execution_count": 105,
   "id": "cec88be7",
   "metadata": {},
   "outputs": [
    {
     "data": {
      "text/html": [
       "<div>\n",
       "<style scoped>\n",
       "    .dataframe tbody tr th:only-of-type {\n",
       "        vertical-align: middle;\n",
       "    }\n",
       "\n",
       "    .dataframe tbody tr th {\n",
       "        vertical-align: top;\n",
       "    }\n",
       "\n",
       "    .dataframe thead th {\n",
       "        text-align: right;\n",
       "    }\n",
       "</style>\n",
       "<table border=\"1\" class=\"dataframe\">\n",
       "  <thead>\n",
       "    <tr style=\"text-align: right;\">\n",
       "      <th></th>\n",
       "      <th>empid</th>\n",
       "      <th>lastname_x</th>\n",
       "      <th>firstname_x</th>\n",
       "      <th>lastname_y</th>\n",
       "      <th>firstname_y</th>\n",
       "    </tr>\n",
       "  </thead>\n",
       "  <tbody>\n",
       "    <tr>\n",
       "      <th>0</th>\n",
       "      <td>35</td>\n",
       "      <td>zeeshan</td>\n",
       "      <td>khan</td>\n",
       "      <td>zeeshan</td>\n",
       "      <td>khan</td>\n",
       "    </tr>\n",
       "    <tr>\n",
       "      <th>1</th>\n",
       "      <td>450</td>\n",
       "      <td>Faizan</td>\n",
       "      <td>khan</td>\n",
       "      <td>Faizan</td>\n",
       "      <td>khan</td>\n",
       "    </tr>\n",
       "    <tr>\n",
       "      <th>2</th>\n",
       "      <td>3585</td>\n",
       "      <td>Javed</td>\n",
       "      <td>khan</td>\n",
       "      <td>Javed</td>\n",
       "      <td>khan</td>\n",
       "    </tr>\n",
       "    <tr>\n",
       "      <th>3</th>\n",
       "      <td>3578</td>\n",
       "      <td>mukesh</td>\n",
       "      <td>khan</td>\n",
       "      <td>mukesh</td>\n",
       "      <td>khan</td>\n",
       "    </tr>\n",
       "    <tr>\n",
       "      <th>4</th>\n",
       "      <td>355</td>\n",
       "      <td>patthan</td>\n",
       "      <td>khan</td>\n",
       "      <td>patthan</td>\n",
       "      <td>khan</td>\n",
       "    </tr>\n",
       "  </tbody>\n",
       "</table>\n",
       "</div>"
      ],
      "text/plain": [
       "   empid lastname_x firstname_x lastname_y firstname_y\n",
       "0     35    zeeshan        khan    zeeshan        khan\n",
       "1    450     Faizan        khan     Faizan        khan\n",
       "2   3585      Javed        khan      Javed        khan\n",
       "3   3578     mukesh        khan     mukesh        khan\n",
       "4    355    patthan        khan    patthan        khan"
      ]
     },
     "execution_count": 105,
     "metadata": {},
     "output_type": "execute_result"
    }
   ],
   "source": [
    "pd.merge(df3,df4,on='empid',how='left')#merge helps to join the common columns"
   ]
  },
  {
   "cell_type": "code",
   "execution_count": 75,
   "id": "1b233a59",
   "metadata": {},
   "outputs": [],
   "source": [
    "data=[\n",
    "    {\n",
    "        'empid':35,\n",
    "        'lastname':'zeeshan',\n",
    "        'firstname':'khan'\n",
    "    },\n",
    "     {\n",
    "        'empid':450,\n",
    "        'lastname':'Faizan',\n",
    "        'firstname':'khan'\n",
    "    }, {\n",
    "        'empid':3585,\n",
    "        'lastname':'Javed',\n",
    "        'firstname':'khan'\n",
    "    }, {\n",
    "        'empid':3578,\n",
    "        'lastname':'mukesh',\n",
    "        'firstname':'khan'\n",
    "    }\n",
    "    \n",
    "]"
   ]
  },
  {
   "cell_type": "code",
   "execution_count": 76,
   "id": "75f5ddac",
   "metadata": {},
   "outputs": [
    {
     "data": {
      "text/plain": [
       "[{'empid': 35, 'lastname': 'zeeshan', 'firstname': 'khan'},\n",
       " {'empid': 450, 'lastname': 'Faizan', 'firstname': 'khan'},\n",
       " {'empid': 3585, 'lastname': 'Javed', 'firstname': 'khan'},\n",
       " {'empid': 3578, 'lastname': 'mukesh', 'firstname': 'khan'}]"
      ]
     },
     "execution_count": 76,
     "metadata": {},
     "output_type": "execute_result"
    }
   ],
   "source": [
    "data"
   ]
  },
  {
   "cell_type": "code",
   "execution_count": 92,
   "id": "3db3cf2b",
   "metadata": {},
   "outputs": [],
   "source": [
    "data1=[\n",
    "    {\n",
    "        'empid1':35,\n",
    "        'lastname1':'zeeshan',\n",
    "        'firstname1':'khan'\n",
    "    },\n",
    "     {\n",
    "        'empid1':450,\n",
    "        'lastname1':'Faizan',\n",
    "        'firstname1':'khan'\n",
    "    }, {\n",
    "        'empid1':3585,\n",
    "        'lastname1':'Javed',\n",
    "        'firstname1':'khan'\n",
    "    }\n",
    "]"
   ]
  },
  {
   "cell_type": "code",
   "execution_count": 93,
   "id": "e4e3ade4",
   "metadata": {},
   "outputs": [],
   "source": [
    "df5=pd.DataFrame(data,index=['a','b','c','d'])\n",
    "df6=pd.DataFrame(data1,index=['a','b','c'])\n"
   ]
  },
  {
   "cell_type": "code",
   "execution_count": 94,
   "id": "99ff6ed2",
   "metadata": {},
   "outputs": [
    {
     "data": {
      "text/html": [
       "<div>\n",
       "<style scoped>\n",
       "    .dataframe tbody tr th:only-of-type {\n",
       "        vertical-align: middle;\n",
       "    }\n",
       "\n",
       "    .dataframe tbody tr th {\n",
       "        vertical-align: top;\n",
       "    }\n",
       "\n",
       "    .dataframe thead th {\n",
       "        text-align: right;\n",
       "    }\n",
       "</style>\n",
       "<table border=\"1\" class=\"dataframe\">\n",
       "  <thead>\n",
       "    <tr style=\"text-align: right;\">\n",
       "      <th></th>\n",
       "      <th>empid</th>\n",
       "      <th>lastname</th>\n",
       "      <th>firstname</th>\n",
       "    </tr>\n",
       "  </thead>\n",
       "  <tbody>\n",
       "    <tr>\n",
       "      <th>a</th>\n",
       "      <td>35</td>\n",
       "      <td>zeeshan</td>\n",
       "      <td>khan</td>\n",
       "    </tr>\n",
       "    <tr>\n",
       "      <th>b</th>\n",
       "      <td>450</td>\n",
       "      <td>Faizan</td>\n",
       "      <td>khan</td>\n",
       "    </tr>\n",
       "    <tr>\n",
       "      <th>c</th>\n",
       "      <td>3585</td>\n",
       "      <td>Javed</td>\n",
       "      <td>khan</td>\n",
       "    </tr>\n",
       "    <tr>\n",
       "      <th>d</th>\n",
       "      <td>3578</td>\n",
       "      <td>mukesh</td>\n",
       "      <td>khan</td>\n",
       "    </tr>\n",
       "  </tbody>\n",
       "</table>\n",
       "</div>"
      ],
      "text/plain": [
       "   empid lastname firstname\n",
       "a     35  zeeshan      khan\n",
       "b    450   Faizan      khan\n",
       "c   3585    Javed      khan\n",
       "d   3578   mukesh      khan"
      ]
     },
     "execution_count": 94,
     "metadata": {},
     "output_type": "execute_result"
    }
   ],
   "source": [
    "df5"
   ]
  },
  {
   "cell_type": "code",
   "execution_count": 95,
   "id": "eb31e7fd",
   "metadata": {},
   "outputs": [
    {
     "data": {
      "text/html": [
       "<div>\n",
       "<style scoped>\n",
       "    .dataframe tbody tr th:only-of-type {\n",
       "        vertical-align: middle;\n",
       "    }\n",
       "\n",
       "    .dataframe tbody tr th {\n",
       "        vertical-align: top;\n",
       "    }\n",
       "\n",
       "    .dataframe thead th {\n",
       "        text-align: right;\n",
       "    }\n",
       "</style>\n",
       "<table border=\"1\" class=\"dataframe\">\n",
       "  <thead>\n",
       "    <tr style=\"text-align: right;\">\n",
       "      <th></th>\n",
       "      <th>empid1</th>\n",
       "      <th>lastname1</th>\n",
       "      <th>firstname1</th>\n",
       "    </tr>\n",
       "  </thead>\n",
       "  <tbody>\n",
       "    <tr>\n",
       "      <th>a</th>\n",
       "      <td>35</td>\n",
       "      <td>zeeshan</td>\n",
       "      <td>khan</td>\n",
       "    </tr>\n",
       "    <tr>\n",
       "      <th>b</th>\n",
       "      <td>450</td>\n",
       "      <td>Faizan</td>\n",
       "      <td>khan</td>\n",
       "    </tr>\n",
       "    <tr>\n",
       "      <th>c</th>\n",
       "      <td>3585</td>\n",
       "      <td>Javed</td>\n",
       "      <td>khan</td>\n",
       "    </tr>\n",
       "  </tbody>\n",
       "</table>\n",
       "</div>"
      ],
      "text/plain": [
       "   empid1 lastname1 firstname1\n",
       "a      35   zeeshan       khan\n",
       "b     450    Faizan       khan\n",
       "c    3585     Javed       khan"
      ]
     },
     "execution_count": 95,
     "metadata": {},
     "output_type": "execute_result"
    }
   ],
   "source": [
    "df6"
   ]
  },
  {
   "cell_type": "code",
   "execution_count": 108,
   "id": "11cb80ff",
   "metadata": {},
   "outputs": [
    {
     "data": {
      "text/html": [
       "<div>\n",
       "<style scoped>\n",
       "    .dataframe tbody tr th:only-of-type {\n",
       "        vertical-align: middle;\n",
       "    }\n",
       "\n",
       "    .dataframe tbody tr th {\n",
       "        vertical-align: top;\n",
       "    }\n",
       "\n",
       "    .dataframe thead th {\n",
       "        text-align: right;\n",
       "    }\n",
       "</style>\n",
       "<table border=\"1\" class=\"dataframe\">\n",
       "  <thead>\n",
       "    <tr style=\"text-align: right;\">\n",
       "      <th></th>\n",
       "      <th>empid</th>\n",
       "      <th>lastname</th>\n",
       "      <th>firstname</th>\n",
       "      <th>empid1</th>\n",
       "      <th>lastname1</th>\n",
       "      <th>firstname1</th>\n",
       "    </tr>\n",
       "  </thead>\n",
       "  <tbody>\n",
       "    <tr>\n",
       "      <th>a</th>\n",
       "      <td>35</td>\n",
       "      <td>zeeshan</td>\n",
       "      <td>khan</td>\n",
       "      <td>35</td>\n",
       "      <td>zeeshan</td>\n",
       "      <td>khan</td>\n",
       "    </tr>\n",
       "    <tr>\n",
       "      <th>b</th>\n",
       "      <td>450</td>\n",
       "      <td>Faizan</td>\n",
       "      <td>khan</td>\n",
       "      <td>450</td>\n",
       "      <td>Faizan</td>\n",
       "      <td>khan</td>\n",
       "    </tr>\n",
       "    <tr>\n",
       "      <th>c</th>\n",
       "      <td>3585</td>\n",
       "      <td>Javed</td>\n",
       "      <td>khan</td>\n",
       "      <td>3585</td>\n",
       "      <td>Javed</td>\n",
       "      <td>khan</td>\n",
       "    </tr>\n",
       "  </tbody>\n",
       "</table>\n",
       "</div>"
      ],
      "text/plain": [
       "   empid lastname firstname  empid1 lastname1 firstname1\n",
       "a     35  zeeshan      khan      35   zeeshan       khan\n",
       "b    450   Faizan      khan     450    Faizan       khan\n",
       "c   3585    Javed      khan    3585     Javed       khan"
      ]
     },
     "execution_count": 108,
     "metadata": {},
     "output_type": "execute_result"
    }
   ],
   "source": [
    "df5.join(df6,how='right')#join helps to join the index but the column name should be different"
   ]
  },
  {
   "cell_type": "code",
   "execution_count": 1,
   "id": "173d5bdd",
   "metadata": {},
   "outputs": [],
   "source": [
    "import pandas as pd\n",
    "a=pd.ExcelFile('LUSID Excel - Manage Orders.xlsx')\n",
    "l=[]\n",
    "for i in a.sheet_names:\n",
    "    l.append(pd.read_excel('LUSID Excel - Manage Orders.xlsx',sheet_name=i))"
   ]
  },
  {
   "cell_type": "code",
   "execution_count": 4,
   "id": "d058889a",
   "metadata": {},
   "outputs": [
    {
     "data": {
      "text/html": [
       "<div>\n",
       "<style scoped>\n",
       "    .dataframe tbody tr th:only-of-type {\n",
       "        vertical-align: middle;\n",
       "    }\n",
       "\n",
       "    .dataframe tbody tr th {\n",
       "        vertical-align: top;\n",
       "    }\n",
       "\n",
       "    .dataframe thead th {\n",
       "        text-align: right;\n",
       "    }\n",
       "</style>\n",
       "<table border=\"1\" class=\"dataframe\">\n",
       "  <thead>\n",
       "    <tr style=\"text-align: right;\">\n",
       "      <th></th>\n",
       "      <th>Unnamed: 0</th>\n",
       "      <th>Unnamed: 1</th>\n",
       "      <th>Unnamed: 2</th>\n",
       "      <th>Unnamed: 3</th>\n",
       "      <th>Unnamed: 4</th>\n",
       "      <th>Unnamed: 5</th>\n",
       "      <th>Unnamed: 6</th>\n",
       "      <th>Unnamed: 7</th>\n",
       "      <th>Unnamed: 8</th>\n",
       "      <th>Unnamed: 9</th>\n",
       "      <th>...</th>\n",
       "      <th>Unnamed: 7</th>\n",
       "      <th>Unnamed: 8</th>\n",
       "      <th>Unnamed: 9</th>\n",
       "      <th>Unnamed: 10</th>\n",
       "      <th>Unnamed: 11</th>\n",
       "      <th>Unnamed: 12</th>\n",
       "      <th>Unnamed: 13</th>\n",
       "      <th>Unnamed: 14</th>\n",
       "      <th>Unnamed: 15</th>\n",
       "      <th>Unnamed: 16</th>\n",
       "    </tr>\n",
       "  </thead>\n",
       "  <tbody>\n",
       "    <tr>\n",
       "      <th>0</th>\n",
       "      <td>NaN</td>\n",
       "      <td>This sheet allows you to manage executions:</td>\n",
       "      <td>NaN</td>\n",
       "      <td>NaN</td>\n",
       "      <td>NaN</td>\n",
       "      <td>NaN</td>\n",
       "      <td>NaN</td>\n",
       "      <td>NaN</td>\n",
       "      <td>NaN</td>\n",
       "      <td>NaN</td>\n",
       "      <td>...</td>\n",
       "      <td>NaN</td>\n",
       "      <td>NaN</td>\n",
       "      <td>NaN</td>\n",
       "      <td>NaN</td>\n",
       "      <td>NaN</td>\n",
       "      <td>NaN</td>\n",
       "      <td>NaN</td>\n",
       "      <td>NaN</td>\n",
       "      <td>NaN</td>\n",
       "      <td>NaN</td>\n",
       "    </tr>\n",
       "    <tr>\n",
       "      <th>1</th>\n",
       "      <td>NaN</td>\n",
       "      <td>1. List executions</td>\n",
       "      <td>NaN</td>\n",
       "      <td>NaN</td>\n",
       "      <td>NaN</td>\n",
       "      <td>NaN</td>\n",
       "      <td>NaN</td>\n",
       "      <td>NaN</td>\n",
       "      <td>NaN</td>\n",
       "      <td>NaN</td>\n",
       "      <td>...</td>\n",
       "      <td>NaN</td>\n",
       "      <td>NaN</td>\n",
       "      <td>NaN</td>\n",
       "      <td>NaN</td>\n",
       "      <td>NaN</td>\n",
       "      <td>NaN</td>\n",
       "      <td>NaN</td>\n",
       "      <td>NaN</td>\n",
       "      <td>NaN</td>\n",
       "      <td>NaN</td>\n",
       "    </tr>\n",
       "    <tr>\n",
       "      <th>2</th>\n",
       "      <td>NaN</td>\n",
       "      <td>2. Get execution</td>\n",
       "      <td>NaN</td>\n",
       "      <td>NaN</td>\n",
       "      <td>NaN</td>\n",
       "      <td>NaN</td>\n",
       "      <td>NaN</td>\n",
       "      <td>NaN</td>\n",
       "      <td>NaN</td>\n",
       "      <td>NaN</td>\n",
       "      <td>...</td>\n",
       "      <td>NaN</td>\n",
       "      <td>NaN</td>\n",
       "      <td>NaN</td>\n",
       "      <td>NaN</td>\n",
       "      <td>NaN</td>\n",
       "      <td>NaN</td>\n",
       "      <td>NaN</td>\n",
       "      <td>NaN</td>\n",
       "      <td>NaN</td>\n",
       "      <td>NaN</td>\n",
       "    </tr>\n",
       "    <tr>\n",
       "      <th>3</th>\n",
       "      <td>NaN</td>\n",
       "      <td>3. Upsert executions</td>\n",
       "      <td>NaN</td>\n",
       "      <td>NaN</td>\n",
       "      <td>NaN</td>\n",
       "      <td>NaN</td>\n",
       "      <td>NaN</td>\n",
       "      <td>NaN</td>\n",
       "      <td>NaN</td>\n",
       "      <td>NaN</td>\n",
       "      <td>...</td>\n",
       "      <td>NaN</td>\n",
       "      <td>NaN</td>\n",
       "      <td>NaN</td>\n",
       "      <td>NaN</td>\n",
       "      <td>NaN</td>\n",
       "      <td>NaN</td>\n",
       "      <td>NaN</td>\n",
       "      <td>NaN</td>\n",
       "      <td>NaN</td>\n",
       "      <td>NaN</td>\n",
       "    </tr>\n",
       "    <tr>\n",
       "      <th>4</th>\n",
       "      <td>NaN</td>\n",
       "      <td>NaN</td>\n",
       "      <td>NaN</td>\n",
       "      <td>NaN</td>\n",
       "      <td>NaN</td>\n",
       "      <td>NaN</td>\n",
       "      <td>NaN</td>\n",
       "      <td>NaN</td>\n",
       "      <td>NaN</td>\n",
       "      <td>NaN</td>\n",
       "      <td>...</td>\n",
       "      <td>NaN</td>\n",
       "      <td>NaN</td>\n",
       "      <td>NaN</td>\n",
       "      <td>NaN</td>\n",
       "      <td>NaN</td>\n",
       "      <td>NaN</td>\n",
       "      <td>NaN</td>\n",
       "      <td>NaN</td>\n",
       "      <td>NaN</td>\n",
       "      <td>NaN</td>\n",
       "    </tr>\n",
       "    <tr>\n",
       "      <th>...</th>\n",
       "      <td>...</td>\n",
       "      <td>...</td>\n",
       "      <td>...</td>\n",
       "      <td>...</td>\n",
       "      <td>...</td>\n",
       "      <td>...</td>\n",
       "      <td>...</td>\n",
       "      <td>...</td>\n",
       "      <td>...</td>\n",
       "      <td>...</td>\n",
       "      <td>...</td>\n",
       "      <td>...</td>\n",
       "      <td>...</td>\n",
       "      <td>...</td>\n",
       "      <td>...</td>\n",
       "      <td>...</td>\n",
       "      <td>...</td>\n",
       "      <td>...</td>\n",
       "      <td>...</td>\n",
       "      <td>...</td>\n",
       "      <td>...</td>\n",
       "    </tr>\n",
       "    <tr>\n",
       "      <th>66</th>\n",
       "      <td>NaN</td>\n",
       "      <td>NaN</td>\n",
       "      <td>NaN</td>\n",
       "      <td>NaN</td>\n",
       "      <td>NaN</td>\n",
       "      <td>NaN</td>\n",
       "      <td>NaN</td>\n",
       "      <td>NaN</td>\n",
       "      <td>NaN</td>\n",
       "      <td>NaN</td>\n",
       "      <td>...</td>\n",
       "      <td>NaN</td>\n",
       "      <td>NaN</td>\n",
       "      <td>NaN</td>\n",
       "      <td>NaN</td>\n",
       "      <td>NaN</td>\n",
       "      <td>NaN</td>\n",
       "      <td>NaN</td>\n",
       "      <td>NaN</td>\n",
       "      <td>NaN</td>\n",
       "      <td>NaN</td>\n",
       "    </tr>\n",
       "    <tr>\n",
       "      <th>67</th>\n",
       "      <td>NaN</td>\n",
       "      <td>NaN</td>\n",
       "      <td>NaN</td>\n",
       "      <td>NaN</td>\n",
       "      <td>NaN</td>\n",
       "      <td>NaN</td>\n",
       "      <td>NaN</td>\n",
       "      <td>NaN</td>\n",
       "      <td>NaN</td>\n",
       "      <td>NaN</td>\n",
       "      <td>...</td>\n",
       "      <td>NaN</td>\n",
       "      <td>NaN</td>\n",
       "      <td>NaN</td>\n",
       "      <td>NaN</td>\n",
       "      <td>NaN</td>\n",
       "      <td>NaN</td>\n",
       "      <td>NaN</td>\n",
       "      <td>NaN</td>\n",
       "      <td>NaN</td>\n",
       "      <td>NaN</td>\n",
       "    </tr>\n",
       "    <tr>\n",
       "      <th>68</th>\n",
       "      <td>NaN</td>\n",
       "      <td>NaN</td>\n",
       "      <td>Code</td>\n",
       "      <td>NaN</td>\n",
       "      <td>NaN</td>\n",
       "      <td>NaN</td>\n",
       "      <td>NaN</td>\n",
       "      <td>NaN</td>\n",
       "      <td>NaN</td>\n",
       "      <td>NaN</td>\n",
       "      <td>...</td>\n",
       "      <td>NaN</td>\n",
       "      <td>NaN</td>\n",
       "      <td>NaN</td>\n",
       "      <td>NaN</td>\n",
       "      <td>NaN</td>\n",
       "      <td>NaN</td>\n",
       "      <td>NaN</td>\n",
       "      <td>NaN</td>\n",
       "      <td>NaN</td>\n",
       "      <td>NaN</td>\n",
       "    </tr>\n",
       "    <tr>\n",
       "      <th>69</th>\n",
       "      <td>NaN</td>\n",
       "      <td>NaN</td>\n",
       "      <td>MyExecutionCode01</td>\n",
       "      <td>NaN</td>\n",
       "      <td>NaN</td>\n",
       "      <td>NaN</td>\n",
       "      <td>NaN</td>\n",
       "      <td>NaN</td>\n",
       "      <td>NaN</td>\n",
       "      <td>NaN</td>\n",
       "      <td>...</td>\n",
       "      <td>NaN</td>\n",
       "      <td>NaN</td>\n",
       "      <td>NaN</td>\n",
       "      <td>NaN</td>\n",
       "      <td>NaN</td>\n",
       "      <td>NaN</td>\n",
       "      <td>NaN</td>\n",
       "      <td>NaN</td>\n",
       "      <td>NaN</td>\n",
       "      <td>NaN</td>\n",
       "    </tr>\n",
       "    <tr>\n",
       "      <th>70</th>\n",
       "      <td>NaN</td>\n",
       "      <td>NaN</td>\n",
       "      <td>NaN</td>\n",
       "      <td>NaN</td>\n",
       "      <td>NaN</td>\n",
       "      <td>NaN</td>\n",
       "      <td>NaN</td>\n",
       "      <td>NaN</td>\n",
       "      <td>NaN</td>\n",
       "      <td>NaN</td>\n",
       "      <td>...</td>\n",
       "      <td>NaN</td>\n",
       "      <td>NaN</td>\n",
       "      <td>NaN</td>\n",
       "      <td>NaN</td>\n",
       "      <td>NaN</td>\n",
       "      <td>NaN</td>\n",
       "      <td>NaN</td>\n",
       "      <td>NaN</td>\n",
       "      <td>NaN</td>\n",
       "      <td>NaN</td>\n",
       "    </tr>\n",
       "  </tbody>\n",
       "</table>\n",
       "<p>71 rows × 100 columns</p>\n",
       "</div>"
      ],
      "text/plain": [
       "    Unnamed: 0                                   Unnamed: 1  \\\n",
       "0          NaN  This sheet allows you to manage executions:   \n",
       "1          NaN                           1. List executions   \n",
       "2          NaN                             2. Get execution   \n",
       "3          NaN                         3. Upsert executions   \n",
       "4          NaN                                          NaN   \n",
       "..         ...                                          ...   \n",
       "66         NaN                                          NaN   \n",
       "67         NaN                                          NaN   \n",
       "68         NaN                                          NaN   \n",
       "69         NaN                                          NaN   \n",
       "70         NaN                                          NaN   \n",
       "\n",
       "           Unnamed: 2 Unnamed: 3 Unnamed: 4 Unnamed: 5 Unnamed: 6 Unnamed: 7  \\\n",
       "0                 NaN        NaN        NaN        NaN        NaN        NaN   \n",
       "1                 NaN        NaN        NaN        NaN        NaN        NaN   \n",
       "2                 NaN        NaN        NaN        NaN        NaN        NaN   \n",
       "3                 NaN        NaN        NaN        NaN        NaN        NaN   \n",
       "4                 NaN        NaN        NaN        NaN        NaN        NaN   \n",
       "..                ...        ...        ...        ...        ...        ...   \n",
       "66                NaN        NaN        NaN        NaN        NaN        NaN   \n",
       "67                NaN        NaN        NaN        NaN        NaN        NaN   \n",
       "68               Code        NaN        NaN        NaN        NaN        NaN   \n",
       "69  MyExecutionCode01        NaN        NaN        NaN        NaN        NaN   \n",
       "70                NaN        NaN        NaN        NaN        NaN        NaN   \n",
       "\n",
       "   Unnamed: 8 Unnamed: 9  ... Unnamed: 7 Unnamed: 8 Unnamed: 9 Unnamed: 10  \\\n",
       "0         NaN        NaN  ...        NaN        NaN        NaN         NaN   \n",
       "1         NaN        NaN  ...        NaN        NaN        NaN         NaN   \n",
       "2         NaN        NaN  ...        NaN        NaN        NaN         NaN   \n",
       "3         NaN        NaN  ...        NaN        NaN        NaN         NaN   \n",
       "4         NaN        NaN  ...        NaN        NaN        NaN         NaN   \n",
       "..        ...        ...  ...        ...        ...        ...         ...   \n",
       "66        NaN        NaN  ...        NaN        NaN        NaN         NaN   \n",
       "67        NaN        NaN  ...        NaN        NaN        NaN         NaN   \n",
       "68        NaN        NaN  ...        NaN        NaN        NaN         NaN   \n",
       "69        NaN        NaN  ...        NaN        NaN        NaN         NaN   \n",
       "70        NaN        NaN  ...        NaN        NaN        NaN         NaN   \n",
       "\n",
       "   Unnamed: 11 Unnamed: 12 Unnamed: 13 Unnamed: 14 Unnamed: 15  Unnamed: 16  \n",
       "0          NaN         NaN         NaN         NaN         NaN          NaN  \n",
       "1          NaN         NaN         NaN         NaN         NaN          NaN  \n",
       "2          NaN         NaN         NaN         NaN         NaN          NaN  \n",
       "3          NaN         NaN         NaN         NaN         NaN          NaN  \n",
       "4          NaN         NaN         NaN         NaN         NaN          NaN  \n",
       "..         ...         ...         ...         ...         ...          ...  \n",
       "66         NaN         NaN         NaN         NaN         NaN          NaN  \n",
       "67         NaN         NaN         NaN         NaN         NaN          NaN  \n",
       "68         NaN         NaN         NaN         NaN         NaN          NaN  \n",
       "69         NaN         NaN         NaN         NaN         NaN          NaN  \n",
       "70         NaN         NaN         NaN         NaN         NaN          NaN  \n",
       "\n",
       "[71 rows x 100 columns]"
      ]
     },
     "execution_count": 4,
     "metadata": {},
     "output_type": "execute_result"
    }
   ],
   "source": [
    "pd.concat([l[0],l[1],l[2],l[3],l[4]],axis=1)#combining multiple sheet into single sheet"
   ]
  },
  {
   "cell_type": "markdown",
   "id": "59a218ae",
   "metadata": {},
   "source": [
    "# Numpy"
   ]
  },
  {
   "cell_type": "code",
   "execution_count": 40,
   "id": "c4ecc53d",
   "metadata": {},
   "outputs": [],
   "source": [
    "import numpy as np"
   ]
  },
  {
   "cell_type": "code",
   "execution_count": 41,
   "id": "e73ca62b",
   "metadata": {},
   "outputs": [],
   "source": [
    "l=[1,2,3,4,5]"
   ]
  },
  {
   "cell_type": "code",
   "execution_count": 42,
   "id": "2c182a9b",
   "metadata": {},
   "outputs": [],
   "source": [
    "a=np.array(l)#convert list to array"
   ]
  },
  {
   "cell_type": "code",
   "execution_count": 43,
   "id": "2f3c5ddb",
   "metadata": {},
   "outputs": [
    {
     "data": {
      "text/plain": [
       "array([1, 2, 3, 4, 5])"
      ]
     },
     "execution_count": 43,
     "metadata": {},
     "output_type": "execute_result"
    }
   ],
   "source": [
    "a#single dimension array is same as the list"
   ]
  },
  {
   "cell_type": "code",
   "execution_count": 49,
   "id": "e0e5e77a",
   "metadata": {},
   "outputs": [
    {
     "data": {
      "text/plain": [
       "numpy.ndarray"
      ]
     },
     "execution_count": 49,
     "metadata": {},
     "output_type": "execute_result"
    }
   ],
   "source": [
    "type(a)"
   ]
  },
  {
   "cell_type": "code",
   "execution_count": 50,
   "id": "ee2a10ec",
   "metadata": {},
   "outputs": [
    {
     "data": {
      "text/plain": [
       "[1, 2, 3, 4, 5]"
      ]
     },
     "execution_count": 50,
     "metadata": {},
     "output_type": "execute_result"
    }
   ],
   "source": [
    "l"
   ]
  },
  {
   "cell_type": "code",
   "execution_count": 51,
   "id": "f0c0892f",
   "metadata": {},
   "outputs": [
    {
     "data": {
      "text/plain": [
       "array([[1, 2, 3, 4, 5]])"
      ]
     },
     "execution_count": 51,
     "metadata": {},
     "output_type": "execute_result"
    }
   ],
   "source": [
    "np.array(l,ndmin=2)#two brackets means two dimensional array"
   ]
  },
  {
   "cell_type": "code",
   "execution_count": 52,
   "id": "ab638c72",
   "metadata": {},
   "outputs": [
    {
     "data": {
      "text/plain": [
       "array([[[1, 2, 3, 4, 5]]])"
      ]
     },
     "execution_count": 52,
     "metadata": {},
     "output_type": "execute_result"
    }
   ],
   "source": [
    "np.array(l,ndmin=3)#three brackets means three dimensional array"
   ]
  },
  {
   "cell_type": "code",
   "execution_count": 53,
   "id": "5439aff1",
   "metadata": {},
   "outputs": [
    {
     "data": {
      "text/plain": [
       "array([1, 2, 3, 4, 5])"
      ]
     },
     "execution_count": 53,
     "metadata": {},
     "output_type": "execute_result"
    }
   ],
   "source": [
    "np.array(l)#default it's the single dimensional array"
   ]
  },
  {
   "cell_type": "code",
   "execution_count": 54,
   "id": "3b7f95a9",
   "metadata": {},
   "outputs": [
    {
     "data": {
      "text/plain": [
       "array([ 5. ,  5.2,  5.4,  5.6,  5.8,  6. ,  6.2,  6.4,  6.6,  6.8,  7. ,\n",
       "        7.2,  7.4,  7.6,  7.8,  8. ,  8.2,  8.4,  8.6,  8.8,  9. ,  9.2,\n",
       "        9.4,  9.6,  9.8, 10. , 10.2, 10.4, 10.6, 10.8, 11. , 11.2, 11.4,\n",
       "       11.6, 11.8, 12. , 12.2, 12.4, 12.6, 12.8, 13. , 13.2, 13.4, 13.6,\n",
       "       13.8, 14. , 14.2, 14.4, 14.6, 14.8])"
      ]
     },
     "execution_count": 54,
     "metadata": {},
     "output_type": "execute_result"
    }
   ],
   "source": [
    "np.arange(5,15,0.2)#In numpy we can give float value in the arange function"
   ]
  },
  {
   "cell_type": "code",
   "execution_count": 55,
   "id": "f4a29747",
   "metadata": {},
   "outputs": [
    {
     "ename": "TypeError",
     "evalue": "'float' object cannot be interpreted as an integer",
     "output_type": "error",
     "traceback": [
      "\u001b[1;31m---------------------------------------------------------------------------\u001b[0m",
      "\u001b[1;31mTypeError\u001b[0m                                 Traceback (most recent call last)",
      "Input \u001b[1;32mIn [55]\u001b[0m, in \u001b[0;36m<cell line: 1>\u001b[1;34m()\u001b[0m\n\u001b[1;32m----> 1\u001b[0m \u001b[38;5;28mlist\u001b[39m(\u001b[38;5;28;43mrange\u001b[39;49m\u001b[43m(\u001b[49m\u001b[38;5;241;43m5\u001b[39;49m\u001b[43m,\u001b[49m\u001b[38;5;241;43m15\u001b[39;49m\u001b[43m,\u001b[49m\u001b[38;5;241;43m0.2\u001b[39;49m\u001b[43m)\u001b[49m)\n",
      "\u001b[1;31mTypeError\u001b[0m: 'float' object cannot be interpreted as an integer"
     ]
    }
   ],
   "source": [
    "list(range(5,15,0.2))#we cannot give float value in normal range function"
   ]
  },
  {
   "cell_type": "code",
   "execution_count": 56,
   "id": "aee3879d",
   "metadata": {},
   "outputs": [],
   "source": [
    "b=np.arange(2,15,0.2)"
   ]
  },
  {
   "cell_type": "code",
   "execution_count": 57,
   "id": "fd9dc3df",
   "metadata": {},
   "outputs": [
    {
     "data": {
      "text/plain": [
       "array([ 2. ,  2.2,  2.4,  2.6,  2.8,  3. ,  3.2,  3.4,  3.6,  3.8,  4. ,\n",
       "        4.2,  4.4,  4.6,  4.8,  5. ,  5.2,  5.4,  5.6,  5.8,  6. ,  6.2,\n",
       "        6.4,  6.6,  6.8,  7. ,  7.2,  7.4,  7.6,  7.8,  8. ,  8.2,  8.4,\n",
       "        8.6,  8.8,  9. ,  9.2,  9.4,  9.6,  9.8, 10. , 10.2, 10.4, 10.6,\n",
       "       10.8, 11. , 11.2, 11.4, 11.6, 11.8, 12. , 12.2, 12.4, 12.6, 12.8,\n",
       "       13. , 13.2, 13.4, 13.6, 13.8, 14. , 14.2, 14.4, 14.6, 14.8])"
      ]
     },
     "execution_count": 57,
     "metadata": {},
     "output_type": "execute_result"
    }
   ],
   "source": [
    "b#it is like a list"
   ]
  },
  {
   "cell_type": "code",
   "execution_count": 58,
   "id": "f151625f",
   "metadata": {},
   "outputs": [
    {
     "data": {
      "text/plain": [
       "2.0"
      ]
     },
     "execution_count": 58,
     "metadata": {},
     "output_type": "execute_result"
    }
   ],
   "source": [
    "b[0]#we can call the value using range fuction since it is a list"
   ]
  },
  {
   "cell_type": "code",
   "execution_count": 59,
   "id": "7cb23be0",
   "metadata": {},
   "outputs": [
    {
     "data": {
      "text/plain": [
       "array([1, 2, 3, 4, 5])"
      ]
     },
     "execution_count": 59,
     "metadata": {},
     "output_type": "execute_result"
    }
   ],
   "source": [
    "np.asanyarray(l)#same as np.array"
   ]
  },
  {
   "cell_type": "code",
   "execution_count": 60,
   "id": "a9ec4aa0",
   "metadata": {},
   "outputs": [
    {
     "data": {
      "text/plain": [
       "array([1, 2, 3, 4, 5])"
      ]
     },
     "execution_count": 60,
     "metadata": {},
     "output_type": "execute_result"
    }
   ],
   "source": [
    "np.asarray(l)#samee as np.array, it is similiar to a list"
   ]
  },
  {
   "cell_type": "code",
   "execution_count": 61,
   "id": "131ac461",
   "metadata": {},
   "outputs": [
    {
     "data": {
      "text/plain": [
       "matrix([[1, 2, 3, 4, 5]])"
      ]
     },
     "execution_count": 61,
     "metadata": {},
     "output_type": "execute_result"
    }
   ],
   "source": [
    "np.mat(a)#default matrix will be two dimensional array"
   ]
  },
  {
   "cell_type": "code",
   "execution_count": 62,
   "id": "dc384bef",
   "metadata": {},
   "outputs": [
    {
     "data": {
      "text/plain": [
       "12"
      ]
     },
     "execution_count": 62,
     "metadata": {},
     "output_type": "execute_result"
    }
   ],
   "source": [
    "np.random.randint(25)#it give a value less than 25 randomly everytime when executed"
   ]
  },
  {
   "cell_type": "code",
   "execution_count": 63,
   "id": "c235fd69",
   "metadata": {},
   "outputs": [
    {
     "data": {
      "text/plain": [
       "array([[-0.10909941,  0.66252449, -0.26235442,  0.41035791,  0.09153492],\n",
       "       [ 1.95288617,  0.26922307, -0.11737193,  1.10353721, -0.13768597],\n",
       "       [-0.32817372,  1.1296909 , -2.14881765,  0.01077729,  0.10180592],\n",
       "       [-1.48191169, -1.51410661, -0.46179441,  0.42179181, -0.92762639]])"
      ]
     },
     "execution_count": 63,
     "metadata": {},
     "output_type": "execute_result"
    }
   ],
   "source": [
    "np.random.randn(4,5)#we will get the value in 4 rows and 5 column whose avg is zero and Normal distribution is 1"
   ]
  },
  {
   "cell_type": "code",
   "execution_count": 64,
   "id": "8ce9c55d",
   "metadata": {},
   "outputs": [
    {
     "data": {
      "text/plain": [
       "array([[0.57626325, 0.68957466, 0.52160458, 0.13499721, 0.38142983],\n",
       "       [0.96744943, 0.23537389, 0.69539391, 0.00604415, 0.91126536],\n",
       "       [0.1477984 , 0.22720176, 0.64174329, 0.09764936, 0.87511941],\n",
       "       [0.89725682, 0.28554246, 0.98228028, 0.73355649, 0.27048147]])"
      ]
     },
     "execution_count": 64,
     "metadata": {},
     "output_type": "execute_result"
    }
   ],
   "source": [
    "np.random.rand(4,5)#it just give the value in 4 rows and 5 column"
   ]
  },
  {
   "cell_type": "code",
   "execution_count": 65,
   "id": "ebfdede6",
   "metadata": {},
   "outputs": [],
   "source": [
    "x=np.arange(20)#this is single dimensional array"
   ]
  },
  {
   "cell_type": "code",
   "execution_count": 66,
   "id": "bd8cd438",
   "metadata": {},
   "outputs": [
    {
     "data": {
      "text/plain": [
       "array([ 0,  1,  2,  3,  4,  5,  6,  7,  8,  9, 10, 11, 12, 13, 14, 15, 16,\n",
       "       17, 18, 19])"
      ]
     },
     "execution_count": 66,
     "metadata": {},
     "output_type": "execute_result"
    }
   ],
   "source": [
    "x"
   ]
  },
  {
   "cell_type": "code",
   "execution_count": 67,
   "id": "68a2848f",
   "metadata": {},
   "outputs": [
    {
     "data": {
      "text/plain": [
       "20"
      ]
     },
     "execution_count": 67,
     "metadata": {},
     "output_type": "execute_result"
    }
   ],
   "source": [
    "x.size#20 elements are there in this list or array "
   ]
  },
  {
   "cell_type": "code",
   "execution_count": 68,
   "id": "2993c7b8",
   "metadata": {},
   "outputs": [
    {
     "data": {
      "text/plain": [
       "array([[ 0,  1,  2,  3,  4],\n",
       "       [ 5,  6,  7,  8,  9],\n",
       "       [10, 11, 12, 13, 14],\n",
       "       [15, 16, 17, 18, 19]])"
      ]
     },
     "execution_count": 68,
     "metadata": {},
     "output_type": "execute_result"
    }
   ],
   "source": [
    "x.reshape(4,-1)# Here -1 will automatically calculated  5 column , the result what we want is 4*5=20"
   ]
  },
  {
   "cell_type": "code",
   "execution_count": 69,
   "id": "9331021d",
   "metadata": {},
   "outputs": [],
   "source": [
    "y=x.reshape(4,5)# we will define the value 4*5=20"
   ]
  },
  {
   "cell_type": "code",
   "execution_count": 70,
   "id": "8a219324",
   "metadata": {},
   "outputs": [
    {
     "data": {
      "text/plain": [
       "array([[ 0,  1,  2,  3,  4],\n",
       "       [ 5,  6,  7,  8,  9],\n",
       "       [10, 11, 12, 13, 14],\n",
       "       [15, 16, 17, 18, 19]])"
      ]
     },
     "execution_count": 70,
     "metadata": {},
     "output_type": "execute_result"
    }
   ],
   "source": [
    "y"
   ]
  },
  {
   "cell_type": "code",
   "execution_count": 71,
   "id": "963dc3f2",
   "metadata": {},
   "outputs": [
    {
     "data": {
      "text/html": [
       "<div>\n",
       "<style scoped>\n",
       "    .dataframe tbody tr th:only-of-type {\n",
       "        vertical-align: middle;\n",
       "    }\n",
       "\n",
       "    .dataframe tbody tr th {\n",
       "        vertical-align: top;\n",
       "    }\n",
       "\n",
       "    .dataframe thead th {\n",
       "        text-align: right;\n",
       "    }\n",
       "</style>\n",
       "<table border=\"1\" class=\"dataframe\">\n",
       "  <thead>\n",
       "    <tr style=\"text-align: right;\">\n",
       "      <th></th>\n",
       "      <th>0</th>\n",
       "      <th>1</th>\n",
       "      <th>2</th>\n",
       "      <th>3</th>\n",
       "      <th>4</th>\n",
       "    </tr>\n",
       "  </thead>\n",
       "  <tbody>\n",
       "    <tr>\n",
       "      <th>0</th>\n",
       "      <td>0</td>\n",
       "      <td>1</td>\n",
       "      <td>2</td>\n",
       "      <td>3</td>\n",
       "      <td>4</td>\n",
       "    </tr>\n",
       "    <tr>\n",
       "      <th>1</th>\n",
       "      <td>5</td>\n",
       "      <td>6</td>\n",
       "      <td>7</td>\n",
       "      <td>8</td>\n",
       "      <td>9</td>\n",
       "    </tr>\n",
       "    <tr>\n",
       "      <th>2</th>\n",
       "      <td>10</td>\n",
       "      <td>11</td>\n",
       "      <td>12</td>\n",
       "      <td>13</td>\n",
       "      <td>14</td>\n",
       "    </tr>\n",
       "    <tr>\n",
       "      <th>3</th>\n",
       "      <td>15</td>\n",
       "      <td>16</td>\n",
       "      <td>17</td>\n",
       "      <td>18</td>\n",
       "      <td>19</td>\n",
       "    </tr>\n",
       "  </tbody>\n",
       "</table>\n",
       "</div>"
      ],
      "text/plain": [
       "    0   1   2   3   4\n",
       "0   0   1   2   3   4\n",
       "1   5   6   7   8   9\n",
       "2  10  11  12  13  14\n",
       "3  15  16  17  18  19"
      ]
     },
     "execution_count": 71,
     "metadata": {},
     "output_type": "execute_result"
    }
   ],
   "source": [
    "import pandas as pd\n",
    "pd.DataFrame(y)\n"
   ]
  },
  {
   "cell_type": "code",
   "execution_count": 72,
   "id": "668b4c1c",
   "metadata": {},
   "outputs": [],
   "source": [
    "l=np.array([1,2,3,4,5],ndmin=1)"
   ]
  },
  {
   "cell_type": "code",
   "execution_count": 73,
   "id": "b03a8a23",
   "metadata": {},
   "outputs": [
    {
     "data": {
      "text/plain": [
       "array([1, 2, 3, 4, 5])"
      ]
     },
     "execution_count": 73,
     "metadata": {},
     "output_type": "execute_result"
    }
   ],
   "source": [
    "l#list or single dimensional array"
   ]
  },
  {
   "cell_type": "code",
   "execution_count": 74,
   "id": "a3b3f198",
   "metadata": {},
   "outputs": [
    {
     "data": {
      "text/html": [
       "<div>\n",
       "<style scoped>\n",
       "    .dataframe tbody tr th:only-of-type {\n",
       "        vertical-align: middle;\n",
       "    }\n",
       "\n",
       "    .dataframe tbody tr th {\n",
       "        vertical-align: top;\n",
       "    }\n",
       "\n",
       "    .dataframe thead th {\n",
       "        text-align: right;\n",
       "    }\n",
       "</style>\n",
       "<table border=\"1\" class=\"dataframe\">\n",
       "  <thead>\n",
       "    <tr style=\"text-align: right;\">\n",
       "      <th></th>\n",
       "      <th>0</th>\n",
       "    </tr>\n",
       "  </thead>\n",
       "  <tbody>\n",
       "    <tr>\n",
       "      <th>0</th>\n",
       "      <td>1</td>\n",
       "    </tr>\n",
       "    <tr>\n",
       "      <th>1</th>\n",
       "      <td>2</td>\n",
       "    </tr>\n",
       "    <tr>\n",
       "      <th>2</th>\n",
       "      <td>3</td>\n",
       "    </tr>\n",
       "    <tr>\n",
       "      <th>3</th>\n",
       "      <td>4</td>\n",
       "    </tr>\n",
       "    <tr>\n",
       "      <th>4</th>\n",
       "      <td>5</td>\n",
       "    </tr>\n",
       "  </tbody>\n",
       "</table>\n",
       "</div>"
      ],
      "text/plain": [
       "   0\n",
       "0  1\n",
       "1  2\n",
       "2  3\n",
       "3  4\n",
       "4  5"
      ]
     },
     "execution_count": 74,
     "metadata": {},
     "output_type": "execute_result"
    }
   ],
   "source": [
    "pd.DataFrame(l)#if the array is one dimension we can call pandas"
   ]
  },
  {
   "cell_type": "code",
   "execution_count": 75,
   "id": "10d21592",
   "metadata": {},
   "outputs": [],
   "source": [
    "l=np.array([1,2,3,4,5],ndmin=2)"
   ]
  },
  {
   "cell_type": "code",
   "execution_count": 76,
   "id": "ccd90a57",
   "metadata": {},
   "outputs": [
    {
     "data": {
      "text/plain": [
       "array([[1, 2, 3, 4, 5]])"
      ]
     },
     "execution_count": 76,
     "metadata": {},
     "output_type": "execute_result"
    }
   ],
   "source": [
    "l#two dimension  since two brackets"
   ]
  },
  {
   "cell_type": "code",
   "execution_count": 77,
   "id": "a8e0d5c9",
   "metadata": {},
   "outputs": [],
   "source": [
    "l=np.array([1,2,3,4,5],ndmin=3)"
   ]
  },
  {
   "cell_type": "code",
   "execution_count": 78,
   "id": "57187c4a",
   "metadata": {},
   "outputs": [
    {
     "data": {
      "text/plain": [
       "array([[[1, 2, 3, 4, 5]]])"
      ]
     },
     "execution_count": 78,
     "metadata": {},
     "output_type": "execute_result"
    }
   ],
   "source": [
    "l# Here the array is three dimensional"
   ]
  },
  {
   "cell_type": "code",
   "execution_count": 79,
   "id": "0abb7225",
   "metadata": {},
   "outputs": [
    {
     "ename": "ValueError",
     "evalue": "Must pass 2-d input. shape=(1, 1, 5)",
     "output_type": "error",
     "traceback": [
      "\u001b[1;31m---------------------------------------------------------------------------\u001b[0m",
      "\u001b[1;31mValueError\u001b[0m                                Traceback (most recent call last)",
      "Input \u001b[1;32mIn [79]\u001b[0m, in \u001b[0;36m<cell line: 1>\u001b[1;34m()\u001b[0m\n\u001b[1;32m----> 1\u001b[0m \u001b[43mpd\u001b[49m\u001b[38;5;241;43m.\u001b[39;49m\u001b[43mDataFrame\u001b[49m\u001b[43m(\u001b[49m\u001b[43ml\u001b[49m\u001b[43m)\u001b[49m\n",
      "File \u001b[1;32m~\\anaconda3\\lib\\site-packages\\pandas\\core\\frame.py:694\u001b[0m, in \u001b[0;36mDataFrame.__init__\u001b[1;34m(self, data, index, columns, dtype, copy)\u001b[0m\n\u001b[0;32m    684\u001b[0m         mgr \u001b[38;5;241m=\u001b[39m dict_to_mgr(\n\u001b[0;32m    685\u001b[0m             \u001b[38;5;66;03m# error: Item \"ndarray\" of \"Union[ndarray, Series, Index]\" has no\u001b[39;00m\n\u001b[0;32m    686\u001b[0m             \u001b[38;5;66;03m# attribute \"name\"\u001b[39;00m\n\u001b[1;32m   (...)\u001b[0m\n\u001b[0;32m    691\u001b[0m             typ\u001b[38;5;241m=\u001b[39mmanager,\n\u001b[0;32m    692\u001b[0m         )\n\u001b[0;32m    693\u001b[0m     \u001b[38;5;28;01melse\u001b[39;00m:\n\u001b[1;32m--> 694\u001b[0m         mgr \u001b[38;5;241m=\u001b[39m \u001b[43mndarray_to_mgr\u001b[49m\u001b[43m(\u001b[49m\n\u001b[0;32m    695\u001b[0m \u001b[43m            \u001b[49m\u001b[43mdata\u001b[49m\u001b[43m,\u001b[49m\n\u001b[0;32m    696\u001b[0m \u001b[43m            \u001b[49m\u001b[43mindex\u001b[49m\u001b[43m,\u001b[49m\n\u001b[0;32m    697\u001b[0m \u001b[43m            \u001b[49m\u001b[43mcolumns\u001b[49m\u001b[43m,\u001b[49m\n\u001b[0;32m    698\u001b[0m \u001b[43m            \u001b[49m\u001b[43mdtype\u001b[49m\u001b[38;5;241;43m=\u001b[39;49m\u001b[43mdtype\u001b[49m\u001b[43m,\u001b[49m\n\u001b[0;32m    699\u001b[0m \u001b[43m            \u001b[49m\u001b[43mcopy\u001b[49m\u001b[38;5;241;43m=\u001b[39;49m\u001b[43mcopy\u001b[49m\u001b[43m,\u001b[49m\n\u001b[0;32m    700\u001b[0m \u001b[43m            \u001b[49m\u001b[43mtyp\u001b[49m\u001b[38;5;241;43m=\u001b[39;49m\u001b[43mmanager\u001b[49m\u001b[43m,\u001b[49m\n\u001b[0;32m    701\u001b[0m \u001b[43m        \u001b[49m\u001b[43m)\u001b[49m\n\u001b[0;32m    703\u001b[0m \u001b[38;5;66;03m# For data is list-like, or Iterable (will consume into list)\u001b[39;00m\n\u001b[0;32m    704\u001b[0m \u001b[38;5;28;01melif\u001b[39;00m is_list_like(data):\n",
      "File \u001b[1;32m~\\anaconda3\\lib\\site-packages\\pandas\\core\\internals\\construction.py:331\u001b[0m, in \u001b[0;36mndarray_to_mgr\u001b[1;34m(values, index, columns, dtype, copy, typ)\u001b[0m\n\u001b[0;32m    326\u001b[0m         values \u001b[38;5;241m=\u001b[39m values\u001b[38;5;241m.\u001b[39mreshape(\u001b[38;5;241m-\u001b[39m\u001b[38;5;241m1\u001b[39m, \u001b[38;5;241m1\u001b[39m)\n\u001b[0;32m    328\u001b[0m \u001b[38;5;28;01melse\u001b[39;00m:\n\u001b[0;32m    329\u001b[0m     \u001b[38;5;66;03m# by definition an array here\u001b[39;00m\n\u001b[0;32m    330\u001b[0m     \u001b[38;5;66;03m# the dtypes will be coerced to a single dtype\u001b[39;00m\n\u001b[1;32m--> 331\u001b[0m     values \u001b[38;5;241m=\u001b[39m \u001b[43m_prep_ndarray\u001b[49m\u001b[43m(\u001b[49m\u001b[43mvalues\u001b[49m\u001b[43m,\u001b[49m\u001b[43m \u001b[49m\u001b[43mcopy\u001b[49m\u001b[38;5;241;43m=\u001b[39;49m\u001b[43mcopy_on_sanitize\u001b[49m\u001b[43m)\u001b[49m\n\u001b[0;32m    333\u001b[0m \u001b[38;5;28;01mif\u001b[39;00m dtype \u001b[38;5;129;01mis\u001b[39;00m \u001b[38;5;129;01mnot\u001b[39;00m \u001b[38;5;28;01mNone\u001b[39;00m \u001b[38;5;129;01mand\u001b[39;00m \u001b[38;5;129;01mnot\u001b[39;00m is_dtype_equal(values\u001b[38;5;241m.\u001b[39mdtype, dtype):\n\u001b[0;32m    334\u001b[0m     shape \u001b[38;5;241m=\u001b[39m values\u001b[38;5;241m.\u001b[39mshape\n",
      "File \u001b[1;32m~\\anaconda3\\lib\\site-packages\\pandas\\core\\internals\\construction.py:591\u001b[0m, in \u001b[0;36m_prep_ndarray\u001b[1;34m(values, copy)\u001b[0m\n\u001b[0;32m    589\u001b[0m     values \u001b[38;5;241m=\u001b[39m values\u001b[38;5;241m.\u001b[39mreshape((values\u001b[38;5;241m.\u001b[39mshape[\u001b[38;5;241m0\u001b[39m], \u001b[38;5;241m1\u001b[39m))\n\u001b[0;32m    590\u001b[0m \u001b[38;5;28;01melif\u001b[39;00m values\u001b[38;5;241m.\u001b[39mndim \u001b[38;5;241m!=\u001b[39m \u001b[38;5;241m2\u001b[39m:\n\u001b[1;32m--> 591\u001b[0m     \u001b[38;5;28;01mraise\u001b[39;00m \u001b[38;5;167;01mValueError\u001b[39;00m(\u001b[38;5;124mf\u001b[39m\u001b[38;5;124m\"\u001b[39m\u001b[38;5;124mMust pass 2-d input. shape=\u001b[39m\u001b[38;5;132;01m{\u001b[39;00mvalues\u001b[38;5;241m.\u001b[39mshape\u001b[38;5;132;01m}\u001b[39;00m\u001b[38;5;124m\"\u001b[39m)\n\u001b[0;32m    593\u001b[0m \u001b[38;5;28;01mreturn\u001b[39;00m values\n",
      "\u001b[1;31mValueError\u001b[0m: Must pass 2-d input. shape=(1, 1, 5)"
     ]
    }
   ],
   "source": [
    "pd.DataFrame(l)#We cannot insert the data into the pandas dataframe since it is three dimensional (three brackets)"
   ]
  },
  {
   "cell_type": "code",
   "execution_count": 80,
   "id": "23512083",
   "metadata": {},
   "outputs": [
    {
     "data": {
      "text/plain": [
       "array([[[0., 0., 0., 0.],\n",
       "        [0., 0., 0., 0.],\n",
       "        [0., 0., 0., 0.]],\n",
       "\n",
       "       [[0., 0., 0., 0.],\n",
       "        [0., 1., 2., 3.],\n",
       "        [0., 2., 4., 6.]]])"
      ]
     },
     "execution_count": 80,
     "metadata": {},
     "output_type": "execute_result"
    }
   ],
   "source": [
    "np.fromfunction(lambda x,y,z :x*y*z,(2,3,4))#here 4 is column 3 is rows and 2 is the no of such values"
   ]
  },
  {
   "cell_type": "code",
   "execution_count": 81,
   "id": "a4d60d32",
   "metadata": {},
   "outputs": [],
   "source": [
    "a = np.fromfunction(lambda y,z :y*z,(3,2))#here 2 is column 3 is rows"
   ]
  },
  {
   "cell_type": "code",
   "execution_count": 82,
   "id": "9ee3031f",
   "metadata": {},
   "outputs": [
    {
     "data": {
      "text/plain": [
       "array([[0., 0.],\n",
       "       [0., 1.],\n",
       "       [0., 2.]])"
      ]
     },
     "execution_count": 82,
     "metadata": {},
     "output_type": "execute_result"
    }
   ],
   "source": [
    "a"
   ]
  },
  {
   "cell_type": "code",
   "execution_count": 83,
   "id": "433bcd33",
   "metadata": {},
   "outputs": [
    {
     "data": {
      "text/plain": [
       "array([[[0., 0.],\n",
       "        [0., 0.]],\n",
       "\n",
       "       [[0., 0.],\n",
       "        [0., 1.]],\n",
       "\n",
       "       [[0., 0.],\n",
       "        [0., 2.]],\n",
       "\n",
       "       [[0., 0.],\n",
       "        [0., 3.]]])"
      ]
     },
     "execution_count": 83,
     "metadata": {},
     "output_type": "execute_result"
    }
   ],
   "source": [
    "np.fromfunction(lambda x,y,Z : x*y*Z ,(4,2,2))"
   ]
  },
  {
   "cell_type": "code",
   "execution_count": 84,
   "id": "2e3b73a3",
   "metadata": {},
   "outputs": [
    {
     "data": {
      "text/plain": [
       "array([[1, 2],\n",
       "       [3, 4]])"
      ]
     },
     "execution_count": 84,
     "metadata": {},
     "output_type": "execute_result"
    }
   ],
   "source": [
    "np.array([[1,2],[3,4]])#two dimensional array"
   ]
  },
  {
   "cell_type": "code",
   "execution_count": 87,
   "id": "757927a7",
   "metadata": {},
   "outputs": [
    {
     "data": {
      "text/plain": [
       "array([1., 1., 1., 1., 1., 1., 1., 1., 1., 1.])"
      ]
     },
     "execution_count": 87,
     "metadata": {},
     "output_type": "execute_result"
    }
   ],
   "source": [
    "np.ones(10) #It gives 10 values which are 1 and returns floating point number by default"
   ]
  },
  {
   "cell_type": "code",
   "execution_count": 88,
   "id": "6166631a",
   "metadata": {},
   "outputs": [
    {
     "data": {
      "text/plain": [
       "array([0., 0., 0., 0., 0., 0., 0., 0., 0., 0.])"
      ]
     },
     "execution_count": 88,
     "metadata": {},
     "output_type": "execute_result"
    }
   ],
   "source": [
    "np.zeros(10)#It gives 10 values which are 0 and returns floating point number"
   ]
  },
  {
   "cell_type": "code",
   "execution_count": 89,
   "id": "8665c8f8",
   "metadata": {},
   "outputs": [
    {
     "data": {
      "text/plain": [
       "array([[1., 1., 1., 1., 1.],\n",
       "       [1., 1., 1., 1., 1.],\n",
       "       [1., 1., 1., 1., 1.],\n",
       "       [1., 1., 1., 1., 1.]])"
      ]
     },
     "execution_count": 89,
     "metadata": {},
     "output_type": "execute_result"
    }
   ],
   "source": [
    "np.ones((4,5))#It give 4 rows and 5 columns which are having value 1.0 #default the datatype is float"
   ]
  },
  {
   "cell_type": "code",
   "execution_count": 90,
   "id": "d0456b4e",
   "metadata": {},
   "outputs": [
    {
     "data": {
      "text/plain": [
       "array([[0., 0., 0., 0., 0.],\n",
       "       [0., 0., 0., 0., 0.],\n",
       "       [0., 0., 0., 0., 0.],\n",
       "       [0., 0., 0., 0., 0.]])"
      ]
     },
     "execution_count": 90,
     "metadata": {},
     "output_type": "execute_result"
    }
   ],
   "source": [
    "np.zeros((4,5))#It give 4 rows and 5 columns which are having value 0.0"
   ]
  },
  {
   "cell_type": "code",
   "execution_count": 91,
   "id": "d74cd96d",
   "metadata": {},
   "outputs": [
    {
     "data": {
      "text/plain": [
       "array([[6., 6., 6., 6., 6.],\n",
       "       [6., 6., 6., 6., 6.],\n",
       "       [6., 6., 6., 6., 6.],\n",
       "       [6., 6., 6., 6., 6.]])"
      ]
     },
     "execution_count": 91,
     "metadata": {},
     "output_type": "execute_result"
    }
   ],
   "source": [
    "5+np.ones((4,5)) #5 is add to each and every element which is called broadcasting"
   ]
  },
  {
   "cell_type": "code",
   "execution_count": 92,
   "id": "30bc8921",
   "metadata": {},
   "outputs": [
    {
     "data": {
      "text/plain": [
       "array([[0.47482609, 0.99227605, 0.36266438, 0.0800726 ],\n",
       "       [0.25652414, 0.18899573, 0.65858066, 0.10820552],\n",
       "       [0.02788285, 0.36153727, 0.37807576, 0.69848004],\n",
       "       [0.12260624, 0.26312161, 0.82517623, 0.74984194],\n",
       "       [0.67990671, 0.3023736 , 0.79973809, 0.69903858]])"
      ]
     },
     "execution_count": 92,
     "metadata": {},
     "output_type": "execute_result"
    }
   ],
   "source": [
    "np.random.rand(4,5).reshape(5,-1)"
   ]
  },
  {
   "cell_type": "code",
   "execution_count": 93,
   "id": "14a1f686",
   "metadata": {},
   "outputs": [],
   "source": [
    "x=np.arange(20).reshape(5,4)"
   ]
  },
  {
   "cell_type": "code",
   "execution_count": 94,
   "id": "58948071",
   "metadata": {},
   "outputs": [
    {
     "data": {
      "text/plain": [
       "array([[ 0,  1,  2,  3],\n",
       "       [ 4,  5,  6,  7],\n",
       "       [ 8,  9, 10, 11],\n",
       "       [12, 13, 14, 15],\n",
       "       [16, 17, 18, 19]])"
      ]
     },
     "execution_count": 94,
     "metadata": {},
     "output_type": "execute_result"
    }
   ],
   "source": [
    "x"
   ]
  },
  {
   "cell_type": "code",
   "execution_count": 95,
   "id": "084ac965",
   "metadata": {},
   "outputs": [
    {
     "data": {
      "text/plain": [
       "array([[  0,   1,   4,   9],\n",
       "       [ 16,  25,  36,  49],\n",
       "       [ 64,  81, 100, 121],\n",
       "       [144, 169, 196, 225],\n",
       "       [256, 289, 324, 361]], dtype=int32)"
      ]
     },
     "execution_count": 95,
     "metadata": {},
     "output_type": "execute_result"
    }
   ],
   "source": [
    "pow(x,2)#it square every value"
   ]
  },
  {
   "cell_type": "code",
   "execution_count": 96,
   "id": "9e89ac96",
   "metadata": {},
   "outputs": [
    {
     "data": {
      "text/plain": [
       "array([[   0,    1,    8,   27],\n",
       "       [  64,  125,  216,  343],\n",
       "       [ 512,  729, 1000, 1331],\n",
       "       [1728, 2197, 2744, 3375],\n",
       "       [4096, 4913, 5832, 6859]], dtype=int32)"
      ]
     },
     "execution_count": 96,
     "metadata": {},
     "output_type": "execute_result"
    }
   ],
   "source": [
    "pow(x,3)#it cubes every value"
   ]
  },
  {
   "cell_type": "code",
   "execution_count": 97,
   "id": "ad9dc5e1",
   "metadata": {},
   "outputs": [],
   "source": [
    "a=np.arange(12).reshape(4,3)"
   ]
  },
  {
   "cell_type": "code",
   "execution_count": 98,
   "id": "71b086c9",
   "metadata": {},
   "outputs": [],
   "source": [
    "b=np.arange(12).reshape(4,3)"
   ]
  },
  {
   "cell_type": "code",
   "execution_count": 99,
   "id": "db97bd55",
   "metadata": {},
   "outputs": [
    {
     "data": {
      "text/plain": [
       "array([[ 0,  1,  2],\n",
       "       [ 3,  4,  5],\n",
       "       [ 6,  7,  8],\n",
       "       [ 9, 10, 11]])"
      ]
     },
     "execution_count": 99,
     "metadata": {},
     "output_type": "execute_result"
    }
   ],
   "source": [
    "a"
   ]
  },
  {
   "cell_type": "code",
   "execution_count": 103,
   "id": "201742f8",
   "metadata": {},
   "outputs": [
    {
     "data": {
      "text/plain": [
       "0"
      ]
     },
     "execution_count": 103,
     "metadata": {},
     "output_type": "execute_result"
    }
   ],
   "source": [
    "b[0]"
   ]
  },
  {
   "cell_type": "code",
   "execution_count": 104,
   "id": "79769fff",
   "metadata": {},
   "outputs": [
    {
     "data": {
      "text/plain": [
       "array([0, 1, 2])"
      ]
     },
     "execution_count": 104,
     "metadata": {},
     "output_type": "execute_result"
    }
   ],
   "source": [
    "b"
   ]
  },
  {
   "cell_type": "code",
   "execution_count": 105,
   "id": "6d211141",
   "metadata": {},
   "outputs": [
    {
     "data": {
      "text/plain": [
       "array([[ 0,  1,  4],\n",
       "       [ 0,  4, 10],\n",
       "       [ 0,  7, 16],\n",
       "       [ 0, 10, 22]])"
      ]
     },
     "execution_count": 105,
     "metadata": {},
     "output_type": "execute_result"
    }
   ],
   "source": [
    "a*b#it only multiplies the number directly"
   ]
  },
  {
   "cell_type": "code",
   "execution_count": 106,
   "id": "5ac5d32b",
   "metadata": {},
   "outputs": [
    {
     "data": {
      "text/plain": [
       "array([ 5, 14, 23, 32])"
      ]
     },
     "execution_count": 106,
     "metadata": {},
     "output_type": "execute_result"
    }
   ],
   "source": [
    "a@b#this is the actually multiplication of the matrix like a*b"
   ]
  },
  {
   "cell_type": "code",
   "execution_count": 107,
   "id": "5d71e88a",
   "metadata": {},
   "outputs": [
    {
     "data": {
      "text/plain": [
       "array([ 2.        ,  2.08080808,  2.16161616,  2.24242424,  2.32323232,\n",
       "        2.4040404 ,  2.48484848,  2.56565657,  2.64646465,  2.72727273,\n",
       "        2.80808081,  2.88888889,  2.96969697,  3.05050505,  3.13131313,\n",
       "        3.21212121,  3.29292929,  3.37373737,  3.45454545,  3.53535354,\n",
       "        3.61616162,  3.6969697 ,  3.77777778,  3.85858586,  3.93939394,\n",
       "        4.02020202,  4.1010101 ,  4.18181818,  4.26262626,  4.34343434,\n",
       "        4.42424242,  4.50505051,  4.58585859,  4.66666667,  4.74747475,\n",
       "        4.82828283,  4.90909091,  4.98989899,  5.07070707,  5.15151515,\n",
       "        5.23232323,  5.31313131,  5.39393939,  5.47474747,  5.55555556,\n",
       "        5.63636364,  5.71717172,  5.7979798 ,  5.87878788,  5.95959596,\n",
       "        6.04040404,  6.12121212,  6.2020202 ,  6.28282828,  6.36363636,\n",
       "        6.44444444,  6.52525253,  6.60606061,  6.68686869,  6.76767677,\n",
       "        6.84848485,  6.92929293,  7.01010101,  7.09090909,  7.17171717,\n",
       "        7.25252525,  7.33333333,  7.41414141,  7.49494949,  7.57575758,\n",
       "        7.65656566,  7.73737374,  7.81818182,  7.8989899 ,  7.97979798,\n",
       "        8.06060606,  8.14141414,  8.22222222,  8.3030303 ,  8.38383838,\n",
       "        8.46464646,  8.54545455,  8.62626263,  8.70707071,  8.78787879,\n",
       "        8.86868687,  8.94949495,  9.03030303,  9.11111111,  9.19191919,\n",
       "        9.27272727,  9.35353535,  9.43434343,  9.51515152,  9.5959596 ,\n",
       "        9.67676768,  9.75757576,  9.83838384,  9.91919192, 10.        ])"
      ]
     },
     "execution_count": 107,
     "metadata": {},
     "output_type": "execute_result"
    }
   ],
   "source": [
    "np.linspace(2,10,100)#it print the value between 2 and 10, 100 is the number of the value"
   ]
  },
  {
   "cell_type": "code",
   "execution_count": 108,
   "id": "58e82af0",
   "metadata": {},
   "outputs": [
    {
     "data": {
      "text/plain": [
       "array([2.        , 2.02222222, 2.04444444, 2.06666667, 2.08888889,\n",
       "       2.11111111, 2.13333333, 2.15555556, 2.17777778, 2.2       ,\n",
       "       2.22222222, 2.24444444, 2.26666667, 2.28888889, 2.31111111,\n",
       "       2.33333333, 2.35555556, 2.37777778, 2.4       , 2.42222222,\n",
       "       2.44444444, 2.46666667, 2.48888889, 2.51111111, 2.53333333,\n",
       "       2.55555556, 2.57777778, 2.6       , 2.62222222, 2.64444444,\n",
       "       2.66666667, 2.68888889, 2.71111111, 2.73333333, 2.75555556,\n",
       "       2.77777778, 2.8       , 2.82222222, 2.84444444, 2.86666667,\n",
       "       2.88888889, 2.91111111, 2.93333333, 2.95555556, 2.97777778])"
      ]
     },
     "execution_count": 108,
     "metadata": {},
     "output_type": "execute_result"
    }
   ],
   "source": [
    "np.linspace(2,3,45,dtype=float,endpoint=False)#It will not print the upper bound value\n"
   ]
  },
  {
   "cell_type": "code",
   "execution_count": 109,
   "id": "3d756439",
   "metadata": {},
   "outputs": [],
   "source": [
    "values=np.linspace(20,100,50).reshape(10,-1)"
   ]
  },
  {
   "cell_type": "code",
   "execution_count": 110,
   "id": "6069cabf",
   "metadata": {},
   "outputs": [
    {
     "data": {
      "text/plain": [
       "array([[ 20.        ,  21.63265306,  23.26530612,  24.89795918,\n",
       "         26.53061224],\n",
       "       [ 28.16326531,  29.79591837,  31.42857143,  33.06122449,\n",
       "         34.69387755],\n",
       "       [ 36.32653061,  37.95918367,  39.59183673,  41.2244898 ,\n",
       "         42.85714286],\n",
       "       [ 44.48979592,  46.12244898,  47.75510204,  49.3877551 ,\n",
       "         51.02040816],\n",
       "       [ 52.65306122,  54.28571429,  55.91836735,  57.55102041,\n",
       "         59.18367347],\n",
       "       [ 60.81632653,  62.44897959,  64.08163265,  65.71428571,\n",
       "         67.34693878],\n",
       "       [ 68.97959184,  70.6122449 ,  72.24489796,  73.87755102,\n",
       "         75.51020408],\n",
       "       [ 77.14285714,  78.7755102 ,  80.40816327,  82.04081633,\n",
       "         83.67346939],\n",
       "       [ 85.30612245,  86.93877551,  88.57142857,  90.20408163,\n",
       "         91.83673469],\n",
       "       [ 93.46938776,  95.10204082,  96.73469388,  98.36734694,\n",
       "        100.        ]])"
      ]
     },
     "execution_count": 110,
     "metadata": {},
     "output_type": "execute_result"
    }
   ],
   "source": [
    "values"
   ]
  },
  {
   "cell_type": "code",
   "execution_count": 111,
   "id": "b28b1193",
   "metadata": {},
   "outputs": [
    {
     "data": {
      "text/html": [
       "<div>\n",
       "<style scoped>\n",
       "    .dataframe tbody tr th:only-of-type {\n",
       "        vertical-align: middle;\n",
       "    }\n",
       "\n",
       "    .dataframe tbody tr th {\n",
       "        vertical-align: top;\n",
       "    }\n",
       "\n",
       "    .dataframe thead th {\n",
       "        text-align: right;\n",
       "    }\n",
       "</style>\n",
       "<table border=\"1\" class=\"dataframe\">\n",
       "  <thead>\n",
       "    <tr style=\"text-align: right;\">\n",
       "      <th></th>\n",
       "      <th>0</th>\n",
       "      <th>1</th>\n",
       "      <th>2</th>\n",
       "      <th>3</th>\n",
       "      <th>4</th>\n",
       "    </tr>\n",
       "  </thead>\n",
       "  <tbody>\n",
       "    <tr>\n",
       "      <th>0</th>\n",
       "      <td>20.000000</td>\n",
       "      <td>21.632653</td>\n",
       "      <td>23.265306</td>\n",
       "      <td>24.897959</td>\n",
       "      <td>26.530612</td>\n",
       "    </tr>\n",
       "    <tr>\n",
       "      <th>1</th>\n",
       "      <td>28.163265</td>\n",
       "      <td>29.795918</td>\n",
       "      <td>31.428571</td>\n",
       "      <td>33.061224</td>\n",
       "      <td>34.693878</td>\n",
       "    </tr>\n",
       "    <tr>\n",
       "      <th>2</th>\n",
       "      <td>36.326531</td>\n",
       "      <td>37.959184</td>\n",
       "      <td>39.591837</td>\n",
       "      <td>41.224490</td>\n",
       "      <td>42.857143</td>\n",
       "    </tr>\n",
       "    <tr>\n",
       "      <th>3</th>\n",
       "      <td>44.489796</td>\n",
       "      <td>46.122449</td>\n",
       "      <td>47.755102</td>\n",
       "      <td>49.387755</td>\n",
       "      <td>51.020408</td>\n",
       "    </tr>\n",
       "    <tr>\n",
       "      <th>4</th>\n",
       "      <td>52.653061</td>\n",
       "      <td>54.285714</td>\n",
       "      <td>55.918367</td>\n",
       "      <td>57.551020</td>\n",
       "      <td>59.183673</td>\n",
       "    </tr>\n",
       "    <tr>\n",
       "      <th>5</th>\n",
       "      <td>60.816327</td>\n",
       "      <td>62.448980</td>\n",
       "      <td>64.081633</td>\n",
       "      <td>65.714286</td>\n",
       "      <td>67.346939</td>\n",
       "    </tr>\n",
       "    <tr>\n",
       "      <th>6</th>\n",
       "      <td>68.979592</td>\n",
       "      <td>70.612245</td>\n",
       "      <td>72.244898</td>\n",
       "      <td>73.877551</td>\n",
       "      <td>75.510204</td>\n",
       "    </tr>\n",
       "    <tr>\n",
       "      <th>7</th>\n",
       "      <td>77.142857</td>\n",
       "      <td>78.775510</td>\n",
       "      <td>80.408163</td>\n",
       "      <td>82.040816</td>\n",
       "      <td>83.673469</td>\n",
       "    </tr>\n",
       "    <tr>\n",
       "      <th>8</th>\n",
       "      <td>85.306122</td>\n",
       "      <td>86.938776</td>\n",
       "      <td>88.571429</td>\n",
       "      <td>90.204082</td>\n",
       "      <td>91.836735</td>\n",
       "    </tr>\n",
       "    <tr>\n",
       "      <th>9</th>\n",
       "      <td>93.469388</td>\n",
       "      <td>95.102041</td>\n",
       "      <td>96.734694</td>\n",
       "      <td>98.367347</td>\n",
       "      <td>100.000000</td>\n",
       "    </tr>\n",
       "  </tbody>\n",
       "</table>\n",
       "</div>"
      ],
      "text/plain": [
       "           0          1          2          3           4\n",
       "0  20.000000  21.632653  23.265306  24.897959   26.530612\n",
       "1  28.163265  29.795918  31.428571  33.061224   34.693878\n",
       "2  36.326531  37.959184  39.591837  41.224490   42.857143\n",
       "3  44.489796  46.122449  47.755102  49.387755   51.020408\n",
       "4  52.653061  54.285714  55.918367  57.551020   59.183673\n",
       "5  60.816327  62.448980  64.081633  65.714286   67.346939\n",
       "6  68.979592  70.612245  72.244898  73.877551   75.510204\n",
       "7  77.142857  78.775510  80.408163  82.040816   83.673469\n",
       "8  85.306122  86.938776  88.571429  90.204082   91.836735\n",
       "9  93.469388  95.102041  96.734694  98.367347  100.000000"
      ]
     },
     "execution_count": 111,
     "metadata": {},
     "output_type": "execute_result"
    }
   ],
   "source": [
    "pd.DataFrame(values)"
   ]
  },
  {
   "cell_type": "code",
   "execution_count": 112,
   "id": "2be4e4f3",
   "metadata": {},
   "outputs": [],
   "source": [
    "values1=np.logspace(3,4,49).reshape(7,-1)"
   ]
  },
  {
   "cell_type": "code",
   "execution_count": 113,
   "id": "8ef68ee4",
   "metadata": {},
   "outputs": [
    {
     "data": {
      "text/plain": [
       "array([[ 1000.        ,  1049.13972914,  1100.69417125,  1154.78198469,\n",
       "         1211.52765863,  1271.06179961,  1333.52143216],\n",
       "       [ 1399.05031414,  1467.79926762,  1539.92652606,  1615.59809844,\n",
       "         1694.98815139,  1778.27941004,  1865.66357858],\n",
       "       [ 1957.34178149,  2053.52502646,  2154.43469003,  2260.30302714,\n",
       "         2371.37370566,  2487.90236724,  2610.15721568],\n",
       "       [ 2738.41963426,  2872.98483335,  3014.16252988,  3162.27766017,\n",
       "         3317.67112784,  3480.70058843,  3651.74127255],\n",
       "       [ 3831.18684956,  4019.45033362,  4216.96503429,  4424.18555385,\n",
       "         4641.58883361,  4869.67525166,  5108.96977451],\n",
       "       [ 5360.02316539,  5623.4132519 ,  5899.74625592,  6189.65818891,\n",
       "         6493.81631576,  6812.92069058,  7147.70576794],\n",
       "       [ 7498.94209332,  7867.4380766 ,  8254.04185268,  8659.6432336 ,\n",
       "         9085.17575652,  9531.61883235, 10000.        ]])"
      ]
     },
     "execution_count": 113,
     "metadata": {},
     "output_type": "execute_result"
    }
   ],
   "source": [
    "values1"
   ]
  },
  {
   "cell_type": "code",
   "execution_count": 114,
   "id": "84da953f",
   "metadata": {},
   "outputs": [
    {
     "data": {
      "text/html": [
       "<div>\n",
       "<style scoped>\n",
       "    .dataframe tbody tr th:only-of-type {\n",
       "        vertical-align: middle;\n",
       "    }\n",
       "\n",
       "    .dataframe tbody tr th {\n",
       "        vertical-align: top;\n",
       "    }\n",
       "\n",
       "    .dataframe thead th {\n",
       "        text-align: right;\n",
       "    }\n",
       "</style>\n",
       "<table border=\"1\" class=\"dataframe\">\n",
       "  <thead>\n",
       "    <tr style=\"text-align: right;\">\n",
       "      <th></th>\n",
       "      <th>0</th>\n",
       "      <th>1</th>\n",
       "      <th>2</th>\n",
       "      <th>3</th>\n",
       "      <th>4</th>\n",
       "      <th>5</th>\n",
       "      <th>6</th>\n",
       "    </tr>\n",
       "  </thead>\n",
       "  <tbody>\n",
       "    <tr>\n",
       "      <th>0</th>\n",
       "      <td>1000.000000</td>\n",
       "      <td>1049.139729</td>\n",
       "      <td>1100.694171</td>\n",
       "      <td>1154.781985</td>\n",
       "      <td>1211.527659</td>\n",
       "      <td>1271.061800</td>\n",
       "      <td>1333.521432</td>\n",
       "    </tr>\n",
       "    <tr>\n",
       "      <th>1</th>\n",
       "      <td>1399.050314</td>\n",
       "      <td>1467.799268</td>\n",
       "      <td>1539.926526</td>\n",
       "      <td>1615.598098</td>\n",
       "      <td>1694.988151</td>\n",
       "      <td>1778.279410</td>\n",
       "      <td>1865.663579</td>\n",
       "    </tr>\n",
       "    <tr>\n",
       "      <th>2</th>\n",
       "      <td>1957.341781</td>\n",
       "      <td>2053.525026</td>\n",
       "      <td>2154.434690</td>\n",
       "      <td>2260.303027</td>\n",
       "      <td>2371.373706</td>\n",
       "      <td>2487.902367</td>\n",
       "      <td>2610.157216</td>\n",
       "    </tr>\n",
       "    <tr>\n",
       "      <th>3</th>\n",
       "      <td>2738.419634</td>\n",
       "      <td>2872.984833</td>\n",
       "      <td>3014.162530</td>\n",
       "      <td>3162.277660</td>\n",
       "      <td>3317.671128</td>\n",
       "      <td>3480.700588</td>\n",
       "      <td>3651.741273</td>\n",
       "    </tr>\n",
       "    <tr>\n",
       "      <th>4</th>\n",
       "      <td>3831.186850</td>\n",
       "      <td>4019.450334</td>\n",
       "      <td>4216.965034</td>\n",
       "      <td>4424.185554</td>\n",
       "      <td>4641.588834</td>\n",
       "      <td>4869.675252</td>\n",
       "      <td>5108.969775</td>\n",
       "    </tr>\n",
       "    <tr>\n",
       "      <th>5</th>\n",
       "      <td>5360.023165</td>\n",
       "      <td>5623.413252</td>\n",
       "      <td>5899.746256</td>\n",
       "      <td>6189.658189</td>\n",
       "      <td>6493.816316</td>\n",
       "      <td>6812.920691</td>\n",
       "      <td>7147.705768</td>\n",
       "    </tr>\n",
       "    <tr>\n",
       "      <th>6</th>\n",
       "      <td>7498.942093</td>\n",
       "      <td>7867.438077</td>\n",
       "      <td>8254.041853</td>\n",
       "      <td>8659.643234</td>\n",
       "      <td>9085.175757</td>\n",
       "      <td>9531.618832</td>\n",
       "      <td>10000.000000</td>\n",
       "    </tr>\n",
       "  </tbody>\n",
       "</table>\n",
       "</div>"
      ],
      "text/plain": [
       "             0            1            2            3            4  \\\n",
       "0  1000.000000  1049.139729  1100.694171  1154.781985  1211.527659   \n",
       "1  1399.050314  1467.799268  1539.926526  1615.598098  1694.988151   \n",
       "2  1957.341781  2053.525026  2154.434690  2260.303027  2371.373706   \n",
       "3  2738.419634  2872.984833  3014.162530  3162.277660  3317.671128   \n",
       "4  3831.186850  4019.450334  4216.965034  4424.185554  4641.588834   \n",
       "5  5360.023165  5623.413252  5899.746256  6189.658189  6493.816316   \n",
       "6  7498.942093  7867.438077  8254.041853  8659.643234  9085.175757   \n",
       "\n",
       "             5             6  \n",
       "0  1271.061800   1333.521432  \n",
       "1  1778.279410   1865.663579  \n",
       "2  2487.902367   2610.157216  \n",
       "3  3480.700588   3651.741273  \n",
       "4  4869.675252   5108.969775  \n",
       "5  6812.920691   7147.705768  \n",
       "6  9531.618832  10000.000000  "
      ]
     },
     "execution_count": 114,
     "metadata": {},
     "output_type": "execute_result"
    }
   ],
   "source": [
    "pd.DataFrame(values1)"
   ]
  },
  {
   "cell_type": "code",
   "execution_count": 115,
   "id": "f990da58",
   "metadata": {},
   "outputs": [
    {
     "data": {
      "text/plain": [
       "array([[0.47482609, 0.99227605, 0.36266438, 0.0800726 , 0.25652414],\n",
       "       [0.18899573, 0.65858066, 0.10820552, 0.02788285, 0.36153727],\n",
       "       [0.37807576, 0.69848004, 0.12260624, 0.26312161, 0.82517623],\n",
       "       [0.74984194, 0.67990671, 0.3023736 , 0.79973809, 0.69903858]])"
      ]
     },
     "execution_count": 115,
     "metadata": {},
     "output_type": "execute_result"
    }
   ],
   "source": [
    "np.empty((4,5))"
   ]
  },
  {
   "cell_type": "code",
   "execution_count": 116,
   "id": "3cf24799",
   "metadata": {},
   "outputs": [
    {
     "data": {
      "text/plain": [
       "array([[ 0,  1,  2],\n",
       "       [ 3,  4,  5],\n",
       "       [ 6,  7,  8],\n",
       "       [ 9, 10, 11]])"
      ]
     },
     "execution_count": 116,
     "metadata": {},
     "output_type": "execute_result"
    }
   ],
   "source": [
    "a"
   ]
  },
  {
   "cell_type": "code",
   "execution_count": 117,
   "id": "3aa370b2",
   "metadata": {},
   "outputs": [
    {
     "data": {
      "text/plain": [
       "array([[0.        , 1.        , 1.41421356],\n",
       "       [1.73205081, 2.        , 2.23606798],\n",
       "       [2.44948974, 2.64575131, 2.82842712],\n",
       "       [3.        , 3.16227766, 3.31662479]])"
      ]
     },
     "execution_count": 117,
     "metadata": {},
     "output_type": "execute_result"
    }
   ],
   "source": [
    "np.sqrt(a)"
   ]
  },
  {
   "cell_type": "code",
   "execution_count": 118,
   "id": "c9b74155",
   "metadata": {},
   "outputs": [
    {
     "data": {
      "text/plain": [
       "11"
      ]
     },
     "execution_count": 118,
     "metadata": {},
     "output_type": "execute_result"
    }
   ],
   "source": [
    "a.max()"
   ]
  },
  {
   "cell_type": "code",
   "execution_count": 119,
   "id": "ae70dac5",
   "metadata": {},
   "outputs": [],
   "source": [
    "b=a.T"
   ]
  },
  {
   "cell_type": "code",
   "execution_count": 120,
   "id": "16e36083",
   "metadata": {},
   "outputs": [
    {
     "data": {
      "text/plain": [
       "array([[ 0,  3,  6,  9],\n",
       "       [ 1,  4,  7, 10],\n",
       "       [ 2,  5,  8, 11]])"
      ]
     },
     "execution_count": 120,
     "metadata": {},
     "output_type": "execute_result"
    }
   ],
   "source": [
    "b"
   ]
  },
  {
   "cell_type": "code",
   "execution_count": 121,
   "id": "01cb84ed",
   "metadata": {},
   "outputs": [
    {
     "data": {
      "text/plain": [
       "array([ 2,  5,  8, 11])"
      ]
     },
     "execution_count": 121,
     "metadata": {},
     "output_type": "execute_result"
    }
   ],
   "source": [
    "b.max(axis=0)#It  take the row views starting from 0,1,2 and so on"
   ]
  },
  {
   "cell_type": "code",
   "execution_count": 122,
   "id": "e0933f64",
   "metadata": {},
   "outputs": [
    {
     "data": {
      "text/plain": [
       "array([ 9, 10, 11])"
      ]
     },
     "execution_count": 122,
     "metadata": {},
     "output_type": "execute_result"
    }
   ],
   "source": [
    "b.max(axis=1)#It takes the colums views starting from o,3,6,9 and so on"
   ]
  },
  {
   "cell_type": "code",
   "execution_count": 126,
   "id": "ddd0b809",
   "metadata": {},
   "outputs": [],
   "source": [
    "a=np.arange(20).reshape(4,-5)"
   ]
  },
  {
   "cell_type": "code",
   "execution_count": 127,
   "id": "a9b2291a",
   "metadata": {},
   "outputs": [
    {
     "data": {
      "text/plain": [
       "array([[ 0,  1,  2,  3,  4],\n",
       "       [ 5,  6,  7,  8,  9],\n",
       "       [10, 11, 12, 13, 14],\n",
       "       [15, 16, 17, 18, 19]])"
      ]
     },
     "execution_count": 127,
     "metadata": {},
     "output_type": "execute_result"
    }
   ],
   "source": [
    "a"
   ]
  },
  {
   "cell_type": "code",
   "execution_count": 129,
   "id": "626d596d",
   "metadata": {},
   "outputs": [],
   "source": [
    "b=a.T"
   ]
  },
  {
   "cell_type": "code",
   "execution_count": 131,
   "id": "0ea90d93",
   "metadata": {},
   "outputs": [
    {
     "data": {
      "text/plain": [
       "array([[ 0,  5, 10, 15],\n",
       "       [ 1,  6, 11, 16],\n",
       "       [ 2,  7, 12, 17],\n",
       "       [ 3,  8, 13, 18],\n",
       "       [ 4,  9, 14, 19]])"
      ]
     },
     "execution_count": 131,
     "metadata": {},
     "output_type": "execute_result"
    }
   ],
   "source": [
    "b#Transpose of the matrix"
   ]
  },
  {
   "cell_type": "code",
   "execution_count": 132,
   "id": "ec1320f5",
   "metadata": {},
   "outputs": [
    {
     "data": {
      "text/plain": [
       "array([ 4,  9, 14, 19])"
      ]
     },
     "execution_count": 132,
     "metadata": {},
     "output_type": "execute_result"
    }
   ],
   "source": [
    "b.max(axis=0)"
   ]
  },
  {
   "cell_type": "markdown",
   "id": "268817ee",
   "metadata": {},
   "source": [
    "# Mysql"
   ]
  },
  {
   "cell_type": "code",
   "execution_count": 50,
   "id": "c1cecf79",
   "metadata": {},
   "outputs": [
    {
     "data": {
      "text/plain": [
       "[('dress',),\n",
       " ('dress1',),\n",
       " ('test2',),\n",
       " ('test3',),\n",
       " ('test4',),\n",
       " ('test65',),\n",
       " ('test66',),\n",
       " ('test67',)]"
      ]
     },
     "execution_count": 50,
     "metadata": {},
     "output_type": "execute_result"
    }
   ],
   "source": [
    "import pandas as pd\n",
    "import mysql.connector as cn\n",
    "mydb=cn.connect(host='localhost',user='root',passwd='snzk@#1329')\n",
    "cursor=mydb.cursor()\n",
    "#cursor.execute('show databases')\n",
    "cursor.execute('use dress_data')\n",
    "cursor.execute('show tables')\n",
    "#cursor.execute('select * from dress1')\n",
    "cursor.fetchall()\n",
    "#mydb.commit()"
   ]
  },
  {
   "cell_type": "code",
   "execution_count": 54,
   "id": "2ed56cde",
   "metadata": {},
   "outputs": [
    {
     "data": {
      "text/html": [
       "<div>\n",
       "<style scoped>\n",
       "    .dataframe tbody tr th:only-of-type {\n",
       "        vertical-align: middle;\n",
       "    }\n",
       "\n",
       "    .dataframe tbody tr th {\n",
       "        vertical-align: top;\n",
       "    }\n",
       "\n",
       "    .dataframe thead th {\n",
       "        text-align: right;\n",
       "    }\n",
       "</style>\n",
       "<table border=\"1\" class=\"dataframe\">\n",
       "  <thead>\n",
       "    <tr style=\"text-align: right;\">\n",
       "      <th></th>\n",
       "      <th>Dress_ID</th>\n",
       "      <th>New_dress_id</th>\n",
       "      <th>Style</th>\n",
       "      <th>Price</th>\n",
       "      <th>Size</th>\n",
       "      <th>Season</th>\n",
       "      <th>NeckLine</th>\n",
       "      <th>SleeveLength</th>\n",
       "      <th>waiseline</th>\n",
       "      <th>Material</th>\n",
       "      <th>FabricType</th>\n",
       "      <th>Decoration</th>\n",
       "      <th>Pattern Type</th>\n",
       "      <th>Recommendation</th>\n",
       "    </tr>\n",
       "  </thead>\n",
       "  <tbody>\n",
       "    <tr>\n",
       "      <th>0</th>\n",
       "      <td>1006032852</td>\n",
       "      <td>1006032852</td>\n",
       "      <td>Sexy</td>\n",
       "      <td>Low</td>\n",
       "      <td>4.6</td>\n",
       "      <td>M</td>\n",
       "      <td>Summer</td>\n",
       "      <td>o-neck</td>\n",
       "      <td>sleevless</td>\n",
       "      <td>empire</td>\n",
       "      <td>null</td>\n",
       "      <td>chiffon</td>\n",
       "      <td>ruffles</td>\n",
       "      <td>animal</td>\n",
       "    </tr>\n",
       "    <tr>\n",
       "      <th>1</th>\n",
       "      <td>1212192089</td>\n",
       "      <td>1212192089</td>\n",
       "      <td>Casual</td>\n",
       "      <td>Low</td>\n",
       "      <td>0</td>\n",
       "      <td>L</td>\n",
       "      <td>Summer</td>\n",
       "      <td>o-neck</td>\n",
       "      <td>Petal</td>\n",
       "      <td>natural</td>\n",
       "      <td>microfiber</td>\n",
       "      <td>null</td>\n",
       "      <td>ruffles</td>\n",
       "      <td>animal</td>\n",
       "    </tr>\n",
       "    <tr>\n",
       "      <th>2</th>\n",
       "      <td>1190380701</td>\n",
       "      <td>1190380701</td>\n",
       "      <td>vintage</td>\n",
       "      <td>High</td>\n",
       "      <td>0</td>\n",
       "      <td>L</td>\n",
       "      <td>Automn</td>\n",
       "      <td>o-neck</td>\n",
       "      <td>full</td>\n",
       "      <td>natural</td>\n",
       "      <td>polyster</td>\n",
       "      <td>null</td>\n",
       "      <td>null</td>\n",
       "      <td>print</td>\n",
       "    </tr>\n",
       "    <tr>\n",
       "      <th>3</th>\n",
       "      <td>966005983</td>\n",
       "      <td>966005983</td>\n",
       "      <td>Brief</td>\n",
       "      <td>Average</td>\n",
       "      <td>4.6</td>\n",
       "      <td>L</td>\n",
       "      <td>Spring</td>\n",
       "      <td>o-neck</td>\n",
       "      <td>full</td>\n",
       "      <td>natural</td>\n",
       "      <td>silk</td>\n",
       "      <td>chiffon</td>\n",
       "      <td>embroidary</td>\n",
       "      <td>print</td>\n",
       "    </tr>\n",
       "    <tr>\n",
       "      <th>4</th>\n",
       "      <td>876339541</td>\n",
       "      <td>876339541</td>\n",
       "      <td>cute</td>\n",
       "      <td>Low</td>\n",
       "      <td>4.5</td>\n",
       "      <td>M</td>\n",
       "      <td>Summer</td>\n",
       "      <td>o-neck</td>\n",
       "      <td>butterfly</td>\n",
       "      <td>natural</td>\n",
       "      <td>chiffonfabric</td>\n",
       "      <td>chiffon</td>\n",
       "      <td>bow</td>\n",
       "      <td>dot</td>\n",
       "    </tr>\n",
       "    <tr>\n",
       "      <th>...</th>\n",
       "      <td>...</td>\n",
       "      <td>...</td>\n",
       "      <td>...</td>\n",
       "      <td>...</td>\n",
       "      <td>...</td>\n",
       "      <td>...</td>\n",
       "      <td>...</td>\n",
       "      <td>...</td>\n",
       "      <td>...</td>\n",
       "      <td>...</td>\n",
       "      <td>...</td>\n",
       "      <td>...</td>\n",
       "      <td>...</td>\n",
       "      <td>...</td>\n",
       "    </tr>\n",
       "    <tr>\n",
       "      <th>495</th>\n",
       "      <td>713391965</td>\n",
       "      <td>713391965</td>\n",
       "      <td>Casual</td>\n",
       "      <td>Low</td>\n",
       "      <td>4.7</td>\n",
       "      <td>M</td>\n",
       "      <td>Spring</td>\n",
       "      <td>o-neck</td>\n",
       "      <td>full</td>\n",
       "      <td>natural</td>\n",
       "      <td>polyster</td>\n",
       "      <td>null</td>\n",
       "      <td>null</td>\n",
       "      <td>solid</td>\n",
       "    </tr>\n",
       "    <tr>\n",
       "      <th>496</th>\n",
       "      <td>722565148</td>\n",
       "      <td>722565148</td>\n",
       "      <td>Sexy</td>\n",
       "      <td>Low</td>\n",
       "      <td>4.3</td>\n",
       "      <td>free</td>\n",
       "      <td>Summer</td>\n",
       "      <td>o-neck</td>\n",
       "      <td>full</td>\n",
       "      <td>empire</td>\n",
       "      <td>cotton</td>\n",
       "      <td>null</td>\n",
       "      <td>null</td>\n",
       "      <td>null</td>\n",
       "    </tr>\n",
       "    <tr>\n",
       "      <th>497</th>\n",
       "      <td>532874347</td>\n",
       "      <td>532874347</td>\n",
       "      <td>Casual</td>\n",
       "      <td>Average</td>\n",
       "      <td>4.7</td>\n",
       "      <td>M</td>\n",
       "      <td>Summer</td>\n",
       "      <td>v-neck</td>\n",
       "      <td>full</td>\n",
       "      <td>empire</td>\n",
       "      <td>cotton</td>\n",
       "      <td>null</td>\n",
       "      <td>lace</td>\n",
       "      <td>solid</td>\n",
       "    </tr>\n",
       "    <tr>\n",
       "      <th>498</th>\n",
       "      <td>655464934</td>\n",
       "      <td>655464934</td>\n",
       "      <td>Casual</td>\n",
       "      <td>Average</td>\n",
       "      <td>4.6</td>\n",
       "      <td>L</td>\n",
       "      <td>winter</td>\n",
       "      <td>boat-neck</td>\n",
       "      <td>sleevless</td>\n",
       "      <td>empire</td>\n",
       "      <td>silk</td>\n",
       "      <td>broadcloth</td>\n",
       "      <td>applique</td>\n",
       "      <td>print</td>\n",
       "    </tr>\n",
       "    <tr>\n",
       "      <th>499</th>\n",
       "      <td>919930954</td>\n",
       "      <td>919930954</td>\n",
       "      <td>Casual</td>\n",
       "      <td>Low</td>\n",
       "      <td>4.4</td>\n",
       "      <td>free</td>\n",
       "      <td>Summer</td>\n",
       "      <td>v-neck</td>\n",
       "      <td>short</td>\n",
       "      <td>empire</td>\n",
       "      <td>cotton</td>\n",
       "      <td>Corduroy</td>\n",
       "      <td>lace</td>\n",
       "      <td>solid</td>\n",
       "    </tr>\n",
       "  </tbody>\n",
       "</table>\n",
       "<p>500 rows × 14 columns</p>\n",
       "</div>"
      ],
      "text/plain": [
       "       Dress_ID  New_dress_id    Style    Price Size Season NeckLine  \\\n",
       "0    1006032852    1006032852     Sexy      Low  4.6      M   Summer   \n",
       "1    1212192089    1212192089   Casual      Low    0      L   Summer   \n",
       "2    1190380701    1190380701  vintage     High    0      L   Automn   \n",
       "3     966005983     966005983    Brief  Average  4.6      L   Spring   \n",
       "4     876339541     876339541     cute      Low  4.5      M   Summer   \n",
       "..          ...           ...      ...      ...  ...    ...      ...   \n",
       "495   713391965     713391965   Casual      Low  4.7      M   Spring   \n",
       "496   722565148     722565148     Sexy      Low  4.3   free   Summer   \n",
       "497   532874347     532874347   Casual  Average  4.7      M   Summer   \n",
       "498   655464934     655464934   Casual  Average  4.6      L   winter   \n",
       "499   919930954     919930954   Casual      Low  4.4   free   Summer   \n",
       "\n",
       "    SleeveLength  waiseline Material     FabricType  Decoration Pattern Type  \\\n",
       "0         o-neck  sleevless   empire           null     chiffon      ruffles   \n",
       "1         o-neck      Petal  natural     microfiber        null      ruffles   \n",
       "2         o-neck       full  natural       polyster        null         null   \n",
       "3         o-neck       full  natural           silk     chiffon   embroidary   \n",
       "4         o-neck  butterfly  natural  chiffonfabric     chiffon          bow   \n",
       "..           ...        ...      ...            ...         ...          ...   \n",
       "495       o-neck       full  natural       polyster        null         null   \n",
       "496       o-neck       full   empire         cotton        null         null   \n",
       "497       v-neck       full   empire         cotton        null         lace   \n",
       "498    boat-neck  sleevless   empire           silk  broadcloth     applique   \n",
       "499       v-neck      short   empire         cotton    Corduroy         lace   \n",
       "\n",
       "    Recommendation  \n",
       "0           animal  \n",
       "1           animal  \n",
       "2            print  \n",
       "3            print  \n",
       "4              dot  \n",
       "..             ...  \n",
       "495          solid  \n",
       "496           null  \n",
       "497          solid  \n",
       "498          print  \n",
       "499          solid  \n",
       "\n",
       "[500 rows x 14 columns]"
      ]
     },
     "execution_count": 54,
     "metadata": {},
     "output_type": "execute_result"
    }
   ],
   "source": [
    "pd.read_sql('select * from dress_data.dress1',mydb)# to connect with pandas and mysql  syntax database.table name"
   ]
  },
  {
   "cell_type": "code",
   "execution_count": 56,
   "id": "8a858eba",
   "metadata": {},
   "outputs": [
    {
     "name": "stderr",
     "output_type": "stream",
     "text": [
      "C:\\Users\\91986\\anaconda3\\lib\\site-packages\\pandas\\io\\sql.py:761: UserWarning: pandas only support SQLAlchemy connectable(engine/connection) ordatabase string URI or sqlite3 DBAPI2 connectionother DBAPI2 objects are not tested, please consider using SQLAlchemy\n",
      "  warnings.warn(\n"
     ]
    },
    {
     "data": {
      "text/html": [
       "<div>\n",
       "<style scoped>\n",
       "    .dataframe tbody tr th:only-of-type {\n",
       "        vertical-align: middle;\n",
       "    }\n",
       "\n",
       "    .dataframe tbody tr th {\n",
       "        vertical-align: top;\n",
       "    }\n",
       "\n",
       "    .dataframe thead th {\n",
       "        text-align: right;\n",
       "    }\n",
       "</style>\n",
       "<table border=\"1\" class=\"dataframe\">\n",
       "  <thead>\n",
       "    <tr style=\"text-align: right;\">\n",
       "      <th></th>\n",
       "      <th>Dress_ID</th>\n",
       "      <th>New_dress_id</th>\n",
       "      <th>Style</th>\n",
       "      <th>Price</th>\n",
       "      <th>Size</th>\n",
       "      <th>Season</th>\n",
       "      <th>NeckLine</th>\n",
       "      <th>SleeveLength</th>\n",
       "      <th>waiseline</th>\n",
       "      <th>Material</th>\n",
       "      <th>FabricType</th>\n",
       "      <th>Decoration</th>\n",
       "      <th>Pattern Type</th>\n",
       "      <th>Recommendation</th>\n",
       "    </tr>\n",
       "  </thead>\n",
       "  <tbody>\n",
       "    <tr>\n",
       "      <th>0</th>\n",
       "      <td>1006032852</td>\n",
       "      <td>1006032852</td>\n",
       "      <td>Sexy</td>\n",
       "      <td>Low</td>\n",
       "      <td>4.6</td>\n",
       "      <td>M</td>\n",
       "      <td>Summer</td>\n",
       "      <td>o-neck</td>\n",
       "      <td>sleevless</td>\n",
       "      <td>empire</td>\n",
       "      <td>null</td>\n",
       "      <td>chiffon</td>\n",
       "      <td>ruffles</td>\n",
       "      <td>animal</td>\n",
       "    </tr>\n",
       "    <tr>\n",
       "      <th>1</th>\n",
       "      <td>1212192089</td>\n",
       "      <td>1212192089</td>\n",
       "      <td>Casual</td>\n",
       "      <td>Low</td>\n",
       "      <td>0</td>\n",
       "      <td>L</td>\n",
       "      <td>Summer</td>\n",
       "      <td>o-neck</td>\n",
       "      <td>Petal</td>\n",
       "      <td>natural</td>\n",
       "      <td>microfiber</td>\n",
       "      <td>null</td>\n",
       "      <td>ruffles</td>\n",
       "      <td>animal</td>\n",
       "    </tr>\n",
       "    <tr>\n",
       "      <th>2</th>\n",
       "      <td>1190380701</td>\n",
       "      <td>1190380701</td>\n",
       "      <td>vintage</td>\n",
       "      <td>High</td>\n",
       "      <td>0</td>\n",
       "      <td>L</td>\n",
       "      <td>Automn</td>\n",
       "      <td>o-neck</td>\n",
       "      <td>full</td>\n",
       "      <td>natural</td>\n",
       "      <td>polyster</td>\n",
       "      <td>null</td>\n",
       "      <td>null</td>\n",
       "      <td>print</td>\n",
       "    </tr>\n",
       "    <tr>\n",
       "      <th>3</th>\n",
       "      <td>966005983</td>\n",
       "      <td>966005983</td>\n",
       "      <td>Brief</td>\n",
       "      <td>Average</td>\n",
       "      <td>4.6</td>\n",
       "      <td>L</td>\n",
       "      <td>Spring</td>\n",
       "      <td>o-neck</td>\n",
       "      <td>full</td>\n",
       "      <td>natural</td>\n",
       "      <td>silk</td>\n",
       "      <td>chiffon</td>\n",
       "      <td>embroidary</td>\n",
       "      <td>print</td>\n",
       "    </tr>\n",
       "    <tr>\n",
       "      <th>4</th>\n",
       "      <td>876339541</td>\n",
       "      <td>876339541</td>\n",
       "      <td>cute</td>\n",
       "      <td>Low</td>\n",
       "      <td>4.5</td>\n",
       "      <td>M</td>\n",
       "      <td>Summer</td>\n",
       "      <td>o-neck</td>\n",
       "      <td>butterfly</td>\n",
       "      <td>natural</td>\n",
       "      <td>chiffonfabric</td>\n",
       "      <td>chiffon</td>\n",
       "      <td>bow</td>\n",
       "      <td>dot</td>\n",
       "    </tr>\n",
       "    <tr>\n",
       "      <th>...</th>\n",
       "      <td>...</td>\n",
       "      <td>...</td>\n",
       "      <td>...</td>\n",
       "      <td>...</td>\n",
       "      <td>...</td>\n",
       "      <td>...</td>\n",
       "      <td>...</td>\n",
       "      <td>...</td>\n",
       "      <td>...</td>\n",
       "      <td>...</td>\n",
       "      <td>...</td>\n",
       "      <td>...</td>\n",
       "      <td>...</td>\n",
       "      <td>...</td>\n",
       "    </tr>\n",
       "    <tr>\n",
       "      <th>495</th>\n",
       "      <td>713391965</td>\n",
       "      <td>713391965</td>\n",
       "      <td>Casual</td>\n",
       "      <td>Low</td>\n",
       "      <td>4.7</td>\n",
       "      <td>M</td>\n",
       "      <td>Spring</td>\n",
       "      <td>o-neck</td>\n",
       "      <td>full</td>\n",
       "      <td>natural</td>\n",
       "      <td>polyster</td>\n",
       "      <td>null</td>\n",
       "      <td>null</td>\n",
       "      <td>solid</td>\n",
       "    </tr>\n",
       "    <tr>\n",
       "      <th>496</th>\n",
       "      <td>722565148</td>\n",
       "      <td>722565148</td>\n",
       "      <td>Sexy</td>\n",
       "      <td>Low</td>\n",
       "      <td>4.3</td>\n",
       "      <td>free</td>\n",
       "      <td>Summer</td>\n",
       "      <td>o-neck</td>\n",
       "      <td>full</td>\n",
       "      <td>empire</td>\n",
       "      <td>cotton</td>\n",
       "      <td>null</td>\n",
       "      <td>null</td>\n",
       "      <td>null</td>\n",
       "    </tr>\n",
       "    <tr>\n",
       "      <th>497</th>\n",
       "      <td>532874347</td>\n",
       "      <td>532874347</td>\n",
       "      <td>Casual</td>\n",
       "      <td>Average</td>\n",
       "      <td>4.7</td>\n",
       "      <td>M</td>\n",
       "      <td>Summer</td>\n",
       "      <td>v-neck</td>\n",
       "      <td>full</td>\n",
       "      <td>empire</td>\n",
       "      <td>cotton</td>\n",
       "      <td>null</td>\n",
       "      <td>lace</td>\n",
       "      <td>solid</td>\n",
       "    </tr>\n",
       "    <tr>\n",
       "      <th>498</th>\n",
       "      <td>655464934</td>\n",
       "      <td>655464934</td>\n",
       "      <td>Casual</td>\n",
       "      <td>Average</td>\n",
       "      <td>4.6</td>\n",
       "      <td>L</td>\n",
       "      <td>winter</td>\n",
       "      <td>boat-neck</td>\n",
       "      <td>sleevless</td>\n",
       "      <td>empire</td>\n",
       "      <td>silk</td>\n",
       "      <td>broadcloth</td>\n",
       "      <td>applique</td>\n",
       "      <td>print</td>\n",
       "    </tr>\n",
       "    <tr>\n",
       "      <th>499</th>\n",
       "      <td>919930954</td>\n",
       "      <td>919930954</td>\n",
       "      <td>Casual</td>\n",
       "      <td>Low</td>\n",
       "      <td>4.4</td>\n",
       "      <td>free</td>\n",
       "      <td>Summer</td>\n",
       "      <td>v-neck</td>\n",
       "      <td>short</td>\n",
       "      <td>empire</td>\n",
       "      <td>cotton</td>\n",
       "      <td>Corduroy</td>\n",
       "      <td>lace</td>\n",
       "      <td>solid</td>\n",
       "    </tr>\n",
       "  </tbody>\n",
       "</table>\n",
       "<p>500 rows × 14 columns</p>\n",
       "</div>"
      ],
      "text/plain": [
       "       Dress_ID  New_dress_id    Style    Price Size Season NeckLine  \\\n",
       "0    1006032852    1006032852     Sexy      Low  4.6      M   Summer   \n",
       "1    1212192089    1212192089   Casual      Low    0      L   Summer   \n",
       "2    1190380701    1190380701  vintage     High    0      L   Automn   \n",
       "3     966005983     966005983    Brief  Average  4.6      L   Spring   \n",
       "4     876339541     876339541     cute      Low  4.5      M   Summer   \n",
       "..          ...           ...      ...      ...  ...    ...      ...   \n",
       "495   713391965     713391965   Casual      Low  4.7      M   Spring   \n",
       "496   722565148     722565148     Sexy      Low  4.3   free   Summer   \n",
       "497   532874347     532874347   Casual  Average  4.7      M   Summer   \n",
       "498   655464934     655464934   Casual  Average  4.6      L   winter   \n",
       "499   919930954     919930954   Casual      Low  4.4   free   Summer   \n",
       "\n",
       "    SleeveLength  waiseline Material     FabricType  Decoration Pattern Type  \\\n",
       "0         o-neck  sleevless   empire           null     chiffon      ruffles   \n",
       "1         o-neck      Petal  natural     microfiber        null      ruffles   \n",
       "2         o-neck       full  natural       polyster        null         null   \n",
       "3         o-neck       full  natural           silk     chiffon   embroidary   \n",
       "4         o-neck  butterfly  natural  chiffonfabric     chiffon          bow   \n",
       "..           ...        ...      ...            ...         ...          ...   \n",
       "495       o-neck       full  natural       polyster        null         null   \n",
       "496       o-neck       full   empire         cotton        null         null   \n",
       "497       v-neck       full   empire         cotton        null         lace   \n",
       "498    boat-neck  sleevless   empire           silk  broadcloth     applique   \n",
       "499       v-neck      short   empire         cotton    Corduroy         lace   \n",
       "\n",
       "    Recommendation  \n",
       "0           animal  \n",
       "1           animal  \n",
       "2            print  \n",
       "3            print  \n",
       "4              dot  \n",
       "..             ...  \n",
       "495          solid  \n",
       "496           null  \n",
       "497          solid  \n",
       "498          print  \n",
       "499          solid  \n",
       "\n",
       "[500 rows x 14 columns]"
      ]
     },
     "execution_count": 56,
     "metadata": {},
     "output_type": "execute_result"
    }
   ],
   "source": [
    "pd.read_sql_query('select * from dress1',mydb) #if you are using the database then give table name only"
   ]
  },
  {
   "cell_type": "code",
   "execution_count": 58,
   "id": "5b08dac7",
   "metadata": {},
   "outputs": [
    {
     "data": {
      "text/html": [
       "<div>\n",
       "<style scoped>\n",
       "    .dataframe tbody tr th:only-of-type {\n",
       "        vertical-align: middle;\n",
       "    }\n",
       "\n",
       "    .dataframe tbody tr th {\n",
       "        vertical-align: top;\n",
       "    }\n",
       "\n",
       "    .dataframe thead th {\n",
       "        text-align: right;\n",
       "    }\n",
       "</style>\n",
       "<table border=\"1\" class=\"dataframe\">\n",
       "  <thead>\n",
       "    <tr style=\"text-align: right;\">\n",
       "      <th></th>\n",
       "      <th>source_uuid</th>\n",
       "      <th>interval_start</th>\n",
       "      <th>interval_end</th>\n",
       "    </tr>\n",
       "  </thead>\n",
       "  <tbody>\n",
       "  </tbody>\n",
       "</table>\n",
       "</div>"
      ],
      "text/plain": [
       "Empty DataFrame\n",
       "Columns: [source_uuid, interval_start, interval_end]\n",
       "Index: []"
      ]
     },
     "execution_count": 58,
     "metadata": {},
     "output_type": "execute_result"
    }
   ],
   "source": [
    "pd.read_sql('select * from mysql.gtid_executed',mydb)"
   ]
  },
  {
   "cell_type": "markdown",
   "id": "c1e2b889",
   "metadata": {},
   "source": [
    "# Flask"
   ]
  },
  {
   "cell_type": "code",
   "execution_count": 74,
   "id": "21762237",
   "metadata": {},
   "outputs": [
    {
     "name": "stdout",
     "output_type": "stream",
     "text": [
      "Requirement already satisfied: flask in c:\\users\\91986\\anaconda3\\lib\\site-packages (1.1.2)\n",
      "Requirement already satisfied: Werkzeug>=0.15 in c:\\users\\91986\\anaconda3\\lib\\site-packages (from flask) (2.0.3)\n",
      "Requirement already satisfied: itsdangerous>=0.24 in c:\\users\\91986\\anaconda3\\lib\\site-packages (from flask) (2.0.1)\n",
      "Requirement already satisfied: Jinja2>=2.10.1 in c:\\users\\91986\\anaconda3\\lib\\site-packages (from flask) (2.11.3)\n",
      "Requirement already satisfied: click>=5.1 in c:\\users\\91986\\anaconda3\\lib\\site-packages (from flask) (8.0.4)\n",
      "Requirement already satisfied: colorama in c:\\users\\91986\\anaconda3\\lib\\site-packages (from click>=5.1->flask) (0.4.4)\n",
      "Requirement already satisfied: MarkupSafe>=0.23 in c:\\users\\91986\\anaconda3\\lib\\site-packages (from Jinja2>=2.10.1->flask) (2.0.1)\n"
     ]
    },
    {
     "name": "stderr",
     "output_type": "stream",
     "text": [
      "ERROR: Could not find a version that satisfies the requirement json (from versions: none)\n",
      "ERROR: No matching distribution found for json\n"
     ]
    }
   ],
   "source": [
    "!pip install flask\n",
    "import requests\n",
    "!pip install json\n",
    "from flask import Flask , jsonify\n",
    "\n"
   ]
  },
  {
   "cell_type": "markdown",
   "id": "19a8e84a",
   "metadata": {},
   "source": [
    "# Oops"
   ]
  },
  {
   "cell_type": "code",
   "execution_count": 18,
   "id": "0008783e",
   "metadata": {},
   "outputs": [],
   "source": [
    "class xyz:\n",
    "    def __init__(self,a,b,c):\n",
    "        self.a=a\n",
    "        self.b=b\n",
    "        self.c=c\n",
    "        \n",
    "    def test1(self):\n",
    "        return self.a\n",
    "    \n",
    "    def test2(self):\n",
    "        return self.test1()+self.b\n",
    "    \n",
    "class abc(xyz):\n",
    "    def __init__(self,p,q,r,*args):\n",
    "        super(abc,self).__init__(*args)\n",
    "        self.p=p\n",
    "        self.q=q\n",
    "        self.r=r\n",
    "        \n",
    "    def test3(self):\n",
    "        return self.a\n",
    "    \n",
    "    def test4(self):\n",
    "        return self.a+self.b"
   ]
  },
  {
   "cell_type": "code",
   "execution_count": 20,
   "id": "6d395869",
   "metadata": {},
   "outputs": [],
   "source": [
    "ob=abc(10,20,30,40,50,60)"
   ]
  },
  {
   "cell_type": "code",
   "execution_count": 21,
   "id": "aa28382a",
   "metadata": {},
   "outputs": [
    {
     "data": {
      "text/plain": [
       "40"
      ]
     },
     "execution_count": 21,
     "metadata": {},
     "output_type": "execute_result"
    }
   ],
   "source": [
    "ob.a\n"
   ]
  },
  {
   "cell_type": "code",
   "execution_count": 23,
   "id": "5811da6b",
   "metadata": {},
   "outputs": [],
   "source": [
    "class xyz:\n",
    "    def __init__(self,a,b,c):\n",
    "        self.a=a\n",
    "        self.b=b\n",
    "        self.c=c\n",
    "        \n",
    "    def test1(self):\n",
    "        return self.a\n",
    "    \n",
    "    def test2(self):\n",
    "        return self.test1()+self.b\n",
    "    \n",
    "class abc:\n",
    "    def __init__(self,p,q,r):\n",
    "        self.p=p\n",
    "        self.q=q\n",
    "        self.r=r\n",
    "        \n",
    "    def test3(self):\n",
    "        return self.a\n",
    "    \n",
    "    def test4(self):\n",
    "        return self.a+self.b"
   ]
  },
  {
   "cell_type": "code",
   "execution_count": 33,
   "id": "b7f9d6f6",
   "metadata": {},
   "outputs": [],
   "source": [
    "class ddd(abc,xyz):\n",
    "    def __init__(self,h,*args,**kwargs):\n",
    "        self.h=h\n",
    "        abc.__init__(self,*args)\n",
    "        xyz.__init__(self,**kwargs)"
   ]
  },
  {
   "cell_type": "code",
   "execution_count": 35,
   "id": "6b264f6e",
   "metadata": {},
   "outputs": [],
   "source": [
    "ob=ddd(40,50,60,80,a=400,b=600,c=700)"
   ]
  },
  {
   "cell_type": "code",
   "execution_count": 38,
   "id": "310c1fcf",
   "metadata": {},
   "outputs": [
    {
     "data": {
      "text/plain": [
       "1000"
      ]
     },
     "execution_count": 38,
     "metadata": {},
     "output_type": "execute_result"
    }
   ],
   "source": [
    "ob.test4()"
   ]
  },
  {
   "cell_type": "code",
   "execution_count": 1,
   "id": "39ba217c",
   "metadata": {},
   "outputs": [],
   "source": [
    "class check(str):#Calling the methods and instance variable of the inbuilt class\n",
    "    def __init__(self,*args):\n",
    "\n",
    "        super(check,self).__init__(*args)"
   ]
  },
  {
   "cell_type": "code",
   "execution_count": 41,
   "id": "02201fc3",
   "metadata": {},
   "outputs": [],
   "source": [
    "ob=check()"
   ]
  },
  {
   "cell_type": "code",
   "execution_count": 42,
   "id": "b694b8f7",
   "metadata": {},
   "outputs": [
    {
     "data": {
      "text/plain": [
       "''"
      ]
     },
     "execution_count": 42,
     "metadata": {},
     "output_type": "execute_result"
    }
   ],
   "source": [
    "ob.capitalize()"
   ]
  },
  {
   "cell_type": "code",
   "execution_count": 45,
   "id": "0b3e7ced",
   "metadata": {},
   "outputs": [],
   "source": [
    "class check(str):#Calling the methods and instance variable of the inbuilt function\n",
    "    def __init__(self,*args):\n",
    "        str.__init__(self,*args)"
   ]
  },
  {
   "cell_type": "code",
   "execution_count": 47,
   "id": "3ef5ac34",
   "metadata": {},
   "outputs": [],
   "source": [
    "ob=check()"
   ]
  },
  {
   "cell_type": "code",
   "execution_count": 48,
   "id": "f78b35e8",
   "metadata": {},
   "outputs": [
    {
     "data": {
      "text/plain": [
       "''"
      ]
     },
     "execution_count": 48,
     "metadata": {},
     "output_type": "execute_result"
    }
   ],
   "source": [
    "ob.capitalize()"
   ]
  },
  {
   "cell_type": "code",
   "execution_count": 78,
   "id": "2bc0bcc4",
   "metadata": {},
   "outputs": [],
   "source": [
    "class car:\n",
    "    __var='help'\n",
    "    _var='no help'\n",
    "    var='superb'\n",
    "    def __init__(self,a,b,c):\n",
    "        self.a=a\n",
    "        self._b=b\n",
    "        self.__c=c\n",
    "       \n",
    "    @staticmethod\n",
    "    def __test():\n",
    "        print('this is the test method',car._var)\n",
    "        \n",
    "class dog(car):\n",
    "    def __init__(self,p,q,r,*args):\n",
    "        self.p=p\n",
    "        self.q=q\n",
    "        self.r=r\n",
    "        super(dog,self).__init__(*args)\n",
    "        \n",
    "    def test1(self):\n",
    "        print('this is the test1 method',car._car__var)"
   ]
  },
  {
   "cell_type": "code",
   "execution_count": 79,
   "id": "4124c548",
   "metadata": {},
   "outputs": [],
   "source": [
    "a=dog(40,50,60,100,200,600)"
   ]
  },
  {
   "cell_type": "code",
   "execution_count": 80,
   "id": "74f71eb7",
   "metadata": {},
   "outputs": [
    {
     "name": "stdout",
     "output_type": "stream",
     "text": [
      "this is the test method no help\n"
     ]
    }
   ],
   "source": [
    "a._car__test()"
   ]
  },
  {
   "cell_type": "code",
   "execution_count": 87,
   "id": "5e4c3b98",
   "metadata": {},
   "outputs": [
    {
     "ename": "AttributeError",
     "evalue": "type object 'dog' has no attribute '_car__test1'",
     "output_type": "error",
     "traceback": [
      "\u001b[1;31m---------------------------------------------------------------------------\u001b[0m",
      "\u001b[1;31mAttributeError\u001b[0m                            Traceback (most recent call last)",
      "Input \u001b[1;32mIn [87]\u001b[0m, in \u001b[0;36m<cell line: 1>\u001b[1;34m()\u001b[0m\n\u001b[1;32m----> 1\u001b[0m \u001b[43mdog\u001b[49m\u001b[38;5;241;43m.\u001b[39;49m\u001b[43m_car__test1\u001b[49m()\n",
      "\u001b[1;31mAttributeError\u001b[0m: type object 'dog' has no attribute '_car__test1'"
     ]
    }
   ],
   "source": [
    "dog._car__test1()"
   ]
  },
  {
   "cell_type": "code",
   "execution_count": 69,
   "id": "f30daa1f",
   "metadata": {},
   "outputs": [
    {
     "name": "stdout",
     "output_type": "stream",
     "text": [
      "this is the test1 method help\n"
     ]
    }
   ],
   "source": [
    "dog.test1(50)"
   ]
  },
  {
   "cell_type": "code",
   "execution_count": 56,
   "id": "3a37cdba",
   "metadata": {},
   "outputs": [
    {
     "name": "stdout",
     "output_type": "stream",
     "text": [
      "this is the test1 method help\n"
     ]
    }
   ],
   "source": [
    "a.test1()"
   ]
  },
  {
   "cell_type": "code",
   "execution_count": 159,
   "id": "c0bffc4d",
   "metadata": {},
   "outputs": [
    {
     "name": "stdout",
     "output_type": "stream",
     "text": [
      "4\n",
      "1\n",
      "2\n"
     ]
    }
   ],
   "source": [
    "#Filter out the integer value from this list\n",
    "l=[['a','b','c'],[[4],1,2,'c']]\n",
    "for i in range(len(l)):\n",
    "    for j in range(len(l[i])):\n",
    "        if type(l[i][j])==list:\n",
    "            if type(l[i][j][0])==int:\n",
    "                print(l[i][j][0])\n",
    "        if type(l[i][j])==int:\n",
    "            print(l[i][j])"
   ]
  },
  {
   "cell_type": "code",
   "execution_count": 20,
   "id": "0a665099",
   "metadata": {},
   "outputs": [],
   "source": [
    "class cat:\n",
    "    _leg = 'cat leg'\n",
    "    __eyes = 'cat eyes'\n",
    "    nose = 'cat nose'\n",
    "    \n",
    "    def __init__(self,a,b,c):\n",
    "        self.a=a\n",
    "        self.b=b\n",
    "        self.c=c\n",
    "        \n",
    "    def test1(self):\n",
    "        return 'this is the test method of cat ',cat.__eyes\n",
    "    def test2(self):\n",
    "        return 'this is the test1 method of cat'\n",
    "    \n",
    "    \n"
   ]
  },
  {
   "cell_type": "code",
   "execution_count": 21,
   "id": "9f651e4f",
   "metadata": {},
   "outputs": [],
   "source": [
    "class dog(cat):\n",
    "    _leg = 'dog leg'\n",
    "    __eyes = 'dog eyes'\n",
    "    nose = 'dog nose'\n",
    "    \n",
    "    def __init__(self,p,q,r,*args):\n",
    "        self.p=p\n",
    "        self.q=q\n",
    "        self.r=r\n",
    "        super(dog,self).__init__(*args)\n",
    "        \n",
    "    def test3(self):\n",
    "        return 'this is the test method of dog',cat._leg\n",
    "    \n",
    "    def test4(self):\n",
    "        return 'this is the test1 method of dog'\n",
    "    "
   ]
  },
  {
   "cell_type": "code",
   "execution_count": 22,
   "id": "55e7786e",
   "metadata": {},
   "outputs": [],
   "source": [
    "a=dog(2,56,5,65,85,90)"
   ]
  },
  {
   "cell_type": "code",
   "execution_count": 25,
   "id": "9dd4de07",
   "metadata": {},
   "outputs": [
    {
     "data": {
      "text/plain": [
       "('this is the test method of dog', 'cat leg')"
      ]
     },
     "execution_count": 25,
     "metadata": {},
     "output_type": "execute_result"
    }
   ],
   "source": [
    "a.test3()"
   ]
  },
  {
   "cell_type": "code",
   "execution_count": 5,
   "id": "ab64e344",
   "metadata": {},
   "outputs": [
    {
     "data": {
      "text/plain": [
       "'dog leg'"
      ]
     },
     "execution_count": 5,
     "metadata": {},
     "output_type": "execute_result"
    }
   ],
   "source": [
    "a._leg"
   ]
  },
  {
   "cell_type": "code",
   "execution_count": 7,
   "id": "930b9676",
   "metadata": {},
   "outputs": [
    {
     "data": {
      "text/plain": [
       "'dog eyes'"
      ]
     },
     "execution_count": 7,
     "metadata": {},
     "output_type": "execute_result"
    }
   ],
   "source": [
    "a._dog__eyes"
   ]
  },
  {
   "cell_type": "code",
   "execution_count": 15,
   "id": "834356bd",
   "metadata": {},
   "outputs": [
    {
     "data": {
      "text/plain": [
       "'dog nose'"
      ]
     },
     "execution_count": 15,
     "metadata": {},
     "output_type": "execute_result"
    }
   ],
   "source": [
    "a.nose"
   ]
  },
  {
   "cell_type": "code",
   "execution_count": 18,
   "id": "7590f1f9",
   "metadata": {},
   "outputs": [
    {
     "data": {
      "text/plain": [
       "'this is the test1 method of dog'"
      ]
     },
     "execution_count": 18,
     "metadata": {},
     "output_type": "execute_result"
    }
   ],
   "source": [
    "a.test1()"
   ]
  },
  {
   "cell_type": "code",
   "execution_count": 26,
   "id": "97b394f2",
   "metadata": {},
   "outputs": [
    {
     "name": "stdout",
     "output_type": "stream",
     "text": [
      "26\n",
      "26\n",
      "26\n",
      "26\n",
      "26\n"
     ]
    }
   ],
   "source": [
    "class person:\n",
    "    _name = 'Zeeshan'\n",
    "    __surname ='khan'\n",
    "    yob =1996\n",
    "    \n",
    "    def _age(self,year):\n",
    "        return year - person.yob\n",
    "    \n",
    "    def __age1(self,year1):\n",
    "        return year1 -person.yob\n",
    "class employee(person):\n",
    "    _name = 'Zeeshan'\n",
    "    __surname ='khan'\n",
    "    yob =1996\n",
    "    \n",
    "    def _age2(self,year):\n",
    "        return year - person.yob\n",
    "\n",
    "    def __age3(self,year1):\n",
    "        return year1 -person.yob\n",
    "\n",
    "o=person()\n",
    "print(o._person__age1(2022))\n",
    "ob=employee()\n",
    "print(ob._age(2022))\n",
    "print(ob._person__age1(2022))\n",
    "print(ob._age2(2022))\n",
    "print(ob._employee__age3(2022))"
   ]
  },
  {
   "cell_type": "code",
   "execution_count": 17,
   "id": "1bafb06b",
   "metadata": {},
   "outputs": [],
   "source": [
    "# write a function to get the result as shown below\n",
    "'''dict = {'a':[1, 2, 3], 'b':[1, 3, 5, 7], 'c':[4, 5, 6]} so that the output should be as below\n",
    "\n",
    "{1: ['a', 'b'],\n",
    " 2: ['a'],\n",
    " 3: ['a', 'b'],\n",
    " 5: ['b', 'c'],\n",
    " 7: ['b'],\n",
    " 4: ['c'],\n",
    " 6: ['c']}'''\n",
    "\n",
    "reverse_dict = {}\n",
    "for key, value in dict.items():\n",
    "    for i in value:\n",
    "        reverse_dict.setdefault(i, list()).append(key)"
   ]
  },
  {
   "cell_type": "code",
   "execution_count": 18,
   "id": "cff49bc8",
   "metadata": {},
   "outputs": [
    {
     "data": {
      "text/plain": [
       "{1: ['a', 'b'],\n",
       " 2: ['a'],\n",
       " 3: ['a', 'b'],\n",
       " 5: ['b', 'c'],\n",
       " 7: ['b'],\n",
       " 4: ['c'],\n",
       " 6: ['c']}"
      ]
     },
     "execution_count": 18,
     "metadata": {},
     "output_type": "execute_result"
    }
   ],
   "source": [
    "reverse_dict"
   ]
  },
  {
   "cell_type": "code",
   "execution_count": 2,
   "id": "2063f7f2",
   "metadata": {},
   "outputs": [],
   "source": [
    "#to insert the dataframe in Mysql workbench\n",
    "import pandas as pd\n",
    "import mysql.connector as cn\n",
    "import seaborn as sn\n",
    "df=sn.load_dataset('iris')\n",
    "try:\n",
    "    mydb=cn.connect(host='localhost',user='root',passwd='snzk@#1329')\n",
    "    cursor=mydb.cursor()\n",
    "    cursor.execute('create database test2000')\n",
    "    cursor.execute('use test2000')\n",
    "    cursor.execute('create table test(sepal_length varchar(1000), sepal_width varchar(1000), petal_length varchar(1000), petal_width varchar(1000),species varchar(1000))')\n",
    "    mydb.commit()\n",
    "except:\n",
    "    mydb=cn.connect(host='localhost',user='root',passwd='snzk@#1329')\n",
    "    cursor=mydb.cursor()\n",
    "    cursor.execute('use test2000')\n",
    "    for i,row in df.iterrows():\n",
    "        cursor.execute('insert into test values (%s,%s,%s,%s,%s)',tuple(row))\n",
    "    mydb.commit()\n",
    "        "
   ]
  },
  {
   "cell_type": "code",
   "execution_count": 5,
   "id": "c2379351",
   "metadata": {},
   "outputs": [
    {
     "name": "stdout",
     "output_type": "stream",
     "text": [
      "something went wrong\n"
     ]
    }
   ],
   "source": [
    "try:\n",
    "    pd.read_csv('LUSID Excel - Manage Orders.xlsx')\n",
    "    print('this is the correct approach')\n",
    "except:\n",
    "    print('something went wrong')"
   ]
  },
  {
   "cell_type": "code",
   "execution_count": 1,
   "id": "143679e3",
   "metadata": {},
   "outputs": [
    {
     "name": "stdout",
     "output_type": "stream",
     "text": [
      "-22,-249,-39,-559,-69,0,-227,-17,-537,-47,-19,-246,-36,-556,-66,33,-194,16,-504,-14,-16,-243,-33,-553,-63,"
     ]
    }
   ],
   "source": [
    "a=[[[[1,23,4,56,7]]]]\n",
    "b=[[[[23,250,40,560,70]]]]\n",
    "\n",
    "l=[]\n",
    "q=[]\n",
    "for i in a[0][0][0]:\n",
    "    l.append(i)\n",
    "for j in b[0][0][0]:\n",
    "    q.append(j)\n",
    "for m in l:\n",
    "    for n in q:\n",
    "        print(m-n,end=',')"
   ]
  },
  {
   "cell_type": "code",
   "execution_count": 11,
   "id": "b042abba",
   "metadata": {},
   "outputs": [
    {
     "name": "stdout",
     "output_type": "stream",
     "text": [
      "cant\n"
     ]
    }
   ],
   "source": [
    "str1='faf'\n",
    "str2='cat'\n",
    "for i in str1:\n",
    "    if i in str2:\n",
    "        print('Can be possible')\n",
    "        break\n",
    "    else:\n",
    "        print('cant')\n",
    "        break\n",
    "     "
   ]
  },
  {
   "cell_type": "code",
   "execution_count": 13,
   "id": "62de95dc",
   "metadata": {},
   "outputs": [],
   "source": [
    "z='zeeshan'\n",
    "def test1(z):\n",
    "    c={}\n",
    "    for i in z:\n",
    "        if i in c:\n",
    "            c[i]+=1\n",
    "        else:\n",
    "            c[i]=1\n",
    "    return c\n",
    "    "
   ]
  },
  {
   "cell_type": "code",
   "execution_count": 14,
   "id": "ac758dd6",
   "metadata": {},
   "outputs": [
    {
     "data": {
      "text/plain": [
       "{'z': 1, 'e': 2, 's': 1, 'h': 1, 'a': 1, 'n': 1}"
      ]
     },
     "execution_count": 14,
     "metadata": {},
     "output_type": "execute_result"
    }
   ],
   "source": [
    "test1('zeeshan')"
   ]
  },
  {
   "cell_type": "code",
   "execution_count": 15,
   "id": "592cd2b3",
   "metadata": {},
   "outputs": [
    {
     "name": "stdout",
     "output_type": "stream",
     "text": [
      "z 1\n",
      "e 2\n",
      "e 2\n",
      "s 1\n",
      "h 1\n",
      "a 1\n",
      "n 1\n"
     ]
    }
   ],
   "source": [
    "z='zeeshan'\n",
    "l=[]\n",
    "for i in z:\n",
    "    l.append(i)\n",
    "l\n",
    "for j in l:\n",
    "    print(j,l.count(j))"
   ]
  },
  {
   "cell_type": "code",
   "execution_count": 17,
   "id": "a4cc9b90",
   "metadata": {},
   "outputs": [
    {
     "name": "stdout",
     "output_type": "stream",
     "text": [
      "dkfj\n",
      "Enter the correct input\n",
      "dlfkj\n",
      "Enter the correct input\n",
      "85\n",
      "this is correct\n"
     ]
    }
   ],
   "source": [
    "while True:\n",
    "    a = input()\n",
    "    if a.isdigit():\n",
    "        print('this is correct')\n",
    "        break\n",
    "    else:\n",
    "        print('Enter the correct input')\n",
    "    \n"
   ]
  },
  {
   "cell_type": "code",
   "execution_count": 4,
   "id": "4f6351d5",
   "metadata": {},
   "outputs": [
    {
     "name": "stdout",
     "output_type": "stream",
     "text": [
      "dlk\n",
      "Enter the correct input\n",
      "ljj\n",
      "Enter the correct input\n",
      "lkj\n",
      "Enter the correct input\n",
      "0\n",
      "This is the correct input\n"
     ]
    }
   ],
   "source": [
    "while True:\n",
    "    try:\n",
    "        a = int(input())\n",
    "        print('This is the correct input')\n",
    "        break\n",
    "    except:\n",
    "        print('Enter the correct input')\n",
    "\n",
    "    "
   ]
  },
  {
   "cell_type": "code",
   "execution_count": 30,
   "id": "2c88ba20",
   "metadata": {},
   "outputs": [
    {
     "data": {
      "text/plain": [
       "['zeesha', ' kdjflkd']"
      ]
     },
     "execution_count": 30,
     "metadata": {},
     "output_type": "execute_result"
    }
   ],
   "source": [
    "a='zeesha8 kdjflkd'\n",
    "a.split('8')"
   ]
  },
  {
   "cell_type": "code",
   "execution_count": null,
   "id": "d3f3af43",
   "metadata": {},
   "outputs": [],
   "source": []
  },
  {
   "cell_type": "code",
   "execution_count": null,
   "id": "60d7c3a5",
   "metadata": {},
   "outputs": [],
   "source": []
  }
 ],
 "metadata": {
  "kernelspec": {
   "display_name": "Python 3 (ipykernel)",
   "language": "python",
   "name": "python3"
  },
  "language_info": {
   "codemirror_mode": {
    "name": "ipython",
    "version": 3
   },
   "file_extension": ".py",
   "mimetype": "text/x-python",
   "name": "python",
   "nbconvert_exporter": "python",
   "pygments_lexer": "ipython3",
   "version": "3.9.12"
  }
 },
 "nbformat": 4,
 "nbformat_minor": 5
}
